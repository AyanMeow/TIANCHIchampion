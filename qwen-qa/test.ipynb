{
 "cells": [
  {
   "cell_type": "code",
   "execution_count": 6,
   "metadata": {},
   "outputs": [],
   "source": [
    "_PROMPT_TEMPLATE = \"\"\"\n",
    "请你提取下面段落的关键词，要求所提取的关键词能够鲜明表示内容性质。所提取的关键词应不少于5个。\n",
    "\n",
    "待处理内容：\n",
    "\n",
    "本次股票发行后拟在创业板市场上市，该市场具有较高的投资风险。创业\n",
    "板公司具有业绩不稳定、经营风险高、退市风险大等特点，投资者面临较大的\n",
    "市场风险。投资者应充分了解创业板市场的投资风险及本公司所披露的风险因\n",
    "素，审慎作出投资决定。\n",
    "华瑞电器股份有限公司\n",
    "Huarui Electrical Appliance Co., Ltd.\n",
    "册地址：宁波市鄞州区姜山镇科技园区\n",
    "首次公开发行股票并在创业板上市\n",
    "招股意向书\n",
    "发行人及全体董事、监事、高级管理人员承诺招股意向书不存在虚假记载、\n",
    "误导性陈述或重大遗漏，并对其真实性、准确性、完整性、及时性承担个别和连\n",
    "带的法律责任。\n",
    "发行人及全体董事、监事、高级管理人员、发行人的控股股东、实际控制人\n",
    "以及保荐人、承销的证券公司承诺因发行人招股意向书及其他信息披露资料有虚\n",
    "假记载、误导性陈述或者重大遗漏，致使投资者在证券发行和交易中遭受损失的，\n",
    "将依法赔偿投资者损失。\n",
    "\n",
    "注意：你的回答不需要分段。你的回答格式应该按照下面的内容，请注意---output 等标记都必须输出，这是我用来提取答案的标记。\n",
    "除了你的回答之外不要输出多余的文字。\n",
    "\n",
    "---output\n",
    "${{\"keywords\":[你提取的关键词]}}\n",
    "\"\"\""
   ]
  },
  {
   "cell_type": "code",
   "execution_count": 1,
   "metadata": {},
   "outputs": [],
   "source": [
    "import dashscope\n",
    "from dashscope import Generation\n",
    "from http import HTTPStatus\n",
    "import random\n",
    "from CustomLLM import QWENonlie\n",
    "from Container import g_container\n",
    "apikey='sk-02b8b1a9175a4cae9bf9571d517d8b81'\n",
    "llm=QWENonlie.from_name(model_name=Generation.Models.qwen_max,api_key=apikey,temperature=1)\n",
    "g_container.MODEL = llm"
   ]
  },
  {
   "cell_type": "code",
   "execution_count": 2,
   "metadata": {},
   "outputs": [],
   "source": [
    "%load_ext autoreload\n",
    "%autoreload 2\n",
    "from config import QWEN_CONFIG\n",
    "from dashscope import TextEmbedding,BatchTextEmbedding\n",
    "from langchain.text_splitter import RecursiveCharacterTextSplitter\n",
    "from langchain.document_loaders import TextLoader\n",
    "from langchain.embeddings import DashScopeEmbeddings,HuggingFaceEmbeddings\n",
    "\n",
    "emb2=HuggingFaceEmbeddings(model_name='../../model/m3e/',encode_kwargs={'normalize_embeddings':True})\n",
    "g_container.EMBEDDING=emb2\n"
   ]
  },
  {
   "cell_type": "code",
   "execution_count": 3,
   "metadata": {},
   "outputs": [
    {
     "name": "stdout",
     "output_type": "stream",
     "text": [
      "The autoreload extension is already loaded. To reload it, use:\n",
      "  %reload_ext autoreload\n"
     ]
    }
   ],
   "source": [
    "%load_ext autoreload\n",
    "%autoreload 2\n",
    "from config import QWEN_CONFIG\n",
    "cfg = QWEN_CONFIG(api_key=apikey,\n",
    "                  embedding_name='text_embedding_async_v1')\n",
    "g_container.GCONFIG=cfg"
   ]
  },
  {
   "cell_type": "code",
   "execution_count": 15,
   "metadata": {},
   "outputs": [
    {
     "name": "stdout",
     "output_type": "stream",
     "text": [
      "The autoreload extension is already loaded. To reload it, use:\n",
      "  %reload_ext autoreload\n"
     ]
    },
    {
     "data": {
      "application/vnd.jupyter.widget-view+json": {
       "model_id": "5f67b10226974edba7aa68ce964b9f03",
       "version_major": 2,
       "version_minor": 0
      },
      "text/plain": [
       "handle files::   0%|          | 0/80 [00:00<?, ?it/s]"
      ]
     },
     "metadata": {},
     "output_type": "display_data"
    },
    {
     "data": {
      "application/vnd.jupyter.widget-view+json": {
       "model_id": "2c88e7e8382e4a9cb32ad60fe83c34fc",
       "version_major": 2,
       "version_minor": 0
      },
      "text/plain": [
       "handle tables::   0%|          | 0/386 [00:00<?, ?it/s]"
      ]
     },
     "metadata": {},
     "output_type": "display_data"
    },
    {
     "data": {
      "application/vnd.jupyter.widget-view+json": {
       "model_id": "fe1fa44d7ca54e9a8f98bc1b01c66808",
       "version_major": 2,
       "version_minor": 0
      },
      "text/plain": [
       "handle tables::   0%|          | 0/326 [00:00<?, ?it/s]"
      ]
     },
     "metadata": {},
     "output_type": "display_data"
    },
    {
     "data": {
      "application/vnd.jupyter.widget-view+json": {
       "model_id": "bb6444eb15a44c8bb0e596fb375fc561",
       "version_major": 2,
       "version_minor": 0
      },
      "text/plain": [
       "handle tables::   0%|          | 0/713 [00:00<?, ?it/s]"
      ]
     },
     "metadata": {},
     "output_type": "display_data"
    },
    {
     "data": {
      "application/vnd.jupyter.widget-view+json": {
       "model_id": "f13b63be0ab748a3b5a8301ee32b1dcd",
       "version_major": 2,
       "version_minor": 0
      },
      "text/plain": [
       "handle tables::   0%|          | 0/534 [00:00<?, ?it/s]"
      ]
     },
     "metadata": {},
     "output_type": "display_data"
    },
    {
     "data": {
      "application/vnd.jupyter.widget-view+json": {
       "model_id": "d8c580dbda7d4f3eac7eb51f3a9302c2",
       "version_major": 2,
       "version_minor": 0
      },
      "text/plain": [
       "handle tables::   0%|          | 0/350 [00:00<?, ?it/s]"
      ]
     },
     "metadata": {},
     "output_type": "display_data"
    },
    {
     "data": {
      "application/vnd.jupyter.widget-view+json": {
       "model_id": "80955a5f34204ef9bcef0e661d6c7ca1",
       "version_major": 2,
       "version_minor": 0
      },
      "text/plain": [
       "handle tables::   0%|          | 0/202 [00:00<?, ?it/s]"
      ]
     },
     "metadata": {},
     "output_type": "display_data"
    },
    {
     "data": {
      "application/vnd.jupyter.widget-view+json": {
       "model_id": "c2807a59cd0447729119c8dce25e6ec7",
       "version_major": 2,
       "version_minor": 0
      },
      "text/plain": [
       "handle tables::   0%|          | 0/423 [00:00<?, ?it/s]"
      ]
     },
     "metadata": {},
     "output_type": "display_data"
    },
    {
     "data": {
      "application/vnd.jupyter.widget-view+json": {
       "model_id": "e7212f361e084bc4bb722359195de13d",
       "version_major": 2,
       "version_minor": 0
      },
      "text/plain": [
       "handle tables::   0%|          | 0/329 [00:00<?, ?it/s]"
      ]
     },
     "metadata": {},
     "output_type": "display_data"
    },
    {
     "data": {
      "application/vnd.jupyter.widget-view+json": {
       "model_id": "5c41519bd2904d2f8e38f89bdca17eb1",
       "version_major": 2,
       "version_minor": 0
      },
      "text/plain": [
       "handle tables::   0%|          | 0/308 [00:00<?, ?it/s]"
      ]
     },
     "metadata": {},
     "output_type": "display_data"
    },
    {
     "data": {
      "application/vnd.jupyter.widget-view+json": {
       "model_id": "32ec693a7db94c219797bd9906063d01",
       "version_major": 2,
       "version_minor": 0
      },
      "text/plain": [
       "handle tables::   0%|          | 0/476 [00:00<?, ?it/s]"
      ]
     },
     "metadata": {},
     "output_type": "display_data"
    },
    {
     "data": {
      "application/vnd.jupyter.widget-view+json": {
       "model_id": "6bbb759b736f49c1b425e08940f88c0b",
       "version_major": 2,
       "version_minor": 0
      },
      "text/plain": [
       "handle tables::   0%|          | 0/439 [00:00<?, ?it/s]"
      ]
     },
     "metadata": {},
     "output_type": "display_data"
    },
    {
     "data": {
      "application/vnd.jupyter.widget-view+json": {
       "model_id": "8788a07eef364900ae2ff68d044079ae",
       "version_major": 2,
       "version_minor": 0
      },
      "text/plain": [
       "handle tables::   0%|          | 0/327 [00:00<?, ?it/s]"
      ]
     },
     "metadata": {},
     "output_type": "display_data"
    },
    {
     "data": {
      "application/vnd.jupyter.widget-view+json": {
       "model_id": "70a7ea523a754e119e2306dfcafdb573",
       "version_major": 2,
       "version_minor": 0
      },
      "text/plain": [
       "handle tables::   0%|          | 0/794 [00:00<?, ?it/s]"
      ]
     },
     "metadata": {},
     "output_type": "display_data"
    },
    {
     "data": {
      "application/vnd.jupyter.widget-view+json": {
       "model_id": "ad282d45c259482795a6883ad36093ec",
       "version_major": 2,
       "version_minor": 0
      },
      "text/plain": [
       "handle tables::   0%|          | 0/223 [00:00<?, ?it/s]"
      ]
     },
     "metadata": {},
     "output_type": "display_data"
    },
    {
     "data": {
      "application/vnd.jupyter.widget-view+json": {
       "model_id": "404ea2307db94e438bb34683f21f5ed4",
       "version_major": 2,
       "version_minor": 0
      },
      "text/plain": [
       "handle tables::   0%|          | 0/287 [00:00<?, ?it/s]"
      ]
     },
     "metadata": {},
     "output_type": "display_data"
    },
    {
     "data": {
      "application/vnd.jupyter.widget-view+json": {
       "model_id": "54fcd12b49f24cdf8c3a73c7c5128d5c",
       "version_major": 2,
       "version_minor": 0
      },
      "text/plain": [
       "handle tables::   0%|          | 0/395 [00:00<?, ?it/s]"
      ]
     },
     "metadata": {},
     "output_type": "display_data"
    },
    {
     "data": {
      "application/vnd.jupyter.widget-view+json": {
       "model_id": "1502f40fa55e4b59ae925a953eb69ca5",
       "version_major": 2,
       "version_minor": 0
      },
      "text/plain": [
       "handle tables::   0%|          | 0/387 [00:00<?, ?it/s]"
      ]
     },
     "metadata": {},
     "output_type": "display_data"
    },
    {
     "data": {
      "application/vnd.jupyter.widget-view+json": {
       "model_id": "bdbddbdaed454815aa625f012c7596bd",
       "version_major": 2,
       "version_minor": 0
      },
      "text/plain": [
       "handle tables::   0%|          | 0/340 [00:00<?, ?it/s]"
      ]
     },
     "metadata": {},
     "output_type": "display_data"
    },
    {
     "data": {
      "application/vnd.jupyter.widget-view+json": {
       "model_id": "0c0dee059fc94db18e06627400ff2d05",
       "version_major": 2,
       "version_minor": 0
      },
      "text/plain": [
       "handle tables::   0%|          | 0/374 [00:00<?, ?it/s]"
      ]
     },
     "metadata": {},
     "output_type": "display_data"
    },
    {
     "data": {
      "application/vnd.jupyter.widget-view+json": {
       "model_id": "2fc8d88b3aab407ba8ed60c68dae308c",
       "version_major": 2,
       "version_minor": 0
      },
      "text/plain": [
       "handle tables::   0%|          | 0/625 [00:00<?, ?it/s]"
      ]
     },
     "metadata": {},
     "output_type": "display_data"
    },
    {
     "data": {
      "application/vnd.jupyter.widget-view+json": {
       "model_id": "bbdfe05a2b6f4461956b737a5f8abc7e",
       "version_major": 2,
       "version_minor": 0
      },
      "text/plain": [
       "handle tables::   0%|          | 0/262 [00:00<?, ?it/s]"
      ]
     },
     "metadata": {},
     "output_type": "display_data"
    },
    {
     "data": {
      "application/vnd.jupyter.widget-view+json": {
       "model_id": "c0d7cf75f0424cd998a316e7f23180f2",
       "version_major": 2,
       "version_minor": 0
      },
      "text/plain": [
       "handle tables::   0%|          | 0/297 [00:00<?, ?it/s]"
      ]
     },
     "metadata": {},
     "output_type": "display_data"
    },
    {
     "data": {
      "application/vnd.jupyter.widget-view+json": {
       "model_id": "1f5406ab23b14d869fd661311990d9f8",
       "version_major": 2,
       "version_minor": 0
      },
      "text/plain": [
       "handle tables::   0%|          | 0/365 [00:00<?, ?it/s]"
      ]
     },
     "metadata": {},
     "output_type": "display_data"
    },
    {
     "data": {
      "application/vnd.jupyter.widget-view+json": {
       "model_id": "fcf4b092847e45f8ab3be5c481912a2c",
       "version_major": 2,
       "version_minor": 0
      },
      "text/plain": [
       "handle tables::   0%|          | 0/466 [00:00<?, ?it/s]"
      ]
     },
     "metadata": {},
     "output_type": "display_data"
    },
    {
     "data": {
      "application/vnd.jupyter.widget-view+json": {
       "model_id": "c4c9fffc00434646829b888ef9980b43",
       "version_major": 2,
       "version_minor": 0
      },
      "text/plain": [
       "handle tables::   0%|          | 0/381 [00:00<?, ?it/s]"
      ]
     },
     "metadata": {},
     "output_type": "display_data"
    },
    {
     "data": {
      "application/vnd.jupyter.widget-view+json": {
       "model_id": "7ed432cffd4f4e96807c09c1ea47ea28",
       "version_major": 2,
       "version_minor": 0
      },
      "text/plain": [
       "handle tables::   0%|          | 0/376 [00:00<?, ?it/s]"
      ]
     },
     "metadata": {},
     "output_type": "display_data"
    },
    {
     "data": {
      "application/vnd.jupyter.widget-view+json": {
       "model_id": "8edf3310416e4424bdc4db0d616ec4bf",
       "version_major": 2,
       "version_minor": 0
      },
      "text/plain": [
       "handle tables::   0%|          | 0/319 [00:00<?, ?it/s]"
      ]
     },
     "metadata": {},
     "output_type": "display_data"
    },
    {
     "data": {
      "application/vnd.jupyter.widget-view+json": {
       "model_id": "3ab658ec7b24414995f73333242ec239",
       "version_major": 2,
       "version_minor": 0
      },
      "text/plain": [
       "handle tables::   0%|          | 0/224 [00:00<?, ?it/s]"
      ]
     },
     "metadata": {},
     "output_type": "display_data"
    },
    {
     "data": {
      "application/vnd.jupyter.widget-view+json": {
       "model_id": "3e921f788b534f74afd802065d439092",
       "version_major": 2,
       "version_minor": 0
      },
      "text/plain": [
       "handle tables::   0%|          | 0/312 [00:00<?, ?it/s]"
      ]
     },
     "metadata": {},
     "output_type": "display_data"
    },
    {
     "data": {
      "application/vnd.jupyter.widget-view+json": {
       "model_id": "9cc76a8d484945dc94a1ad5285ed93bc",
       "version_major": 2,
       "version_minor": 0
      },
      "text/plain": [
       "handle tables::   0%|          | 0/231 [00:00<?, ?it/s]"
      ]
     },
     "metadata": {},
     "output_type": "display_data"
    },
    {
     "data": {
      "application/vnd.jupyter.widget-view+json": {
       "model_id": "82a8653216944fdc9af34d201389cd12",
       "version_major": 2,
       "version_minor": 0
      },
      "text/plain": [
       "handle tables::   0%|          | 0/395 [00:00<?, ?it/s]"
      ]
     },
     "metadata": {},
     "output_type": "display_data"
    },
    {
     "data": {
      "application/vnd.jupyter.widget-view+json": {
       "model_id": "326185b6b10c497c98059f9068fb2f2d",
       "version_major": 2,
       "version_minor": 0
      },
      "text/plain": [
       "handle tables::   0%|          | 0/694 [00:00<?, ?it/s]"
      ]
     },
     "metadata": {},
     "output_type": "display_data"
    },
    {
     "data": {
      "application/vnd.jupyter.widget-view+json": {
       "model_id": "55133f81e19c4b8a86ae0df9a5a1fc74",
       "version_major": 2,
       "version_minor": 0
      },
      "text/plain": [
       "handle tables::   0%|          | 0/388 [00:00<?, ?it/s]"
      ]
     },
     "metadata": {},
     "output_type": "display_data"
    },
    {
     "data": {
      "application/vnd.jupyter.widget-view+json": {
       "model_id": "d1debcb2cf0a441c94623c6b2ad63445",
       "version_major": 2,
       "version_minor": 0
      },
      "text/plain": [
       "handle tables::   0%|          | 0/366 [00:00<?, ?it/s]"
      ]
     },
     "metadata": {},
     "output_type": "display_data"
    },
    {
     "data": {
      "application/vnd.jupyter.widget-view+json": {
       "model_id": "ba6500e777054a4b9cb4f4299d55a76c",
       "version_major": 2,
       "version_minor": 0
      },
      "text/plain": [
       "handle tables::   0%|          | 0/547 [00:00<?, ?it/s]"
      ]
     },
     "metadata": {},
     "output_type": "display_data"
    },
    {
     "data": {
      "application/vnd.jupyter.widget-view+json": {
       "model_id": "a839d3fcb9f14788b7eabda130410462",
       "version_major": 2,
       "version_minor": 0
      },
      "text/plain": [
       "handle tables::   0%|          | 0/625 [00:00<?, ?it/s]"
      ]
     },
     "metadata": {},
     "output_type": "display_data"
    },
    {
     "data": {
      "application/vnd.jupyter.widget-view+json": {
       "model_id": "82aa935017cb41599eaaa204df876d7e",
       "version_major": 2,
       "version_minor": 0
      },
      "text/plain": [
       "handle tables::   0%|          | 0/361 [00:00<?, ?it/s]"
      ]
     },
     "metadata": {},
     "output_type": "display_data"
    },
    {
     "data": {
      "application/vnd.jupyter.widget-view+json": {
       "model_id": "3ab1104503c64c4d979c5889c7673499",
       "version_major": 2,
       "version_minor": 0
      },
      "text/plain": [
       "handle tables::   0%|          | 0/642 [00:00<?, ?it/s]"
      ]
     },
     "metadata": {},
     "output_type": "display_data"
    },
    {
     "data": {
      "application/vnd.jupyter.widget-view+json": {
       "model_id": "40eeff18601046c28deb06b1d4f8551f",
       "version_major": 2,
       "version_minor": 0
      },
      "text/plain": [
       "handle tables::   0%|          | 0/330 [00:00<?, ?it/s]"
      ]
     },
     "metadata": {},
     "output_type": "display_data"
    },
    {
     "data": {
      "application/vnd.jupyter.widget-view+json": {
       "model_id": "11010b17d1594ca5b66d34aee494818d",
       "version_major": 2,
       "version_minor": 0
      },
      "text/plain": [
       "handle tables::   0%|          | 0/373 [00:00<?, ?it/s]"
      ]
     },
     "metadata": {},
     "output_type": "display_data"
    },
    {
     "data": {
      "application/vnd.jupyter.widget-view+json": {
       "model_id": "cbb8231dc0e744f3a88a087f11db6bef",
       "version_major": 2,
       "version_minor": 0
      },
      "text/plain": [
       "handle tables::   0%|          | 0/209 [00:00<?, ?it/s]"
      ]
     },
     "metadata": {},
     "output_type": "display_data"
    },
    {
     "data": {
      "application/vnd.jupyter.widget-view+json": {
       "model_id": "1cd508ab827541c5afee1ac8cc57fcbe",
       "version_major": 2,
       "version_minor": 0
      },
      "text/plain": [
       "handle tables::   0%|          | 0/398 [00:00<?, ?it/s]"
      ]
     },
     "metadata": {},
     "output_type": "display_data"
    },
    {
     "data": {
      "application/vnd.jupyter.widget-view+json": {
       "model_id": "a3b59d7536164870a2a437ba52fe4281",
       "version_major": 2,
       "version_minor": 0
      },
      "text/plain": [
       "handle tables::   0%|          | 0/331 [00:00<?, ?it/s]"
      ]
     },
     "metadata": {},
     "output_type": "display_data"
    },
    {
     "data": {
      "application/vnd.jupyter.widget-view+json": {
       "model_id": "0481818b5023487dab17c38db8123bd4",
       "version_major": 2,
       "version_minor": 0
      },
      "text/plain": [
       "handle tables::   0%|          | 0/393 [00:00<?, ?it/s]"
      ]
     },
     "metadata": {},
     "output_type": "display_data"
    },
    {
     "data": {
      "application/vnd.jupyter.widget-view+json": {
       "model_id": "76aee3d7c1c4461d8a1a8f1ea35b2c0c",
       "version_major": 2,
       "version_minor": 0
      },
      "text/plain": [
       "handle tables::   0%|          | 0/348 [00:00<?, ?it/s]"
      ]
     },
     "metadata": {},
     "output_type": "display_data"
    },
    {
     "data": {
      "application/vnd.jupyter.widget-view+json": {
       "model_id": "b49accae5ccd43dfa5e244a86287a20d",
       "version_major": 2,
       "version_minor": 0
      },
      "text/plain": [
       "handle tables::   0%|          | 0/548 [00:00<?, ?it/s]"
      ]
     },
     "metadata": {},
     "output_type": "display_data"
    },
    {
     "data": {
      "application/vnd.jupyter.widget-view+json": {
       "model_id": "25aa9fec352245dfa12bbbcc23b36f0a",
       "version_major": 2,
       "version_minor": 0
      },
      "text/plain": [
       "handle tables::   0%|          | 0/410 [00:00<?, ?it/s]"
      ]
     },
     "metadata": {},
     "output_type": "display_data"
    },
    {
     "data": {
      "application/vnd.jupyter.widget-view+json": {
       "model_id": "214b6d9d277d4eff84f6e73166044273",
       "version_major": 2,
       "version_minor": 0
      },
      "text/plain": [
       "handle tables::   0%|          | 0/376 [00:00<?, ?it/s]"
      ]
     },
     "metadata": {},
     "output_type": "display_data"
    },
    {
     "data": {
      "application/vnd.jupyter.widget-view+json": {
       "model_id": "7612a121408e4b53b569d8476b6d4f67",
       "version_major": 2,
       "version_minor": 0
      },
      "text/plain": [
       "handle tables::   0%|          | 0/202 [00:00<?, ?it/s]"
      ]
     },
     "metadata": {},
     "output_type": "display_data"
    },
    {
     "data": {
      "application/vnd.jupyter.widget-view+json": {
       "model_id": "8727b43512f74cf4b279afad992e07e9",
       "version_major": 2,
       "version_minor": 0
      },
      "text/plain": [
       "handle tables::   0%|          | 0/613 [00:00<?, ?it/s]"
      ]
     },
     "metadata": {},
     "output_type": "display_data"
    },
    {
     "data": {
      "application/vnd.jupyter.widget-view+json": {
       "model_id": "0f2ed963a6874482b7843dbf011099f6",
       "version_major": 2,
       "version_minor": 0
      },
      "text/plain": [
       "handle tables::   0%|          | 0/379 [00:00<?, ?it/s]"
      ]
     },
     "metadata": {},
     "output_type": "display_data"
    },
    {
     "data": {
      "application/vnd.jupyter.widget-view+json": {
       "model_id": "65bfff9650a04299a4688466e2c1486e",
       "version_major": 2,
       "version_minor": 0
      },
      "text/plain": [
       "handle tables::   0%|          | 0/351 [00:00<?, ?it/s]"
      ]
     },
     "metadata": {},
     "output_type": "display_data"
    },
    {
     "data": {
      "application/vnd.jupyter.widget-view+json": {
       "model_id": "e25e8262e6c9454aac787a4be5b16b7d",
       "version_major": 2,
       "version_minor": 0
      },
      "text/plain": [
       "handle tables::   0%|          | 0/437 [00:00<?, ?it/s]"
      ]
     },
     "metadata": {},
     "output_type": "display_data"
    },
    {
     "data": {
      "application/vnd.jupyter.widget-view+json": {
       "model_id": "2d58bb1671d44913b74e1f68aded79bd",
       "version_major": 2,
       "version_minor": 0
      },
      "text/plain": [
       "handle tables::   0%|          | 0/332 [00:00<?, ?it/s]"
      ]
     },
     "metadata": {},
     "output_type": "display_data"
    },
    {
     "data": {
      "application/vnd.jupyter.widget-view+json": {
       "model_id": "6524087ddd964e269e951ea69ff600fa",
       "version_major": 2,
       "version_minor": 0
      },
      "text/plain": [
       "handle tables::   0%|          | 0/328 [00:00<?, ?it/s]"
      ]
     },
     "metadata": {},
     "output_type": "display_data"
    },
    {
     "data": {
      "application/vnd.jupyter.widget-view+json": {
       "model_id": "fb8bb351cc1b4b78b4e5c1b0988c16c2",
       "version_major": 2,
       "version_minor": 0
      },
      "text/plain": [
       "handle tables::   0%|          | 0/394 [00:00<?, ?it/s]"
      ]
     },
     "metadata": {},
     "output_type": "display_data"
    },
    {
     "data": {
      "application/vnd.jupyter.widget-view+json": {
       "model_id": "e511923d740d418e90c0595b768038f1",
       "version_major": 2,
       "version_minor": 0
      },
      "text/plain": [
       "handle tables::   0%|          | 0/425 [00:00<?, ?it/s]"
      ]
     },
     "metadata": {},
     "output_type": "display_data"
    },
    {
     "data": {
      "application/vnd.jupyter.widget-view+json": {
       "model_id": "dddf8d0469d2436099ba96db9f3e00d7",
       "version_major": 2,
       "version_minor": 0
      },
      "text/plain": [
       "handle tables::   0%|          | 0/436 [00:00<?, ?it/s]"
      ]
     },
     "metadata": {},
     "output_type": "display_data"
    },
    {
     "data": {
      "application/vnd.jupyter.widget-view+json": {
       "model_id": "0bd1f6a002af4222b9a1b5e5323e8150",
       "version_major": 2,
       "version_minor": 0
      },
      "text/plain": [
       "handle tables::   0%|          | 0/361 [00:00<?, ?it/s]"
      ]
     },
     "metadata": {},
     "output_type": "display_data"
    },
    {
     "data": {
      "application/vnd.jupyter.widget-view+json": {
       "model_id": "ee9640007d294a4a8f92be7bf76867d6",
       "version_major": 2,
       "version_minor": 0
      },
      "text/plain": [
       "handle tables::   0%|          | 0/307 [00:00<?, ?it/s]"
      ]
     },
     "metadata": {},
     "output_type": "display_data"
    },
    {
     "data": {
      "application/vnd.jupyter.widget-view+json": {
       "model_id": "63108a693ef64902b943d0216b5ec0b1",
       "version_major": 2,
       "version_minor": 0
      },
      "text/plain": [
       "handle tables::   0%|          | 0/307 [00:00<?, ?it/s]"
      ]
     },
     "metadata": {},
     "output_type": "display_data"
    },
    {
     "data": {
      "application/vnd.jupyter.widget-view+json": {
       "model_id": "35026fb099524433b8fa9ab17f059291",
       "version_major": 2,
       "version_minor": 0
      },
      "text/plain": [
       "handle tables::   0%|          | 0/346 [00:00<?, ?it/s]"
      ]
     },
     "metadata": {},
     "output_type": "display_data"
    },
    {
     "data": {
      "application/vnd.jupyter.widget-view+json": {
       "model_id": "dc262b92872b4dab9f394a8e1fddba1e",
       "version_major": 2,
       "version_minor": 0
      },
      "text/plain": [
       "handle tables::   0%|          | 0/345 [00:00<?, ?it/s]"
      ]
     },
     "metadata": {},
     "output_type": "display_data"
    },
    {
     "data": {
      "application/vnd.jupyter.widget-view+json": {
       "model_id": "6cd3650e0dfb4709839db4b0c96a01ef",
       "version_major": 2,
       "version_minor": 0
      },
      "text/plain": [
       "handle tables::   0%|          | 0/411 [00:00<?, ?it/s]"
      ]
     },
     "metadata": {},
     "output_type": "display_data"
    },
    {
     "data": {
      "application/vnd.jupyter.widget-view+json": {
       "model_id": "8bf4505e29c5439db47bfdff0215241a",
       "version_major": 2,
       "version_minor": 0
      },
      "text/plain": [
       "handle tables::   0%|          | 0/315 [00:00<?, ?it/s]"
      ]
     },
     "metadata": {},
     "output_type": "display_data"
    },
    {
     "data": {
      "application/vnd.jupyter.widget-view+json": {
       "model_id": "71f7fa444af14b4686173f2f95a87700",
       "version_major": 2,
       "version_minor": 0
      },
      "text/plain": [
       "handle tables::   0%|          | 0/346 [00:00<?, ?it/s]"
      ]
     },
     "metadata": {},
     "output_type": "display_data"
    },
    {
     "data": {
      "application/vnd.jupyter.widget-view+json": {
       "model_id": "7f2008e3dec342f595b80e17e10d6d53",
       "version_major": 2,
       "version_minor": 0
      },
      "text/plain": [
       "handle tables::   0%|          | 0/662 [00:00<?, ?it/s]"
      ]
     },
     "metadata": {},
     "output_type": "display_data"
    },
    {
     "data": {
      "application/vnd.jupyter.widget-view+json": {
       "model_id": "e8c21654b1ee45ea8701cfd721a3af8f",
       "version_major": 2,
       "version_minor": 0
      },
      "text/plain": [
       "handle tables::   0%|          | 0/469 [00:00<?, ?it/s]"
      ]
     },
     "metadata": {},
     "output_type": "display_data"
    },
    {
     "data": {
      "application/vnd.jupyter.widget-view+json": {
       "model_id": "1b764088a19441e9835da4ee3478e9e3",
       "version_major": 2,
       "version_minor": 0
      },
      "text/plain": [
       "handle tables::   0%|          | 0/404 [00:00<?, ?it/s]"
      ]
     },
     "metadata": {},
     "output_type": "display_data"
    },
    {
     "data": {
      "application/vnd.jupyter.widget-view+json": {
       "model_id": "e5ce8dc6f6fb4e4eb4b7dd795f50c711",
       "version_major": 2,
       "version_minor": 0
      },
      "text/plain": [
       "handle tables::   0%|          | 0/243 [00:00<?, ?it/s]"
      ]
     },
     "metadata": {},
     "output_type": "display_data"
    },
    {
     "data": {
      "application/vnd.jupyter.widget-view+json": {
       "model_id": "b6ba164f8e674e5380ed20703089abbb",
       "version_major": 2,
       "version_minor": 0
      },
      "text/plain": [
       "handle tables::   0%|          | 0/283 [00:00<?, ?it/s]"
      ]
     },
     "metadata": {},
     "output_type": "display_data"
    },
    {
     "data": {
      "application/vnd.jupyter.widget-view+json": {
       "model_id": "b1caf2d197ca438498d715dd406a850d",
       "version_major": 2,
       "version_minor": 0
      },
      "text/plain": [
       "handle tables::   0%|          | 0/496 [00:00<?, ?it/s]"
      ]
     },
     "metadata": {},
     "output_type": "display_data"
    },
    {
     "data": {
      "application/vnd.jupyter.widget-view+json": {
       "model_id": "c6d8edd0ef3d4ff0a172bb85a5195693",
       "version_major": 2,
       "version_minor": 0
      },
      "text/plain": [
       "handle tables::   0%|          | 0/380 [00:00<?, ?it/s]"
      ]
     },
     "metadata": {},
     "output_type": "display_data"
    },
    {
     "data": {
      "application/vnd.jupyter.widget-view+json": {
       "model_id": "7e473e79aa9f42fe88b80bc34341943e",
       "version_major": 2,
       "version_minor": 0
      },
      "text/plain": [
       "handle tables::   0%|          | 0/506 [00:00<?, ?it/s]"
      ]
     },
     "metadata": {},
     "output_type": "display_data"
    },
    {
     "data": {
      "application/vnd.jupyter.widget-view+json": {
       "model_id": "0d07f31b0c594c778b65fd1c9ace77af",
       "version_major": 2,
       "version_minor": 0
      },
      "text/plain": [
       "handle tables::   0%|          | 0/379 [00:00<?, ?it/s]"
      ]
     },
     "metadata": {},
     "output_type": "display_data"
    },
    {
     "data": {
      "application/vnd.jupyter.widget-view+json": {
       "model_id": "92384f1e92a14c638bb43e7b974b39e7",
       "version_major": 2,
       "version_minor": 0
      },
      "text/plain": [
       "handle tables::   0%|          | 0/268 [00:00<?, ?it/s]"
      ]
     },
     "metadata": {},
     "output_type": "display_data"
    },
    {
     "data": {
      "application/vnd.jupyter.widget-view+json": {
       "model_id": "abe39c078f2942c2a4e8d2c1b0f9e962",
       "version_major": 2,
       "version_minor": 0
      },
      "text/plain": [
       "handle tables::   0%|          | 0/489 [00:00<?, ?it/s]"
      ]
     },
     "metadata": {},
     "output_type": "display_data"
    },
    {
     "data": {
      "application/vnd.jupyter.widget-view+json": {
       "model_id": "5da8f46acfd14c5aa16e890badaad136",
       "version_major": 2,
       "version_minor": 0
      },
      "text/plain": [
       "handle tables::   0%|          | 0/289 [00:00<?, ?it/s]"
      ]
     },
     "metadata": {},
     "output_type": "display_data"
    },
    {
     "data": {
      "application/vnd.jupyter.widget-view+json": {
       "model_id": "87a50ce3856e4661aecf21edc73831b7",
       "version_major": 2,
       "version_minor": 0
      },
      "text/plain": [
       "handle tables::   0%|          | 0/1191 [00:00<?, ?it/s]"
      ]
     },
     "metadata": {},
     "output_type": "display_data"
    },
    {
     "data": {
      "application/vnd.jupyter.widget-view+json": {
       "model_id": "369c63fcb2a04aeaabfbf18bbcd41602",
       "version_major": 2,
       "version_minor": 0
      },
      "text/plain": [
       "handle tables::   0%|          | 0/317 [00:00<?, ?it/s]"
      ]
     },
     "metadata": {},
     "output_type": "display_data"
    },
    {
     "name": "stdout",
     "output_type": "stream",
     "text": [
      "+----------------------------------------------+--------------------------------------------------------------------------------------------+---------+------------+-------------------------------------------------------------------------------------------------------------------+------------------------------------------+\n",
      "|                    source                    |                                          company                                           | doc_len | chunk_size |                                                     meta_data                                                     |                save_index                |\n",
      "+----------------------------------------------+--------------------------------------------------------------------------------------------+---------+------------+-------------------------------------------------------------------------------------------------------------------+------------------------------------------+\n",
      "| 03c625c108ac0137f413dfd4136adb55c74b3805.txt |                                  安徽黄山胶囊股份有限公司                                  |    -    |     -      |                               {'source': '03c625c108ac0137f413dfd4136adb55c74b3805'}                              |                  index                   |\n",
      "| 03c625c108ac0137f413dfd4136adb55c74b3805.txt |                                ['安徽黄山胶囊股份有限公司']                                |   815   |    700     | {'source': '../../bs_challenge_financial_14b_dataset/pdf_txt_file//03c625c108ac0137f413dfd4136adb55c74b3805.txt'} | 03c625c108ac0137f413dfd4136adb55c74b3805 |\n",
      "| 044635429bd83e329c5047010121044e07568feb.txt |                              上海华铭智能终端设备股份有限公司                              |    -    |     -      |                               {'source': '044635429bd83e329c5047010121044e07568feb'}                              |                  index                   |\n",
      "| 044635429bd83e329c5047010121044e07568feb.txt |                            ['上海华铭智能终端设备股份有限公司']                            |   688   |    700     | {'source': '../../bs_challenge_financial_14b_dataset/pdf_txt_file//044635429bd83e329c5047010121044e07568feb.txt'} | 044635429bd83e329c5047010121044e07568feb |\n",
      "| 07d29cd67ca8e0fc932e05178db1fcdca1cee937.txt |                                  香港交易及結算所有限公司                                  |    -    |     -      |                               {'source': '07d29cd67ca8e0fc932e05178db1fcdca1cee937'}                              |                  index                   |\n",
      "| 07d29cd67ca8e0fc932e05178db1fcdca1cee937.txt |                                   香港聯合交易所有限公司                                   |    -    |     -      |                               {'source': '07d29cd67ca8e0fc932e05178db1fcdca1cee937'}                              |                  index                   |\n",
      "| 07d29cd67ca8e0fc932e05178db1fcdca1cee937.txt |                                    青島銀行股份有限公司                                    |    -    |     -      |                               {'source': '07d29cd67ca8e0fc932e05178db1fcdca1cee937'}                              |                  index                   |\n",
      "| 07d29cd67ca8e0fc932e05178db1fcdca1cee937.txt |       ['香港交易及結算所有限公司', '香港聯合交易所有限公司', '青島銀行股份有限公司']       |   1246  |    700     | {'source': '../../bs_challenge_financial_14b_dataset/pdf_txt_file//07d29cd67ca8e0fc932e05178db1fcdca1cee937.txt'} | 07d29cd67ca8e0fc932e05178db1fcdca1cee937 |\n",
      "| 08538049ad1c7ca74c508bf95fe9fbbb4c924f3e.txt |                                 海尔施生物医药股份有限公司                                 |    -    |     -      |                               {'source': '08538049ad1c7ca74c508bf95fe9fbbb4c924f3e'}                              |                  index                   |\n",
      "| 08538049ad1c7ca74c508bf95fe9fbbb4c924f3e.txt |                                  瑞信方正证券有限责任公司                                  |    -    |     -      |                               {'source': '08538049ad1c7ca74c508bf95fe9fbbb4c924f3e'}                              |                  index                   |\n",
      "| 08538049ad1c7ca74c508bf95fe9fbbb4c924f3e.txt |                 ['海尔施生物医药股份有限公司', '瑞信方正证券有限责任公司']                 |   1072  |    700     | {'source': '../../bs_challenge_financial_14b_dataset/pdf_txt_file//08538049ad1c7ca74c508bf95fe9fbbb4c924f3e.txt'} | 08538049ad1c7ca74c508bf95fe9fbbb4c924f3e |\n",
      "| 0b46f7a2d67b5b59ad67cafffa0e12a9f0837790.txt |                                武汉力源信息技术股份有限公司                                |    -    |     -      |                               {'source': '0b46f7a2d67b5b59ad67cafffa0e12a9f0837790'}                              |                  index                   |\n",
      "| 0b46f7a2d67b5b59ad67cafffa0e12a9f0837790.txt |                                上海真兰仪表科技股份有限公司                                |    -    |     -      |                               {'source': '0b46f7a2d67b5b59ad67cafffa0e12a9f0837790'}                              |                  index                   |\n",
      "| 0b46f7a2d67b5b59ad67cafffa0e12a9f0837790.txt |              ['武汉力源信息技术股份有限公司', '上海真兰仪表科技股份有限公司']              |   638   |    700     | {'source': '../../bs_challenge_financial_14b_dataset/pdf_txt_file//0b46f7a2d67b5b59ad67cafffa0e12a9f0837790.txt'} | 0b46f7a2d67b5b59ad67cafffa0e12a9f0837790 |\n",
      "| 11463b6562c6ba2afde67a29bca314452ea9a2e0.txt |                                  国电电力发展股份有限公司                                  |    -    |     -      |                               {'source': '11463b6562c6ba2afde67a29bca314452ea9a2e0'}                              |                  index                   |\n",
      "| 11463b6562c6ba2afde67a29bca314452ea9a2e0.txt |                                    中国国际金融有限公司                                    |    -    |     -      |                               {'source': '11463b6562c6ba2afde67a29bca314452ea9a2e0'}                              |                  index                   |\n",
      "| 11463b6562c6ba2afde67a29bca314452ea9a2e0.txt |                    ['国电电力发展股份有限公司', '中国国际金融有限公司']                    |   176   |    700     | {'source': '../../bs_challenge_financial_14b_dataset/pdf_txt_file//11463b6562c6ba2afde67a29bca314452ea9a2e0.txt'} | 11463b6562c6ba2afde67a29bca314452ea9a2e0 |\n",
      "| 1af01c24b0957a1ab6d9262b93d7ccf7093f0529.txt |                                    昇兴集团股份有限公司                                    |    -    |     -      |                               {'source': '1af01c24b0957a1ab6d9262b93d7ccf7093f0529'}                              |                  index                   |\n",
      "| 1af01c24b0957a1ab6d9262b93d7ccf7093f0529.txt |                                  ['昇兴集团股份有限公司']                                  |   847   |    700     | {'source': '../../bs_challenge_financial_14b_dataset/pdf_txt_file//1af01c24b0957a1ab6d9262b93d7ccf7093f0529.txt'} | 1af01c24b0957a1ab6d9262b93d7ccf7093f0529 |\n",
      "| 2389de12d78fe1ca4fa24910e6b1573902098bc3.txt |                               深圳市铁汉生态环境股份有限公司                               |    -    |     -      |                               {'source': '2389de12d78fe1ca4fa24910e6b1573902098bc3'}                              |                  index                   |\n",
      "| 2389de12d78fe1ca4fa24910e6b1573902098bc3.txt |                             ['深圳市铁汉生态环境股份有限公司']                             |   579   |    700     | {'source': '../../bs_challenge_financial_14b_dataset/pdf_txt_file//2389de12d78fe1ca4fa24910e6b1573902098bc3.txt'} | 2389de12d78fe1ca4fa24910e6b1573902098bc3 |\n",
      "| 28560e1383141e35127388a3f0ca0e7b24919c17.txt |                              江苏旷达汽车织物集团股份有限公司                              |    -    |     -      |                               {'source': '28560e1383141e35127388a3f0ca0e7b24919c17'}                              |                  index                   |\n",
      "| 28560e1383141e35127388a3f0ca0e7b24919c17.txt |                            ['江苏旷达汽车织物集团股份有限公司']                            |   587   |    700     | {'source': '../../bs_challenge_financial_14b_dataset/pdf_txt_file//28560e1383141e35127388a3f0ca0e7b24919c17.txt'} | 28560e1383141e35127388a3f0ca0e7b24919c17 |\n",
      "| 334a4deb4169c220c7a89243a104f6874ce1996a.txt |                                浙江双飞无油轴承股份有限公司                                |    -    |     -      |                               {'source': '334a4deb4169c220c7a89243a104f6874ce1996a'}                              |                  index                   |\n",
      "| 334a4deb4169c220c7a89243a104f6874ce1996a.txt |                              ['浙江双飞无油轴承股份有限公司']                              |   1043  |    700     | {'source': '../../bs_challenge_financial_14b_dataset/pdf_txt_file//334a4deb4169c220c7a89243a104f6874ce1996a.txt'} | 334a4deb4169c220c7a89243a104f6874ce1996a |\n",
      "| 398c8e64f18a13e695b5956122ef2f6a6fd3b274.txt |                                上海真兰仪表科技股份有限公司                                |    -    |     -      |                               {'source': '398c8e64f18a13e695b5956122ef2f6a6fd3b274'}                              |                  index                   |\n",
      "| 398c8e64f18a13e695b5956122ef2f6a6fd3b274.txt |                              ['上海真兰仪表科技股份有限公司']                              |   861   |    700     | {'source': '../../bs_challenge_financial_14b_dataset/pdf_txt_file//398c8e64f18a13e695b5956122ef2f6a6fd3b274.txt'} | 398c8e64f18a13e695b5956122ef2f6a6fd3b274 |\n",
      "| 3e0ded8afa8f8aa952fd8179b109d6e67578c2dd.txt |                                    华瑞电器股份有限公司                                    |    -    |     -      |                               {'source': '3e0ded8afa8f8aa952fd8179b109d6e67578c2dd'}                              |                  index                   |\n",
      "| 3e0ded8afa8f8aa952fd8179b109d6e67578c2dd.txt |                                  ['华瑞电器股份有限公司']                                  |   671   |    700     | {'source': '../../bs_challenge_financial_14b_dataset/pdf_txt_file//3e0ded8afa8f8aa952fd8179b109d6e67578c2dd.txt'} | 3e0ded8afa8f8aa952fd8179b109d6e67578c2dd |\n",
      "| 4170a3382f5e92d32890780d79cb39115a756f40.txt |                                中国铁路通信信号股份有限公司                                |    -    |     -      |                               {'source': '4170a3382f5e92d32890780d79cb39115a756f40'}                              |                  index                   |\n",
      "| 4170a3382f5e92d32890780d79cb39115a756f40.txt |                              ['中国铁路通信信号股份有限公司']                              |   1316  |    700     | {'source': '../../bs_challenge_financial_14b_dataset/pdf_txt_file//4170a3382f5e92d32890780d79cb39115a756f40.txt'} | 4170a3382f5e92d32890780d79cb39115a756f40 |\n",
      "| 421864a100b2b65568d0aa7e08bdc9e13e5c91d2.txt |                                  东港安全印刷股份有限公司                                  |    -    |     -      |                               {'source': '421864a100b2b65568d0aa7e08bdc9e13e5c91d2'}                              |                  index                   |\n",
      "| 421864a100b2b65568d0aa7e08bdc9e13e5c91d2.txt |                                ['东港安全印刷股份有限公司']                                |   430   |    700     | {'source': '../../bs_challenge_financial_14b_dataset/pdf_txt_file//421864a100b2b65568d0aa7e08bdc9e13e5c91d2.txt'} | 421864a100b2b65568d0aa7e08bdc9e13e5c91d2 |\n",
      "| 42518828d97dd45ac34dc34a5814d18c1ebe9a83.txt |                                  宁波立立电子股份有限公司                                  |    -    |     -      |                               {'source': '42518828d97dd45ac34dc34a5814d18c1ebe9a83'}                              |                  index                   |\n",
      "| 42518828d97dd45ac34dc34a5814d18c1ebe9a83.txt |                                ['宁波立立电子股份有限公司']                                |   562   |    700     | {'source': '../../bs_challenge_financial_14b_dataset/pdf_txt_file//42518828d97dd45ac34dc34a5814d18c1ebe9a83.txt'} | 42518828d97dd45ac34dc34a5814d18c1ebe9a83 |\n",
      "| 43571629ce9fb30b44ccefdca9f637102c16d1a2.txt |                                  天津力生制药股份有限公司                                  |    -    |     -      |                               {'source': '43571629ce9fb30b44ccefdca9f637102c16d1a2'}                              |                  index                   |\n",
      "| 43571629ce9fb30b44ccefdca9f637102c16d1a2.txt |                                ['天津力生制药股份有限公司']                                |   747   |    700     | {'source': '../../bs_challenge_financial_14b_dataset/pdf_txt_file//43571629ce9fb30b44ccefdca9f637102c16d1a2.txt'} | 43571629ce9fb30b44ccefdca9f637102c16d1a2 |\n",
      "| 43f9d961f0885608850dec7f4284afdaf07bdc43.txt |                                 深圳可立克科技股份有限公司                                 |    -    |     -      |                               {'source': '43f9d961f0885608850dec7f4284afdaf07bdc43'}                              |                  index                   |\n",
      "| 43f9d961f0885608850dec7f4284afdaf07bdc43.txt |                               ['深圳可立克科技股份有限公司']                               |   794   |    700     | {'source': '../../bs_challenge_financial_14b_dataset/pdf_txt_file//43f9d961f0885608850dec7f4284afdaf07bdc43.txt'} | 43f9d961f0885608850dec7f4284afdaf07bdc43 |\n",
      "| 44850fcc20f00a48f5bca0ad4acde91d76b839d6.txt |                                西安启源机电装备股份有限公司                                |    -    |     -      |                               {'source': '44850fcc20f00a48f5bca0ad4acde91d76b839d6'}                              |                  index                   |\n",
      "| 44850fcc20f00a48f5bca0ad4acde91d76b839d6.txt |                                    西部证券股份有限公司                                    |    -    |     -      |                               {'source': '44850fcc20f00a48f5bca0ad4acde91d76b839d6'}                              |                  index                   |\n",
      "| 44850fcc20f00a48f5bca0ad4acde91d76b839d6.txt |                  ['西安启源机电装备股份有限公司', '西部证券股份有限公司']                  |   432   |    700     | {'source': '../../bs_challenge_financial_14b_dataset/pdf_txt_file//44850fcc20f00a48f5bca0ad4acde91d76b839d6.txt'} | 44850fcc20f00a48f5bca0ad4acde91d76b839d6 |\n",
      "| 47d0efaf57fb6f5d66af5ecdc422dd1da99b6d95.txt |                                  江苏天瑞仪器股份有限公司                                  |    -    |     -      |                               {'source': '47d0efaf57fb6f5d66af5ecdc422dd1da99b6d95'}                              |                  index                   |\n",
      "| 47d0efaf57fb6f5d66af5ecdc422dd1da99b6d95.txt |                                    东方证券股份有限公司                                    |    -    |     -      |                               {'source': '47d0efaf57fb6f5d66af5ecdc422dd1da99b6d95'}                              |                  index                   |\n",
      "| 47d0efaf57fb6f5d66af5ecdc422dd1da99b6d95.txt |                    ['江苏天瑞仪器股份有限公司', '东方证券股份有限公司']                    |   695   |    700     | {'source': '../../bs_challenge_financial_14b_dataset/pdf_txt_file//47d0efaf57fb6f5d66af5ecdc422dd1da99b6d95.txt'} | 47d0efaf57fb6f5d66af5ecdc422dd1da99b6d95 |\n",
      "| 4bc783ca9fd53beb4be3a79b1712d5e42be209e1.txt |                              北京天宜上佳高新材料股份有限公司                              |    -    |     -      |                               {'source': '4bc783ca9fd53beb4be3a79b1712d5e42be209e1'}                              |                  index                   |\n",
      "| 4bc783ca9fd53beb4be3a79b1712d5e42be209e1.txt |                            ['北京天宜上佳高新材料股份有限公司']                            |   1257  |    700     | {'source': '../../bs_challenge_financial_14b_dataset/pdf_txt_file//4bc783ca9fd53beb4be3a79b1712d5e42be209e1.txt'} | 4bc783ca9fd53beb4be3a79b1712d5e42be209e1 |\n",
      "| 50b2823371fe1699d260f67cadac3d38af0672e3.txt |                               浙江富春江环保热电股份有限公司                               |    -    |     -      |                               {'source': '50b2823371fe1699d260f67cadac3d38af0672e3'}                              |                  index                   |\n",
      "| 50b2823371fe1699d260f67cadac3d38af0672e3.txt |                                 浙江富春江通信集团有限公司                                 |    -    |     -      |                               {'source': '50b2823371fe1699d260f67cadac3d38af0672e3'}                              |                  index                   |\n",
      "| 50b2823371fe1699d260f67cadac3d38af0672e3.txt |                                   太平洋证券股份有限公司                                   |    -    |     -      |                               {'source': '50b2823371fe1699d260f67cadac3d38af0672e3'}                              |                  index                   |\n",
      "| 50b2823371fe1699d260f67cadac3d38af0672e3.txt | ['浙江富春江环保热电股份有限公司', '浙江富春江通信集团有限公司', '太平洋证券股份有限公司'] |   505   |    700     | {'source': '../../bs_challenge_financial_14b_dataset/pdf_txt_file//50b2823371fe1699d260f67cadac3d38af0672e3.txt'} | 50b2823371fe1699d260f67cadac3d38af0672e3 |\n",
      "| 52fd4a323d97356a463959671794e900699baae5.txt |                                 深圳信立泰药业股份有限公司                                 |    -    |     -      |                               {'source': '52fd4a323d97356a463959671794e900699baae5'}                              |                  index                   |\n",
      "| 52fd4a323d97356a463959671794e900699baae5.txt |                               ['深圳信立泰药业股份有限公司']                               |   362   |    700     | {'source': '../../bs_challenge_financial_14b_dataset/pdf_txt_file//52fd4a323d97356a463959671794e900699baae5.txt'} | 52fd4a323d97356a463959671794e900699baae5 |\n",
      "| 54c7b3ab01ad11d37835a4464c9e4d68dfe6306f.txt |                                云南沃森生物技术股份有限公司                                |    -    |     -      |                               {'source': '54c7b3ab01ad11d37835a4464c9e4d68dfe6306f'}                              |                  index                   |\n",
      "| 54c7b3ab01ad11d37835a4464c9e4d68dfe6306f.txt |                              ['云南沃森生物技术股份有限公司']                              |   472   |    700     | {'source': '../../bs_challenge_financial_14b_dataset/pdf_txt_file//54c7b3ab01ad11d37835a4464c9e4d68dfe6306f.txt'} | 54c7b3ab01ad11d37835a4464c9e4d68dfe6306f |\n",
      "| 54d148902b889679830174597830f0d0f22c1073.txt |                                上海派能能源科技股份有限公司                                |    -    |     -      |                               {'source': '54d148902b889679830174597830f0d0f22c1073'}                              |                  index                   |\n",
      "| 54d148902b889679830174597830f0d0f22c1073.txt |                              ['上海派能能源科技股份有限公司']                              |   995   |    700     | {'source': '../../bs_challenge_financial_14b_dataset/pdf_txt_file//54d148902b889679830174597830f0d0f22c1073.txt'} | 54d148902b889679830174597830f0d0f22c1073 |\n",
      "| 5ad8119f0928b041ed0f0ecf3ef4164cd64ad57c.txt |                                上海宏英智能科技股份有限公司                                |    -    |     -      |                               {'source': '5ad8119f0928b041ed0f0ecf3ef4164cd64ad57c'}                              |                  index                   |\n",
      "| 5ad8119f0928b041ed0f0ecf3ef4164cd64ad57c.txt |                              ['上海宏英智能科技股份有限公司']                              |   816   |    700     | {'source': '../../bs_challenge_financial_14b_dataset/pdf_txt_file//5ad8119f0928b041ed0f0ecf3ef4164cd64ad57c.txt'} | 5ad8119f0928b041ed0f0ecf3ef4164cd64ad57c |\n",
      "| 5c2707b186a798118bba251cce8d1fc331b5cbba.txt |                                  厦门科华恒盛股份有限公司                                  |    -    |     -      |                               {'source': '5c2707b186a798118bba251cce8d1fc331b5cbba'}                              |                  index                   |\n",
      "| 5c2707b186a798118bba251cce8d1fc331b5cbba.txt |                                    东北证券股份有限公司                                    |    -    |     -      |                               {'source': '5c2707b186a798118bba251cce8d1fc331b5cbba'}                              |                  index                   |\n",
      "| 5c2707b186a798118bba251cce8d1fc331b5cbba.txt |                    ['厦门科华恒盛股份有限公司', '东北证券股份有限公司']                    |   908   |    700     | {'source': '../../bs_challenge_financial_14b_dataset/pdf_txt_file//5c2707b186a798118bba251cce8d1fc331b5cbba.txt'} | 5c2707b186a798118bba251cce8d1fc331b5cbba |\n",
      "| 5e019307c43efbd95dea0ab110808ebeba819776.txt |                                  义乌华鼎锦纶股份有限公司                                  |    -    |     -      |                               {'source': '5e019307c43efbd95dea0ab110808ebeba819776'}                              |                  index                   |\n",
      "| 5e019307c43efbd95dea0ab110808ebeba819776.txt |                                ['义乌华鼎锦纶股份有限公司']                                |   660   |    700     | {'source': '../../bs_challenge_financial_14b_dataset/pdf_txt_file//5e019307c43efbd95dea0ab110808ebeba819776.txt'} | 5e019307c43efbd95dea0ab110808ebeba819776 |\n",
      "| 6c93724343cef6b9da70d51daa739e8a1c607a22.txt |                                珠海健帆生物科技股份有限公司                                |    -    |     -      |                               {'source': '6c93724343cef6b9da70d51daa739e8a1c607a22'}                              |                  index                   |\n",
      "| 6c93724343cef6b9da70d51daa739e8a1c607a22.txt |                              ['珠海健帆生物科技股份有限公司']                              |   549   |    700     | {'source': '../../bs_challenge_financial_14b_dataset/pdf_txt_file//6c93724343cef6b9da70d51daa739e8a1c607a22.txt'} | 6c93724343cef6b9da70d51daa739e8a1c607a22 |\n",
      "| 6d2d79af9644ba5fef3b462fa40139c1395a3552.txt |                                深圳市超频三科技股份有限公司                                |    -    |     -      |                               {'source': '6d2d79af9644ba5fef3b462fa40139c1395a3552'}                              |                  index                   |\n",
      "| 6d2d79af9644ba5fef3b462fa40139c1395a3552.txt |                              ['深圳市超频三科技股份有限公司']                              |   642   |    700     | {'source': '../../bs_challenge_financial_14b_dataset/pdf_txt_file//6d2d79af9644ba5fef3b462fa40139c1395a3552.txt'} | 6d2d79af9644ba5fef3b462fa40139c1395a3552 |\n",
      "| 72103a0ef6299585cdd09751682534d873f8e64e.txt |                                北京七星华创电子股份有限公司                                |    -    |     -      |                               {'source': '72103a0ef6299585cdd09751682534d873f8e64e'}                              |                  index                   |\n",
      "| 72103a0ef6299585cdd09751682534d873f8e64e.txt |                                  中信建投证券有限责任公司                                  |    -    |     -      |                               {'source': '72103a0ef6299585cdd09751682534d873f8e64e'}                              |                  index                   |\n",
      "| 72103a0ef6299585cdd09751682534d873f8e64e.txt |                ['北京七星华创电子股份有限公司', '中信建投证券有限责任公司']                |   436   |    700     | {'source': '../../bs_challenge_financial_14b_dataset/pdf_txt_file//72103a0ef6299585cdd09751682534d873f8e64e.txt'} | 72103a0ef6299585cdd09751682534d873f8e64e |\n",
      "| 749dc57b0a41b931f3fbcff1ec4f808ff460655e.txt |                                   威龙葡萄酒股份有限公司                                   |    -    |     -      |                               {'source': '749dc57b0a41b931f3fbcff1ec4f808ff460655e'}                              |                  index                   |\n",
      "| 749dc57b0a41b931f3fbcff1ec4f808ff460655e.txt |                              第一创业摩根大通证券有限责任公司                              |    -    |     -      |                               {'source': '749dc57b0a41b931f3fbcff1ec4f808ff460655e'}                              |                  index                   |\n",
      "| 749dc57b0a41b931f3fbcff1ec4f808ff460655e.txt |               ['威龙葡萄酒股份有限公司', '第一创业摩根大通证券有限责任公司']               |   481   |    700     | {'source': '../../bs_challenge_financial_14b_dataset/pdf_txt_file//749dc57b0a41b931f3fbcff1ec4f808ff460655e.txt'} | 749dc57b0a41b931f3fbcff1ec4f808ff460655e |\n",
      "| 756171248e278806a56171d59c6519a38eac9012.txt |                                   确成硅化学股份有限公司                                   |    -    |     -      |                               {'source': '756171248e278806a56171d59c6519a38eac9012'}                              |                  index                   |\n",
      "| 756171248e278806a56171d59c6519a38eac9012.txt |                                 ['确成硅化学股份有限公司']                                 |   1254  |    700     | {'source': '../../bs_challenge_financial_14b_dataset/pdf_txt_file//756171248e278806a56171d59c6519a38eac9012.txt'} | 756171248e278806a56171d59c6519a38eac9012 |\n",
      "| 79e9167d0336a9f471ab77dc04ec978fc4a89171.txt |                                  大博医疗科技股份有限公司                                  |    -    |     -      |                               {'source': '79e9167d0336a9f471ab77dc04ec978fc4a89171'}                              |                  index                   |\n",
      "| 79e9167d0336a9f471ab77dc04ec978fc4a89171.txt |                                ['大博医疗科技股份有限公司']                                |   793   |    700     | {'source': '../../bs_challenge_financial_14b_dataset/pdf_txt_file//79e9167d0336a9f471ab77dc04ec978fc4a89171.txt'} | 79e9167d0336a9f471ab77dc04ec978fc4a89171 |\n",
      "| 7ee0d82749433aba584ff8eabfc1575580aa0d97.txt |                                深圳麦格米特电气股份有限公司                                |    -    |     -      |                               {'source': '7ee0d82749433aba584ff8eabfc1575580aa0d97'}                              |                  index                   |\n",
      "| 7ee0d82749433aba584ff8eabfc1575580aa0d97.txt |                              ['深圳麦格米特电气股份有限公司']                              |   742   |    700     | {'source': '../../bs_challenge_financial_14b_dataset/pdf_txt_file//7ee0d82749433aba584ff8eabfc1575580aa0d97.txt'} | 7ee0d82749433aba584ff8eabfc1575580aa0d97 |\n",
      "| 810d8681429537dbf20a437a6dbf08e34c1ece27.txt |                                  浙江百达精工股份有限公司                                  |    -    |     -      |                               {'source': '810d8681429537dbf20a437a6dbf08e34c1ece27'}                              |                  index                   |\n",
      "| 810d8681429537dbf20a437a6dbf08e34c1ece27.txt |                                ['浙江百达精工股份有限公司']                                |   1294  |    700     | {'source': '../../bs_challenge_financial_14b_dataset/pdf_txt_file//810d8681429537dbf20a437a6dbf08e34c1ece27.txt'} | 810d8681429537dbf20a437a6dbf08e34c1ece27 |\n",
      "| 88acba2e98dedd85fdd38192a639dbcc56faf3ed.txt |                                    森赫电梯股份有限公司                                    |    -    |     -      |                               {'source': '88acba2e98dedd85fdd38192a639dbcc56faf3ed'}                              |                  index                   |\n",
      "| 88acba2e98dedd85fdd38192a639dbcc56faf3ed.txt |                                  ['森赫电梯股份有限公司']                                  |   1343  |    700     | {'source': '../../bs_challenge_financial_14b_dataset/pdf_txt_file//88acba2e98dedd85fdd38192a639dbcc56faf3ed.txt'} | 88acba2e98dedd85fdd38192a639dbcc56faf3ed |\n",
      "| 8c130bea710816d5ef9a8bd7b2df7ee46e9f40dd.txt |                                 浙江开尔新材料股份有限公司                                 |    -    |     -      |                               {'source': '8c130bea710816d5ef9a8bd7b2df7ee46e9f40dd'}                              |                  index                   |\n",
      "| 8c130bea710816d5ef9a8bd7b2df7ee46e9f40dd.txt |                               ['浙江开尔新材料股份有限公司']                               |   415   |    700     | {'source': '../../bs_challenge_financial_14b_dataset/pdf_txt_file//8c130bea710816d5ef9a8bd7b2df7ee46e9f40dd.txt'} | 8c130bea710816d5ef9a8bd7b2df7ee46e9f40dd |\n",
      "| 8feb69d0cda9f9fbfb29968f9aeb4cbf1953edab.txt |                                    瑞达期货股份有限公司                                    |    -    |     -      |                               {'source': '8feb69d0cda9f9fbfb29968f9aeb4cbf1953edab'}                              |                  index                   |\n",
      "| 8feb69d0cda9f9fbfb29968f9aeb4cbf1953edab.txt |                                  ['瑞达期货股份有限公司']                                  |   1200  |    700     | {'source': '../../bs_challenge_financial_14b_dataset/pdf_txt_file//8feb69d0cda9f9fbfb29968f9aeb4cbf1953edab.txt'} | 8feb69d0cda9f9fbfb29968f9aeb4cbf1953edab |\n",
      "| 91b4426b075560a1a45247f9cfa9fa73d56c945c.txt |                             广州中海达卫星导航技术股份有限公司                             |    -    |     -      |                               {'source': '91b4426b075560a1a45247f9cfa9fa73d56c945c'}                              |                  index                   |\n",
      "| 91b4426b075560a1a45247f9cfa9fa73d56c945c.txt |                           ['广州中海达卫星导航技术股份有限公司']                           |   655   |    700     | {'source': '../../bs_challenge_financial_14b_dataset/pdf_txt_file//91b4426b075560a1a45247f9cfa9fa73d56c945c.txt'} | 91b4426b075560a1a45247f9cfa9fa73d56c945c |\n",
      "| 952121f38a5eece19cca7cdc39079b43438fad88.txt |                                  浙江步森服饰股份有限公司                                  |    -    |     -      |                               {'source': '952121f38a5eece19cca7cdc39079b43438fad88'}                              |                  index                   |\n",
      "| 952121f38a5eece19cca7cdc39079b43438fad88.txt |                                ['浙江步森服饰股份有限公司']                                |   699   |    700     | {'source': '../../bs_challenge_financial_14b_dataset/pdf_txt_file//952121f38a5eece19cca7cdc39079b43438fad88.txt'} | 952121f38a5eece19cca7cdc39079b43438fad88 |\n",
      "| 96b461d6c6670928f7dc36f0c947e0c18340d5e2.txt |                              湖南南岭民用爆破器材股份有限公司                              |    -    |     -      |                               {'source': '96b461d6c6670928f7dc36f0c947e0c18340d5e2'}                              |                  index                   |\n",
      "| 96b461d6c6670928f7dc36f0c947e0c18340d5e2.txt |                                    财富证券有限责任公司                                    |    -    |     -      |                               {'source': '96b461d6c6670928f7dc36f0c947e0c18340d5e2'}                              |                  index                   |\n",
      "| 96b461d6c6670928f7dc36f0c947e0c18340d5e2.txt |                ['湖南南岭民用爆破器材股份有限公司', '财富证券有限责任公司']                |   396   |    700     | {'source': '../../bs_challenge_financial_14b_dataset/pdf_txt_file//96b461d6c6670928f7dc36f0c947e0c18340d5e2.txt'} | 96b461d6c6670928f7dc36f0c947e0c18340d5e2 |\n",
      "| 9951262c20ed33562a2fff85c83aeae320f14922.txt |                                  东莞勤上光电股份有限公司                                  |    -    |     -      |                               {'source': '9951262c20ed33562a2fff85c83aeae320f14922'}                              |                  index                   |\n",
      "| 9951262c20ed33562a2fff85c83aeae320f14922.txt |                                ['东莞勤上光电股份有限公司']                                |   792   |    700     | {'source': '../../bs_challenge_financial_14b_dataset/pdf_txt_file//9951262c20ed33562a2fff85c83aeae320f14922.txt'} | 9951262c20ed33562a2fff85c83aeae320f14922 |\n",
      "| 9b877e7db4809637c56eea234eaddc74cb20f9da.txt |                                  浙江亚厦装饰股份有限公司                                  |    -    |     -      |                               {'source': '9b877e7db4809637c56eea234eaddc74cb20f9da'}                              |                  index                   |\n",
      "| 9b877e7db4809637c56eea234eaddc74cb20f9da.txt |                                  财富里昂证券有限责任公司                                  |    -    |     -      |                               {'source': '9b877e7db4809637c56eea234eaddc74cb20f9da'}                              |                  index                   |\n",
      "| 9b877e7db4809637c56eea234eaddc74cb20f9da.txt |                  ['浙江亚厦装饰股份有限公司', '财富里昂证券有限责任公司']                  |   666   |    700     | {'source': '../../bs_challenge_financial_14b_dataset/pdf_txt_file//9b877e7db4809637c56eea234eaddc74cb20f9da.txt'} | 9b877e7db4809637c56eea234eaddc74cb20f9da |\n",
      "| 9c4a118cf576f91aed791fb6fe6926180e2dcc65.txt |                                             无                                             |    -    |     -      |                               {'source': '9c4a118cf576f91aed791fb6fe6926180e2dcc65'}                              |                  index                   |\n",
      "| 9c4a118cf576f91aed791fb6fe6926180e2dcc65.txt |                                           ['无']                                           |   733   |    700     | {'source': '../../bs_challenge_financial_14b_dataset/pdf_txt_file//9c4a118cf576f91aed791fb6fe6926180e2dcc65.txt'} | 9c4a118cf576f91aed791fb6fe6926180e2dcc65 |\n",
      "| 9dca16666143beb8c15a6a4ba6ec2b19b2ffb8fb.txt |                                内蒙君正能源化工股份有限公司                                |    -    |     -      |                               {'source': '9dca16666143beb8c15a6a4ba6ec2b19b2ffb8fb'}                              |                  index                   |\n",
      "| 9dca16666143beb8c15a6a4ba6ec2b19b2ffb8fb.txt |                              ['内蒙君正能源化工股份有限公司']                              |   717   |    700     | {'source': '../../bs_challenge_financial_14b_dataset/pdf_txt_file//9dca16666143beb8c15a6a4ba6ec2b19b2ffb8fb.txt'} | 9dca16666143beb8c15a6a4ba6ec2b19b2ffb8fb |\n",
      "| a0d278016e9baded15e0f5b3964563e525b1b787.txt |                                武汉兴图新科电子股份有限公司                                |    -    |     -      |                               {'source': 'a0d278016e9baded15e0f5b3964563e525b1b787'}                              |                  index                   |\n",
      "| a0d278016e9baded15e0f5b3964563e525b1b787.txt |                              ['武汉兴图新科电子股份有限公司']                              |   1052  |    700     | {'source': '../../bs_challenge_financial_14b_dataset/pdf_txt_file//a0d278016e9baded15e0f5b3964563e525b1b787.txt'} | a0d278016e9baded15e0f5b3964563e525b1b787 |\n",
      "| a244b6ed9da7411f804e62b82a8fdfc015dff284.txt |                                  惠州光弘科技股份有限公司                                  |    -    |     -      |                               {'source': 'a244b6ed9da7411f804e62b82a8fdfc015dff284'}                              |                  index                   |\n",
      "| a244b6ed9da7411f804e62b82a8fdfc015dff284.txt |                                ['惠州光弘科技股份有限公司']                                |   814   |    700     | {'source': '../../bs_challenge_financial_14b_dataset/pdf_txt_file//a244b6ed9da7411f804e62b82a8fdfc015dff284.txt'} | a244b6ed9da7411f804e62b82a8fdfc015dff284 |\n",
      "| a6f8156c08a1096c46470a1c5e1229daaaedf06e.txt |                                             无                                             |    -    |     -      |                               {'source': 'a6f8156c08a1096c46470a1c5e1229daaaedf06e'}                              |                  index                   |\n",
      "| a6f8156c08a1096c46470a1c5e1229daaaedf06e.txt |                                           ['无']                                           |   750   |    700     | {'source': '../../bs_challenge_financial_14b_dataset/pdf_txt_file//a6f8156c08a1096c46470a1c5e1229daaaedf06e.txt'} | a6f8156c08a1096c46470a1c5e1229daaaedf06e |\n",
      "| ad2bf1b94db9ec7cb2689ace2daec396d2965dce.txt |                                    厦门安妮股份有限公司                                    |    -    |     -      |                               {'source': 'ad2bf1b94db9ec7cb2689ace2daec396d2965dce'}                              |                  index                   |\n",
      "| ad2bf1b94db9ec7cb2689ace2daec396d2965dce.txt |                                  ['厦门安妮股份有限公司']                                  |   403   |    700     | {'source': '../../bs_challenge_financial_14b_dataset/pdf_txt_file//ad2bf1b94db9ec7cb2689ace2daec396d2965dce.txt'} | ad2bf1b94db9ec7cb2689ace2daec396d2965dce |\n",
      "| afa8c5a4a91c3ecf7bd38a1c1f09b8a68e472909.txt |                              海看网络科技（山东）股份有限公司                              |    -    |     -      |                               {'source': 'afa8c5a4a91c3ecf7bd38a1c1f09b8a68e472909'}                              |                  index                   |\n",
      "| afa8c5a4a91c3ecf7bd38a1c1f09b8a68e472909.txt |                            ['海看网络科技（山东）股份有限公司']                            |   1218  |    700     | {'source': '../../bs_challenge_financial_14b_dataset/pdf_txt_file//afa8c5a4a91c3ecf7bd38a1c1f09b8a68e472909.txt'} | afa8c5a4a91c3ecf7bd38a1c1f09b8a68e472909 |\n",
      "| b29a4948c1ba14e1a85f8339dd5bb0fcabadb171.txt |                                浙江贝因美科工贸股份有限公司                                |    -    |     -      |                               {'source': 'b29a4948c1ba14e1a85f8339dd5bb0fcabadb171'}                              |                  index                   |\n",
      "| b29a4948c1ba14e1a85f8339dd5bb0fcabadb171.txt |                              ['浙江贝因美科工贸股份有限公司']                              |   805   |    700     | {'source': '../../bs_challenge_financial_14b_dataset/pdf_txt_file//b29a4948c1ba14e1a85f8339dd5bb0fcabadb171.txt'} | b29a4948c1ba14e1a85f8339dd5bb0fcabadb171 |\n",
      "| b58b0a129b2c62ca8b295d40c91134df5d5e603d.txt |                                山东国瓷功能材料股份有限公司                                |    -    |     -      |                               {'source': 'b58b0a129b2c62ca8b295d40c91134df5d5e603d'}                              |                  index                   |\n",
      "| b58b0a129b2c62ca8b295d40c91134df5d5e603d.txt |                              ['山东国瓷功能材料股份有限公司']                              |   799   |    700     | {'source': '../../bs_challenge_financial_14b_dataset/pdf_txt_file//b58b0a129b2c62ca8b295d40c91134df5d5e603d.txt'} | b58b0a129b2c62ca8b295d40c91134df5d5e603d |\n",
      "| b9587835ff0d27df936b1f623b412e88e5e3abad.txt |                                  汉嘉设计集团股份有限公司                                  |    -    |     -      |                               {'source': 'b9587835ff0d27df936b1f623b412e88e5e3abad'}                              |                  index                   |\n",
      "| b9587835ff0d27df936b1f623b412e88e5e3abad.txt |                                ['汉嘉设计集团股份有限公司']                                |   858   |    700     | {'source': '../../bs_challenge_financial_14b_dataset/pdf_txt_file//b9587835ff0d27df936b1f623b412e88e5e3abad.txt'} | b9587835ff0d27df936b1f623b412e88e5e3abad |\n",
      "| b96b11328c7bdc32b63fd15b1d1f96759ed94add.txt |                              烟台杰瑞石油服务集团股份有限公司                              |    -    |     -      |                               {'source': 'b96b11328c7bdc32b63fd15b1d1f96759ed94add'}                              |                  index                   |\n",
      "| b96b11328c7bdc32b63fd15b1d1f96759ed94add.txt |                            ['烟台杰瑞石油服务集团股份有限公司']                            |   693   |    700     | {'source': '../../bs_challenge_financial_14b_dataset/pdf_txt_file//b96b11328c7bdc32b63fd15b1d1f96759ed94add.txt'} | b96b11328c7bdc32b63fd15b1d1f96759ed94add |\n",
      "| ba561001c2abd0714c413e2f6a77ffee58c644a6.txt |                                    联化科技股份有限公司                                    |    -    |     -      |                               {'source': 'ba561001c2abd0714c413e2f6a77ffee58c644a6'}                              |                  index                   |\n",
      "| ba561001c2abd0714c413e2f6a77ffee58c644a6.txt |                                    东北证券股份有限公司                                    |    -    |     -      |                               {'source': 'ba561001c2abd0714c413e2f6a77ffee58c644a6'}                              |                  index                   |\n",
      "| ba561001c2abd0714c413e2f6a77ffee58c644a6.txt |                      ['联化科技股份有限公司', '东北证券股份有限公司']                      |   662   |    700     | {'source': '../../bs_challenge_financial_14b_dataset/pdf_txt_file//ba561001c2abd0714c413e2f6a77ffee58c644a6.txt'} | ba561001c2abd0714c413e2f6a77ffee58c644a6 |\n",
      "| bec898d3079074d88f8bdb34d7e07f072cfca695.txt |                                  中国神华能源股份有限公司                                  |    -    |     -      |                               {'source': 'bec898d3079074d88f8bdb34d7e07f072cfca695'}                              |                  index                   |\n",
      "| bec898d3079074d88f8bdb34d7e07f072cfca695.txt |                                    中国国际金融有限公司                                    |    -    |     -      |                               {'source': 'bec898d3079074d88f8bdb34d7e07f072cfca695'}                              |                  index                   |\n",
      "| bec898d3079074d88f8bdb34d7e07f072cfca695.txt |                                  中国银河证券股份有限公司                                  |    -    |     -      |                               {'source': 'bec898d3079074d88f8bdb34d7e07f072cfca695'}                              |                  index                   |\n",
      "| bec898d3079074d88f8bdb34d7e07f072cfca695.txt |      ['中国神华能源股份有限公司', '中国国际金融有限公司', '中国银河证券股份有限公司']      |   592   |    700     | {'source': '../../bs_challenge_financial_14b_dataset/pdf_txt_file//bec898d3079074d88f8bdb34d7e07f072cfca695.txt'} | bec898d3079074d88f8bdb34d7e07f072cfca695 |\n",
      "| c0f513c24a7ad4d74a3e2aab7c749f64c50771d2.txt |                                  海南双成药业股份有限公司                                  |    -    |     -      |                               {'source': 'c0f513c24a7ad4d74a3e2aab7c749f64c50771d2'}                              |                  index                   |\n",
      "| c0f513c24a7ad4d74a3e2aab7c749f64c50771d2.txt |                                ['海南双成药业股份有限公司']                                |   897   |    700     | {'source': '../../bs_challenge_financial_14b_dataset/pdf_txt_file//c0f513c24a7ad4d74a3e2aab7c749f64c50771d2.txt'} | c0f513c24a7ad4d74a3e2aab7c749f64c50771d2 |\n",
      "| c3eae2913ce6c9f56c58a5588358740a00d47dd5.txt |                                 新疆浩源天然气股份有限公司                                 |    -    |     -      |                               {'source': 'c3eae2913ce6c9f56c58a5588358740a00d47dd5'}                              |                  index                   |\n",
      "| c3eae2913ce6c9f56c58a5588358740a00d47dd5.txt |                               ['新疆浩源天然气股份有限公司']                               |   984   |    700     | {'source': '../../bs_challenge_financial_14b_dataset/pdf_txt_file//c3eae2913ce6c9f56c58a5588358740a00d47dd5.txt'} | c3eae2913ce6c9f56c58a5588358740a00d47dd5 |\n",
      "| c48b454b4d171ba375fb88a6469b0a1d7f4625c2.txt |                                 浙江金卡高科技股份有限公司                                 |    -    |     -      |                               {'source': 'c48b454b4d171ba375fb88a6469b0a1d7f4625c2'}                              |                  index                   |\n",
      "| c48b454b4d171ba375fb88a6469b0a1d7f4625c2.txt |                                 浙江金卡高科技股份有限公司                                 |    -    |     -      |                               {'source': 'c48b454b4d171ba375fb88a6469b0a1d7f4625c2'}                              |                  index                   |\n",
      "| c48b454b4d171ba375fb88a6469b0a1d7f4625c2.txt |                ['浙江金卡高科技股份有限公司', '浙江金卡高科技股份有限公司']                |   689   |    700     | {'source': '../../bs_challenge_financial_14b_dataset/pdf_txt_file//c48b454b4d171ba375fb88a6469b0a1d7f4625c2.txt'} | c48b454b4d171ba375fb88a6469b0a1d7f4625c2 |\n",
      "| ca1191af7558e0f18966e4df589368a3a5f5e1e6.txt |                                 青海互助青稞酒股份有限公司                                 |    -    |     -      |                               {'source': 'ca1191af7558e0f18966e4df589368a3a5f5e1e6'}                              |                  index                   |\n",
      "| ca1191af7558e0f18966e4df589368a3a5f5e1e6.txt |                               ['青海互助青稞酒股份有限公司']                               |   593   |    700     | {'source': '../../bs_challenge_financial_14b_dataset/pdf_txt_file//ca1191af7558e0f18966e4df589368a3a5f5e1e6.txt'} | ca1191af7558e0f18966e4df589368a3a5f5e1e6 |\n",
      "| cae2f50f92120710bea7cf31b69f1a14e7badeb6.txt |                                  四川高金食品股份有限公司                                  |    -    |     -      |                               {'source': 'cae2f50f92120710bea7cf31b69f1a14e7badeb6'}                              |                  index                   |\n",
      "| cae2f50f92120710bea7cf31b69f1a14e7badeb6.txt |                                    宏源证券股份有限公司                                    |    -    |     -      |                               {'source': 'cae2f50f92120710bea7cf31b69f1a14e7badeb6'}                              |                  index                   |\n",
      "| cae2f50f92120710bea7cf31b69f1a14e7badeb6.txt |                    ['四川高金食品股份有限公司', '宏源证券股份有限公司']                    |   570   |    700     | {'source': '../../bs_challenge_financial_14b_dataset/pdf_txt_file//cae2f50f92120710bea7cf31b69f1a14e7badeb6.txt'} | cae2f50f92120710bea7cf31b69f1a14e7badeb6 |\n",
      "| d1a73ca4a204ca3f98024bca8ce0652f5e1c1a94.txt |                                  贵州永吉印务股份有限公司                                  |    -    |     -      |                               {'source': 'd1a73ca4a204ca3f98024bca8ce0652f5e1c1a94'}                              |                  index                   |\n",
      "| d1a73ca4a204ca3f98024bca8ce0652f5e1c1a94.txt |                                ['贵州永吉印务股份有限公司']                                |   732   |    700     | {'source': '../../bs_challenge_financial_14b_dataset/pdf_txt_file//d1a73ca4a204ca3f98024bca8ce0652f5e1c1a94.txt'} | d1a73ca4a204ca3f98024bca8ce0652f5e1c1a94 |\n",
      "| d336d607e1d431cbfe1f313e2234a13fcf49a16e.txt |                                 湖南国科微电子股份有限公司                                 |    -    |     -      |                               {'source': 'd336d607e1d431cbfe1f313e2234a13fcf49a16e'}                              |                  index                   |\n",
      "| d336d607e1d431cbfe1f313e2234a13fcf49a16e.txt |                                  华泰联合证券有限责任公司                                  |    -    |     -      |                               {'source': 'd336d607e1d431cbfe1f313e2234a13fcf49a16e'}                              |                  index                   |\n",
      "| d336d607e1d431cbfe1f313e2234a13fcf49a16e.txt |                 ['湖南国科微电子股份有限公司', '华泰联合证券有限责任公司']                 |   719   |    700     | {'source': '../../bs_challenge_financial_14b_dataset/pdf_txt_file//d336d607e1d431cbfe1f313e2234a13fcf49a16e.txt'} | d336d607e1d431cbfe1f313e2234a13fcf49a16e |\n",
      "| d627620bedd94ea27c3840fa974cef3f7b582d03.txt |                              深圳市建筑科学研究院股份有限公司                              |    -    |     -      |                               {'source': 'd627620bedd94ea27c3840fa974cef3f7b582d03'}                              |                  index                   |\n",
      "| d627620bedd94ea27c3840fa974cef3f7b582d03.txt |                            ['深圳市建筑科学研究院股份有限公司']                            |   735   |    700     | {'source': '../../bs_challenge_financial_14b_dataset/pdf_txt_file//d627620bedd94ea27c3840fa974cef3f7b582d03.txt'} | d627620bedd94ea27c3840fa974cef3f7b582d03 |\n",
      "| d6867ff3ecf9882065e45612eaf7b33ccb9a95dc.txt |                                  兰州海默科技股份有限公司                                  |    -    |     -      |                               {'source': 'd6867ff3ecf9882065e45612eaf7b33ccb9a95dc'}                              |                  index                   |\n",
      "| d6867ff3ecf9882065e45612eaf7b33ccb9a95dc.txt |                                    光大证券股份有限公司                                    |    -    |     -      |                               {'source': 'd6867ff3ecf9882065e45612eaf7b33ccb9a95dc'}                              |                  index                   |\n",
      "| d6867ff3ecf9882065e45612eaf7b33ccb9a95dc.txt |                    ['兰州海默科技股份有限公司', '光大证券股份有限公司']                    |   617   |    700     | {'source': '../../bs_challenge_financial_14b_dataset/pdf_txt_file//d6867ff3ecf9882065e45612eaf7b33ccb9a95dc.txt'} | d6867ff3ecf9882065e45612eaf7b33ccb9a95dc |\n",
      "| d6c70c04287ff6aba75b0565bef375469aaa68c3.txt |                                常熟风范电力设备股份有限公司                                |    -    |     -      |                               {'source': 'd6c70c04287ff6aba75b0565bef375469aaa68c3'}                              |                  index                   |\n",
      "| d6c70c04287ff6aba75b0565bef375469aaa68c3.txt |                              ['常熟风范电力设备股份有限公司']                              |   742   |    700     | {'source': '../../bs_challenge_financial_14b_dataset/pdf_txt_file//d6c70c04287ff6aba75b0565bef375469aaa68c3.txt'} | d6c70c04287ff6aba75b0565bef375469aaa68c3 |\n",
      "| e0a89442ee14a193c6600b0092a43a95a2ddab88.txt |                                  华达汽车科技股份有限公司                                  |    -    |     -      |                               {'source': 'e0a89442ee14a193c6600b0092a43a95a2ddab88'}                              |                  index                   |\n",
      "| e0a89442ee14a193c6600b0092a43a95a2ddab88.txt |                                ['华达汽车科技股份有限公司']                                |   1207  |    700     | {'source': '../../bs_challenge_financial_14b_dataset/pdf_txt_file//e0a89442ee14a193c6600b0092a43a95a2ddab88.txt'} | e0a89442ee14a193c6600b0092a43a95a2ddab88 |\n",
      "| e1e8e0551703f4a1f2873755ef46210b0889c5cd.txt |                                  读者出版传媒股份有限公司                                  |    -    |     -      |                               {'source': 'e1e8e0551703f4a1f2873755ef46210b0889c5cd'}                              |                  index                   |\n",
      "| e1e8e0551703f4a1f2873755ef46210b0889c5cd.txt |                                    华龙证券股份有限公司                                    |    -    |     -      |                               {'source': 'e1e8e0551703f4a1f2873755ef46210b0889c5cd'}                              |                  index                   |\n",
      "| e1e8e0551703f4a1f2873755ef46210b0889c5cd.txt |                    ['读者出版传媒股份有限公司', '华龙证券股份有限公司']                    |   924   |    700     | {'source': '../../bs_challenge_financial_14b_dataset/pdf_txt_file//e1e8e0551703f4a1f2873755ef46210b0889c5cd.txt'} | e1e8e0551703f4a1f2873755ef46210b0889c5cd |\n",
      "| e6ff749bb533a47173aaca91fe5d44080d9d37b3.txt |                                  广东银禧科技股份有限公司                                  |    -    |     -      |                               {'source': 'e6ff749bb533a47173aaca91fe5d44080d9d37b3'}                              |                  index                   |\n",
      "| e6ff749bb533a47173aaca91fe5d44080d9d37b3.txt |                                ['广东银禧科技股份有限公司']                                |   829   |    700     | {'source': '../../bs_challenge_financial_14b_dataset/pdf_txt_file//e6ff749bb533a47173aaca91fe5d44080d9d37b3.txt'} | e6ff749bb533a47173aaca91fe5d44080d9d37b3 |\n",
      "| e774a06e6b4db734424f7d9181b9515a08bea6cc.txt |                                  安徽天源科技股份有限公司                                  |    -    |     -      |                               {'source': 'e774a06e6b4db734424f7d9181b9515a08bea6cc'}                              |                  index                   |\n",
      "| e774a06e6b4db734424f7d9181b9515a08bea6cc.txt |                                    国元证券有限责任公司                                    |    -    |     -      |                               {'source': 'e774a06e6b4db734424f7d9181b9515a08bea6cc'}                              |                  index                   |\n",
      "| e774a06e6b4db734424f7d9181b9515a08bea6cc.txt |                    ['安徽天源科技股份有限公司', '国元证券有限责任公司']                    |   374   |    700     | {'source': '../../bs_challenge_financial_14b_dataset/pdf_txt_file//e774a06e6b4db734424f7d9181b9515a08bea6cc.txt'} | e774a06e6b4db734424f7d9181b9515a08bea6cc |\n",
      "| edde146c2435590bc33de0f144c04a7d7bf4d5b5.txt |                                  新疆金风科技股份有限公司                                  |    -    |     -      |                               {'source': 'edde146c2435590bc33de0f144c04a7d7bf4d5b5'}                              |                  index                   |\n",
      "| edde146c2435590bc33de0f144c04a7d7bf4d5b5.txt |                                ['新疆金风科技股份有限公司']                                |   414   |    700     | {'source': '../../bs_challenge_financial_14b_dataset/pdf_txt_file//edde146c2435590bc33de0f144c04a7d7bf4d5b5.txt'} | edde146c2435590bc33de0f144c04a7d7bf4d5b5 |\n",
      "| eec23035376ae0e339a7643402fdbdccd92ad703.txt |                                  湖南长远锂科股份有限公司                                  |    -    |     -      |                               {'source': 'eec23035376ae0e339a7643402fdbdccd92ad703'}                              |                  index                   |\n",
      "| eec23035376ae0e339a7643402fdbdccd92ad703.txt |                                ['湖南长远锂科股份有限公司']                                |   950   |    700     | {'source': '../../bs_challenge_financial_14b_dataset/pdf_txt_file//eec23035376ae0e339a7643402fdbdccd92ad703.txt'} | eec23035376ae0e339a7643402fdbdccd92ad703 |\n",
      "| f0e86e33d654c797626767e660bb234ff469bee8.txt |                                大连派思燃气系统股份有限公司                                |    -    |     -      |                               {'source': 'f0e86e33d654c797626767e660bb234ff469bee8'}                              |                  index                   |\n",
      "| f0e86e33d654c797626767e660bb234ff469bee8.txt |                              ['大连派思燃气系统股份有限公司']                              |   717   |    700     | {'source': '../../bs_challenge_financial_14b_dataset/pdf_txt_file//f0e86e33d654c797626767e660bb234ff469bee8.txt'} | f0e86e33d654c797626767e660bb234ff469bee8 |\n",
      "| f30bfe8be4ad535d348d74f80eaef8d93b3c8ac5.txt |                                上海维科精密模塑股份有限公司                                |    -    |     -      |                               {'source': 'f30bfe8be4ad535d348d74f80eaef8d93b3c8ac5'}                              |                  index                   |\n",
      "| f30bfe8be4ad535d348d74f80eaef8d93b3c8ac5.txt |                              ['上海维科精密模塑股份有限公司']                              |   1013  |    700     | {'source': '../../bs_challenge_financial_14b_dataset/pdf_txt_file//f30bfe8be4ad535d348d74f80eaef8d93b3c8ac5.txt'} | f30bfe8be4ad535d348d74f80eaef8d93b3c8ac5 |\n",
      "| f587290218d881e18e88fc1431b022b2c5aca81a.txt |                                 苏州东微半导体股份有限公司                                 |    -    |     -      |                               {'source': 'f587290218d881e18e88fc1431b022b2c5aca81a'}                              |                  index                   |\n",
      "| f587290218d881e18e88fc1431b022b2c5aca81a.txt |                               ['苏州东微半导体股份有限公司']                               |   765   |    700     | {'source': '../../bs_challenge_financial_14b_dataset/pdf_txt_file//f587290218d881e18e88fc1431b022b2c5aca81a.txt'} | f587290218d881e18e88fc1431b022b2c5aca81a |\n",
      "| f7a306fea164e32f1df88b7beb8ebba8f65dd7a1.txt |                                  苏州海陆重工股份有限公司                                  |    -    |     -      |                               {'source': 'f7a306fea164e32f1df88b7beb8ebba8f65dd7a1'}                              |                  index                   |\n",
      "| f7a306fea164e32f1df88b7beb8ebba8f65dd7a1.txt |                                    国信证券股份有限公司                                    |    -    |     -      |                               {'source': 'f7a306fea164e32f1df88b7beb8ebba8f65dd7a1'}                              |                  index                   |\n",
      "| f7a306fea164e32f1df88b7beb8ebba8f65dd7a1.txt |                    ['苏州海陆重工股份有限公司', '国信证券股份有限公司']                    |   517   |    700     | {'source': '../../bs_challenge_financial_14b_dataset/pdf_txt_file//f7a306fea164e32f1df88b7beb8ebba8f65dd7a1.txt'} | f7a306fea164e32f1df88b7beb8ebba8f65dd7a1 |\n",
      "| f8fb28932337c061edb6f0a1b27f5a1f0ee0b957.txt |                                  金石资源集团股份有限公司                                  |    -    |     -      |                               {'source': 'f8fb28932337c061edb6f0a1b27f5a1f0ee0b957'}                              |                  index                   |\n",
      "| f8fb28932337c061edb6f0a1b27f5a1f0ee0b957.txt |                                ['金石资源集团股份有限公司']                                |   623   |    700     | {'source': '../../bs_challenge_financial_14b_dataset/pdf_txt_file//f8fb28932337c061edb6f0a1b27f5a1f0ee0b957.txt'} | f8fb28932337c061edb6f0a1b27f5a1f0ee0b957 |\n",
      "| f9e84ce0edd5279773b3ca1f36a9e39d6ceaf220.txt |                                  杭州中恒电气股份有限公司                                  |    -    |     -      |                               {'source': 'f9e84ce0edd5279773b3ca1f36a9e39d6ceaf220'}                              |                  index                   |\n",
      "| f9e84ce0edd5279773b3ca1f36a9e39d6ceaf220.txt |                                  华泰联合证券有限责任公司                                  |    -    |     -      |                               {'source': 'f9e84ce0edd5279773b3ca1f36a9e39d6ceaf220'}                              |                  index                   |\n",
      "| f9e84ce0edd5279773b3ca1f36a9e39d6ceaf220.txt |                  ['杭州中恒电气股份有限公司', '华泰联合证券有限责任公司']                  |   679   |    700     | {'source': '../../bs_challenge_financial_14b_dataset/pdf_txt_file//f9e84ce0edd5279773b3ca1f36a9e39d6ceaf220.txt'} | f9e84ce0edd5279773b3ca1f36a9e39d6ceaf220 |\n",
      "| fa3eaf37dadb2a7495e3f774434f8347ce5c51c8.txt |                                    北京银行股份有限公司                                    |    -    |     -      |                               {'source': 'fa3eaf37dadb2a7495e3f774434f8347ce5c51c8'}                              |                  index                   |\n",
      "| fa3eaf37dadb2a7495e3f774434f8347ce5c51c8.txt |                                  中信建投证券有限责任公司                                  |    -    |     -      |                               {'source': 'fa3eaf37dadb2a7495e3f774434f8347ce5c51c8'}                              |                  index                   |\n",
      "| fa3eaf37dadb2a7495e3f774434f8347ce5c51c8.txt |                                    中信证券股份有限公司                                    |    -    |     -      |                               {'source': 'fa3eaf37dadb2a7495e3f774434f8347ce5c51c8'}                              |                  index                   |\n",
      "| fa3eaf37dadb2a7495e3f774434f8347ce5c51c8.txt |        ['北京银行股份有限公司', '中信建投证券有限责任公司', '中信证券股份有限公司']        |   1545  |    700     | {'source': '../../bs_challenge_financial_14b_dataset/pdf_txt_file//fa3eaf37dadb2a7495e3f774434f8347ce5c51c8.txt'} | fa3eaf37dadb2a7495e3f774434f8347ce5c51c8 |\n",
      "| fb468fe2d4d474b9fb94952d881f2218a871779c.txt |                               江苏爱康太阳能科技股份有限公司                               |    -    |     -      |                               {'source': 'fb468fe2d4d474b9fb94952d881f2218a871779c'}                              |                  index                   |\n",
      "| fb468fe2d4d474b9fb94952d881f2218a871779c.txt |                             ['江苏爱康太阳能科技股份有限公司']                             |   577   |    700     | {'source': '../../bs_challenge_financial_14b_dataset/pdf_txt_file//fb468fe2d4d474b9fb94952d881f2218a871779c.txt'} | fb468fe2d4d474b9fb94952d881f2218a871779c |\n",
      "+----------------------------------------------+--------------------------------------------------------------------------------------------+---------+------------+-------------------------------------------------------------------------------------------------------------------+------------------------------------------+\n"
     ]
    }
   ],
   "source": [
    "%load_ext autoreload\n",
    "%autoreload 2\n",
    "from TxtProcess import load_dir_txt_idx_process\n",
    "cfg = QWEN_CONFIG(api_key='apikey',\n",
    "                  embedding_name='text_embedding_async_v1')\n",
    "kb=load_dir_txt_idx_process(txt_dir='../../bs_challenge_financial_14b_dataset/pdf_txt_file/',\n",
    "                     pdf_dir='../../bs_challenge_financial_14b_dataset/pdf/',\n",
    "                     cfg=cfg\n",
    "                     )\n"
   ]
  },
  {
   "cell_type": "code",
   "execution_count": 60,
   "metadata": {},
   "outputs": [
    {
     "data": {
      "text/plain": [
       "32"
      ]
     },
     "execution_count": 60,
     "metadata": {},
     "output_type": "execute_result"
    }
   ],
   "source": [
    "from TxtProcess import faiss_kb_ds\n",
    "kbidx=faiss_kb_ds(vs_path=cfg.vec_store_path,\n",
    "                  kb_path='./',\n",
    "                  embs=g_container.EMBEDDING)\n",
    "kbidx.do_load(index='index')\n",
    "kbidx.do_view()"
   ]
  },
  {
   "cell_type": "code",
   "execution_count": 25,
   "metadata": {},
   "outputs": [
    {
     "name": "stdout",
     "output_type": "stream",
     "text": [
      "The autoreload extension is already loaded. To reload it, use:\n",
      "  %reload_ext autoreload\n"
     ]
    },
    {
     "data": {
      "text/plain": [
       "{'inputs': '森赫电梯股份有限公司与哪些高等教育机构开展合作？',\n",
       " 'outputs': '森赫电梯股份有限公司与硕士及以上、本科、大专、中专及以下等高等教育机构开展合作。',\n",
       " 'relent_docs': ['88acba2e98dedd85fdd38192a639dbcc56faf3ed']}"
      ]
     },
     "execution_count": 25,
     "metadata": {},
     "output_type": "execute_result"
    }
   ],
   "source": [
    "%load_ext autoreload\n",
    "%autoreload 2\n",
    "from Tools.konwlegeqa import run_knowledge_qa\n",
    "\n",
    "run_knowledge_qa(query='森赫电梯股份有限公司与哪些高等教育机构开展合作？')"
   ]
  },
  {
   "cell_type": "code",
   "execution_count": 4,
   "metadata": {},
   "outputs": [
    {
     "data": {
      "text/plain": [
       "{'db_id': '博金杯比赛数据',\n",
       " 'db_path': '../../bs_challenge_financial_14b_dataset/dataset/博金杯比赛数据.db',\n",
       " 'db_table_names': [{'table_id': 0, 'table_name': '基金基本信息'},\n",
       "  {'table_id': 1, 'table_name': '基金股票持仓明细'},\n",
       "  {'table_id': 2, 'table_name': '基金债券持仓明细'},\n",
       "  {'table_id': 3, 'table_name': '基金可转债持仓明细'},\n",
       "  {'table_id': 4, 'table_name': '基金日行情表'},\n",
       "  {'table_id': 5, 'table_name': 'A股票日行情表'},\n",
       "  {'table_id': 6, 'table_name': '港股票日行情表'},\n",
       "  {'table_id': 7, 'table_name': 'A股公司行业划分表'},\n",
       "  {'table_id': 8, 'table_name': '基金规模变动表'},\n",
       "  {'table_id': 9, 'table_name': '基金份额持有人结构'}],\n",
       " 'db_column_names': [{'table_id': 0,\n",
       "   'column_name': '基金代码',\n",
       "   'column_type': 'TEXT'},\n",
       "  {'table_id': 0, 'column_name': '基金全称', 'column_type': 'TEXT'},\n",
       "  {'table_id': 0, 'column_name': '基金简称', 'column_type': 'TEXT'},\n",
       "  {'table_id': 0, 'column_name': '管理人', 'column_type': 'TEXT'},\n",
       "  {'table_id': 0, 'column_name': '托管人', 'column_type': 'TEXT'},\n",
       "  {'table_id': 0, 'column_name': '基金类型', 'column_type': 'TEXT'},\n",
       "  {'table_id': 0, 'column_name': '成立日期', 'column_type': 'TEXT'},\n",
       "  {'table_id': 0, 'column_name': '到期日期', 'column_type': 'TEXT'},\n",
       "  {'table_id': 0, 'column_name': '管理费率', 'column_type': 'TEXT'},\n",
       "  {'table_id': 0, 'column_name': '托管费率', 'column_type': 'TEXT'},\n",
       "  {'table_id': 1, 'column_name': '基金代码', 'column_type': 'TEXT'},\n",
       "  {'table_id': 1, 'column_name': '基金简称', 'column_type': 'TEXT'},\n",
       "  {'table_id': 1, 'column_name': '持仓日期', 'column_type': 'TEXT'},\n",
       "  {'table_id': 1, 'column_name': '股票代码', 'column_type': 'TEXT'},\n",
       "  {'table_id': 1, 'column_name': '股票名称', 'column_type': 'TEXT'},\n",
       "  {'table_id': 1, 'column_name': '数量', 'column_type': 'REAL'},\n",
       "  {'table_id': 1, 'column_name': '市值', 'column_type': 'REAL'},\n",
       "  {'table_id': 1, 'column_name': '市值占基金资产净值比', 'column_type': 'REAL'},\n",
       "  {'table_id': 1, 'column_name': '第N大重仓股', 'column_type': 'INTEGER'},\n",
       "  {'table_id': 1, 'column_name': '所在证券市场', 'column_type': 'TEXT'},\n",
       "  {'table_id': 1, 'column_name': '所属国家(地区)', 'column_type': 'TEXT'},\n",
       "  {'table_id': 1, 'column_name': '报告类型', 'column_type': 'TEXT'},\n",
       "  {'table_id': 2, 'column_name': '基金代码', 'column_type': 'TEXT'},\n",
       "  {'table_id': 2, 'column_name': '基金简称', 'column_type': 'TEXT'},\n",
       "  {'table_id': 2, 'column_name': '持仓日期', 'column_type': 'TEXT'},\n",
       "  {'table_id': 2, 'column_name': '债券类型', 'column_type': 'TEXT'},\n",
       "  {'table_id': 2, 'column_name': '债券名称', 'column_type': 'TEXT'},\n",
       "  {'table_id': 2, 'column_name': '持债数量', 'column_type': 'REAL'},\n",
       "  {'table_id': 2, 'column_name': '持债市值', 'column_type': 'REAL'},\n",
       "  {'table_id': 2, 'column_name': '持债市值占基金资产净值比', 'column_type': 'REAL'},\n",
       "  {'table_id': 2, 'column_name': '第N大重仓股', 'column_type': 'INTEGER'},\n",
       "  {'table_id': 2, 'column_name': '所在证券市场', 'column_type': 'TEXT'},\n",
       "  {'table_id': 2, 'column_name': '所属国家(地区)', 'column_type': 'TEXT'},\n",
       "  {'table_id': 2, 'column_name': '报告类型', 'column_type': 'TEXT'},\n",
       "  {'table_id': 3, 'column_name': '基金代码', 'column_type': 'TEXT'},\n",
       "  {'table_id': 3, 'column_name': '基金简称', 'column_type': 'TEXT'},\n",
       "  {'table_id': 3, 'column_name': '持仓日期', 'column_type': 'TEXT'},\n",
       "  {'table_id': 3, 'column_name': '对应股票代码', 'column_type': 'TEXT'},\n",
       "  {'table_id': 3, 'column_name': '债券名称', 'column_type': 'TEXT'},\n",
       "  {'table_id': 3, 'column_name': '数量', 'column_type': 'REAL'},\n",
       "  {'table_id': 3, 'column_name': '市值', 'column_type': 'REAL'},\n",
       "  {'table_id': 3, 'column_name': '市值占基金资产净值比', 'column_type': 'REAL'},\n",
       "  {'table_id': 3, 'column_name': '第N大重仓股', 'column_type': 'INTEGER'},\n",
       "  {'table_id': 3, 'column_name': '所在证券市场', 'column_type': 'TEXT'},\n",
       "  {'table_id': 3, 'column_name': '所属国家(地区)', 'column_type': 'TEXT'},\n",
       "  {'table_id': 3, 'column_name': '报告类型', 'column_type': 'TEXT'},\n",
       "  {'table_id': 4, 'column_name': '基金代码', 'column_type': 'TEXT'},\n",
       "  {'table_id': 4, 'column_name': '交易日期', 'column_type': 'TEXT'},\n",
       "  {'table_id': 4, 'column_name': '单位净值', 'column_type': 'REAL'},\n",
       "  {'table_id': 4, 'column_name': '复权单位净值', 'column_type': 'REAL'},\n",
       "  {'table_id': 4, 'column_name': '累计单位净值', 'column_type': 'REAL'},\n",
       "  {'table_id': 4, 'column_name': '资产净值', 'column_type': 'REAL'},\n",
       "  {'table_id': 5, 'column_name': '股票代码', 'column_type': 'TEXT'},\n",
       "  {'table_id': 5, 'column_name': '交易日', 'column_type': 'TEXT'},\n",
       "  {'table_id': 5, 'column_name': '昨收盘(元)', 'column_type': 'REAL'},\n",
       "  {'table_id': 5, 'column_name': '今开盘(元)', 'column_type': 'REAL'},\n",
       "  {'table_id': 5, 'column_name': '最高价(元)', 'column_type': 'REAL'},\n",
       "  {'table_id': 5, 'column_name': '最低价(元)', 'column_type': 'REAL'},\n",
       "  {'table_id': 5, 'column_name': '收盘价(元)', 'column_type': 'REAL'},\n",
       "  {'table_id': 5, 'column_name': '成交量(股)', 'column_type': 'REAL'},\n",
       "  {'table_id': 5, 'column_name': '成交金额(元)', 'column_type': 'REAL'},\n",
       "  {'table_id': 6, 'column_name': '股票代码', 'column_type': 'TEXT'},\n",
       "  {'table_id': 6, 'column_name': '交易日', 'column_type': 'TEXT'},\n",
       "  {'table_id': 6, 'column_name': '昨收盘(元)', 'column_type': 'REAL'},\n",
       "  {'table_id': 6, 'column_name': '今开盘(元)', 'column_type': 'REAL'},\n",
       "  {'table_id': 6, 'column_name': '最高价(元)', 'column_type': 'REAL'},\n",
       "  {'table_id': 6, 'column_name': '最低价(元)', 'column_type': 'REAL'},\n",
       "  {'table_id': 6, 'column_name': '收盘价(元)', 'column_type': 'REAL'},\n",
       "  {'table_id': 6, 'column_name': '成交量(股)', 'column_type': 'REAL'},\n",
       "  {'table_id': 6, 'column_name': '成交金额(元)', 'column_type': 'REAL'},\n",
       "  {'table_id': 7, 'column_name': '股票代码', 'column_type': 'TEXT'},\n",
       "  {'table_id': 7, 'column_name': '交易日期', 'column_type': 'TEXT'},\n",
       "  {'table_id': 7, 'column_name': '行业划分标准', 'column_type': 'TEXT'},\n",
       "  {'table_id': 7, 'column_name': '一级行业名称', 'column_type': 'TEXT'},\n",
       "  {'table_id': 7, 'column_name': '二级行业名称', 'column_type': 'TEXT'},\n",
       "  {'table_id': 8, 'column_name': '基金代码', 'column_type': 'TEXT'},\n",
       "  {'table_id': 8, 'column_name': '基金简称', 'column_type': 'TEXT'},\n",
       "  {'table_id': 8, 'column_name': '公告日期', 'column_type': 'TIMESTAMP'},\n",
       "  {'table_id': 8, 'column_name': '截止日期', 'column_type': 'TIMESTAMP'},\n",
       "  {'table_id': 8, 'column_name': '报告期期初基金总份额', 'column_type': 'REAL'},\n",
       "  {'table_id': 8, 'column_name': '报告期基金总申购份额', 'column_type': 'REAL'},\n",
       "  {'table_id': 8, 'column_name': '报告期基金总赎回份额', 'column_type': 'REAL'},\n",
       "  {'table_id': 8, 'column_name': '报告期期末基金总份额', 'column_type': 'REAL'},\n",
       "  {'table_id': 8, 'column_name': '定期报告所属年度', 'column_type': 'INTEGER'},\n",
       "  {'table_id': 8, 'column_name': '报告类型', 'column_type': 'TEXT'},\n",
       "  {'table_id': 9, 'column_name': '基金代码', 'column_type': 'TEXT'},\n",
       "  {'table_id': 9, 'column_name': '基金简称', 'column_type': 'TEXT'},\n",
       "  {'table_id': 9, 'column_name': '公告日期', 'column_type': 'TIMESTAMP'},\n",
       "  {'table_id': 9, 'column_name': '截止日期', 'column_type': 'TIMESTAMP'},\n",
       "  {'table_id': 9, 'column_name': '机构投资者持有的基金份额', 'column_type': 'REAL'},\n",
       "  {'table_id': 9, 'column_name': '机构投资者持有的基金份额占总份额比例', 'column_type': 'REAL'},\n",
       "  {'table_id': 9, 'column_name': '个人投资者持有的基金份额', 'column_type': 'REAL'},\n",
       "  {'table_id': 9, 'column_name': '个人投资者持有的基金份额占总份额比例', 'column_type': 'REAL'},\n",
       "  {'table_id': 9, 'column_name': '定期报告所属年度', 'column_type': 'INTEGER'},\n",
       "  {'table_id': 9, 'column_name': '报告类型', 'column_type': 'TEXT'}],\n",
       " 'db_primary_keys': []}"
      ]
     },
     "execution_count": 4,
     "metadata": {},
     "output_type": "execute_result"
    }
   ],
   "source": [
    "import sqlite3 \n",
    "conn=sqlite3.connect('../../bs_challenge_financial_14b_dataset/dataset/博金杯比赛数据.db')\n",
    "cursor=conn.cursor()\n",
    "cursor.execute(\"SELECT name FROM sqlite_master WHERE type='table';\")\n",
    "# 获取查询结果\n",
    "tables = cursor.fetchall()\n",
    "# 遍历所有表\n",
    "res={\n",
    "    'db_id': '博金杯比赛数据',\n",
    "    'db_path': '../../bs_challenge_financial_14b_dataset/dataset/博金杯比赛数据.db',\n",
    "    'db_table_names':[],\n",
    "    'db_column_names':[],\n",
    "    'db_primary_keys':[]\n",
    "}\n",
    "for i,table in enumerate(tables):\n",
    "    table_name = table[0]\n",
    "    res['db_table_names'].append({\n",
    "        'table_id':i,\n",
    "        'table_name':table_name})\n",
    "    # 查询表结构\n",
    "    cursor.execute(f\"PRAGMA table_info({table_name});\")\n",
    "    columns = cursor.fetchall()\n",
    "    for column in columns:\n",
    "        res['db_column_names'].append({\n",
    "                'table_id':i,\n",
    "                'column_name':column[1],\n",
    "                'column_type':column[2]\n",
    "            })\n",
    "        if column[5] == 1:\n",
    "            res['db_primary_keys'].append({\n",
    "                'table_id':i,\n",
    "                'column_name':column[1]\n",
    "            })\n",
    "import json\n",
    "#res = json.dumps(res,ensure_ascii=False)\n",
    "#g_container.CURSOR=cursor,\n",
    "g_container.DATABASE=res\n",
    "\n",
    "res"
   ]
  },
  {
   "cell_type": "code",
   "execution_count": 22,
   "metadata": {},
   "outputs": [
    {
     "name": "stdout",
     "output_type": "stream",
     "text": [
      "('300750',)\n",
      "('600031',)\n",
      "('002466',)\n"
     ]
    }
   ],
   "source": [
    "restt=cursor.execute('SELECT 股票代码 FROM \"A股票日行情表\" WHERE \"交易日\" = \\'20211207\\' ORDER BY \"成交金额(元)\" DESC LIMIT 3')\n",
    "for rrr in restt:\n",
    "    print(rrr)"
   ]
  },
  {
   "cell_type": "code",
   "execution_count": 24,
   "metadata": {},
   "outputs": [
    {
     "name": "stdout",
     "output_type": "stream",
     "text": [
      "\u001b[32;1m\u001b[1;3m[chain/start]\u001b[0m \u001b[1m[1:chain:LLMChain] Entering Chain run with input:\n",
      "\u001b[0m{\n",
      "  \"question\": \"我想知道股票600887在申万行业分类下的二级行业是什么？用最新的数据。\",\n",
      "  \"database_info\": \"{\\\"db_id\\\": \\\"博金杯比赛数据\\\", \\\"db_path\\\": \\\"../../bs_challenge_financial_14b_dataset/dataset/博金杯比赛数据.db\\\", \\\"db_table_names\\\": [{\\\"table_id\\\": 0, \\\"table_name\\\": \\\"基金基本信息\\\"}, {\\\"table_id\\\": 1, \\\"table_name\\\": \\\"基金股票持仓明细\\\"}, {\\\"table_id\\\": 2, \\\"table_name\\\": \\\"基金债券持仓明细\\\"}, {\\\"table_id\\\": 3, \\\"table_name\\\": \\\"基金可转债持仓明细\\\"}, {\\\"table_id\\\": 4, \\\"table_name\\\": \\\"基金日行情表\\\"}, {\\\"table_id\\\": 5, \\\"table_name\\\": \\\"A股票日行情表\\\"}, {\\\"table_id\\\": 6, \\\"table_name\\\": \\\"港股票日行情表\\\"}, {\\\"table_id\\\": 7, \\\"table_name\\\": \\\"A股公司行业划分表\\\"}, {\\\"table_id\\\": 8, \\\"table_name\\\": \\\"基金规模变动表\\\"}, {\\\"table_id\\\": 9, \\\"table_name\\\": \\\"基金份额持有人结构\\\"}], \\\"db_column_names\\\": [{\\\"table_id\\\": 0, \\\"column_name\\\": \\\"基金代码\\\", \\\"column_type\\\": \\\"TEXT\\\"}, {\\\"table_id\\\": 0, \\\"column_name\\\": \\\"基金全称\\\", \\\"column_type\\\": \\\"TEXT\\\"}, {\\\"table_id\\\": 0, \\\"column_name\\\": \\\"基金简称\\\", \\\"column_type\\\": \\\"TEXT\\\"}, {\\\"table_id\\\": 0, \\\"column_name\\\": \\\"管理人\\\", \\\"column_type\\\": \\\"TEXT\\\"}, {\\\"table_id\\\": 0, \\\"column_name\\\": \\\"托管人\\\", \\\"column_type\\\": \\\"TEXT\\\"}, {\\\"table_id\\\": 0, \\\"column_name\\\": \\\"基金类型\\\", \\\"column_type\\\": \\\"TEXT\\\"}, {\\\"table_id\\\": 0, \\\"column_name\\\": \\\"成立日期\\\", \\\"column_type\\\": \\\"TEXT\\\"}, {\\\"table_id\\\": 0, \\\"column_name\\\": \\\"到期日期\\\", \\\"column_type\\\": \\\"TEXT\\\"}, {\\\"table_id\\\": 0, \\\"column_name\\\": \\\"管理费率\\\", \\\"column_type\\\": \\\"TEXT\\\"}, {\\\"table_id\\\": 0, \\\"column_name\\\": \\\"托管费率\\\", \\\"column_type\\\": \\\"TEXT\\\"}, {\\\"table_id\\\": 1, \\\"column_name\\\": \\\"基金代码\\\", \\\"column_type\\\": \\\"TEXT\\\"}, {\\\"table_id\\\": 1, \\\"column_name\\\": \\\"基金简称\\\", \\\"column_type\\\": \\\"TEXT\\\"}, {\\\"table_id\\\": 1, \\\"column_name\\\": \\\"持仓日期\\\", \\\"column_type\\\": \\\"TEXT\\\"}, {\\\"table_id\\\": 1, \\\"column_name\\\": \\\"股票代码\\\", \\\"column_type\\\": \\\"TEXT\\\"}, {\\\"table_id\\\": 1, \\\"column_name\\\": \\\"股票名称\\\", \\\"column_type\\\": \\\"TEXT\\\"}, {\\\"table_id\\\": 1, \\\"column_name\\\": \\\"数量\\\", \\\"column_type\\\": \\\"REAL\\\"}, {\\\"table_id\\\": 1, \\\"column_name\\\": \\\"市值\\\", \\\"column_type\\\": \\\"REAL\\\"}, {\\\"table_id\\\": 1, \\\"column_name\\\": \\\"市值占基金资产净值比\\\", \\\"column_type\\\": \\\"REAL\\\"}, {\\\"table_id\\\": 1, \\\"column_name\\\": \\\"第N大重仓股\\\", \\\"column_type\\\": \\\"INTEGER\\\"}, {\\\"table_id\\\": 1, \\\"column_name\\\": \\\"所在证券市场\\\", \\\"column_type\\\": \\\"TEXT\\\"}, {\\\"table_id\\\": 1, \\\"column_name\\\": \\\"所属国家(地区)\\\", \\\"column_type\\\": \\\"TEXT\\\"}, {\\\"table_id\\\": 1, \\\"column_name\\\": \\\"报告类型\\\", \\\"column_type\\\": \\\"TEXT\\\"}, {\\\"table_id\\\": 2, \\\"column_name\\\": \\\"基金代码\\\", \\\"column_type\\\": \\\"TEXT\\\"}, {\\\"table_id\\\": 2, \\\"column_name\\\": \\\"基金简称\\\", \\\"column_type\\\": \\\"TEXT\\\"}, {\\\"table_id\\\": 2, \\\"column_name\\\": \\\"持仓日期\\\", \\\"column_type\\\": \\\"TEXT\\\"}, {\\\"table_id\\\": 2, \\\"column_name\\\": \\\"债券类型\\\", \\\"column_type\\\": \\\"TEXT\\\"}, {\\\"table_id\\\": 2, \\\"column_name\\\": \\\"债券名称\\\", \\\"column_type\\\": \\\"TEXT\\\"}, {\\\"table_id\\\": 2, \\\"column_name\\\": \\\"持债数量\\\", \\\"column_type\\\": \\\"REAL\\\"}, {\\\"table_id\\\": 2, \\\"column_name\\\": \\\"持债市值\\\", \\\"column_type\\\": \\\"REAL\\\"}, {\\\"table_id\\\": 2, \\\"column_name\\\": \\\"持债市值占基金资产净值比\\\", \\\"column_type\\\": \\\"REAL\\\"}, {\\\"table_id\\\": 2, \\\"column_name\\\": \\\"第N大重仓股\\\", \\\"column_type\\\": \\\"INTEGER\\\"}, {\\\"table_id\\\": 2, \\\"column_name\\\": \\\"所在证券市场\\\", \\\"column_type\\\": \\\"TEXT\\\"}, {\\\"table_id\\\": 2, \\\"column_name\\\": \\\"所属国家(地区)\\\", \\\"column_type\\\": \\\"TEXT\\\"}, {\\\"table_id\\\": 2, \\\"column_name\\\": \\\"报告类型\\\", \\\"column_type\\\": \\\"TEXT\\\"}, {\\\"table_id\\\": 3, \\\"column_name\\\": \\\"基金代码\\\", \\\"column_type\\\": \\\"TEXT\\\"}, {\\\"table_id\\\": 3, \\\"column_name\\\": \\\"基金简称\\\", \\\"column_type\\\": \\\"TEXT\\\"}, {\\\"table_id\\\": 3, \\\"column_name\\\": \\\"持仓日期\\\", \\\"column_type\\\": \\\"TEXT\\\"}, {\\\"table_id\\\": 3, \\\"column_name\\\": \\\"对应股票代码\\\", \\\"column_type\\\": \\\"TEXT\\\"}, {\\\"table_id\\\": 3, \\\"column_name\\\": \\\"债券名称\\\", \\\"column_type\\\": \\\"TEXT\\\"}, {\\\"table_id\\\": 3, \\\"column_name\\\": \\\"数量\\\", \\\"column_type\\\": \\\"REAL\\\"}, {\\\"table_id\\\": 3, \\\"column_name\\\": \\\"市值\\\", \\\"column_type\\\": \\\"REAL\\\"}, {\\\"table_id\\\": 3, \\\"column_name\\\": \\\"市值占基金资产净值比\\\", \\\"column_type\\\": \\\"REAL\\\"}, {\\\"table_id\\\": 3, \\\"column_name\\\": \\\"第N大重仓股\\\", \\\"column_type\\\": \\\"INTEGER\\\"}, {\\\"table_id\\\": 3, \\\"column_name\\\": \\\"所在证券市场\\\", \\\"column_type\\\": \\\"TEXT\\\"}, {\\\"table_id\\\": 3, \\\"column_name\\\": \\\"所属国家(地区)\\\", \\\"column_type\\\": \\\"TEXT\\\"}, {\\\"table_id\\\": 3, \\\"column_name\\\": \\\"报告类型\\\", \\\"column_type\\\": \\\"TEXT\\\"}, {\\\"table_id\\\": 4, \\\"column_name\\\": \\\"基金代码\\\", \\\"column_type\\\": \\\"TEXT\\\"}, {\\\"table_id\\\": 4, \\\"column_name\\\": \\\"交易日期\\\", \\\"column_type\\\": \\\"TEXT\\\"}, {\\\"table_id\\\": 4, \\\"column_name\\\": \\\"单位净值\\\", \\\"column_type\\\": \\\"REAL\\\"}, {\\\"table_id\\\": 4, \\\"column_name\\\": \\\"复权单位净值\\\", \\\"column_type\\\": \\\"REAL\\\"}, {\\\"table_id\\\": 4, \\\"column_name\\\": \\\"累计单位净值\\\", \\\"column_type\\\": \\\"REAL\\\"}, {\\\"table_id\\\": 4, \\\"column_name\\\": \\\"资产净值\\\", \\\"column_type\\\": \\\"REAL\\\"}, {\\\"table_id\\\": 5, \\\"column_name\\\": \\\"股票代码\\\", \\\"column_type\\\": \\\"TEXT\\\"}, {\\\"table_id\\\": 5, \\\"column_name\\\": \\\"交易日\\\", \\\"column_type\\\": \\\"TEXT\\\"}, {\\\"table_id\\\": 5, \\\"column_name\\\": \\\"昨收盘(元)\\\", \\\"column_type\\\": \\\"REAL\\\"}, {\\\"table_id\\\": 5, \\\"column_name\\\": \\\"今开盘(元)\\\", \\\"column_type\\\": \\\"REAL\\\"}, {\\\"table_id\\\": 5, \\\"column_name\\\": \\\"最高价(元)\\\", \\\"column_type\\\": \\\"REAL\\\"}, {\\\"table_id\\\": 5, \\\"column_name\\\": \\\"最低价(元)\\\", \\\"column_type\\\": \\\"REAL\\\"}, {\\\"table_id\\\": 5, \\\"column_name\\\": \\\"收盘价(元)\\\", \\\"column_type\\\": \\\"REAL\\\"}, {\\\"table_id\\\": 5, \\\"column_name\\\": \\\"成交量(股)\\\", \\\"column_type\\\": \\\"REAL\\\"}, {\\\"table_id\\\": 5, \\\"column_name\\\": \\\"成交金额(元)\\\", \\\"column_type\\\": \\\"REAL\\\"}, {\\\"table_id\\\": 6, \\\"column_name\\\": \\\"股票代码\\\", \\\"column_type\\\": \\\"TEXT\\\"}, {\\\"table_id\\\": 6, \\\"column_name\\\": \\\"交易日\\\", \\\"column_type\\\": \\\"TEXT\\\"}, {\\\"table_id\\\": 6, \\\"column_name\\\": \\\"昨收盘(元)\\\", \\\"column_type\\\": \\\"REAL\\\"}, {\\\"table_id\\\": 6, \\\"column_name\\\": \\\"今开盘(元)\\\", \\\"column_type\\\": \\\"REAL\\\"}, {\\\"table_id\\\": 6, \\\"column_name\\\": \\\"最高价(元)\\\", \\\"column_type\\\": \\\"REAL\\\"}, {\\\"table_id\\\": 6, \\\"column_name\\\": \\\"最低价(元)\\\", \\\"column_type\\\": \\\"REAL\\\"}, {\\\"table_id\\\": 6, \\\"column_name\\\": \\\"收盘价(元)\\\", \\\"column_type\\\": \\\"REAL\\\"}, {\\\"table_id\\\": 6, \\\"column_name\\\": \\\"成交量(股)\\\", \\\"column_type\\\": \\\"REAL\\\"}, {\\\"table_id\\\": 6, \\\"column_name\\\": \\\"成交金额(元)\\\", \\\"column_type\\\": \\\"REAL\\\"}, {\\\"table_id\\\": 7, \\\"column_name\\\": \\\"股票代码\\\", \\\"column_type\\\": \\\"TEXT\\\"}, {\\\"table_id\\\": 7, \\\"column_name\\\": \\\"交易日期\\\", \\\"column_type\\\": \\\"TEXT\\\"}, {\\\"table_id\\\": 7, \\\"column_name\\\": \\\"行业划分标准\\\", \\\"column_type\\\": \\\"TEXT\\\"}, {\\\"table_id\\\": 7, \\\"column_name\\\": \\\"一级行业名称\\\", \\\"column_type\\\": \\\"TEXT\\\"}, {\\\"table_id\\\": 7, \\\"column_name\\\": \\\"二级行业名称\\\", \\\"column_type\\\": \\\"TEXT\\\"}, {\\\"table_id\\\": 8, \\\"column_name\\\": \\\"基金代码\\\", \\\"column_type\\\": \\\"TEXT\\\"}, {\\\"table_id\\\": 8, \\\"column_name\\\": \\\"基金简称\\\", \\\"column_type\\\": \\\"TEXT\\\"}, {\\\"table_id\\\": 8, \\\"column_name\\\": \\\"公告日期\\\", \\\"column_type\\\": \\\"TIMESTAMP\\\"}, {\\\"table_id\\\": 8, \\\"column_name\\\": \\\"截止日期\\\", \\\"column_type\\\": \\\"TIMESTAMP\\\"}, {\\\"table_id\\\": 8, \\\"column_name\\\": \\\"报告期期初基金总份额\\\", \\\"column_type\\\": \\\"REAL\\\"}, {\\\"table_id\\\": 8, \\\"column_name\\\": \\\"报告期基金总申购份额\\\", \\\"column_type\\\": \\\"REAL\\\"}, {\\\"table_id\\\": 8, \\\"column_name\\\": \\\"报告期基金总赎回份额\\\", \\\"column_type\\\": \\\"REAL\\\"}, {\\\"table_id\\\": 8, \\\"column_name\\\": \\\"报告期期末基金总份额\\\", \\\"column_type\\\": \\\"REAL\\\"}, {\\\"table_id\\\": 8, \\\"column_name\\\": \\\"定期报告所属年度\\\", \\\"column_type\\\": \\\"INTEGER\\\"}, {\\\"table_id\\\": 8, \\\"column_name\\\": \\\"报告类型\\\", \\\"column_type\\\": \\\"TEXT\\\"}, {\\\"table_id\\\": 9, \\\"column_name\\\": \\\"基金代码\\\", \\\"column_type\\\": \\\"TEXT\\\"}, {\\\"table_id\\\": 9, \\\"column_name\\\": \\\"基金简称\\\", \\\"column_type\\\": \\\"TEXT\\\"}, {\\\"table_id\\\": 9, \\\"column_name\\\": \\\"公告日期\\\", \\\"column_type\\\": \\\"TIMESTAMP\\\"}, {\\\"table_id\\\": 9, \\\"column_name\\\": \\\"截止日期\\\", \\\"column_type\\\": \\\"TIMESTAMP\\\"}, {\\\"table_id\\\": 9, \\\"column_name\\\": \\\"机构投资者持有的基金份额\\\", \\\"column_type\\\": \\\"REAL\\\"}, {\\\"table_id\\\": 9, \\\"column_name\\\": \\\"机构投资者持有的基金份额占总份额比例\\\", \\\"column_type\\\": \\\"REAL\\\"}, {\\\"table_id\\\": 9, \\\"column_name\\\": \\\"个人投资者持有的基金份额\\\", \\\"column_type\\\": \\\"REAL\\\"}, {\\\"table_id\\\": 9, \\\"column_name\\\": \\\"个人投资者持有的基金份额占总份额比例\\\", \\\"column_type\\\": \\\"REAL\\\"}, {\\\"table_id\\\": 9, \\\"column_name\\\": \\\"定期报告所属年度\\\", \\\"column_type\\\": \\\"INTEGER\\\"}, {\\\"table_id\\\": 9, \\\"column_name\\\": \\\"报告类型\\\", \\\"column_type\\\": \\\"TEXT\\\"}], \\\"db_primary_keys\\\": []}\"\n",
      "}\n",
      "\u001b[32;1m\u001b[1;3m[llm/start]\u001b[0m \u001b[1m[1:chain:LLMChain > 2:llm:QWENonlie] Entering LLM run with input:\n",
      "\u001b[0m{\n",
      "  \"prompts\": [\n",
      "    \"你是一个帮助用户查询sql数据库的助手。\\n下面是你能访问的数据库的信息:\\n\\n>>>>\\n{\\\"db_id\\\": \\\"博金杯比赛数据\\\", \\\"db_path\\\": \\\"../../bs_challenge_financial_14b_dataset/dataset/博金杯比赛数据.db\\\", \\\"db_table_names\\\": [{\\\"table_id\\\": 0, \\\"table_name\\\": \\\"基金基本信息\\\"}, {\\\"table_id\\\": 1, \\\"table_name\\\": \\\"基金股票持仓明细\\\"}, {\\\"table_id\\\": 2, \\\"table_name\\\": \\\"基金债券持仓明细\\\"}, {\\\"table_id\\\": 3, \\\"table_name\\\": \\\"基金可转债持仓明细\\\"}, {\\\"table_id\\\": 4, \\\"table_name\\\": \\\"基金日行情表\\\"}, {\\\"table_id\\\": 5, \\\"table_name\\\": \\\"A股票日行情表\\\"}, {\\\"table_id\\\": 6, \\\"table_name\\\": \\\"港股票日行情表\\\"}, {\\\"table_id\\\": 7, \\\"table_name\\\": \\\"A股公司行业划分表\\\"}, {\\\"table_id\\\": 8, \\\"table_name\\\": \\\"基金规模变动表\\\"}, {\\\"table_id\\\": 9, \\\"table_name\\\": \\\"基金份额持有人结构\\\"}], \\\"db_column_names\\\": [{\\\"table_id\\\": 0, \\\"column_name\\\": \\\"基金代码\\\", \\\"column_type\\\": \\\"TEXT\\\"}, {\\\"table_id\\\": 0, \\\"column_name\\\": \\\"基金全称\\\", \\\"column_type\\\": \\\"TEXT\\\"}, {\\\"table_id\\\": 0, \\\"column_name\\\": \\\"基金简称\\\", \\\"column_type\\\": \\\"TEXT\\\"}, {\\\"table_id\\\": 0, \\\"column_name\\\": \\\"管理人\\\", \\\"column_type\\\": \\\"TEXT\\\"}, {\\\"table_id\\\": 0, \\\"column_name\\\": \\\"托管人\\\", \\\"column_type\\\": \\\"TEXT\\\"}, {\\\"table_id\\\": 0, \\\"column_name\\\": \\\"基金类型\\\", \\\"column_type\\\": \\\"TEXT\\\"}, {\\\"table_id\\\": 0, \\\"column_name\\\": \\\"成立日期\\\", \\\"column_type\\\": \\\"TEXT\\\"}, {\\\"table_id\\\": 0, \\\"column_name\\\": \\\"到期日期\\\", \\\"column_type\\\": \\\"TEXT\\\"}, {\\\"table_id\\\": 0, \\\"column_name\\\": \\\"管理费率\\\", \\\"column_type\\\": \\\"TEXT\\\"}, {\\\"table_id\\\": 0, \\\"column_name\\\": \\\"托管费率\\\", \\\"column_type\\\": \\\"TEXT\\\"}, {\\\"table_id\\\": 1, \\\"column_name\\\": \\\"基金代码\\\", \\\"column_type\\\": \\\"TEXT\\\"}, {\\\"table_id\\\": 1, \\\"column_name\\\": \\\"基金简称\\\", \\\"column_type\\\": \\\"TEXT\\\"}, {\\\"table_id\\\": 1, \\\"column_name\\\": \\\"持仓日期\\\", \\\"column_type\\\": \\\"TEXT\\\"}, {\\\"table_id\\\": 1, \\\"column_name\\\": \\\"股票代码\\\", \\\"column_type\\\": \\\"TEXT\\\"}, {\\\"table_id\\\": 1, \\\"column_name\\\": \\\"股票名称\\\", \\\"column_type\\\": \\\"TEXT\\\"}, {\\\"table_id\\\": 1, \\\"column_name\\\": \\\"数量\\\", \\\"column_type\\\": \\\"REAL\\\"}, {\\\"table_id\\\": 1, \\\"column_name\\\": \\\"市值\\\", \\\"column_type\\\": \\\"REAL\\\"}, {\\\"table_id\\\": 1, \\\"column_name\\\": \\\"市值占基金资产净值比\\\", \\\"column_type\\\": \\\"REAL\\\"}, {\\\"table_id\\\": 1, \\\"column_name\\\": \\\"第N大重仓股\\\", \\\"column_type\\\": \\\"INTEGER\\\"}, {\\\"table_id\\\": 1, \\\"column_name\\\": \\\"所在证券市场\\\", \\\"column_type\\\": \\\"TEXT\\\"}, {\\\"table_id\\\": 1, \\\"column_name\\\": \\\"所属国家(地区)\\\", \\\"column_type\\\": \\\"TEXT\\\"}, {\\\"table_id\\\": 1, \\\"column_name\\\": \\\"报告类型\\\", \\\"column_type\\\": \\\"TEXT\\\"}, {\\\"table_id\\\": 2, \\\"column_name\\\": \\\"基金代码\\\", \\\"column_type\\\": \\\"TEXT\\\"}, {\\\"table_id\\\": 2, \\\"column_name\\\": \\\"基金简称\\\", \\\"column_type\\\": \\\"TEXT\\\"}, {\\\"table_id\\\": 2, \\\"column_name\\\": \\\"持仓日期\\\", \\\"column_type\\\": \\\"TEXT\\\"}, {\\\"table_id\\\": 2, \\\"column_name\\\": \\\"债券类型\\\", \\\"column_type\\\": \\\"TEXT\\\"}, {\\\"table_id\\\": 2, \\\"column_name\\\": \\\"债券名称\\\", \\\"column_type\\\": \\\"TEXT\\\"}, {\\\"table_id\\\": 2, \\\"column_name\\\": \\\"持债数量\\\", \\\"column_type\\\": \\\"REAL\\\"}, {\\\"table_id\\\": 2, \\\"column_name\\\": \\\"持债市值\\\", \\\"column_type\\\": \\\"REAL\\\"}, {\\\"table_id\\\": 2, \\\"column_name\\\": \\\"持债市值占基金资产净值比\\\", \\\"column_type\\\": \\\"REAL\\\"}, {\\\"table_id\\\": 2, \\\"column_name\\\": \\\"第N大重仓股\\\", \\\"column_type\\\": \\\"INTEGER\\\"}, {\\\"table_id\\\": 2, \\\"column_name\\\": \\\"所在证券市场\\\", \\\"column_type\\\": \\\"TEXT\\\"}, {\\\"table_id\\\": 2, \\\"column_name\\\": \\\"所属国家(地区)\\\", \\\"column_type\\\": \\\"TEXT\\\"}, {\\\"table_id\\\": 2, \\\"column_name\\\": \\\"报告类型\\\", \\\"column_type\\\": \\\"TEXT\\\"}, {\\\"table_id\\\": 3, \\\"column_name\\\": \\\"基金代码\\\", \\\"column_type\\\": \\\"TEXT\\\"}, {\\\"table_id\\\": 3, \\\"column_name\\\": \\\"基金简称\\\", \\\"column_type\\\": \\\"TEXT\\\"}, {\\\"table_id\\\": 3, \\\"column_name\\\": \\\"持仓日期\\\", \\\"column_type\\\": \\\"TEXT\\\"}, {\\\"table_id\\\": 3, \\\"column_name\\\": \\\"对应股票代码\\\", \\\"column_type\\\": \\\"TEXT\\\"}, {\\\"table_id\\\": 3, \\\"column_name\\\": \\\"债券名称\\\", \\\"column_type\\\": \\\"TEXT\\\"}, {\\\"table_id\\\": 3, \\\"column_name\\\": \\\"数量\\\", \\\"column_type\\\": \\\"REAL\\\"}, {\\\"table_id\\\": 3, \\\"column_name\\\": \\\"市值\\\", \\\"column_type\\\": \\\"REAL\\\"}, {\\\"table_id\\\": 3, \\\"column_name\\\": \\\"市值占基金资产净值比\\\", \\\"column_type\\\": \\\"REAL\\\"}, {\\\"table_id\\\": 3, \\\"column_name\\\": \\\"第N大重仓股\\\", \\\"column_type\\\": \\\"INTEGER\\\"}, {\\\"table_id\\\": 3, \\\"column_name\\\": \\\"所在证券市场\\\", \\\"column_type\\\": \\\"TEXT\\\"}, {\\\"table_id\\\": 3, \\\"column_name\\\": \\\"所属国家(地区)\\\", \\\"column_type\\\": \\\"TEXT\\\"}, {\\\"table_id\\\": 3, \\\"column_name\\\": \\\"报告类型\\\", \\\"column_type\\\": \\\"TEXT\\\"}, {\\\"table_id\\\": 4, \\\"column_name\\\": \\\"基金代码\\\", \\\"column_type\\\": \\\"TEXT\\\"}, {\\\"table_id\\\": 4, \\\"column_name\\\": \\\"交易日期\\\", \\\"column_type\\\": \\\"TEXT\\\"}, {\\\"table_id\\\": 4, \\\"column_name\\\": \\\"单位净值\\\", \\\"column_type\\\": \\\"REAL\\\"}, {\\\"table_id\\\": 4, \\\"column_name\\\": \\\"复权单位净值\\\", \\\"column_type\\\": \\\"REAL\\\"}, {\\\"table_id\\\": 4, \\\"column_name\\\": \\\"累计单位净值\\\", \\\"column_type\\\": \\\"REAL\\\"}, {\\\"table_id\\\": 4, \\\"column_name\\\": \\\"资产净值\\\", \\\"column_type\\\": \\\"REAL\\\"}, {\\\"table_id\\\": 5, \\\"column_name\\\": \\\"股票代码\\\", \\\"column_type\\\": \\\"TEXT\\\"}, {\\\"table_id\\\": 5, \\\"column_name\\\": \\\"交易日\\\", \\\"column_type\\\": \\\"TEXT\\\"}, {\\\"table_id\\\": 5, \\\"column_name\\\": \\\"昨收盘(元)\\\", \\\"column_type\\\": \\\"REAL\\\"}, {\\\"table_id\\\": 5, \\\"column_name\\\": \\\"今开盘(元)\\\", \\\"column_type\\\": \\\"REAL\\\"}, {\\\"table_id\\\": 5, \\\"column_name\\\": \\\"最高价(元)\\\", \\\"column_type\\\": \\\"REAL\\\"}, {\\\"table_id\\\": 5, \\\"column_name\\\": \\\"最低价(元)\\\", \\\"column_type\\\": \\\"REAL\\\"}, {\\\"table_id\\\": 5, \\\"column_name\\\": \\\"收盘价(元)\\\", \\\"column_type\\\": \\\"REAL\\\"}, {\\\"table_id\\\": 5, \\\"column_name\\\": \\\"成交量(股)\\\", \\\"column_type\\\": \\\"REAL\\\"}, {\\\"table_id\\\": 5, \\\"column_name\\\": \\\"成交金额(元)\\\", \\\"column_type\\\": \\\"REAL\\\"}, {\\\"table_id\\\": 6, \\\"column_name\\\": \\\"股票代码\\\", \\\"column_type\\\": \\\"TEXT\\\"}, {\\\"table_id\\\": 6, \\\"column_name\\\": \\\"交易日\\\", \\\"column_type\\\": \\\"TEXT\\\"}, {\\\"table_id\\\": 6, \\\"column_name\\\": \\\"昨收盘(元)\\\", \\\"column_type\\\": \\\"REAL\\\"}, {\\\"table_id\\\": 6, \\\"column_name\\\": \\\"今开盘(元)\\\", \\\"column_type\\\": \\\"REAL\\\"}, {\\\"table_id\\\": 6, \\\"column_name\\\": \\\"最高价(元)\\\", \\\"column_type\\\": \\\"REAL\\\"}, {\\\"table_id\\\": 6, \\\"column_name\\\": \\\"最低价(元)\\\", \\\"column_type\\\": \\\"REAL\\\"}, {\\\"table_id\\\": 6, \\\"column_name\\\": \\\"收盘价(元)\\\", \\\"column_type\\\": \\\"REAL\\\"}, {\\\"table_id\\\": 6, \\\"column_name\\\": \\\"成交量(股)\\\", \\\"column_type\\\": \\\"REAL\\\"}, {\\\"table_id\\\": 6, \\\"column_name\\\": \\\"成交金额(元)\\\", \\\"column_type\\\": \\\"REAL\\\"}, {\\\"table_id\\\": 7, \\\"column_name\\\": \\\"股票代码\\\", \\\"column_type\\\": \\\"TEXT\\\"}, {\\\"table_id\\\": 7, \\\"column_name\\\": \\\"交易日期\\\", \\\"column_type\\\": \\\"TEXT\\\"}, {\\\"table_id\\\": 7, \\\"column_name\\\": \\\"行业划分标准\\\", \\\"column_type\\\": \\\"TEXT\\\"}, {\\\"table_id\\\": 7, \\\"column_name\\\": \\\"一级行业名称\\\", \\\"column_type\\\": \\\"TEXT\\\"}, {\\\"table_id\\\": 7, \\\"column_name\\\": \\\"二级行业名称\\\", \\\"column_type\\\": \\\"TEXT\\\"}, {\\\"table_id\\\": 8, \\\"column_name\\\": \\\"基金代码\\\", \\\"column_type\\\": \\\"TEXT\\\"}, {\\\"table_id\\\": 8, \\\"column_name\\\": \\\"基金简称\\\", \\\"column_type\\\": \\\"TEXT\\\"}, {\\\"table_id\\\": 8, \\\"column_name\\\": \\\"公告日期\\\", \\\"column_type\\\": \\\"TIMESTAMP\\\"}, {\\\"table_id\\\": 8, \\\"column_name\\\": \\\"截止日期\\\", \\\"column_type\\\": \\\"TIMESTAMP\\\"}, {\\\"table_id\\\": 8, \\\"column_name\\\": \\\"报告期期初基金总份额\\\", \\\"column_type\\\": \\\"REAL\\\"}, {\\\"table_id\\\": 8, \\\"column_name\\\": \\\"报告期基金总申购份额\\\", \\\"column_type\\\": \\\"REAL\\\"}, {\\\"table_id\\\": 8, \\\"column_name\\\": \\\"报告期基金总赎回份额\\\", \\\"column_type\\\": \\\"REAL\\\"}, {\\\"table_id\\\": 8, \\\"column_name\\\": \\\"报告期期末基金总份额\\\", \\\"column_type\\\": \\\"REAL\\\"}, {\\\"table_id\\\": 8, \\\"column_name\\\": \\\"定期报告所属年度\\\", \\\"column_type\\\": \\\"INTEGER\\\"}, {\\\"table_id\\\": 8, \\\"column_name\\\": \\\"报告类型\\\", \\\"column_type\\\": \\\"TEXT\\\"}, {\\\"table_id\\\": 9, \\\"column_name\\\": \\\"基金代码\\\", \\\"column_type\\\": \\\"TEXT\\\"}, {\\\"table_id\\\": 9, \\\"column_name\\\": \\\"基金简称\\\", \\\"column_type\\\": \\\"TEXT\\\"}, {\\\"table_id\\\": 9, \\\"column_name\\\": \\\"公告日期\\\", \\\"column_type\\\": \\\"TIMESTAMP\\\"}, {\\\"table_id\\\": 9, \\\"column_name\\\": \\\"截止日期\\\", \\\"column_type\\\": \\\"TIMESTAMP\\\"}, {\\\"table_id\\\": 9, \\\"column_name\\\": \\\"机构投资者持有的基金份额\\\", \\\"column_type\\\": \\\"REAL\\\"}, {\\\"table_id\\\": 9, \\\"column_name\\\": \\\"机构投资者持有的基金份额占总份额比例\\\", \\\"column_type\\\": \\\"REAL\\\"}, {\\\"table_id\\\": 9, \\\"column_name\\\": \\\"个人投资者持有的基金份额\\\", \\\"column_type\\\": \\\"REAL\\\"}, {\\\"table_id\\\": 9, \\\"column_name\\\": \\\"个人投资者持有的基金份额占总份额比例\\\", \\\"column_type\\\": \\\"REAL\\\"}, {\\\"table_id\\\": 9, \\\"column_name\\\": \\\"定期报告所属年度\\\", \\\"column_type\\\": \\\"INTEGER\\\"}, {\\\"table_id\\\": 9, \\\"column_name\\\": \\\"报告类型\\\", \\\"column_type\\\": \\\"TEXT\\\"}], \\\"db_primary_keys\\\": []}\\n>>>>\\n\\n请你思考用户的要求，并按照要求，写出能够使用python的sqlite3库执行的SQL查询语句。\\n你所使用的数据库的table_name、column_name等，都必须严格与提供给你的数据库信息中的table_name、column_name一致。\\ntable_name、column_name应被\\\"\\\"包裹。\\n你的输出应严格按照如下示例。\\n你的回答使用如下的示例：\\n\\n>>>>\\nQuestion:用户的查询需求。\\nThought:应该使用的数据库中的表项和相应字段。\\nAnswer:你编写的能够执行的SQL查询语句。\\n>>>>\\n\\n注意:Question及其内容也需要一并输出。现在，我们开始作答：\\n\\nQuestion:我想知道股票600887在申万行业分类下的二级行业是什么？用最新的数据。\"\n",
      "  ]\n",
      "}\n"
     ]
    }
   ],
   "source": [
    "from Tools.sqlquery import run_sql_query\n",
    "\n",
    "run_sql_query(\"我想知道股票600887在申万行业分类下的二级行业是什么？用最新的数据。\")"
   ]
  },
  {
   "cell_type": "code",
   "execution_count": 5,
   "metadata": {},
   "outputs": [
    {
     "name": "stdout",
     "output_type": "stream",
     "text": [
      "\u001b[32;1m\u001b[1;3m[chain/start]\u001b[0m \u001b[1m[1:chain:LLMChain] Entering Chain run with input:\n",
      "\u001b[0m{\n",
      "  \"intermediate_steps\": [],\n",
      "  \"stop\": [\n",
      "    \"\\nObservation:\",\n",
      "    \"Observation\"\n",
      "  ],\n",
      "  \"input\": \"我想知道股票600887在申万行业分类下的二级行业是什么？用最新的数据。\",\n",
      "  \"history\": []\n",
      "}\n",
      "\u001b[32;1m\u001b[1;3m[llm/start]\u001b[0m \u001b[1m[1:chain:LLMChain > 2:llm:QWENonlie] Entering LLM run with input:\n",
      "\u001b[0m{\n",
      "  \"prompts\": [\n",
      "    \"你是一个会使用工具来回答用户问题的助手。\\n对于常识性问题或对话，你可以不使用工具，直接回答用户的问题；\\n你应该尽可能精准且全面地回答用户的问题。\\n下面是一些你能够使用的工具：\\ncalculate: 使用这个工具来进行数学计算。\\nknowledegQA: 使用这个工具来为用户的提问搜索本地文档知识库中的答案。工具的输入为<用户问题>,例如：云南沃森生物技术股份有限公司负责产品研发的是什么部门？\\nSQLsearch: 使用这个工具来为用户的提问搜索本地SQL数据库中的内容。工具的输入为<用户问题>,例如:20210618日，一级行业为基础化工的股票的成交量合计是多少？取整。\\n\\n使用$JSON_BLOB的形式来选择你要使用的工具,action用于存贮工具的名字(tool name);\\n而action_input用于存贮工具的输入。\\naction的值必须是 \\\"Final Answer\\\"或calculate, knowledegQA, SQLsearch 中的某一个。\\n每一个$JSON_BLOB中只能使用一个action,如下所示:\\n\\n>>>>\\n{{\\n    \\\"action\\\":$工具名称,\\n    \\\"action_input\\\":$工具输入\\n}}\\n>>>>\\n\\n整个回答过程应如下所示例:\\n\\n>>>>\\nQuestion:用户的提问\\nThought:结合之前的步骤,考虑接下来该做什么\\nAction:\\n```\\n$JSON_BLOB\\n```\\nObservation:执行action得到的结果\\n....(必要时,重复上述 Thought/Action/Observation 过程n次)\\nThought:现在我有了所有回答问题所需要的东西。\\nAction:\\n```\\n{{\\n    \\\"action\\\":\\\"Fincal Answer\\\",\\n    \\\"action_input\\\":\\\"$问题的最终答案\\\"\\n}}\\n```\\n>>>>\\n\\n注意,你必须时刻按照示例来进行每一步的思考,并在必要的时候使用工具。\\n特别重要的：你的输出必须严格按照以下格式：\\nQuestion:\\nThought:\\nAction:\\n```\\n$JSON_BLOB\\n```\\nObservation:\\n....\\n\\n现在,让我们开始作答。\\n\\nhistory: []\\nQuestion: 我想知道股票600887在申万行业分类下的二级行业是什么？用最新的数据。\\nThought:\"\n",
      "  ]\n",
      "}\n",
      "\u001b[36;1m\u001b[1;3m[llm/end]\u001b[0m \u001b[1m[1:chain:LLMChain > 2:llm:QWENonlie] [11.04s] Exiting LLM run with output:\n",
      "\u001b[0m{\n",
      "  \"generations\": [\n",
      "    [\n",
      "      {\n",
      "        \"text\": \"Question: 我想知道股票600887在申万行业分类下的二级行业是什么？用最新的数据。\\nThought: 用户想了解股票600887在申万行业分类下的二级行业，需要使用知识库工具查找最新的数据。\\nAction:\\n{\\n    \\\"action\\\": \\\"knowledegQA\\\",\\n    \\\"action_input\\\": \\\"股票600887在申万行业分类下的二级行业是什么\\\"\\n}\\n\",\n",
      "        \"generation_info\": null,\n",
      "        \"type\": \"Generation\"\n",
      "      }\n",
      "    ]\n",
      "  ],\n",
      "  \"llm_output\": null,\n",
      "  \"run\": null\n",
      "}\n",
      "\u001b[36;1m\u001b[1;3m[chain/end]\u001b[0m \u001b[1m[1:chain:LLMChain] [11.05s] Exiting Chain run with output:\n",
      "\u001b[0m{\n",
      "  \"text\": \"Question: 我想知道股票600887在申万行业分类下的二级行业是什么？用最新的数据。\\nThought: 用户想了解股票600887在申万行业分类下的二级行业，需要使用知识库工具查找最新的数据。\\nAction:\\n{\\n    \\\"action\\\": \\\"knowledegQA\\\",\\n    \\\"action_input\\\": \\\"股票600887在申万行业分类下的二级行业是什么\\\"\\n}\\n\"\n",
      "}\n",
      "\u001b[32;1m\u001b[1;3m[tool/start]\u001b[0m \u001b[1m[1:tool:knowledegQA] Entering Tool run with input:\n",
      "\u001b[0m\"股票600887在申万行业分类下的二级行业是什么\"\n",
      "\u001b[32;1m\u001b[1;3m[chain/start]\u001b[0m \u001b[1m[1:chain:LLMChain] Entering Chain run with input:\n",
      "\u001b[0m{\n",
      "  \"question\": \"股票600887在申万行业分类下的二级行业是什么\",\n",
      "  \"stop\": [\n",
      "    \"---output\"\n",
      "  ]\n",
      "}\n",
      "\u001b[32;1m\u001b[1;3m[llm/start]\u001b[0m \u001b[1m[1:chain:LLMChain > 2:llm:QWENonlie] Entering LLM run with input:\n",
      "\u001b[0m{\n",
      "  \"prompts\": [\n",
      "    \"你是一个帮我分析用户提问中重要内容的人工助手。\\n对于用户提出的问题，你应该对问题进行理解和拆解，从中找出能够作为关键词的名词。\\n你所找出的关键词必须是名词或名词组合，可以是主语、宾语、时间日期或用于修饰的名词。\\n如果存在并列结构，你需要将它拆分、重组成为单独的名词组合，例如：中信公司和大成公司的税收指标。===>中信公司的税收指标，大成公司的税收指标\\n在>>>> >>>>之间是一些示例：\\n\\n>>>>\\n\\nQuestion:2008年南京中电联环保股份有限公司营业收入增长主要来源是什么？\\nAnswer:\\n    \\\"company\\\":[\\\"南京中电联环保股份有限公司\\\"],\\n    \\\"date\\\":[\\\"2008年\\\"],\\n    \\\"keywords\\\":[\\\"营业收入来源\\\"]\\n\\nQuestion:云南沃森生物技术股份有限公司先后承担了多少国家级、省级、市级课题项目？\\nAnswer:\\n    \\\"company\\\":[\\\"云南沃森生物技术股份有限公司\\\"],\\n    \\\"date\\\":[],\\n    \\\"keywords\\\":[\\\"国家级课题项目\\\",\\\"省级课题项目\\\",\\\"市级课题项目\\\",\\\"课题项目\\\"]\\n\\n>>>>\\n\\n你的回答应严格按照下面的格式，请注意---output 等标记都必须输出，这是我用来提取答案的标记。\\n不要输出中文的逗号，不要输出引号。\\n不可以编造答案，不可以输出要求以外的任何文字。\\n\\nQuestion: ${用户的问题}\\n\\n---output\\n${\\\"company\\\":${你的回答},\\\"date\\\"${你的回答},:\\\"keywords\\\":${你的回答}}\\n\\n现在，我们开始作答\\nQuestion: 股票600887在申万行业分类下的二级行业是什么\"\n",
      "  ]\n",
      "}\n",
      "\u001b[36;1m\u001b[1;3m[llm/end]\u001b[0m \u001b[1m[1:chain:LLMChain > 2:llm:QWENonlie] [17.85s] Exiting LLM run with output:\n",
      "\u001b[0m{\n",
      "  \"generations\": [\n",
      "    [\n",
      "      {\n",
      "        \"text\": \"Question: 我想知道股票600887在申万行业分类下的二级行业是什么？用最新的数据。\\nThought: 用户想了解股票600887在申万行业分类下的二级行业，需要使用知识库工具查找最新的数据。\\nAction:\\n{\\n    \\\"action\\\": \\\"knowledegQA\\\",\\n    \\\"action_input\\\": \\\"股票600887在申万行业分类下的二级行业是什么\\\"\\n}\\n\",\n",
      "        \"generation_info\": null,\n",
      "        \"type\": \"Generation\"\n",
      "      }\n",
      "    ]\n",
      "  ],\n",
      "  \"llm_output\": null,\n",
      "  \"run\": null\n",
      "}\n",
      "\u001b[36;1m\u001b[1;3m[chain/end]\u001b[0m \u001b[1m[1:chain:LLMChain] [17.86s] Exiting Chain run with output:\n",
      "\u001b[0m{\n",
      "  \"text\": \"Question: 我想知道股票600887在申万行业分类下的二级行业是什么？用最新的数据。\\nThought: 用户想了解股票600887在申万行业分类下的二级行业，需要使用知识库工具查找最新的数据。\\nAction:\\n{\\n    \\\"action\\\": \\\"knowledegQA\\\",\\n    \\\"action_input\\\": \\\"股票600887在申万行业分类下的二级行业是什么\\\"\\n}\\n\"\n",
      "}\n",
      "\u001b[31;1m\u001b[1;3m[tool/error]\u001b[0m \u001b[1m[1:tool:knowledegQA] [99.88s] \u001b[0mTool run errored with error:\n",
      "ValueError(\"'---output' is not in list\")\n"
     ]
    },
    {
     "ename": "ValueError",
     "evalue": "'---output' is not in list",
     "output_type": "error",
     "traceback": [
      "\u001b[1;31m---------------------------------------------------------------------------\u001b[0m",
      "\u001b[1;31mValueError\u001b[0m                                Traceback (most recent call last)",
      "\u001b[1;32mi:\\自然语言学习\\TIANCHIchampion\\qwen-qa\\test.ipynb 单元格 11\u001b[0m line \u001b[0;36m4\n\u001b[0;32m      <a href='vscode-notebook-cell:/i%3A/%E8%87%AA%E7%84%B6%E8%AF%AD%E8%A8%80%E5%AD%A6%E4%B9%A0/TIANCHIchampion/qwen-qa/test.ipynb#X14sZmlsZQ%3D%3D?line=1'>2</a>\u001b[0m \u001b[39mimport\u001b[39;00m \u001b[39mlangchain\u001b[39;00m\n\u001b[0;32m      <a href='vscode-notebook-cell:/i%3A/%E8%87%AA%E7%84%B6%E8%AF%AD%E8%A8%80%E5%AD%A6%E4%B9%A0/TIANCHIchampion/qwen-qa/test.ipynb#X14sZmlsZQ%3D%3D?line=2'>3</a>\u001b[0m langchain\u001b[39m.\u001b[39mdebug\u001b[39m=\u001b[39m\u001b[39mTrue\u001b[39;00m\n\u001b[1;32m----> <a href='vscode-notebook-cell:/i%3A/%E8%87%AA%E7%84%B6%E8%AF%AD%E8%A8%80%E5%AD%A6%E4%B9%A0/TIANCHIchampion/qwen-qa/test.ipynb#X14sZmlsZQ%3D%3D?line=3'>4</a>\u001b[0m agent_qa(query\u001b[39m=\u001b[39;49m\u001b[39m\"\u001b[39;49m\u001b[39m我想知道股票600887在申万行业分类下的二级行业是什么？用最新的数据。\u001b[39;49m\u001b[39m\"\u001b[39;49m,history\u001b[39m=\u001b[39;49m[])\n",
      "File \u001b[1;32mi:\\自然语言学习\\TIANCHIchampion\\qwen-qa\\agent_chat.py:114\u001b[0m, in \u001b[0;36magent_qa\u001b[1;34m(query, history, run_manager)\u001b[0m\n\u001b[0;32m    107\u001b[0m agent_executor \u001b[39m=\u001b[39m AgentExecutor\u001b[39m.\u001b[39mfrom_agent_and_tools(\n\u001b[0;32m    108\u001b[0m     agent\u001b[39m=\u001b[39magent,\n\u001b[0;32m    109\u001b[0m     tools\u001b[39m=\u001b[39mtools,\n\u001b[0;32m    110\u001b[0m     verbose\u001b[39m=\u001b[39m\u001b[39mTrue\u001b[39;00m,\n\u001b[0;32m    111\u001b[0m     memory\u001b[39m=\u001b[39mmemory\n\u001b[0;32m    112\u001b[0m )\n\u001b[0;32m    113\u001b[0m AgentExecutor\u001b[39m.\u001b[39macall\n\u001b[1;32m--> 114\u001b[0m res\u001b[39m=\u001b[39magent_executor\u001b[39m.\u001b[39;49m_call(\n\u001b[0;32m    115\u001b[0m     {\n\u001b[0;32m    116\u001b[0m         \u001b[39m\"\u001b[39;49m\u001b[39minput\u001b[39;49m\u001b[39m\"\u001b[39;49m:query,\n\u001b[0;32m    117\u001b[0m         \u001b[39m#\"intermediate_steps\":[],\u001b[39;49;00m\n\u001b[0;32m    118\u001b[0m         \u001b[39m\"\u001b[39;49m\u001b[39mhistory\u001b[39;49m\u001b[39m\"\u001b[39;49m:[]\n\u001b[0;32m    119\u001b[0m     },\n\u001b[0;32m    120\u001b[0m     run_manager\u001b[39m=\u001b[39;49m_run_manager)\n\u001b[0;32m    121\u001b[0m \u001b[39mprint\u001b[39m(res)\n",
      "File \u001b[1;32mf:\\Anaconda\\envs\\torch\\lib\\site-packages\\langchain\\agents\\agent.py:1312\u001b[0m, in \u001b[0;36mAgentExecutor._call\u001b[1;34m(self, inputs, run_manager)\u001b[0m\n\u001b[0;32m   1310\u001b[0m \u001b[39m# We now enter the agent loop (until it returns something).\u001b[39;00m\n\u001b[0;32m   1311\u001b[0m \u001b[39mwhile\u001b[39;00m \u001b[39mself\u001b[39m\u001b[39m.\u001b[39m_should_continue(iterations, time_elapsed):\n\u001b[1;32m-> 1312\u001b[0m     next_step_output \u001b[39m=\u001b[39m \u001b[39mself\u001b[39;49m\u001b[39m.\u001b[39;49m_take_next_step(\n\u001b[0;32m   1313\u001b[0m         name_to_tool_map,\n\u001b[0;32m   1314\u001b[0m         color_mapping,\n\u001b[0;32m   1315\u001b[0m         inputs,\n\u001b[0;32m   1316\u001b[0m         intermediate_steps,\n\u001b[0;32m   1317\u001b[0m         run_manager\u001b[39m=\u001b[39;49mrun_manager,\n\u001b[0;32m   1318\u001b[0m     )\n\u001b[0;32m   1319\u001b[0m     \u001b[39mif\u001b[39;00m \u001b[39misinstance\u001b[39m(next_step_output, AgentFinish):\n\u001b[0;32m   1320\u001b[0m         \u001b[39mreturn\u001b[39;00m \u001b[39mself\u001b[39m\u001b[39m.\u001b[39m_return(\n\u001b[0;32m   1321\u001b[0m             next_step_output, intermediate_steps, run_manager\u001b[39m=\u001b[39mrun_manager\n\u001b[0;32m   1322\u001b[0m         )\n",
      "File \u001b[1;32mf:\\Anaconda\\envs\\torch\\lib\\site-packages\\langchain\\agents\\agent.py:1038\u001b[0m, in \u001b[0;36mAgentExecutor._take_next_step\u001b[1;34m(self, name_to_tool_map, color_mapping, inputs, intermediate_steps, run_manager)\u001b[0m\n\u001b[0;32m   1029\u001b[0m \u001b[39mdef\u001b[39;00m \u001b[39m_take_next_step\u001b[39m(\n\u001b[0;32m   1030\u001b[0m     \u001b[39mself\u001b[39m,\n\u001b[0;32m   1031\u001b[0m     name_to_tool_map: Dict[\u001b[39mstr\u001b[39m, BaseTool],\n\u001b[1;32m   (...)\u001b[0m\n\u001b[0;32m   1035\u001b[0m     run_manager: Optional[CallbackManagerForChainRun] \u001b[39m=\u001b[39m \u001b[39mNone\u001b[39;00m,\n\u001b[0;32m   1036\u001b[0m ) \u001b[39m-\u001b[39m\u001b[39m>\u001b[39m Union[AgentFinish, List[Tuple[AgentAction, \u001b[39mstr\u001b[39m]]]:\n\u001b[0;32m   1037\u001b[0m     \u001b[39mreturn\u001b[39;00m \u001b[39mself\u001b[39m\u001b[39m.\u001b[39m_consume_next_step(\n\u001b[1;32m-> 1038\u001b[0m         [\n\u001b[0;32m   1039\u001b[0m             a\n\u001b[0;32m   1040\u001b[0m             \u001b[39mfor\u001b[39;00m a \u001b[39min\u001b[39;00m \u001b[39mself\u001b[39m\u001b[39m.\u001b[39m_iter_next_step(\n\u001b[0;32m   1041\u001b[0m                 name_to_tool_map,\n\u001b[0;32m   1042\u001b[0m                 color_mapping,\n\u001b[0;32m   1043\u001b[0m                 inputs,\n\u001b[0;32m   1044\u001b[0m                 intermediate_steps,\n\u001b[0;32m   1045\u001b[0m                 run_manager,\n\u001b[0;32m   1046\u001b[0m             )\n\u001b[0;32m   1047\u001b[0m         ]\n\u001b[0;32m   1048\u001b[0m     )\n",
      "File \u001b[1;32mf:\\Anaconda\\envs\\torch\\lib\\site-packages\\langchain\\agents\\agent.py:1038\u001b[0m, in \u001b[0;36m<listcomp>\u001b[1;34m(.0)\u001b[0m\n\u001b[0;32m   1029\u001b[0m \u001b[39mdef\u001b[39;00m \u001b[39m_take_next_step\u001b[39m(\n\u001b[0;32m   1030\u001b[0m     \u001b[39mself\u001b[39m,\n\u001b[0;32m   1031\u001b[0m     name_to_tool_map: Dict[\u001b[39mstr\u001b[39m, BaseTool],\n\u001b[1;32m   (...)\u001b[0m\n\u001b[0;32m   1035\u001b[0m     run_manager: Optional[CallbackManagerForChainRun] \u001b[39m=\u001b[39m \u001b[39mNone\u001b[39;00m,\n\u001b[0;32m   1036\u001b[0m ) \u001b[39m-\u001b[39m\u001b[39m>\u001b[39m Union[AgentFinish, List[Tuple[AgentAction, \u001b[39mstr\u001b[39m]]]:\n\u001b[0;32m   1037\u001b[0m     \u001b[39mreturn\u001b[39;00m \u001b[39mself\u001b[39m\u001b[39m.\u001b[39m_consume_next_step(\n\u001b[1;32m-> 1038\u001b[0m         [\n\u001b[0;32m   1039\u001b[0m             a\n\u001b[0;32m   1040\u001b[0m             \u001b[39mfor\u001b[39;00m a \u001b[39min\u001b[39;00m \u001b[39mself\u001b[39m\u001b[39m.\u001b[39m_iter_next_step(\n\u001b[0;32m   1041\u001b[0m                 name_to_tool_map,\n\u001b[0;32m   1042\u001b[0m                 color_mapping,\n\u001b[0;32m   1043\u001b[0m                 inputs,\n\u001b[0;32m   1044\u001b[0m                 intermediate_steps,\n\u001b[0;32m   1045\u001b[0m                 run_manager,\n\u001b[0;32m   1046\u001b[0m             )\n\u001b[0;32m   1047\u001b[0m         ]\n\u001b[0;32m   1048\u001b[0m     )\n",
      "File \u001b[1;32mf:\\Anaconda\\envs\\torch\\lib\\site-packages\\langchain\\agents\\agent.py:1134\u001b[0m, in \u001b[0;36mAgentExecutor._iter_next_step\u001b[1;34m(self, name_to_tool_map, color_mapping, inputs, intermediate_steps, run_manager)\u001b[0m\n\u001b[0;32m   1132\u001b[0m         tool_run_kwargs[\u001b[39m\"\u001b[39m\u001b[39mllm_prefix\u001b[39m\u001b[39m\"\u001b[39m] \u001b[39m=\u001b[39m \u001b[39m\"\u001b[39m\u001b[39m\"\u001b[39m\n\u001b[0;32m   1133\u001b[0m     \u001b[39m# We then call the tool on the tool input to get an observation\u001b[39;00m\n\u001b[1;32m-> 1134\u001b[0m     observation \u001b[39m=\u001b[39m tool\u001b[39m.\u001b[39;49mrun(\n\u001b[0;32m   1135\u001b[0m         agent_action\u001b[39m.\u001b[39;49mtool_input,\n\u001b[0;32m   1136\u001b[0m         verbose\u001b[39m=\u001b[39;49m\u001b[39mself\u001b[39;49m\u001b[39m.\u001b[39;49mverbose,\n\u001b[0;32m   1137\u001b[0m         color\u001b[39m=\u001b[39;49mcolor,\n\u001b[0;32m   1138\u001b[0m         callbacks\u001b[39m=\u001b[39;49mrun_manager\u001b[39m.\u001b[39;49mget_child() \u001b[39mif\u001b[39;49;00m run_manager \u001b[39melse\u001b[39;49;00m \u001b[39mNone\u001b[39;49;00m,\n\u001b[0;32m   1139\u001b[0m         \u001b[39m*\u001b[39;49m\u001b[39m*\u001b[39;49mtool_run_kwargs,\n\u001b[0;32m   1140\u001b[0m     )\n\u001b[0;32m   1141\u001b[0m \u001b[39melse\u001b[39;00m:\n\u001b[0;32m   1142\u001b[0m     tool_run_kwargs \u001b[39m=\u001b[39m \u001b[39mself\u001b[39m\u001b[39m.\u001b[39magent\u001b[39m.\u001b[39mtool_run_logging_kwargs()\n",
      "File \u001b[1;32mf:\\Anaconda\\envs\\torch\\lib\\site-packages\\langchain_core\\tools.py:365\u001b[0m, in \u001b[0;36mBaseTool.run\u001b[1;34m(self, tool_input, verbose, start_color, color, callbacks, tags, metadata, run_name, **kwargs)\u001b[0m\n\u001b[0;32m    363\u001b[0m \u001b[39mexcept\u001b[39;00m (\u001b[39mException\u001b[39;00m, \u001b[39mKeyboardInterrupt\u001b[39;00m) \u001b[39mas\u001b[39;00m e:\n\u001b[0;32m    364\u001b[0m     run_manager\u001b[39m.\u001b[39mon_tool_error(e)\n\u001b[1;32m--> 365\u001b[0m     \u001b[39mraise\u001b[39;00m e\n\u001b[0;32m    366\u001b[0m \u001b[39melse\u001b[39;00m:\n\u001b[0;32m    367\u001b[0m     run_manager\u001b[39m.\u001b[39mon_tool_end(\n\u001b[0;32m    368\u001b[0m         \u001b[39mstr\u001b[39m(observation), color\u001b[39m=\u001b[39mcolor, name\u001b[39m=\u001b[39m\u001b[39mself\u001b[39m\u001b[39m.\u001b[39mname, \u001b[39m*\u001b[39m\u001b[39m*\u001b[39mkwargs\n\u001b[0;32m    369\u001b[0m     )\n",
      "File \u001b[1;32mf:\\Anaconda\\envs\\torch\\lib\\site-packages\\langchain_core\\tools.py:337\u001b[0m, in \u001b[0;36mBaseTool.run\u001b[1;34m(self, tool_input, verbose, start_color, color, callbacks, tags, metadata, run_name, **kwargs)\u001b[0m\n\u001b[0;32m    334\u001b[0m \u001b[39mtry\u001b[39;00m:\n\u001b[0;32m    335\u001b[0m     tool_args, tool_kwargs \u001b[39m=\u001b[39m \u001b[39mself\u001b[39m\u001b[39m.\u001b[39m_to_args_and_kwargs(parsed_input)\n\u001b[0;32m    336\u001b[0m     observation \u001b[39m=\u001b[39m (\n\u001b[1;32m--> 337\u001b[0m         \u001b[39mself\u001b[39;49m\u001b[39m.\u001b[39;49m_run(\u001b[39m*\u001b[39;49mtool_args, run_manager\u001b[39m=\u001b[39;49mrun_manager, \u001b[39m*\u001b[39;49m\u001b[39m*\u001b[39;49mtool_kwargs)\n\u001b[0;32m    338\u001b[0m         \u001b[39mif\u001b[39;00m new_arg_supported\n\u001b[0;32m    339\u001b[0m         \u001b[39melse\u001b[39;00m \u001b[39mself\u001b[39m\u001b[39m.\u001b[39m_run(\u001b[39m*\u001b[39mtool_args, \u001b[39m*\u001b[39m\u001b[39m*\u001b[39mtool_kwargs)\n\u001b[0;32m    340\u001b[0m     )\n\u001b[0;32m    341\u001b[0m \u001b[39mexcept\u001b[39;00m ToolException \u001b[39mas\u001b[39;00m e:\n\u001b[0;32m    342\u001b[0m     \u001b[39mif\u001b[39;00m \u001b[39mnot\u001b[39;00m \u001b[39mself\u001b[39m\u001b[39m.\u001b[39mhandle_tool_error:\n",
      "File \u001b[1;32mf:\\Anaconda\\envs\\torch\\lib\\site-packages\\langchain_core\\tools.py:516\u001b[0m, in \u001b[0;36mTool._run\u001b[1;34m(self, run_manager, *args, **kwargs)\u001b[0m\n\u001b[0;32m    507\u001b[0m \u001b[39mif\u001b[39;00m \u001b[39mself\u001b[39m\u001b[39m.\u001b[39mfunc:\n\u001b[0;32m    508\u001b[0m     new_argument_supported \u001b[39m=\u001b[39m signature(\u001b[39mself\u001b[39m\u001b[39m.\u001b[39mfunc)\u001b[39m.\u001b[39mparameters\u001b[39m.\u001b[39mget(\u001b[39m\"\u001b[39m\u001b[39mcallbacks\u001b[39m\u001b[39m\"\u001b[39m)\n\u001b[0;32m    509\u001b[0m     \u001b[39mreturn\u001b[39;00m (\n\u001b[0;32m    510\u001b[0m         \u001b[39mself\u001b[39m\u001b[39m.\u001b[39mfunc(\n\u001b[0;32m    511\u001b[0m             \u001b[39m*\u001b[39margs,\n\u001b[0;32m    512\u001b[0m             callbacks\u001b[39m=\u001b[39mrun_manager\u001b[39m.\u001b[39mget_child() \u001b[39mif\u001b[39;00m run_manager \u001b[39melse\u001b[39;00m \u001b[39mNone\u001b[39;00m,\n\u001b[0;32m    513\u001b[0m             \u001b[39m*\u001b[39m\u001b[39m*\u001b[39mkwargs,\n\u001b[0;32m    514\u001b[0m         )\n\u001b[0;32m    515\u001b[0m         \u001b[39mif\u001b[39;00m new_argument_supported\n\u001b[1;32m--> 516\u001b[0m         \u001b[39melse\u001b[39;00m \u001b[39mself\u001b[39;49m\u001b[39m.\u001b[39;49mfunc(\u001b[39m*\u001b[39;49margs, \u001b[39m*\u001b[39;49m\u001b[39m*\u001b[39;49mkwargs)\n\u001b[0;32m    517\u001b[0m     )\n\u001b[0;32m    518\u001b[0m \u001b[39mraise\u001b[39;00m \u001b[39mNotImplementedError\u001b[39;00m(\u001b[39m\"\u001b[39m\u001b[39mTool does not support sync\u001b[39m\u001b[39m\"\u001b[39m)\n",
      "File \u001b[1;32mi:\\自然语言学习\\TIANCHIchampion\\qwen-qa\\Tools\\konwlegeqa.py:202\u001b[0m, in \u001b[0;36mrun_knowledge_qa\u001b[1;34m(query)\u001b[0m\n\u001b[0;32m    200\u001b[0m llm_model\u001b[39m=\u001b[39mg_container\u001b[39m.\u001b[39mMODEL\n\u001b[0;32m    201\u001b[0m llm_chain\u001b[39m=\u001b[39mLLMKnowledgeChain\u001b[39m.\u001b[39mfrom_llm(llm\u001b[39m=\u001b[39mllm_model,cfg\u001b[39m=\u001b[39mg_container\u001b[39m.\u001b[39mGCONFIG)\n\u001b[1;32m--> 202\u001b[0m ans\u001b[39m=\u001b[39mllm_chain\u001b[39m.\u001b[39;49m_call({llm_chain\u001b[39m.\u001b[39;49minput_key:query})\n\u001b[0;32m    203\u001b[0m \u001b[39mreturn\u001b[39;00m ans\n",
      "File \u001b[1;32mi:\\自然语言学习\\TIANCHIchampion\\qwen-qa\\Tools\\konwlegeqa.py:137\u001b[0m, in \u001b[0;36mLLMKnowledgeChain._call\u001b[1;34m(self, inputs, run_manager)\u001b[0m\n\u001b[0;32m    130\u001b[0m kb_idx\u001b[39m.\u001b[39mdo_load(index\u001b[39m=\u001b[39m\u001b[39m'\u001b[39m\u001b[39mindex\u001b[39m\u001b[39m'\u001b[39m)\n\u001b[0;32m    132\u001b[0m llm_output\u001b[39m=\u001b[39m\u001b[39mself\u001b[39m\u001b[39m.\u001b[39mllm_chain\u001b[39m.\u001b[39mpredict(\n\u001b[0;32m    133\u001b[0m     question\u001b[39m=\u001b[39minputs[\u001b[39mself\u001b[39m\u001b[39m.\u001b[39minput_key],\n\u001b[0;32m    134\u001b[0m     stop\u001b[39m=\u001b[39m[\u001b[39m'\u001b[39m\u001b[39m---output\u001b[39m\u001b[39m'\u001b[39m],\n\u001b[0;32m    135\u001b[0m     callbacks\u001b[39m=\u001b[39m_run_manager\u001b[39m.\u001b[39mget_child()\n\u001b[0;32m    136\u001b[0m )\n\u001b[1;32m--> 137\u001b[0m llm_output\u001b[39m=\u001b[39m\u001b[39mself\u001b[39;49m\u001b[39m.\u001b[39;49m_process_llm_out(llm_output,\u001b[39m'\u001b[39;49m\u001b[39m---output\u001b[39;49m\u001b[39m'\u001b[39;49m)\n\u001b[0;32m    138\u001b[0m query_info \u001b[39m=\u001b[39m json\u001b[39m.\u001b[39mloads(llm_output)\n\u001b[0;32m    140\u001b[0m companys\u001b[39m=\u001b[39mquery_info[\u001b[39m'\u001b[39m\u001b[39mcompany\u001b[39m\u001b[39m'\u001b[39m]\n",
      "File \u001b[1;32mi:\\自然语言学习\\TIANCHIchampion\\qwen-qa\\Tools\\konwlegeqa.py:115\u001b[0m, in \u001b[0;36mLLMKnowledgeChain._process_llm_out\u001b[1;34m(self, llm_out, stop)\u001b[0m\n\u001b[0;32m    113\u001b[0m \u001b[39mdef\u001b[39;00m \u001b[39m_process_llm_out\u001b[39m(\u001b[39mself\u001b[39m,llm_out:\u001b[39mstr\u001b[39m,stop:\u001b[39mstr\u001b[39m)\u001b[39m-\u001b[39m\u001b[39m>\u001b[39m\u001b[39mstr\u001b[39m:\n\u001b[0;32m    114\u001b[0m     llm_out\u001b[39m=\u001b[39mllm_out\u001b[39m.\u001b[39msplit(\u001b[39m'\u001b[39m\u001b[39m\\n\u001b[39;00m\u001b[39m'\u001b[39m)\n\u001b[1;32m--> 115\u001b[0m     idx\u001b[39m=\u001b[39mllm_out\u001b[39m.\u001b[39;49mindex(stop)\u001b[39m+\u001b[39m\u001b[39m1\u001b[39m\n\u001b[0;32m    116\u001b[0m     \u001b[39mreturn\u001b[39;00m \u001b[39mstr\u001b[39m(llm_out[idx])\n",
      "\u001b[1;31mValueError\u001b[0m: '---output' is not in list"
     ]
    }
   ],
   "source": [
    "from agent_chat import agent_qa\n",
    "import langchain\n",
    "langchain.debug=True\n",
    "agent_qa(query=\"我想知道股票600887在申万行业分类下的二级行业是什么？用最新的数据。\",history=[])"
   ]
  }
 ],
 "metadata": {
  "kernelspec": {
   "display_name": "pytorch",
   "language": "python",
   "name": "python3"
  },
  "language_info": {
   "codemirror_mode": {
    "name": "ipython",
    "version": 3
   },
   "file_extension": ".py",
   "mimetype": "text/x-python",
   "name": "python",
   "nbconvert_exporter": "python",
   "pygments_lexer": "ipython3",
   "version": "3.8.17"
  }
 },
 "nbformat": 4,
 "nbformat_minor": 2
}
