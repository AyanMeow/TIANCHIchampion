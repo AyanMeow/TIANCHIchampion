{
 "cells": [
  {
   "cell_type": "code",
   "execution_count": 63,
   "metadata": {},
   "outputs": [],
   "source": [
    "_PROMPT_TEMPLATE = \"\"\"\n",
    "请你提取下面段落的关键词，要求所提取的关键词能够鲜明表示内容性质。所提取的关键词应不少于5个。\n",
    "\n",
    "待处理内容：\n",
    "\n",
    "本次股票发行后拟在创业板市场上市，该市场具有较高的投资风险。创业\n",
    "板公司具有业绩不稳定、经营风险高、退市风险大等特点，投资者面临较大的\n",
    "市场风险。投资者应充分了解创业板市场的投资风险及本公司所披露的风险因\n",
    "素，审慎作出投资决定。\n",
    "华瑞电器股份有限公司\n",
    "Huarui Electrical Appliance Co., Ltd.\n",
    "册地址：宁波市鄞州区姜山镇科技园区\n",
    "首次公开发行股票并在创业板上市\n",
    "招股意向书\n",
    "发行人及全体董事、监事、高级管理人员承诺招股意向书不存在虚假记载、\n",
    "误导性陈述或重大遗漏，并对其真实性、准确性、完整性、及时性承担个别和连\n",
    "带的法律责任。\n",
    "发行人及全体董事、监事、高级管理人员、发行人的控股股东、实际控制人\n",
    "以及保荐人、承销的证券公司承诺因发行人招股意向书及其他信息披露资料有虚\n",
    "假记载、误导性陈述或者重大遗漏，致使投资者在证券发行和交易中遭受损失的，\n",
    "将依法赔偿投资者损失。\n",
    "\n",
    "注意：你的回答不需要分段。你的回答格式应该按照下面的内容，请注意```output 等标记都必须输出，这是我用来提取答案的标记。\n",
    "除了你的回答之外不要输出多余的文字。\n",
    "\n",
    "```output\n",
    "${{\"keywords\":[你提取的关键词]}}\n",
    "\"\"\""
   ]
  },
  {
   "cell_type": "code",
   "execution_count": 2,
   "metadata": {},
   "outputs": [],
   "source": [
    "import dashscope\n",
    "from dashscope import Generation\n",
    "from http import HTTPStatus\n",
    "import random\n",
    "from CustomLLM import QWENonlie\n",
    "from Container import g_container\n",
    "apikey='sk-02b8b1a9175a4cae9bf9571d517d8b81'\n",
    "llm=QWENonlie.from_name(model_name=Generation.Models.qwen_max,api_key=apikey)\n",
    "g_container.MODEL = llm"
   ]
  },
  {
   "cell_type": "code",
   "execution_count": 6,
   "metadata": {},
   "outputs": [
    {
     "name": "stdout",
     "output_type": "stream",
     "text": [
      "The autoreload extension is already loaded. To reload it, use:\n",
      "  %reload_ext autoreload\n"
     ]
    },
    {
     "data": {
      "text/plain": [
       "[{'id': 'c71c2fcf-ebf9-4fc8-a058-9b9ac8efc903',\n",
       "  'meta_data': {'source': './test_data/03c625c108ac0137f413dfd4136adb55c74b3805.txt'}},\n",
       " {'id': 'b8025a58-ad5b-4fc9-b320-108b9b43851d',\n",
       "  'meta_data': {'source': './test_data/03c625c108ac0137f413dfd4136adb55c74b3805.txt'}}]"
      ]
     },
     "execution_count": 6,
     "metadata": {},
     "output_type": "execute_result"
    }
   ],
   "source": [
    "%load_ext autoreload\n",
    "%autoreload 2\n",
    "from config import QWEN_CONFIG\n",
    "from dashscope import TextEmbedding,BatchTextEmbedding\n",
    "from langchain.text_splitter import RecursiveCharacterTextSplitter\n",
    "from langchain.document_loaders import TextLoader\n",
    "from langchain.embeddings import DashScopeEmbeddings,HuggingFaceEmbeddings\n",
    "from TxtProcess import faiss_kb_ds\n",
    "g_container.MODEL = llm\n",
    "cfg = QWEN_CONFIG(api_key=apikey,\n",
    "                  embedding_name=BatchTextEmbedding.Models.text_embedding_async_v1)\n",
    "emb=DashScopeEmbeddings(model=TextEmbedding.Models.text_embedding_v1,\n",
    "                        dashscope_api_key=apikey)\n",
    "emb2=HuggingFaceEmbeddings(model_name='../../model/m3e/')\n",
    "text_ld=TextLoader(file_path='./test_data/03c625c108ac0137f413dfd4136adb55c74b3805.txt')\n",
    "sp=RecursiveCharacterTextSplitter(\n",
    "        chunk_size=cfg.chunk_size, chunk_overlap=cfg.chunk_overlap)\n",
    "docs=text_ld.load_and_split(text_splitter=sp)\n",
    "fkb=faiss_kb_ds(vs_path=cfg.vec_store_path,kb_path='./test_data/',embs=emb2)\n",
    "fkb.do_add_doc(docs[:2])"
   ]
  },
  {
   "cell_type": "code",
   "execution_count": 9,
   "metadata": {},
   "outputs": [
    {
     "data": {
      "text/plain": [
       "[(Document(page_content='保荐人承诺因其为发行人首次公开发行股票制作、出具的文件有虚假记载、误导性陈述或者重大遗漏，给投资者造成损失的，将先行赔偿投资者损失。发行股票类型：人民币普通股（A股）发行股数：公司拟首次公开发行股票总数不超过 2,167 万股，本次公开发行股份占发行后公司股份总数的比例不低于25%；本次公开发行全部为新股发行，老股东不公开发售股份。每股面值：人民币1.00元每股发行价格：[ ]元预计发行日期：2016年10月13日拟上市证券交易所：深圳证券交易所发行后总股本：不超过8,667万股本次发行前股东所持股份的流通限制及自愿锁定股份的承诺：1、公司控股股东、实际控制人之一、董事长余春明，公司股东、实际控制人之一、董事、总经理余超彪，胡建飞、汪红时、叶松林、刘松林、朱观润等 5名持有公司股份的董事、监事、高级管理人员承诺（其中，持有公司股份的监事仅承诺第（1）项与第（2）项）：（1）自股份公司股票在证券交易所上市交易之日起三十六个月内，不转让或者委托他人管理本次发行前其已持有的股份公司股份，也不由股份公司回购该部分股份。（2）在上述锁定期届满后，若其仍在股份公司任职的，在股份公司任职期间每年转让的股份公司股份不超过其所持有股权总数的25%；自其从股份公司处离职半年内，不转让所持有的股份公司股份；自其申报离任六个月后的十二个月内通过证券交易所挂牌交易出售的股份公司股票数量占其所持有股份公司股票总数的比例不超过50%。（3）所持公司股票在锁定期满后两年内减持的，减持价格不低于发行价；公司上市后 6 个月内如公司股票连续20个交易日的收盘价均低于发行价，或者上市后6个月期末收盘价低于发行价，本人所持公司股票的锁定期限自动延长 6 个月。上述减持价格和股份锁定承诺不因本人职务变更、离职而终止。（前述发行价指公司首次公开发行股票的发行价格，如果公司上市后因派发现金红利、送股、转增股本、增发新股等原因进行除权、除息的，则按照证券交易所的有关规定作除权除息处理。）2、公司股东余春禄、张光秀、陈发娣、余志平承诺：自股份公司股票在证券交易所上市交易之日起三十六个月内不转让或者委托他人管理本次发行前其已持有的股份公司股份，也不由股份公司回购该部分股份。3、除上述股东外，本次发行前的公司其他 67 名自然人股东承诺：自股份公司股票在证券交易所上市交易之日起十二个月内，不转让或者委托他人管理本次发行前其已持有的股份公司股份，也不由股份公司回购该部分股份。承诺期限届满后，上述股份可以上市流通和转让。保荐机构（主承销商）：国元证券股份有限公司招股意向书签署日期：2016年9月28日发行人及全体董事、监事、高级管理人员承诺招股意向书及其摘要不存在虚假记载、误导性陈述或重大遗漏，并对其真实性、准确性、完整性承担个别和连带的法律责任。公司负责人和主管会计工作的负责人、会计机构负责人保证招股意向书及其摘要中财务会计资料真实、完整。保荐人承诺因其为发行人首次公开发行股票制作、出具的文件有虚假记载、误导性陈述或者重大遗漏，给投资者造成损失的，将先行赔偿投资者损失。中国证监会、其他政府部门对本次发行所做的任何决定或意见，均不表明其对发行人股票的价值或投资者的投资收益作出实质性判断或保证。任何与之相反的声明均属虚假不实陈述。根据《证券法》的规定，股票依法发行后，发行人经营与收益的变化，由发行人自行负责，由此变化引致的投资风险，由投资者自行负责。投资者若对本招股意向书及其摘要存在任何疑问，应咨询自己的股票经纪人、律师、会计师或其他专业顾问。1、公司控股股东、实际控制人之一、董事长余春明，公司股东、实际控制人之一、董事、总经理余超彪，及胡建飞、汪红时、叶松林、刘松林、朱观润等 5 名持有公司股份的董事、监事、高级管理人员承诺（其中，持有公司股份的监事仅承诺第（1）项与第（2）项）：（1）自股份公司股票在证券交易所上市交易之日起三十六个月内，不转让或者委托他人管理本次发行前其已持有的股份公司股份，也不由股份公司回购该部分股份。（2）在上述锁定期届满后，若其仍在股份公司任职的，在股份公司任职期间每年转让的股份公司股份不超过其所持有股权总数的25%；自其从股份公司处离职半年内，不转让所持有的股份公司股份；自其申报离任六个月后的十二个月内通过证券交易所挂牌交易出售的股份公司股票数量占其所持有股份公司股票总数的比例不超过50%。（3）所持公司股票在锁定期满后两年内减持的，减持价格不低于发行价；公司上市后 6个月内如公司股票连续20个交易日的收盘价均低于发行价，或者上市后6 个月期末收盘价低于发行价，本人所持公司股票的锁定期限自动延长 6 个月。上述', metadata={'source': './test_data/03c625c108ac0137f413dfd4136adb55c74b3805.txt'}),\n",
       "  0.42631865),\n",
       " (Document(page_content='公司股份；自其申报离任六个月后的十二个月内通过证券交易所挂牌交易出售的股份公司股票数量占其所持有股份公司股票总数的比例不超过50%。（3）所持公司股票在锁定期满后两年内减持的，减持价格不低于发行价；公司上市后 6个月内如公司股票连续20个交易日的收盘价均低于发行价，或者上市后6 个月期末收盘价低于发行价，本人所持公司股票的锁定期限自动延长 6 个月。上述减持价格和股份锁定承诺不因本人职务变更、离职而终止。（前述发行价指公司首次公开发行股票的发行价格，如果公司上市后因派发现金红利、送股、转增股本、增发新股等原因进行除权、除息的，则按照证券交易所的有关规定作除权除息处理。）2、公司股东余春禄、张光秀、陈发娣、余志平承诺：自股份公司股票在证券交易所上市交易之日起三十六个月内不转让或者委托他人管理本次发行前其已持有的股份公司股份，也不由股份公司回购该部分股份。3、除上述股东外，本次发行前的公司其他 67 名自然人股东承诺：自股份公司股票在证券交易所上市交易之日起十二个月内，不转让或者委托他人管理本次发行前其已持有的股份公司股份，也不由股份公司回购该部分股份。承诺期限届满后，上述股份可以上市流通和转让。二、关于公司上市后三年稳定股价的为维护公司上市后股价的稳定，公司制定了关于稳定股价预案，该议案已经公司2014年第一次临时股东大会审议通过；具体内容如下：1、启动稳定股价预案的条件公司股票自正式挂牌上市之日起三年内，一旦出现连续20个交易日股票收盘价均低于公司最近一期经审计的每股净资产（若因除权除息等事项致使上述股票收盘价与公司最近一期经审计的每股净资产不具可比性的，上述股票收盘价应做相应调整），公司自该事项发生之日起3个交易日内启动预案。2、稳定股价预案的内容公司拟采取的股价稳定预案包括：（1）公司回购股票：公司向社会股东回购公司股票，且单一会计年度回购的资金总额不超过上一年度经审计的归属于母公司股东的净利润。（2）控股股东增持股票：控股股东通过二级市场增持公司的股票，且单一会计年度内合计增持股票的资金总额不超过上年度从公司领取的分红的80%。（3）董事及高级管理人员增持股票：董事（不含独立董事及控股股东余春明）、高级管理人员通过二级市场增持公司的股票，且单一会计年度增持股票的资金总额不超过上年度从公司领取的分红和薪酬的合计值的50%。若某一会计年度内公司股价多次达到启动稳定股价预案条件的，上述主体应在前一次股价稳定预案实施完毕3个月期间届满后，再次实施稳定股价预案。实施稳定股价预案后，公司股权分布仍应符合法律法规及交易所规定的上市条件。3、稳定股价预案的实施顺序公司股价触动预案启动的条件后，第一实施顺序是公司回购股票；第二实施顺序是控股股东增持股票；第三实施顺序是董事及高级管理人员增持股票。公司回购股票资金达到承诺的限额后，公司股价仍未达到下述“5、停止条件”的，则由控股股东履行增持义务；控股股东增持股票资金达到承诺的限额后，公司股价仍未达到下述“5、停止条件”的，则由董事及高级管理人员履行增持义务。4、启动股价稳定预案的法律程序（1）公司回购股票的实施程序公司股东大会应对回购股票做出决议，经出席会议的股东所持表决权的三分之二以上通过。股东大会对回购股票做出决议后，公司依法实施回购方案。公司实施回购方案前，应在证券登记结算机构开立由证券交易所监控的回购专用账户。公司回购的股票将于回购期届满或者回购方案实施完毕后依法注销，并办理工商变更登记手续。其他未尽事宜按照相关法律法规的规定执行。（2）控股股东、董事及高级管理人员增持股票的实施程序公司控股股东、董事和高级管理人员将严格遵守相关法律法规的要求，履行增持股票的要约、禁止交易和公告等法定义务。5、停止条件在前述“2、稳定股价预案的内容”具体预案的实施期间，如公司股票连续20 个交易日的收盘价高于最近一期经审计的每股净资产时，将停止实施稳定股价的预案。若公司新聘任董事（独立董事除外）、高级管理人员的，公司将要求该等新聘任的董事（独立董事除外）、高级管理人员履行公司上市时董事（独立董事除外）、高级管理人员已做出的相应承诺。三、公司及其控股股东、实际控制人、董事、监事、高级管理人员关于公司首次公开发行招股意向书不存在虚假记载、误导性陈述或重大遗漏的承诺公司承诺：若本公司招股意向书被中国证监会认定存在虚假记载、误导性陈述或者重大遗漏，对判断本公司是否符合法律规定的发行条件构成重大、实质影响的，本公司将在中国证监会认定有关违法事实后30天内依法回购首次公开发行的全部新股，股份回购价格按照二级市场价格确定。致使投资者在证券', metadata={'source': './test_data/03c625c108ac0137f413dfd4136adb55c74b3805.txt'}),\n",
       "  0.42798483)]"
      ]
     },
     "execution_count": 9,
     "metadata": {},
     "output_type": "execute_result"
    }
   ],
   "source": [
    "fkb.do_search(\"国元证券股份有限公司\")"
   ]
  },
  {
   "cell_type": "code",
   "execution_count": null,
   "metadata": {},
   "outputs": [],
   "source": [
    "ppppp=\"\"\"\n",
    "本次股票发行后拟在创业板市场上市，该市场具有较高的投资风险。创业\n",
    "板公司具有业绩不稳定、经营风险高、退市风险大等特点，投资者面临较大的\n",
    "市场风险。投资者应充分了解创业板市场的投资风险及本公司所披露的风险因\n",
    "素，审慎作出投资决定。\n",
    "华瑞电器股份有限公司\n",
    "Huarui Electrical Appliance Co., Ltd.\n",
    "册地址：宁波市鄞州区姜山镇科技园区\n",
    "首次公开发行股票并在创业板上市\n",
    "招股意向书\n",
    "发行人及全体董事、监事、高级管理人员承诺招股意向书不存在虚假记载、\n",
    "误导性陈述或重大遗漏，并对其真实性、准确性、完整性、及时性承担个别和连\n",
    "带的法律责任。\n",
    "发行人及全体董事、监事、高级管理人员、发行人的控股股东、实际控制人\n",
    "以及保荐人、承销的证券公司承诺因发行人招股意向书及其他信息披露资料有虚\n",
    "假记载、误导性陈述或者重大遗漏，致使投资者在证券发行和交易中遭受损失的，\n",
    "将依法赔偿投资者损失。\n",
    "\"\"\"\n",
    "%load_ext autoreload\n",
    "%autoreload 2\n",
    "from Tools.keywords_extra import LLMKeywordsEXChain\n",
    "testk=LLMKeywordsEXChain.from_llm(llm=llm)\n",
    "testk._call({\"inputs\":ppppp})"
   ]
  },
  {
   "cell_type": "code",
   "execution_count": 8,
   "metadata": {},
   "outputs": [
    {
     "name": "stdout",
     "output_type": "stream",
     "text": [
      "The autoreload extension is already loaded. To reload it, use:\n",
      "  %reload_ext autoreload\n"
     ]
    },
    {
     "name": "stderr",
     "output_type": "stream",
     "text": [
      "  1%|▏         | 1/80 [00:08<11:01,  8.37s/it]"
     ]
    },
    {
     "name": "stdout",
     "output_type": "stream",
     "text": [
      "---output\n",
      "[\"安徽黄山胶囊股份有限公司\"]\n"
     ]
    },
    {
     "name": "stderr",
     "output_type": "stream",
     "text": [
      "  2%|▎         | 2/80 [00:13<08:17,  6.37s/it]"
     ]
    },
    {
     "name": "stdout",
     "output_type": "stream",
     "text": [
      "---output\n",
      "[\"上海华铭智能终端设备股份有限公司\"]\n"
     ]
    },
    {
     "name": "stderr",
     "output_type": "stream",
     "text": [
      "  4%|▍         | 3/80 [00:19<08:15,  6.43s/it]"
     ]
    },
    {
     "name": "stdout",
     "output_type": "stream",
     "text": [
      "---output\n",
      "[\"香港交易及結算所有限公司\",\"香港聯合交易所有限公司\",\"青島銀行股份有限公司\"]\n"
     ]
    },
    {
     "name": "stderr",
     "output_type": "stream",
     "text": [
      "  5%|▌         | 4/80 [00:25<07:58,  6.29s/it]"
     ]
    },
    {
     "name": "stdout",
     "output_type": "stream",
     "text": [
      "---output\n",
      "[\"海尔施生物医药股份有限公司\"]\n"
     ]
    },
    {
     "name": "stderr",
     "output_type": "stream",
     "text": [
      "  6%|▋         | 5/80 [00:29<06:42,  5.36s/it]"
     ]
    },
    {
     "name": "stdout",
     "output_type": "stream",
     "text": [
      "---output\n",
      "[\"武汉力源信息技术股份有限公司\"]\n"
     ]
    },
    {
     "name": "stderr",
     "output_type": "stream",
     "text": [
      "  8%|▊         | 6/80 [00:34<06:23,  5.19s/it]"
     ]
    },
    {
     "name": "stdout",
     "output_type": "stream",
     "text": [
      "---output\n",
      "[\"国电电力发展股份有限公司\",\"中国国际金融有限公司\"]\n"
     ]
    },
    {
     "name": "stderr",
     "output_type": "stream",
     "text": [
      "  9%|▉         | 7/80 [00:39<06:22,  5.24s/it]"
     ]
    },
    {
     "name": "stdout",
     "output_type": "stream",
     "text": [
      "---output\n",
      "[\"昇兴集团股份有限公司\"]\n"
     ]
    },
    {
     "name": "stderr",
     "output_type": "stream",
     "text": [
      " 10%|█         | 8/80 [00:44<05:53,  4.91s/it]"
     ]
    },
    {
     "name": "stdout",
     "output_type": "stream",
     "text": [
      "---output\n",
      "[\"深圳市铁汉生态环境股份有限公司\"]\n"
     ]
    },
    {
     "name": "stderr",
     "output_type": "stream",
     "text": [
      " 11%|█▏        | 9/80 [00:47<05:19,  4.50s/it]"
     ]
    },
    {
     "name": "stdout",
     "output_type": "stream",
     "text": [
      "---output\n",
      "[\"江苏旷达汽车织物集团股份有限公司\"]\n"
     ]
    },
    {
     "name": "stderr",
     "output_type": "stream",
     "text": [
      " 12%|█▎        | 10/80 [00:53<05:36,  4.81s/it]"
     ]
    },
    {
     "name": "stdout",
     "output_type": "stream",
     "text": [
      "---output\n",
      "[\"浙江双飞无油轴承股份有限公司\"]\n"
     ]
    },
    {
     "name": "stderr",
     "output_type": "stream",
     "text": [
      " 14%|█▍        | 11/80 [00:59<06:01,  5.24s/it]"
     ]
    },
    {
     "name": "stdout",
     "output_type": "stream",
     "text": [
      "---output\n",
      "[\"上海真兰仪表科技股份有限公司\"]\n"
     ]
    },
    {
     "name": "stderr",
     "output_type": "stream",
     "text": [
      " 14%|█▍        | 11/80 [01:01<06:25,  5.59s/it]\n"
     ]
    },
    {
     "ename": "KeyboardInterrupt",
     "evalue": "",
     "output_type": "error",
     "traceback": [
      "\u001b[1;31m---------------------------------------------------------------------------\u001b[0m",
      "\u001b[1;31mKeyboardInterrupt\u001b[0m                         Traceback (most recent call last)",
      "\u001b[1;32mi:\\自然语言学习\\TIANCHIchampion\\qwen-qa\\test.ipynb 单元格 6\u001b[0m line \u001b[0;36m7\n\u001b[0;32m      <a href='vscode-notebook-cell:/i%3A/%E8%87%AA%E7%84%B6%E8%AF%AD%E8%A8%80%E5%AD%A6%E4%B9%A0/TIANCHIchampion/qwen-qa/test.ipynb#W5sZmlsZQ%3D%3D?line=3'>4</a>\u001b[0m \u001b[39mfrom\u001b[39;00m \u001b[39mconfig\u001b[39;00m \u001b[39mimport\u001b[39;00m QWEN_CONFIG\n\u001b[0;32m      <a href='vscode-notebook-cell:/i%3A/%E8%87%AA%E7%84%B6%E8%AF%AD%E8%A8%80%E5%AD%A6%E4%B9%A0/TIANCHIchampion/qwen-qa/test.ipynb#W5sZmlsZQ%3D%3D?line=4'>5</a>\u001b[0m cfg \u001b[39m=\u001b[39m QWEN_CONFIG(api_key\u001b[39m=\u001b[39m\u001b[39m'\u001b[39m\u001b[39mapikey\u001b[39m\u001b[39m'\u001b[39m,\n\u001b[0;32m      <a href='vscode-notebook-cell:/i%3A/%E8%87%AA%E7%84%B6%E8%AF%AD%E8%A8%80%E5%AD%A6%E4%B9%A0/TIANCHIchampion/qwen-qa/test.ipynb#W5sZmlsZQ%3D%3D?line=5'>6</a>\u001b[0m                   embedding_name\u001b[39m=\u001b[39m\u001b[39m'\u001b[39m\u001b[39mtext_embedding_async_v1\u001b[39m\u001b[39m'\u001b[39m)\n\u001b[1;32m----> <a href='vscode-notebook-cell:/i%3A/%E8%87%AA%E7%84%B6%E8%AF%AD%E8%A8%80%E5%AD%A6%E4%B9%A0/TIANCHIchampion/qwen-qa/test.ipynb#W5sZmlsZQ%3D%3D?line=6'>7</a>\u001b[0m load_dir_txt_process(txt_dir\u001b[39m=\u001b[39;49m\u001b[39m'\u001b[39;49m\u001b[39m../../bs_challenge_financial_14b_dataset/pdf_txt_file/\u001b[39;49m\u001b[39m'\u001b[39;49m,\n\u001b[0;32m      <a href='vscode-notebook-cell:/i%3A/%E8%87%AA%E7%84%B6%E8%AF%AD%E8%A8%80%E5%AD%A6%E4%B9%A0/TIANCHIchampion/qwen-qa/test.ipynb#W5sZmlsZQ%3D%3D?line=7'>8</a>\u001b[0m                      pdf_dir\u001b[39m=\u001b[39;49m\u001b[39m'\u001b[39;49m\u001b[39m../../bs_challenge_financial_14b_dataset/pdf/\u001b[39;49m\u001b[39m'\u001b[39;49m,\n\u001b[0;32m      <a href='vscode-notebook-cell:/i%3A/%E8%87%AA%E7%84%B6%E8%AF%AD%E8%A8%80%E5%AD%A6%E4%B9%A0/TIANCHIchampion/qwen-qa/test.ipynb#W5sZmlsZQ%3D%3D?line=8'>9</a>\u001b[0m                      cfg\u001b[39m=\u001b[39;49mcfg\n\u001b[0;32m     <a href='vscode-notebook-cell:/i%3A/%E8%87%AA%E7%84%B6%E8%AF%AD%E8%A8%80%E5%AD%A6%E4%B9%A0/TIANCHIchampion/qwen-qa/test.ipynb#W5sZmlsZQ%3D%3D?line=9'>10</a>\u001b[0m                      )\n",
      "File \u001b[1;32mi:\\自然语言学习\\TIANCHIchampion\\qwen-qa\\TxtProcess.py:166\u001b[0m, in \u001b[0;36mload_dir_txt_process\u001b[1;34m(txt_dir, pdf_dir, cfg)\u001b[0m\n\u001b[0;32m    164\u001b[0m     companys\u001b[39m=\u001b[39mfind_company(first_page)\n\u001b[0;32m    165\u001b[0m     companys\u001b[39m=\u001b[39m\u001b[39m'\u001b[39m\u001b[39m,\u001b[39m\u001b[39m'\u001b[39m\u001b[39m.\u001b[39mjoin(companys)\n\u001b[1;32m--> 166\u001b[0m llmout\u001b[39m=\u001b[39mllm_chain\u001b[39m.\u001b[39;49mpredict(\n\u001b[0;32m    167\u001b[0m     content\u001b[39m=\u001b[39;49mcompanys,\n\u001b[0;32m    168\u001b[0m     stop\u001b[39m=\u001b[39;49m[\u001b[39m'\u001b[39;49m\u001b[39m---output\u001b[39;49m\u001b[39m'\u001b[39;49m],\n\u001b[0;32m    169\u001b[0m     callbacks\u001b[39m=\u001b[39;49mCallbackManagerForChainRun\u001b[39m.\u001b[39;49mget_noop_manager()\n\u001b[0;32m    170\u001b[0m     )\n\u001b[0;32m    171\u001b[0m \u001b[39mprint\u001b[39m(llmout)\n",
      "File \u001b[1;32mf:\\Anaconda\\envs\\torch\\lib\\site-packages\\langchain\\chains\\llm.py:298\u001b[0m, in \u001b[0;36mLLMChain.predict\u001b[1;34m(self, callbacks, **kwargs)\u001b[0m\n\u001b[0;32m    283\u001b[0m \u001b[39mdef\u001b[39;00m \u001b[39mpredict\u001b[39m(\u001b[39mself\u001b[39m, callbacks: Callbacks \u001b[39m=\u001b[39m \u001b[39mNone\u001b[39;00m, \u001b[39m*\u001b[39m\u001b[39m*\u001b[39mkwargs: Any) \u001b[39m-\u001b[39m\u001b[39m>\u001b[39m \u001b[39mstr\u001b[39m:\n\u001b[0;32m    284\u001b[0m \u001b[39m    \u001b[39m\u001b[39m\"\"\"Format prompt with kwargs and pass to LLM.\u001b[39;00m\n\u001b[0;32m    285\u001b[0m \n\u001b[0;32m    286\u001b[0m \u001b[39m    Args:\u001b[39;00m\n\u001b[1;32m   (...)\u001b[0m\n\u001b[0;32m    296\u001b[0m \u001b[39m            completion = llm.predict(adjective=\"funny\")\u001b[39;00m\n\u001b[0;32m    297\u001b[0m \u001b[39m    \"\"\"\u001b[39;00m\n\u001b[1;32m--> 298\u001b[0m     \u001b[39mreturn\u001b[39;00m \u001b[39mself\u001b[39;49m(kwargs, callbacks\u001b[39m=\u001b[39;49mcallbacks)[\u001b[39mself\u001b[39m\u001b[39m.\u001b[39moutput_key]\n",
      "File \u001b[1;32mf:\\Anaconda\\envs\\torch\\lib\\site-packages\\langchain\\chains\\base.py:310\u001b[0m, in \u001b[0;36mChain.__call__\u001b[1;34m(self, inputs, return_only_outputs, callbacks, tags, metadata, run_name, include_run_info)\u001b[0m\n\u001b[0;32m    308\u001b[0m \u001b[39mexcept\u001b[39;00m \u001b[39mBaseException\u001b[39;00m \u001b[39mas\u001b[39;00m e:\n\u001b[0;32m    309\u001b[0m     run_manager\u001b[39m.\u001b[39mon_chain_error(e)\n\u001b[1;32m--> 310\u001b[0m     \u001b[39mraise\u001b[39;00m e\n\u001b[0;32m    311\u001b[0m run_manager\u001b[39m.\u001b[39mon_chain_end(outputs)\n\u001b[0;32m    312\u001b[0m final_outputs: Dict[\u001b[39mstr\u001b[39m, Any] \u001b[39m=\u001b[39m \u001b[39mself\u001b[39m\u001b[39m.\u001b[39mprep_outputs(\n\u001b[0;32m    313\u001b[0m     inputs, outputs, return_only_outputs\n\u001b[0;32m    314\u001b[0m )\n",
      "File \u001b[1;32mf:\\Anaconda\\envs\\torch\\lib\\site-packages\\langchain\\chains\\base.py:304\u001b[0m, in \u001b[0;36mChain.__call__\u001b[1;34m(self, inputs, return_only_outputs, callbacks, tags, metadata, run_name, include_run_info)\u001b[0m\n\u001b[0;32m    297\u001b[0m run_manager \u001b[39m=\u001b[39m callback_manager\u001b[39m.\u001b[39mon_chain_start(\n\u001b[0;32m    298\u001b[0m     dumpd(\u001b[39mself\u001b[39m),\n\u001b[0;32m    299\u001b[0m     inputs,\n\u001b[0;32m    300\u001b[0m     name\u001b[39m=\u001b[39mrun_name,\n\u001b[0;32m    301\u001b[0m )\n\u001b[0;32m    302\u001b[0m \u001b[39mtry\u001b[39;00m:\n\u001b[0;32m    303\u001b[0m     outputs \u001b[39m=\u001b[39m (\n\u001b[1;32m--> 304\u001b[0m         \u001b[39mself\u001b[39;49m\u001b[39m.\u001b[39;49m_call(inputs, run_manager\u001b[39m=\u001b[39;49mrun_manager)\n\u001b[0;32m    305\u001b[0m         \u001b[39mif\u001b[39;00m new_arg_supported\n\u001b[0;32m    306\u001b[0m         \u001b[39melse\u001b[39;00m \u001b[39mself\u001b[39m\u001b[39m.\u001b[39m_call(inputs)\n\u001b[0;32m    307\u001b[0m     )\n\u001b[0;32m    308\u001b[0m \u001b[39mexcept\u001b[39;00m \u001b[39mBaseException\u001b[39;00m \u001b[39mas\u001b[39;00m e:\n\u001b[0;32m    309\u001b[0m     run_manager\u001b[39m.\u001b[39mon_chain_error(e)\n",
      "File \u001b[1;32mf:\\Anaconda\\envs\\torch\\lib\\site-packages\\langchain\\chains\\llm.py:108\u001b[0m, in \u001b[0;36mLLMChain._call\u001b[1;34m(self, inputs, run_manager)\u001b[0m\n\u001b[0;32m    103\u001b[0m \u001b[39mdef\u001b[39;00m \u001b[39m_call\u001b[39m(\n\u001b[0;32m    104\u001b[0m     \u001b[39mself\u001b[39m,\n\u001b[0;32m    105\u001b[0m     inputs: Dict[\u001b[39mstr\u001b[39m, Any],\n\u001b[0;32m    106\u001b[0m     run_manager: Optional[CallbackManagerForChainRun] \u001b[39m=\u001b[39m \u001b[39mNone\u001b[39;00m,\n\u001b[0;32m    107\u001b[0m ) \u001b[39m-\u001b[39m\u001b[39m>\u001b[39m Dict[\u001b[39mstr\u001b[39m, \u001b[39mstr\u001b[39m]:\n\u001b[1;32m--> 108\u001b[0m     response \u001b[39m=\u001b[39m \u001b[39mself\u001b[39;49m\u001b[39m.\u001b[39;49mgenerate([inputs], run_manager\u001b[39m=\u001b[39;49mrun_manager)\n\u001b[0;32m    109\u001b[0m     \u001b[39mreturn\u001b[39;00m \u001b[39mself\u001b[39m\u001b[39m.\u001b[39mcreate_outputs(response)[\u001b[39m0\u001b[39m]\n",
      "File \u001b[1;32mf:\\Anaconda\\envs\\torch\\lib\\site-packages\\langchain\\chains\\llm.py:120\u001b[0m, in \u001b[0;36mLLMChain.generate\u001b[1;34m(self, input_list, run_manager)\u001b[0m\n\u001b[0;32m    118\u001b[0m callbacks \u001b[39m=\u001b[39m run_manager\u001b[39m.\u001b[39mget_child() \u001b[39mif\u001b[39;00m run_manager \u001b[39melse\u001b[39;00m \u001b[39mNone\u001b[39;00m\n\u001b[0;32m    119\u001b[0m \u001b[39mif\u001b[39;00m \u001b[39misinstance\u001b[39m(\u001b[39mself\u001b[39m\u001b[39m.\u001b[39mllm, BaseLanguageModel):\n\u001b[1;32m--> 120\u001b[0m     \u001b[39mreturn\u001b[39;00m \u001b[39mself\u001b[39;49m\u001b[39m.\u001b[39;49mllm\u001b[39m.\u001b[39;49mgenerate_prompt(\n\u001b[0;32m    121\u001b[0m         prompts,\n\u001b[0;32m    122\u001b[0m         stop,\n\u001b[0;32m    123\u001b[0m         callbacks\u001b[39m=\u001b[39;49mcallbacks,\n\u001b[0;32m    124\u001b[0m         \u001b[39m*\u001b[39;49m\u001b[39m*\u001b[39;49m\u001b[39mself\u001b[39;49m\u001b[39m.\u001b[39;49mllm_kwargs,\n\u001b[0;32m    125\u001b[0m     )\n\u001b[0;32m    126\u001b[0m \u001b[39melse\u001b[39;00m:\n\u001b[0;32m    127\u001b[0m     results \u001b[39m=\u001b[39m \u001b[39mself\u001b[39m\u001b[39m.\u001b[39mllm\u001b[39m.\u001b[39mbind(stop\u001b[39m=\u001b[39mstop, \u001b[39m*\u001b[39m\u001b[39m*\u001b[39m\u001b[39mself\u001b[39m\u001b[39m.\u001b[39mllm_kwargs)\u001b[39m.\u001b[39mbatch(\n\u001b[0;32m    128\u001b[0m         cast(List, prompts), {\u001b[39m\"\u001b[39m\u001b[39mcallbacks\u001b[39m\u001b[39m\"\u001b[39m: callbacks}\n\u001b[0;32m    129\u001b[0m     )\n",
      "File \u001b[1;32mf:\\Anaconda\\envs\\torch\\lib\\site-packages\\langchain\\llms\\base.py:507\u001b[0m, in \u001b[0;36mBaseLLM.generate_prompt\u001b[1;34m(self, prompts, stop, callbacks, **kwargs)\u001b[0m\n\u001b[0;32m    499\u001b[0m \u001b[39mdef\u001b[39;00m \u001b[39mgenerate_prompt\u001b[39m(\n\u001b[0;32m    500\u001b[0m     \u001b[39mself\u001b[39m,\n\u001b[0;32m    501\u001b[0m     prompts: List[PromptValue],\n\u001b[1;32m   (...)\u001b[0m\n\u001b[0;32m    504\u001b[0m     \u001b[39m*\u001b[39m\u001b[39m*\u001b[39mkwargs: Any,\n\u001b[0;32m    505\u001b[0m ) \u001b[39m-\u001b[39m\u001b[39m>\u001b[39m LLMResult:\n\u001b[0;32m    506\u001b[0m     prompt_strings \u001b[39m=\u001b[39m [p\u001b[39m.\u001b[39mto_string() \u001b[39mfor\u001b[39;00m p \u001b[39min\u001b[39;00m prompts]\n\u001b[1;32m--> 507\u001b[0m     \u001b[39mreturn\u001b[39;00m \u001b[39mself\u001b[39;49m\u001b[39m.\u001b[39;49mgenerate(prompt_strings, stop\u001b[39m=\u001b[39;49mstop, callbacks\u001b[39m=\u001b[39;49mcallbacks, \u001b[39m*\u001b[39;49m\u001b[39m*\u001b[39;49mkwargs)\n",
      "File \u001b[1;32mf:\\Anaconda\\envs\\torch\\lib\\site-packages\\langchain\\llms\\base.py:656\u001b[0m, in \u001b[0;36mBaseLLM.generate\u001b[1;34m(self, prompts, stop, callbacks, tags, metadata, run_name, **kwargs)\u001b[0m\n\u001b[0;32m    641\u001b[0m         \u001b[39mraise\u001b[39;00m \u001b[39mValueError\u001b[39;00m(\n\u001b[0;32m    642\u001b[0m             \u001b[39m\"\u001b[39m\u001b[39mAsked to cache, but no cache found at `langchain.cache`.\u001b[39m\u001b[39m\"\u001b[39m\n\u001b[0;32m    643\u001b[0m         )\n\u001b[0;32m    644\u001b[0m     run_managers \u001b[39m=\u001b[39m [\n\u001b[0;32m    645\u001b[0m         callback_manager\u001b[39m.\u001b[39mon_llm_start(\n\u001b[0;32m    646\u001b[0m             dumpd(\u001b[39mself\u001b[39m),\n\u001b[1;32m   (...)\u001b[0m\n\u001b[0;32m    654\u001b[0m         )\n\u001b[0;32m    655\u001b[0m     ]\n\u001b[1;32m--> 656\u001b[0m     output \u001b[39m=\u001b[39m \u001b[39mself\u001b[39;49m\u001b[39m.\u001b[39;49m_generate_helper(\n\u001b[0;32m    657\u001b[0m         prompts, stop, run_managers, \u001b[39mbool\u001b[39;49m(new_arg_supported), \u001b[39m*\u001b[39;49m\u001b[39m*\u001b[39;49mkwargs\n\u001b[0;32m    658\u001b[0m     )\n\u001b[0;32m    659\u001b[0m     \u001b[39mreturn\u001b[39;00m output\n\u001b[0;32m    660\u001b[0m \u001b[39mif\u001b[39;00m \u001b[39mlen\u001b[39m(missing_prompts) \u001b[39m>\u001b[39m \u001b[39m0\u001b[39m:\n",
      "File \u001b[1;32mf:\\Anaconda\\envs\\torch\\lib\\site-packages\\langchain\\llms\\base.py:544\u001b[0m, in \u001b[0;36mBaseLLM._generate_helper\u001b[1;34m(self, prompts, stop, run_managers, new_arg_supported, **kwargs)\u001b[0m\n\u001b[0;32m    542\u001b[0m     \u001b[39mfor\u001b[39;00m run_manager \u001b[39min\u001b[39;00m run_managers:\n\u001b[0;32m    543\u001b[0m         run_manager\u001b[39m.\u001b[39mon_llm_error(e)\n\u001b[1;32m--> 544\u001b[0m     \u001b[39mraise\u001b[39;00m e\n\u001b[0;32m    545\u001b[0m flattened_outputs \u001b[39m=\u001b[39m output\u001b[39m.\u001b[39mflatten()\n\u001b[0;32m    546\u001b[0m \u001b[39mfor\u001b[39;00m manager, flattened_output \u001b[39min\u001b[39;00m \u001b[39mzip\u001b[39m(run_managers, flattened_outputs):\n",
      "File \u001b[1;32mf:\\Anaconda\\envs\\torch\\lib\\site-packages\\langchain\\llms\\base.py:531\u001b[0m, in \u001b[0;36mBaseLLM._generate_helper\u001b[1;34m(self, prompts, stop, run_managers, new_arg_supported, **kwargs)\u001b[0m\n\u001b[0;32m    521\u001b[0m \u001b[39mdef\u001b[39;00m \u001b[39m_generate_helper\u001b[39m(\n\u001b[0;32m    522\u001b[0m     \u001b[39mself\u001b[39m,\n\u001b[0;32m    523\u001b[0m     prompts: List[\u001b[39mstr\u001b[39m],\n\u001b[1;32m   (...)\u001b[0m\n\u001b[0;32m    527\u001b[0m     \u001b[39m*\u001b[39m\u001b[39m*\u001b[39mkwargs: Any,\n\u001b[0;32m    528\u001b[0m ) \u001b[39m-\u001b[39m\u001b[39m>\u001b[39m LLMResult:\n\u001b[0;32m    529\u001b[0m     \u001b[39mtry\u001b[39;00m:\n\u001b[0;32m    530\u001b[0m         output \u001b[39m=\u001b[39m (\n\u001b[1;32m--> 531\u001b[0m             \u001b[39mself\u001b[39;49m\u001b[39m.\u001b[39;49m_generate(\n\u001b[0;32m    532\u001b[0m                 prompts,\n\u001b[0;32m    533\u001b[0m                 stop\u001b[39m=\u001b[39;49mstop,\n\u001b[0;32m    534\u001b[0m                 \u001b[39m# TODO: support multiple run managers\u001b[39;49;00m\n\u001b[0;32m    535\u001b[0m                 run_manager\u001b[39m=\u001b[39;49mrun_managers[\u001b[39m0\u001b[39;49m] \u001b[39mif\u001b[39;49;00m run_managers \u001b[39melse\u001b[39;49;00m \u001b[39mNone\u001b[39;49;00m,\n\u001b[0;32m    536\u001b[0m                 \u001b[39m*\u001b[39;49m\u001b[39m*\u001b[39;49mkwargs,\n\u001b[0;32m    537\u001b[0m             )\n\u001b[0;32m    538\u001b[0m             \u001b[39mif\u001b[39;00m new_arg_supported\n\u001b[0;32m    539\u001b[0m             \u001b[39melse\u001b[39;00m \u001b[39mself\u001b[39m\u001b[39m.\u001b[39m_generate(prompts, stop\u001b[39m=\u001b[39mstop)\n\u001b[0;32m    540\u001b[0m         )\n\u001b[0;32m    541\u001b[0m     \u001b[39mexcept\u001b[39;00m \u001b[39mBaseException\u001b[39;00m \u001b[39mas\u001b[39;00m e:\n\u001b[0;32m    542\u001b[0m         \u001b[39mfor\u001b[39;00m run_manager \u001b[39min\u001b[39;00m run_managers:\n",
      "File \u001b[1;32mf:\\Anaconda\\envs\\torch\\lib\\site-packages\\langchain\\llms\\base.py:1053\u001b[0m, in \u001b[0;36mLLM._generate\u001b[1;34m(self, prompts, stop, run_manager, **kwargs)\u001b[0m\n\u001b[0;32m   1050\u001b[0m new_arg_supported \u001b[39m=\u001b[39m inspect\u001b[39m.\u001b[39msignature(\u001b[39mself\u001b[39m\u001b[39m.\u001b[39m_call)\u001b[39m.\u001b[39mparameters\u001b[39m.\u001b[39mget(\u001b[39m\"\u001b[39m\u001b[39mrun_manager\u001b[39m\u001b[39m\"\u001b[39m)\n\u001b[0;32m   1051\u001b[0m \u001b[39mfor\u001b[39;00m prompt \u001b[39min\u001b[39;00m prompts:\n\u001b[0;32m   1052\u001b[0m     text \u001b[39m=\u001b[39m (\n\u001b[1;32m-> 1053\u001b[0m         \u001b[39mself\u001b[39;49m\u001b[39m.\u001b[39;49m_call(prompt, stop\u001b[39m=\u001b[39;49mstop, run_manager\u001b[39m=\u001b[39;49mrun_manager, \u001b[39m*\u001b[39;49m\u001b[39m*\u001b[39;49mkwargs)\n\u001b[0;32m   1054\u001b[0m         \u001b[39mif\u001b[39;00m new_arg_supported\n\u001b[0;32m   1055\u001b[0m         \u001b[39melse\u001b[39;00m \u001b[39mself\u001b[39m\u001b[39m.\u001b[39m_call(prompt, stop\u001b[39m=\u001b[39mstop, \u001b[39m*\u001b[39m\u001b[39m*\u001b[39mkwargs)\n\u001b[0;32m   1056\u001b[0m     )\n\u001b[0;32m   1057\u001b[0m     generations\u001b[39m.\u001b[39mappend([Generation(text\u001b[39m=\u001b[39mtext)])\n\u001b[0;32m   1058\u001b[0m \u001b[39mreturn\u001b[39;00m LLMResult(generations\u001b[39m=\u001b[39mgenerations)\n",
      "File \u001b[1;32mi:\\自然语言学习\\TIANCHIchampion\\qwen-qa\\CustomLLM.py:108\u001b[0m, in \u001b[0;36mQWENonlie._call\u001b[1;34m(self, prompt, stop, run_manager, **kwargs)\u001b[0m\n\u001b[0;32m    106\u001b[0m _run_manager \u001b[39m=\u001b[39m run_manager \u001b[39mor\u001b[39;00m CallbackManagerForLLMRun\u001b[39m.\u001b[39mget_noop_manager()\n\u001b[0;32m    107\u001b[0m dashscope\u001b[39m.\u001b[39mapi_key\u001b[39m=\u001b[39m\u001b[39mself\u001b[39m\u001b[39m.\u001b[39mapi_key\n\u001b[1;32m--> 108\u001b[0m response\u001b[39m=\u001b[39mGeneration\u001b[39m.\u001b[39;49mcall(\n\u001b[0;32m    109\u001b[0m     model\u001b[39m=\u001b[39;49m\u001b[39mself\u001b[39;49m\u001b[39m.\u001b[39;49mmodel_name,\n\u001b[0;32m    110\u001b[0m     prompt\u001b[39m=\u001b[39;49mprompt,\n\u001b[0;32m    111\u001b[0m     api_key\u001b[39m=\u001b[39;49m\u001b[39mself\u001b[39;49m\u001b[39m.\u001b[39;49mapi_key,\n\u001b[0;32m    112\u001b[0m     max_tokens\u001b[39m=\u001b[39;49m\u001b[39mself\u001b[39;49m\u001b[39m.\u001b[39;49mmax_token,\n\u001b[0;32m    113\u001b[0m     temperature\u001b[39m=\u001b[39;49m\u001b[39mself\u001b[39;49m\u001b[39m.\u001b[39;49mtemperature,\n\u001b[0;32m    114\u001b[0m     stop\u001b[39m=\u001b[39;49m\u001b[39mNone\u001b[39;49;00m,\n\u001b[0;32m    115\u001b[0m     seed\u001b[39m=\u001b[39;49m\u001b[39m42\u001b[39;49m,\n\u001b[0;32m    116\u001b[0m     result_format\u001b[39m=\u001b[39;49m\u001b[39m'\u001b[39;49m\u001b[39mtext\u001b[39;49m\u001b[39m'\u001b[39;49m\n\u001b[0;32m    117\u001b[0m )\n\u001b[0;32m    118\u001b[0m \u001b[39mif\u001b[39;00m response\u001b[39m.\u001b[39mstatus_code \u001b[39m==\u001b[39m HTTPStatus\u001b[39m.\u001b[39mOK:\n\u001b[0;32m    119\u001b[0m     message\u001b[39m=\u001b[39mresponse\u001b[39m.\u001b[39moutput\u001b[39m.\u001b[39mtext\n",
      "File \u001b[1;32mf:\\Anaconda\\envs\\torch\\lib\\site-packages\\dashscope\\aigc\\generation.py:136\u001b[0m, in \u001b[0;36mGeneration.call\u001b[1;34m(cls, model, prompt, history, api_key, messages, plugins, **kwargs)\u001b[0m\n\u001b[0;32m    133\u001b[0m     kwargs[\u001b[39m'\u001b[39m\u001b[39mheaders\u001b[39m\u001b[39m'\u001b[39m] \u001b[39m=\u001b[39m headers\n\u001b[0;32m    134\u001b[0m \u001b[39minput\u001b[39m, parameters \u001b[39m=\u001b[39m \u001b[39mcls\u001b[39m\u001b[39m.\u001b[39m_build_input_parameters(\n\u001b[0;32m    135\u001b[0m     model, prompt, history, messages, \u001b[39m*\u001b[39m\u001b[39m*\u001b[39mkwargs)\n\u001b[1;32m--> 136\u001b[0m response \u001b[39m=\u001b[39m \u001b[39msuper\u001b[39;49m()\u001b[39m.\u001b[39;49mcall(model\u001b[39m=\u001b[39;49mmodel,\n\u001b[0;32m    137\u001b[0m                         task_group\u001b[39m=\u001b[39;49mtask_group,\n\u001b[0;32m    138\u001b[0m                         task\u001b[39m=\u001b[39;49mGeneration\u001b[39m.\u001b[39;49mtask,\n\u001b[0;32m    139\u001b[0m                         function\u001b[39m=\u001b[39;49mfunction,\n\u001b[0;32m    140\u001b[0m                         api_key\u001b[39m=\u001b[39;49mapi_key,\n\u001b[0;32m    141\u001b[0m                         \u001b[39minput\u001b[39;49m\u001b[39m=\u001b[39;49m\u001b[39minput\u001b[39;49m,\n\u001b[0;32m    142\u001b[0m                         \u001b[39m*\u001b[39;49m\u001b[39m*\u001b[39;49mparameters)\n\u001b[0;32m    143\u001b[0m is_stream \u001b[39m=\u001b[39m kwargs\u001b[39m.\u001b[39mget(\u001b[39m'\u001b[39m\u001b[39mstream\u001b[39m\u001b[39m'\u001b[39m, \u001b[39mFalse\u001b[39;00m)\n\u001b[0;32m    144\u001b[0m \u001b[39mif\u001b[39;00m is_stream:\n",
      "File \u001b[1;32mf:\\Anaconda\\envs\\torch\\lib\\site-packages\\dashscope\\client\\base_api.py:135\u001b[0m, in \u001b[0;36mBaseApi.call\u001b[1;34m(cls, model, input, task_group, task, function, api_key, **kwargs)\u001b[0m\n\u001b[0;32m    127\u001b[0m request \u001b[39m=\u001b[39m _build_api_request(model\u001b[39m=\u001b[39mmodel,\n\u001b[0;32m    128\u001b[0m                              \u001b[39minput\u001b[39m\u001b[39m=\u001b[39m\u001b[39minput\u001b[39m,\n\u001b[0;32m    129\u001b[0m                              task_group\u001b[39m=\u001b[39mtask_group,\n\u001b[1;32m   (...)\u001b[0m\n\u001b[0;32m    132\u001b[0m                              api_key\u001b[39m=\u001b[39mapi_key,\n\u001b[0;32m    133\u001b[0m                              \u001b[39m*\u001b[39m\u001b[39m*\u001b[39mkwargs)\n\u001b[0;32m    134\u001b[0m \u001b[39m# call request service.\u001b[39;00m\n\u001b[1;32m--> 135\u001b[0m \u001b[39mreturn\u001b[39;00m request\u001b[39m.\u001b[39;49mcall()\n",
      "File \u001b[1;32mf:\\Anaconda\\envs\\torch\\lib\\site-packages\\dashscope\\api_entities\\http_request.py:79\u001b[0m, in \u001b[0;36mHttpRequest.call\u001b[1;34m(self)\u001b[0m\n\u001b[0;32m     77\u001b[0m     \u001b[39mreturn\u001b[39;00m (item \u001b[39mfor\u001b[39;00m item \u001b[39min\u001b[39;00m response)\n\u001b[0;32m     78\u001b[0m \u001b[39melse\u001b[39;00m:\n\u001b[1;32m---> 79\u001b[0m     output \u001b[39m=\u001b[39m \u001b[39mnext\u001b[39;49m(response)\n\u001b[0;32m     80\u001b[0m     \u001b[39mtry\u001b[39;00m:\n\u001b[0;32m     81\u001b[0m         \u001b[39mnext\u001b[39m(response)\n",
      "File \u001b[1;32mf:\\Anaconda\\envs\\torch\\lib\\site-packages\\dashscope\\api_entities\\http_request.py:208\u001b[0m, in \u001b[0;36mHttpRequest._handle_request\u001b[1;34m(self)\u001b[0m\n\u001b[0;32m    206\u001b[0m     \u001b[39melse\u001b[39;00m:\n\u001b[0;32m    207\u001b[0m         logger\u001b[39m.\u001b[39mdebug(\u001b[39m'\u001b[39m\u001b[39mRequest body: \u001b[39m\u001b[39m%s\u001b[39;00m\u001b[39m'\u001b[39m \u001b[39m%\u001b[39m obj)\n\u001b[1;32m--> 208\u001b[0m         response \u001b[39m=\u001b[39m session\u001b[39m.\u001b[39;49mpost(url\u001b[39m=\u001b[39;49m\u001b[39mself\u001b[39;49m\u001b[39m.\u001b[39;49murl,\n\u001b[0;32m    209\u001b[0m                                 stream\u001b[39m=\u001b[39;49m\u001b[39mself\u001b[39;49m\u001b[39m.\u001b[39;49mstream,\n\u001b[0;32m    210\u001b[0m                                 json\u001b[39m=\u001b[39;49mobj,\n\u001b[0;32m    211\u001b[0m                                 headers\u001b[39m=\u001b[39;49m{\u001b[39m*\u001b[39;49m\u001b[39m*\u001b[39;49m\u001b[39mself\u001b[39;49m\u001b[39m.\u001b[39;49mheaders},\n\u001b[0;32m    212\u001b[0m                                 timeout\u001b[39m=\u001b[39;49m\u001b[39mself\u001b[39;49m\u001b[39m.\u001b[39;49mtimeout)\n\u001b[0;32m    213\u001b[0m \u001b[39melif\u001b[39;00m \u001b[39mself\u001b[39m\u001b[39m.\u001b[39mmethod \u001b[39m==\u001b[39m HTTPMethod\u001b[39m.\u001b[39mGET:\n\u001b[0;32m    214\u001b[0m     response \u001b[39m=\u001b[39m session\u001b[39m.\u001b[39mget(url\u001b[39m=\u001b[39m\u001b[39mself\u001b[39m\u001b[39m.\u001b[39murl,\n\u001b[0;32m    215\u001b[0m                            params\u001b[39m=\u001b[39m\u001b[39mself\u001b[39m\u001b[39m.\u001b[39mdata\u001b[39m.\u001b[39mparameters,\n\u001b[0;32m    216\u001b[0m                            headers\u001b[39m=\u001b[39m\u001b[39mself\u001b[39m\u001b[39m.\u001b[39mheaders,\n\u001b[0;32m    217\u001b[0m                            timeout\u001b[39m=\u001b[39m\u001b[39mself\u001b[39m\u001b[39m.\u001b[39mtimeout)\n",
      "File \u001b[1;32m~\\AppData\\Roaming\\Python\\Python38\\site-packages\\requests\\sessions.py:635\u001b[0m, in \u001b[0;36mSession.post\u001b[1;34m(self, url, data, json, **kwargs)\u001b[0m\n\u001b[0;32m    624\u001b[0m \u001b[39mdef\u001b[39;00m \u001b[39mpost\u001b[39m(\u001b[39mself\u001b[39m, url, data\u001b[39m=\u001b[39m\u001b[39mNone\u001b[39;00m, json\u001b[39m=\u001b[39m\u001b[39mNone\u001b[39;00m, \u001b[39m*\u001b[39m\u001b[39m*\u001b[39mkwargs):\n\u001b[0;32m    625\u001b[0m \u001b[39m    \u001b[39m\u001b[39mr\u001b[39m\u001b[39m\"\"\"Sends a POST request. Returns :class:`Response` object.\u001b[39;00m\n\u001b[0;32m    626\u001b[0m \n\u001b[0;32m    627\u001b[0m \u001b[39m    :param url: URL for the new :class:`Request` object.\u001b[39;00m\n\u001b[1;32m   (...)\u001b[0m\n\u001b[0;32m    632\u001b[0m \u001b[39m    :rtype: requests.Response\u001b[39;00m\n\u001b[0;32m    633\u001b[0m \u001b[39m    \"\"\"\u001b[39;00m\n\u001b[1;32m--> 635\u001b[0m     \u001b[39mreturn\u001b[39;00m \u001b[39mself\u001b[39;49m\u001b[39m.\u001b[39;49mrequest(\u001b[39m\"\u001b[39;49m\u001b[39mPOST\u001b[39;49m\u001b[39m\"\u001b[39;49m, url, data\u001b[39m=\u001b[39;49mdata, json\u001b[39m=\u001b[39;49mjson, \u001b[39m*\u001b[39;49m\u001b[39m*\u001b[39;49mkwargs)\n",
      "File \u001b[1;32m~\\AppData\\Roaming\\Python\\Python38\\site-packages\\requests\\sessions.py:587\u001b[0m, in \u001b[0;36mSession.request\u001b[1;34m(self, method, url, params, data, headers, cookies, files, auth, timeout, allow_redirects, proxies, hooks, stream, verify, cert, json)\u001b[0m\n\u001b[0;32m    582\u001b[0m send_kwargs \u001b[39m=\u001b[39m {\n\u001b[0;32m    583\u001b[0m     \u001b[39m\"\u001b[39m\u001b[39mtimeout\u001b[39m\u001b[39m\"\u001b[39m: timeout,\n\u001b[0;32m    584\u001b[0m     \u001b[39m\"\u001b[39m\u001b[39mallow_redirects\u001b[39m\u001b[39m\"\u001b[39m: allow_redirects,\n\u001b[0;32m    585\u001b[0m }\n\u001b[0;32m    586\u001b[0m send_kwargs\u001b[39m.\u001b[39mupdate(settings)\n\u001b[1;32m--> 587\u001b[0m resp \u001b[39m=\u001b[39m \u001b[39mself\u001b[39;49m\u001b[39m.\u001b[39;49msend(prep, \u001b[39m*\u001b[39;49m\u001b[39m*\u001b[39;49msend_kwargs)\n\u001b[0;32m    589\u001b[0m \u001b[39mreturn\u001b[39;00m resp\n",
      "File \u001b[1;32m~\\AppData\\Roaming\\Python\\Python38\\site-packages\\requests\\sessions.py:701\u001b[0m, in \u001b[0;36mSession.send\u001b[1;34m(self, request, **kwargs)\u001b[0m\n\u001b[0;32m    698\u001b[0m start \u001b[39m=\u001b[39m preferred_clock()\n\u001b[0;32m    700\u001b[0m \u001b[39m# Send the request\u001b[39;00m\n\u001b[1;32m--> 701\u001b[0m r \u001b[39m=\u001b[39m adapter\u001b[39m.\u001b[39;49msend(request, \u001b[39m*\u001b[39;49m\u001b[39m*\u001b[39;49mkwargs)\n\u001b[0;32m    703\u001b[0m \u001b[39m# Total elapsed time of the request (approximately)\u001b[39;00m\n\u001b[0;32m    704\u001b[0m elapsed \u001b[39m=\u001b[39m preferred_clock() \u001b[39m-\u001b[39m start\n",
      "File \u001b[1;32m~\\AppData\\Roaming\\Python\\Python38\\site-packages\\requests\\adapters.py:489\u001b[0m, in \u001b[0;36mHTTPAdapter.send\u001b[1;34m(self, request, stream, timeout, verify, cert, proxies)\u001b[0m\n\u001b[0;32m    487\u001b[0m \u001b[39mtry\u001b[39;00m:\n\u001b[0;32m    488\u001b[0m     \u001b[39mif\u001b[39;00m \u001b[39mnot\u001b[39;00m chunked:\n\u001b[1;32m--> 489\u001b[0m         resp \u001b[39m=\u001b[39m conn\u001b[39m.\u001b[39;49murlopen(\n\u001b[0;32m    490\u001b[0m             method\u001b[39m=\u001b[39;49mrequest\u001b[39m.\u001b[39;49mmethod,\n\u001b[0;32m    491\u001b[0m             url\u001b[39m=\u001b[39;49murl,\n\u001b[0;32m    492\u001b[0m             body\u001b[39m=\u001b[39;49mrequest\u001b[39m.\u001b[39;49mbody,\n\u001b[0;32m    493\u001b[0m             headers\u001b[39m=\u001b[39;49mrequest\u001b[39m.\u001b[39;49mheaders,\n\u001b[0;32m    494\u001b[0m             redirect\u001b[39m=\u001b[39;49m\u001b[39mFalse\u001b[39;49;00m,\n\u001b[0;32m    495\u001b[0m             assert_same_host\u001b[39m=\u001b[39;49m\u001b[39mFalse\u001b[39;49;00m,\n\u001b[0;32m    496\u001b[0m             preload_content\u001b[39m=\u001b[39;49m\u001b[39mFalse\u001b[39;49;00m,\n\u001b[0;32m    497\u001b[0m             decode_content\u001b[39m=\u001b[39;49m\u001b[39mFalse\u001b[39;49;00m,\n\u001b[0;32m    498\u001b[0m             retries\u001b[39m=\u001b[39;49m\u001b[39mself\u001b[39;49m\u001b[39m.\u001b[39;49mmax_retries,\n\u001b[0;32m    499\u001b[0m             timeout\u001b[39m=\u001b[39;49mtimeout,\n\u001b[0;32m    500\u001b[0m         )\n\u001b[0;32m    502\u001b[0m     \u001b[39m# Send the request.\u001b[39;00m\n\u001b[0;32m    503\u001b[0m     \u001b[39melse\u001b[39;00m:\n\u001b[0;32m    504\u001b[0m         \u001b[39mif\u001b[39;00m \u001b[39mhasattr\u001b[39m(conn, \u001b[39m\"\u001b[39m\u001b[39mproxy_pool\u001b[39m\u001b[39m\"\u001b[39m):\n",
      "File \u001b[1;32mf:\\Anaconda\\envs\\torch\\lib\\site-packages\\urllib3\\connectionpool.py:670\u001b[0m, in \u001b[0;36mHTTPConnectionPool.urlopen\u001b[1;34m(self, method, url, body, headers, retries, redirect, assert_same_host, timeout, pool_timeout, release_conn, chunked, body_pos, **response_kw)\u001b[0m\n\u001b[0;32m    667\u001b[0m     \u001b[39mself\u001b[39m\u001b[39m.\u001b[39m_prepare_proxy(conn)\n\u001b[0;32m    669\u001b[0m \u001b[39m# Make the request on the httplib connection object.\u001b[39;00m\n\u001b[1;32m--> 670\u001b[0m httplib_response \u001b[39m=\u001b[39m \u001b[39mself\u001b[39;49m\u001b[39m.\u001b[39;49m_make_request(\n\u001b[0;32m    671\u001b[0m     conn,\n\u001b[0;32m    672\u001b[0m     method,\n\u001b[0;32m    673\u001b[0m     url,\n\u001b[0;32m    674\u001b[0m     timeout\u001b[39m=\u001b[39;49mtimeout_obj,\n\u001b[0;32m    675\u001b[0m     body\u001b[39m=\u001b[39;49mbody,\n\u001b[0;32m    676\u001b[0m     headers\u001b[39m=\u001b[39;49mheaders,\n\u001b[0;32m    677\u001b[0m     chunked\u001b[39m=\u001b[39;49mchunked,\n\u001b[0;32m    678\u001b[0m )\n\u001b[0;32m    680\u001b[0m \u001b[39m# If we're going to release the connection in ``finally:``, then\u001b[39;00m\n\u001b[0;32m    681\u001b[0m \u001b[39m# the response doesn't need to know about the connection. Otherwise\u001b[39;00m\n\u001b[0;32m    682\u001b[0m \u001b[39m# it will also try to release it and we'll have a double-release\u001b[39;00m\n\u001b[0;32m    683\u001b[0m \u001b[39m# mess.\u001b[39;00m\n\u001b[0;32m    684\u001b[0m response_conn \u001b[39m=\u001b[39m conn \u001b[39mif\u001b[39;00m \u001b[39mnot\u001b[39;00m release_conn \u001b[39melse\u001b[39;00m \u001b[39mNone\u001b[39;00m\n",
      "File \u001b[1;32mf:\\Anaconda\\envs\\torch\\lib\\site-packages\\urllib3\\connectionpool.py:381\u001b[0m, in \u001b[0;36mHTTPConnectionPool._make_request\u001b[1;34m(self, conn, method, url, timeout, chunked, **httplib_request_kw)\u001b[0m\n\u001b[0;32m    379\u001b[0m \u001b[39m# Trigger any extra validation we need to do.\u001b[39;00m\n\u001b[0;32m    380\u001b[0m \u001b[39mtry\u001b[39;00m:\n\u001b[1;32m--> 381\u001b[0m     \u001b[39mself\u001b[39;49m\u001b[39m.\u001b[39;49m_validate_conn(conn)\n\u001b[0;32m    382\u001b[0m \u001b[39mexcept\u001b[39;00m (SocketTimeout, BaseSSLError) \u001b[39mas\u001b[39;00m e:\n\u001b[0;32m    383\u001b[0m     \u001b[39m# Py2 raises this as a BaseSSLError, Py3 raises it as socket timeout.\u001b[39;00m\n\u001b[0;32m    384\u001b[0m     \u001b[39mself\u001b[39m\u001b[39m.\u001b[39m_raise_timeout(err\u001b[39m=\u001b[39me, url\u001b[39m=\u001b[39murl, timeout_value\u001b[39m=\u001b[39mconn\u001b[39m.\u001b[39mtimeout)\n",
      "File \u001b[1;32mf:\\Anaconda\\envs\\torch\\lib\\site-packages\\urllib3\\connectionpool.py:978\u001b[0m, in \u001b[0;36mHTTPSConnectionPool._validate_conn\u001b[1;34m(self, conn)\u001b[0m\n\u001b[0;32m    976\u001b[0m \u001b[39m# Force connect early to allow us to validate the connection.\u001b[39;00m\n\u001b[0;32m    977\u001b[0m \u001b[39mif\u001b[39;00m \u001b[39mnot\u001b[39;00m \u001b[39mgetattr\u001b[39m(conn, \u001b[39m\"\u001b[39m\u001b[39msock\u001b[39m\u001b[39m\"\u001b[39m, \u001b[39mNone\u001b[39;00m):  \u001b[39m# AppEngine might not have  `.sock`\u001b[39;00m\n\u001b[1;32m--> 978\u001b[0m     conn\u001b[39m.\u001b[39;49mconnect()\n\u001b[0;32m    980\u001b[0m \u001b[39mif\u001b[39;00m \u001b[39mnot\u001b[39;00m conn\u001b[39m.\u001b[39mis_verified:\n\u001b[0;32m    981\u001b[0m     warnings\u001b[39m.\u001b[39mwarn(\n\u001b[0;32m    982\u001b[0m         (\n\u001b[0;32m    983\u001b[0m             \u001b[39m\"\u001b[39m\u001b[39mUnverified HTTPS request is being made to host \u001b[39m\u001b[39m'\u001b[39m\u001b[39m%s\u001b[39;00m\u001b[39m'\u001b[39m\u001b[39m. \u001b[39m\u001b[39m\"\u001b[39m\n\u001b[1;32m   (...)\u001b[0m\n\u001b[0;32m    988\u001b[0m         InsecureRequestWarning,\n\u001b[0;32m    989\u001b[0m     )\n",
      "File \u001b[1;32mf:\\Anaconda\\envs\\torch\\lib\\site-packages\\urllib3\\connection.py:309\u001b[0m, in \u001b[0;36mHTTPSConnection.connect\u001b[1;34m(self)\u001b[0m\n\u001b[0;32m    307\u001b[0m \u001b[39mdef\u001b[39;00m \u001b[39mconnect\u001b[39m(\u001b[39mself\u001b[39m):\n\u001b[0;32m    308\u001b[0m     \u001b[39m# Add certificate verification\u001b[39;00m\n\u001b[1;32m--> 309\u001b[0m     conn \u001b[39m=\u001b[39m \u001b[39mself\u001b[39;49m\u001b[39m.\u001b[39;49m_new_conn()\n\u001b[0;32m    310\u001b[0m     hostname \u001b[39m=\u001b[39m \u001b[39mself\u001b[39m\u001b[39m.\u001b[39mhost\n\u001b[0;32m    312\u001b[0m     \u001b[39m# Google App Engine's httplib does not define _tunnel_host\u001b[39;00m\n",
      "File \u001b[1;32mf:\\Anaconda\\envs\\torch\\lib\\site-packages\\urllib3\\connection.py:159\u001b[0m, in \u001b[0;36mHTTPConnection._new_conn\u001b[1;34m(self)\u001b[0m\n\u001b[0;32m    156\u001b[0m     extra_kw[\u001b[39m\"\u001b[39m\u001b[39msocket_options\u001b[39m\u001b[39m\"\u001b[39m] \u001b[39m=\u001b[39m \u001b[39mself\u001b[39m\u001b[39m.\u001b[39msocket_options\n\u001b[0;32m    158\u001b[0m \u001b[39mtry\u001b[39;00m:\n\u001b[1;32m--> 159\u001b[0m     conn \u001b[39m=\u001b[39m connection\u001b[39m.\u001b[39;49mcreate_connection(\n\u001b[0;32m    160\u001b[0m         (\u001b[39mself\u001b[39;49m\u001b[39m.\u001b[39;49m_dns_host, \u001b[39mself\u001b[39;49m\u001b[39m.\u001b[39;49mport), \u001b[39mself\u001b[39;49m\u001b[39m.\u001b[39;49mtimeout, \u001b[39m*\u001b[39;49m\u001b[39m*\u001b[39;49mextra_kw\n\u001b[0;32m    161\u001b[0m     )\n\u001b[0;32m    163\u001b[0m \u001b[39mexcept\u001b[39;00m SocketTimeout:\n\u001b[0;32m    164\u001b[0m     \u001b[39mraise\u001b[39;00m ConnectTimeoutError(\n\u001b[0;32m    165\u001b[0m         \u001b[39mself\u001b[39m,\n\u001b[0;32m    166\u001b[0m         \u001b[39m\"\u001b[39m\u001b[39mConnection to \u001b[39m\u001b[39m%s\u001b[39;00m\u001b[39m timed out. (connect timeout=\u001b[39m\u001b[39m%s\u001b[39;00m\u001b[39m)\u001b[39m\u001b[39m\"\u001b[39m\n\u001b[0;32m    167\u001b[0m         \u001b[39m%\u001b[39m (\u001b[39mself\u001b[39m\u001b[39m.\u001b[39mhost, \u001b[39mself\u001b[39m\u001b[39m.\u001b[39mtimeout),\n\u001b[0;32m    168\u001b[0m     )\n",
      "File \u001b[1;32mf:\\Anaconda\\envs\\torch\\lib\\site-packages\\urllib3\\util\\connection.py:74\u001b[0m, in \u001b[0;36mcreate_connection\u001b[1;34m(address, timeout, source_address, socket_options)\u001b[0m\n\u001b[0;32m     72\u001b[0m     \u001b[39mif\u001b[39;00m source_address:\n\u001b[0;32m     73\u001b[0m         sock\u001b[39m.\u001b[39mbind(source_address)\n\u001b[1;32m---> 74\u001b[0m     sock\u001b[39m.\u001b[39;49mconnect(sa)\n\u001b[0;32m     75\u001b[0m     \u001b[39mreturn\u001b[39;00m sock\n\u001b[0;32m     77\u001b[0m \u001b[39mexcept\u001b[39;00m socket\u001b[39m.\u001b[39merror \u001b[39mas\u001b[39;00m e:\n",
      "\u001b[1;31mKeyboardInterrupt\u001b[0m: "
     ]
    }
   ],
   "source": [
    "%load_ext autoreload\n",
    "%autoreload 2\n",
    "from TxtProcess import load_dir_txt_process\n",
    "from config import QWEN_CONFIG\n",
    "cfg = QWEN_CONFIG(api_key='apikey',\n",
    "                  embedding_name='text_embedding_async_v1')\n",
    "load_dir_txt_process(txt_dir='../../bs_challenge_financial_14b_dataset/pdf_txt_file/',\n",
    "                     pdf_dir='../../bs_challenge_financial_14b_dataset/pdf/',\n",
    "                     cfg=cfg\n",
    "                     )\n"
   ]
  },
  {
   "cell_type": "code",
   "execution_count": 11,
   "metadata": {},
   "outputs": [
    {
     "data": {
      "text/plain": [
       "'创业板风险提示：本次股票发行后拟在创业板市场上市，该市场具有较高的投\\n资风险。创业板公司具有创新投入大、新旧产业融合成功与否存在不确定性、\\n尚处于成长期、经营风险高、业绩不稳定、退市风险高等特点，投资者面临较\\n大的市场风险。投资者应充分了解创业板市场的投资风险及本公司所披露的风\\n险因素，审慎作出投资决定。\\n创业板风险提示：本次股票发行后拟在创业板市场上市，该市场具有较高的投\\n资风险。创业板公司具有创新投入大、新旧产业融合成功与否存在不确定性、\\n尚处于成长期、经营风险高、业绩不稳定、退市风险高等特点，投资者面临较\\n上海真兰仪表科技股份有限公司\\n大的市场风险。投资者应充分了解创业板市场的投资风险及本公司所披露的风\\n险因素，审慎作出投资决定。\\nZenner Metering Technology（Shanghai）Ltd.\\n（上海市青浦区盈港东路 6558 号 4 幢）\\n首次公开发行股票并在创业板上市\\n招股意向书\\n保荐机构（主承销商）\\n（福州市鼓楼区鼓屏路 27号 1#楼 3层、4 层、5 层）'"
      ]
     },
     "execution_count": 11,
     "metadata": {},
     "output_type": "execute_result"
    }
   ],
   "source": [
    "import pdfplumber\n",
    "with pdfplumber.open('../../bs_challenge_financial_14b_dataset/pdf/398c8e64f18a13e695b5956122ef2f6a6fd3b274.PDF') as p:\n",
    "    ddd=p.pages[0].extract_text()\n",
    "ddd"
   ]
  }
 ],
 "metadata": {
  "kernelspec": {
   "display_name": "pytorch",
   "language": "python",
   "name": "python3"
  },
  "language_info": {
   "codemirror_mode": {
    "name": "ipython",
    "version": 3
   },
   "file_extension": ".py",
   "mimetype": "text/x-python",
   "name": "python",
   "nbconvert_exporter": "python",
   "pygments_lexer": "ipython3",
   "version": "3.8.17"
  }
 },
 "nbformat": 4,
 "nbformat_minor": 2
}
