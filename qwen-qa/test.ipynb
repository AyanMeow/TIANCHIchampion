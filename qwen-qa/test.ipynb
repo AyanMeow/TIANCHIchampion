{
 "cells": [
  {
   "cell_type": "code",
   "execution_count": 6,
   "metadata": {},
   "outputs": [],
   "source": [
    "_PROMPT_TEMPLATE = \"\"\"\n",
    "请你提取下面段落的关键词，要求所提取的关键词能够鲜明表示内容性质。所提取的关键词应不少于5个。\n",
    "\n",
    "待处理内容：\n",
    "\n",
    "本次股票发行后拟在创业板市场上市，该市场具有较高的投资风险。创业\n",
    "板公司具有业绩不稳定、经营风险高、退市风险大等特点，投资者面临较大的\n",
    "市场风险。投资者应充分了解创业板市场的投资风险及本公司所披露的风险因\n",
    "素，审慎作出投资决定。\n",
    "华瑞电器股份有限公司\n",
    "Huarui Electrical Appliance Co., Ltd.\n",
    "册地址：宁波市鄞州区姜山镇科技园区\n",
    "首次公开发行股票并在创业板上市\n",
    "招股意向书\n",
    "发行人及全体董事、监事、高级管理人员承诺招股意向书不存在虚假记载、\n",
    "误导性陈述或重大遗漏，并对其真实性、准确性、完整性、及时性承担个别和连\n",
    "带的法律责任。\n",
    "发行人及全体董事、监事、高级管理人员、发行人的控股股东、实际控制人\n",
    "以及保荐人、承销的证券公司承诺因发行人招股意向书及其他信息披露资料有虚\n",
    "假记载、误导性陈述或者重大遗漏，致使投资者在证券发行和交易中遭受损失的，\n",
    "将依法赔偿投资者损失。\n",
    "\n",
    "注意：你的回答不需要分段。你的回答格式应该按照下面的内容，请注意---output 等标记都必须输出，这是我用来提取答案的标记。\n",
    "除了你的回答之外不要输出多余的文字。\n",
    "\n",
    "---output\n",
    "${{\"keywords\":[你提取的关键词]}}\n",
    "\"\"\""
   ]
  },
  {
   "cell_type": "code",
   "execution_count": 53,
   "metadata": {},
   "outputs": [],
   "source": [
    "import dashscope\n",
    "from dashscope import Generation\n",
    "from http import HTTPStatus\n",
    "import random\n",
    "from CustomLLM import QWENonlie\n",
    "from Container import g_container\n",
    "apikey='sk-02b8b1a9175a4cae9bf9571d517d8b81'\n",
    "llm=QWENonlie.from_name(model_name=Generation.Models.qwen_max,api_key=apikey)\n",
    "g_container.MODEL = llm"
   ]
  },
  {
   "cell_type": "code",
   "execution_count": 9,
   "metadata": {},
   "outputs": [
    {
     "data": {
      "text/plain": [
       "'---output\\n{\"keywords\":[\"创业板\",\"投资风险\",\"市场风险\",\"信息披露\",\"法律责任\"]}'"
      ]
     },
     "execution_count": 9,
     "metadata": {},
     "output_type": "execute_result"
    }
   ],
   "source": [
    "llm._call(prompt=_PROMPT_TEMPLATE,\n",
    "          stop=['---stop'])"
   ]
  },
  {
   "cell_type": "code",
   "execution_count": 54,
   "metadata": {},
   "outputs": [
    {
     "name": "stdout",
     "output_type": "stream",
     "text": [
      "The autoreload extension is already loaded. To reload it, use:\n",
      "  %reload_ext autoreload\n"
     ]
    }
   ],
   "source": [
    "%load_ext autoreload\n",
    "%autoreload 2\n",
    "from config import QWEN_CONFIG\n",
    "from dashscope import TextEmbedding,BatchTextEmbedding\n",
    "from langchain.text_splitter import RecursiveCharacterTextSplitter\n",
    "from langchain.document_loaders import TextLoader\n",
    "from langchain.embeddings import DashScopeEmbeddings,HuggingFaceEmbeddings\n",
    "\n",
    "emb2=HuggingFaceEmbeddings(model_name='../../model/m3e/',encode_kwargs={'normalize_embeddings':True})\n",
    "g_container.EMBEDDING=emb2\n"
   ]
  },
  {
   "cell_type": "code",
   "execution_count": 55,
   "metadata": {},
   "outputs": [],
   "source": [
    "from config import QWEN_CONFIG\n",
    "cfg = QWEN_CONFIG(api_key=apikey,\n",
    "                  embedding_name='text_embedding_async_v1')"
   ]
  },
  {
   "cell_type": "code",
   "execution_count": null,
   "metadata": {},
   "outputs": [],
   "source": [
    "%load_ext autoreload\n",
    "%autoreload 2\n",
    "from TxtProcess import load_dir_txt_idx_process\n",
    "cfg = QWEN_CONFIG(api_key='apikey',\n",
    "                  embedding_name='text_embedding_async_v1')\n",
    "kb=load_dir_txt_idx_process(txt_dir='../../bs_challenge_financial_14b_dataset/pdf_txt_file/',\n",
    "                     pdf_dir='../../bs_challenge_financial_14b_dataset/pdf/',\n",
    "                     cfg=cfg\n",
    "                     )\n"
   ]
  },
  {
   "cell_type": "code",
   "execution_count": 60,
   "metadata": {},
   "outputs": [
    {
     "data": {
      "text/plain": [
       "32"
      ]
     },
     "execution_count": 60,
     "metadata": {},
     "output_type": "execute_result"
    }
   ],
   "source": [
    "from TxtProcess import faiss_kb_ds\n",
    "kbidx=faiss_kb_ds(vs_path=cfg.vec_store_path,\n",
    "                  kb_path='./',\n",
    "                  embs=g_container.EMBEDDING)\n",
    "kbidx.do_load(index='index')\n",
    "kbidx.do_view()"
   ]
  },
  {
   "cell_type": "code",
   "execution_count": 31,
   "metadata": {},
   "outputs": [
    {
     "name": "stdout",
     "output_type": "stream",
     "text": [
      "The autoreload extension is already loaded. To reload it, use:\n",
      "  %reload_ext autoreload\n"
     ]
    },
    {
     "data": {
      "text/plain": [
       "{'inputs': '武汉兴图新科电子股份有限公司计划使用本次发行募集资金的多少用于补充流动资金？',\n",
       " 'outputs': '77.16%',\n",
       " 'relent_docs': ['a0d278016e9baded15e0f5b3964563e525b1b787']}"
      ]
     },
     "execution_count": 31,
     "metadata": {},
     "output_type": "execute_result"
    }
   ],
   "source": [
    "%load_ext autoreload\n",
    "%autoreload 2\n",
    "from Tools.konwlegeqa import run_knowledge_qa\n",
    "\n",
    "run_knowledge_qa(query='武汉兴图新科电子股份有限公司计划使用本次发行募集资金的多少用于补充流动资金？',\n",
    "                 cfg=cfg)"
   ]
  },
  {
   "cell_type": "code",
   "execution_count": 52,
   "metadata": {},
   "outputs": [
    {
     "data": {
      "text/plain": [
       "'+-------+------+------+--------+----------+------+------------+--------------+------+---------------+------+\\n|   0   |  1   |  2   |   3    |    4     |  5   |     6      |      7       |  8   |       9       |  10  |\\n+-------+------+------+--------+----------+------+------------+--------------+------+---------------+------+\\n|       | 序号 |      |        | 股东名称 |      |            | 持股数（股） |      | 持股比例（%） |      |\\n|   1   | None | None | 牟金香 |   None   | None | 59,556,600 |     None     | None |     61.50     | None |\\n|   2   | None | None | 陈建郎 |   None   | None | 9,684,000  |     None     | None |     10.00     | None |\\n|   3   | None | None | 张有志 |   None   | None | 6,100,920  |     None     | None |      6.30     | None |\\n|   4   | None | None | 王江涛 |   None   | None | 4,357,800  |     None     | None |      4.50     | None |\\n|   5   | None | None | 东志刚 |   None   | None | 4,357,800  |     None     | None |      4.50     | None |\\n|   6   | None | None | 张贤桂 |   None   | None | 4,067,280  |     None     | None |      4.20     | None |\\n|   7   | None | None | 郑宪平 |   None   | None | 3,776,760  |     None     | None |      3.90     | None |\\n|   8   | None | None | 彭寅生 |   None   | None | 2,905,200  |     None     | None |      3.00     | None |\\n|   9   | None | None | 鲍臻湧 |   None   | None | 2,033,640  |     None     | None |      2.10     | None |\\n| 合 计 | None | None |  None  |   None   | None | 96,840,000 |     None     | None |     100.00    | None |\\n+-------+------+------+--------+----------+------+------------+--------------+------+---------------+------+'"
      ]
     },
     "execution_count": 52,
     "metadata": {},
     "output_type": "execute_result"
    }
   ],
   "source": [
    "import pdfplumber \n",
    "from prettytable import PrettyTable\n",
    "with pdfplumber.open('../../bs_challenge_financial_14b_dataset/pdf/ba561001c2abd0714c413e2f6a77ffee58c644a6.PDF') as f:\n",
    "    tables=f.pages[51].extract_tables(table_settings={\"horizontal_strategy\":\"lines\"})\n",
    "    for table in tables:\n",
    "        t=PrettyTable([str(i) for i in range(len(table[0]))])\n",
    "        t.add_rows(table)\n",
    "t.get_formatted_string()"
   ]
  }
 ],
 "metadata": {
  "kernelspec": {
   "display_name": "pytorch",
   "language": "python",
   "name": "python3"
  },
  "language_info": {
   "codemirror_mode": {
    "name": "ipython",
    "version": 3
   },
   "file_extension": ".py",
   "mimetype": "text/x-python",
   "name": "python",
   "nbconvert_exporter": "python",
   "pygments_lexer": "ipython3",
   "version": "3.8.17"
  }
 },
 "nbformat": 4,
 "nbformat_minor": 2
}
