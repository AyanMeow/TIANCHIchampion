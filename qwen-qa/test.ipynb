{
 "cells": [
  {
   "cell_type": "code",
   "execution_count": 63,
   "metadata": {},
   "outputs": [],
   "source": [
    "_PROMPT_TEMPLATE = \"\"\"\n",
    "请你提取下面段落的关键词，要求所提取的关键词能够鲜明表示内容性质。所提取的关键词应不少于5个。\n",
    "\n",
    "待处理内容：\n",
    "\n",
    "本次股票发行后拟在创业板市场上市，该市场具有较高的投资风险。创业\n",
    "板公司具有业绩不稳定、经营风险高、退市风险大等特点，投资者面临较大的\n",
    "市场风险。投资者应充分了解创业板市场的投资风险及本公司所披露的风险因\n",
    "素，审慎作出投资决定。\n",
    "华瑞电器股份有限公司\n",
    "Huarui Electrical Appliance Co., Ltd.\n",
    "册地址：宁波市鄞州区姜山镇科技园区\n",
    "首次公开发行股票并在创业板上市\n",
    "招股意向书\n",
    "发行人及全体董事、监事、高级管理人员承诺招股意向书不存在虚假记载、\n",
    "误导性陈述或重大遗漏，并对其真实性、准确性、完整性、及时性承担个别和连\n",
    "带的法律责任。\n",
    "发行人及全体董事、监事、高级管理人员、发行人的控股股东、实际控制人\n",
    "以及保荐人、承销的证券公司承诺因发行人招股意向书及其他信息披露资料有虚\n",
    "假记载、误导性陈述或者重大遗漏，致使投资者在证券发行和交易中遭受损失的，\n",
    "将依法赔偿投资者损失。\n",
    "\n",
    "注意：你的回答不需要分段。你的回答格式应该按照下面的内容，请注意```output 等标记都必须输出，这是我用来提取答案的标记。\n",
    "除了你的回答之外不要输出多余的文字。\n",
    "\n",
    "```output\n",
    "${{\"keywords\":[你提取的关键词]}}\n",
    "\"\"\""
   ]
  },
  {
   "cell_type": "code",
   "execution_count": 1,
   "metadata": {},
   "outputs": [],
   "source": [
    "import dashscope\n",
    "from dashscope import Generation\n",
    "from http import HTTPStatus\n",
    "import random\n",
    "from CustomLLM import QWENonlie\n",
    "apikey='sk-02b8b1a9175a4cae9bf9571d517d8b81'\n",
    "llm=QWENonlie.from_name(model_name=Generation.Models.qwen_max,api_key=apikey)\n",
    "#llm(_PROMPT_TEMPLATE)"
   ]
  },
  {
   "cell_type": "code",
   "execution_count": 3,
   "metadata": {},
   "outputs": [
    {
     "name": "stdout",
     "output_type": "stream",
     "text": [
      "The autoreload extension is already loaded. To reload it, use:\n",
      "  %reload_ext autoreload\n"
     ]
    },
    {
     "name": "stderr",
     "output_type": "stream",
     "text": [
      "100%|██████████| 2/2 [00:28<00:00, 14.06s/it]\n",
      "100%|██████████| 1/1 [00:01<00:00,  1.34s/it]\n"
     ]
    },
    {
     "data": {
      "text/plain": [
       "[{'id': 'c3827dba-8449-4661-a13c-f504270bffe6',\n",
       "  'meta_data': {'source': './test_data/03c625c108ac0137f413dfd4136adb55c74b3805.txt'}},\n",
       " {'id': 'e3ae6c4a-4860-42ff-b4e8-37c93cd16234',\n",
       "  'meta_data': {'source': './test_data/03c625c108ac0137f413dfd4136adb55c74b3805.txt'}}]"
      ]
     },
     "execution_count": 3,
     "metadata": {},
     "output_type": "execute_result"
    }
   ],
   "source": [
    "%load_ext autoreload\n",
    "%autoreload 2\n",
    "from config import QWEN_CONFIG\n",
    "from Container import g_container\n",
    "from dashscope import TextEmbedding,BatchTextEmbedding\n",
    "from langchain.text_splitter import RecursiveCharacterTextSplitter\n",
    "from langchain.document_loaders import TextLoader\n",
    "from langchain.embeddings import DashScopeEmbeddings\n",
    "from TxtProcess import faiss_kb_ds\n",
    "g_container.MODEL = llm\n",
    "cfg = QWEN_CONFIG(api_key=apikey,\n",
    "                  embedding_name=BatchTextEmbedding.Models.text_embedding_async_v1)\n",
    "emb=DashScopeEmbeddings(model=TextEmbedding.Models.text_embedding_v1,\n",
    "                        dashscope_api_key=apikey)\n",
    "text_ld=TextLoader(file_path='./test_data/03c625c108ac0137f413dfd4136adb55c74b3805.txt')\n",
    "sp=RecursiveCharacterTextSplitter(\n",
    "        chunk_size=cfg.chunk_size, chunk_overlap=cfg.chunk_overlap)\n",
    "docs=text_ld.load_and_split(text_splitter=sp)\n",
    "fkb=faiss_kb_ds(vs_path=cfg.vec_store_path,kb_path='./test_data/',embs=emb)\n",
    "fkb.do_add_doc(docs[:2])"
   ]
  },
  {
   "cell_type": "code",
   "execution_count": 8,
   "metadata": {},
   "outputs": [
    {
     "data": {
      "text/plain": [
       "[]"
      ]
     },
     "execution_count": 8,
     "metadata": {},
     "output_type": "execute_result"
    }
   ],
   "source": [
    "fkb.do_search(query='余春禄',top_k=5,threshold=1)"
   ]
  },
  {
   "cell_type": "code",
   "execution_count": 7,
   "metadata": {},
   "outputs": [
    {
     "name": "stdout",
     "output_type": "stream",
     "text": [
      "The autoreload extension is already loaded. To reload it, use:\n",
      "  %reload_ext autoreload\n"
     ]
    },
    {
     "data": {
      "text/plain": [
       "['发行人',\n",
       " '风险',\n",
       " '意向书',\n",
       " '招股',\n",
       " '误导性',\n",
       " '遗漏',\n",
       " '监事',\n",
       " '投资者',\n",
       " '管理人员',\n",
       " '陈述',\n",
       " '创业板',\n",
       " '董事',\n",
       " '市场',\n",
       " '华瑞',\n",
       " '高级',\n",
       " '承诺',\n",
       " '损失',\n",
       " '记载',\n",
       " '后拟',\n",
       " '股票发行',\n",
       " '创业板市场',\n",
       " '投资风险',\n",
       " '创业公司',\n",
       " '业绩不稳定',\n",
       " '经营风险高',\n",
       " '退市风险大',\n",
       " '市场风险',\n",
       " '华瑞电器股份有限公司',\n",
       " 'Huarui Electrical Appliance Co., Ltd.',\n",
       " '宁波市鄞州区姜山镇科技园区',\n",
       " '首次公开发行股票',\n",
       " '招股意向书',\n",
       " '虚假记载',\n",
       " '误导性陈述',\n",
       " '重大遗漏',\n",
       " '法律责任',\n",
       " '保荐人',\n",
       " '承销的证券公司',\n",
       " '信息披露资料',\n",
       " '赔偿投资者损失']"
      ]
     },
     "execution_count": 7,
     "metadata": {},
     "output_type": "execute_result"
    }
   ],
   "source": [
    "ppppp=\"\"\"\n",
    "本次股票发行后拟在创业板市场上市，该市场具有较高的投资风险。创业\n",
    "板公司具有业绩不稳定、经营风险高、退市风险大等特点，投资者面临较大的\n",
    "市场风险。投资者应充分了解创业板市场的投资风险及本公司所披露的风险因\n",
    "素，审慎作出投资决定。\n",
    "华瑞电器股份有限公司\n",
    "Huarui Electrical Appliance Co., Ltd.\n",
    "册地址：宁波市鄞州区姜山镇科技园区\n",
    "首次公开发行股票并在创业板上市\n",
    "招股意向书\n",
    "发行人及全体董事、监事、高级管理人员承诺招股意向书不存在虚假记载、\n",
    "误导性陈述或重大遗漏，并对其真实性、准确性、完整性、及时性承担个别和连\n",
    "带的法律责任。\n",
    "发行人及全体董事、监事、高级管理人员、发行人的控股股东、实际控制人\n",
    "以及保荐人、承销的证券公司承诺因发行人招股意向书及其他信息披露资料有虚\n",
    "假记载、误导性陈述或者重大遗漏，致使投资者在证券发行和交易中遭受损失的，\n",
    "将依法赔偿投资者损失。\n",
    "\"\"\"\n",
    "%load_ext autoreload\n",
    "%autoreload 2\n",
    "from Tools.keywords_extra import LLMKeywordsEXChain\n",
    "testk=LLMKeywordsEXChain.from_llm(llm=llm)\n",
    "testk._call({\"inputs\":ppppp})"
   ]
  },
  {
   "cell_type": "code",
   "execution_count": 15,
   "metadata": {},
   "outputs": [
    {
     "data": {
      "text/plain": [
       "'您提供的信息是华瑞电器股份有限公司在创业板市场上市的招股意向书的部分内容。这份声明主要提醒投资者注意创业板市场的投资风险，包括公司业绩不稳定、经营风险高和退市风险大等特点。\\n\\n此外，发行人及全体董事、监事、高级管理人员承诺招股意向书不存在虚假记载、误导性陈述或重大遗漏，并对其真实性、准确性、完整性、及时性承担个别和连带的法律责任。他们还承诺，如果因为招股意向书或其他信息披露资料有虚假记载、误导性陈述或者重大遗漏，导致投资者在证券发行和交易中遭受损失，将依法赔偿投资者损失。\\n\\n这是一份标准的招股意向书中的免责声明和责任声明，目的是保护投资者的利益，同时也让投资者了解投资的风险。在进行任何投资决策之前，建议投资者仔细阅读并理解这些声明以及招股意向书中的其他信息。'"
      ]
     },
     "execution_count": 15,
     "metadata": {},
     "output_type": "execute_result"
    }
   ],
   "source": [
    "adsasdsd='\\n请你提取下面段落的关键词，要求所提取的关键词能够鲜明表示内容性质。所提取的关键词应不少于20个。\\n同时，对于内容中存在的公司、机构名称，地址信息，人名等，也作为关键词。\\n\\n待处理的内容：\\n\\n本次股票发行后拟在创业板市场上市，该市场具有较高的投资风险。创业\\n板公司具有业绩不稳定、经营风险高、退市风险大等特点，投资者面临较大的\\n市场风险。投资者应充分了解创业板市场的投资风险及本公司所披露的风险因\\n素，审慎作出投资决定。\\n华瑞电器股份有限公司\\nHuarui Electrical Appliance Co., Ltd.\\n册地址：宁波市鄞州区姜山镇科技园区\\n首次公开发行股票并在创业板上市\\n招股意向书\\n发行人及全体董事、监事、高级管理人员承诺招股意向书不存在虚假记载、\\n误导性陈述或重大遗漏，并对其真实性、准确性、完整性、及时性承担个别和连\\n带的法律责任。\\n发行人及全体董事、监事、高级管理人员、发行人的控股股东、实际控制人\\n以及保荐人、承销的证券公司承诺因发行人招股意向书及其他信息披露资料有虚\\n假记载、误导性陈述或者重大遗漏，致使投资者在证券发行和交易中遭受损失的，\\n将依法赔偿投资者损失。\\n\\n\\n注意：你的回答不需要分段。你的回答格式应该按照下面的内容，请注意---output 等标记都必须输出，这是我用来提取答案的标记。\\n除了你的回答之外不要输出多余的文字。\\n\\n---output\\n${\"keywords\":[你提取的关键词]}\\n'\n",
    "llm(adsasdsd)"
   ]
  }
 ],
 "metadata": {
  "kernelspec": {
   "display_name": "pytorch",
   "language": "python",
   "name": "python3"
  },
  "language_info": {
   "codemirror_mode": {
    "name": "ipython",
    "version": 3
   },
   "file_extension": ".py",
   "mimetype": "text/x-python",
   "name": "python",
   "nbconvert_exporter": "python",
   "pygments_lexer": "ipython3",
   "version": "3.8.17"
  }
 },
 "nbformat": 4,
 "nbformat_minor": 2
}
