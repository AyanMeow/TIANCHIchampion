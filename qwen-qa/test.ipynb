{
 "cells": [
  {
   "cell_type": "code",
   "execution_count": 6,
   "metadata": {},
   "outputs": [
    {
     "name": "stdout",
     "output_type": "stream",
     "text": [
      "The autoreload extension is already loaded. To reload it, use:\n",
      "  %reload_ext autoreload\n"
     ]
    }
   ],
   "source": [
    "%load_ext autoreload\n",
    "%autoreload 2\n",
    "from langchain.text_splitter import RecursiveCharacterTextSplitter\n",
    "from langchain.document_loaders import TextLoader"
   ]
  },
  {
   "cell_type": "markdown",
   "metadata": {},
   "source": [
    "https://zhuanlan.zhihu.com/p/642720235"
   ]
  },
  {
   "cell_type": "code",
   "execution_count": 5,
   "metadata": {},
   "outputs": [],
   "source": [
    "chunk_size=2000\n",
    "chunk_overlap=chunk_size*0.1\n",
    "r_textsplitter=RecursiveCharacterTextSplitter(\n",
    "    chunk_size=chunk_size, chunk_overlap=chunk_overlap\n",
    ")"
   ]
  },
  {
   "cell_type": "code",
   "execution_count": 7,
   "metadata": {},
   "outputs": [],
   "source": [
    "loader=TextLoader(file_path='../../bs_challenge_financial_14b_dataset/pdf_txt_file/03c625c108ac0137f413dfd4136adb55c74b3805.txt')\n",
    "sp=loader.load_and_split(text_splitter=r_textsplitter)"
   ]
  },
  {
   "cell_type": "code",
   "execution_count": 11,
   "metadata": {},
   "outputs": [
    {
     "data": {
      "text/plain": [
       "Document(page_content='保荐人承诺因其为发行人首次公开发行股票制作、出具的文件有虚假\\n记载、误导性陈述或者重大遗漏，给投资者造成损失的，将先行赔偿投资\\n者损失。\\n发行股票类型：人民币普通股（A股）\\n发行股数：公司拟首次公开发行股票总数不超过 2,167 万股，本次公开发\\n行股份占发行后公司股份总数的比例不低于25%；本次公开发行\\n全部为新股发行，老股东不公开发售股份。\\n每股面值：人民币1.00元\\n每股发行价格：[ ]元\\n预计发行日期：2016年10月13日\\n拟上市证券交易所：深圳证券交易所\\n发行后总股本：不超过8,667万股\\n本次发行前股东所持股份的流通限制及自愿锁定股份的承诺：\\n1、公司控股股东、实际控制人之一、董事长余春明，公司股东、实际控制\\n人之一、董事、总经理余超彪，胡建飞、汪红时、叶松林、刘松林、朱观润等 5\\n名持有公司股份的董事、监事、高级管理人员承诺（其中，持有公司股份的监\\n事仅承诺第（1）项与第（2）项）：（1）自股份公司股票在证券交易所上市交易\\n之日起三十六个月内，不转让或者委托他人管理本次发行前其已持有的股份公\\n司股份，也不由股份公司回购该部分股份。（2）在上述锁定期届满后，若其仍\\n在股份公司任职的，在股份公司任职期间每年转让的股份公司股份不超过其所\\n持有股权总数的25%；自其从股份公司处离职半年内，不转让所持有的股份公司\\n股份；自其申报离任六个月后的十二个月内通过证券交易所挂牌交易出售的股\\n份公司股票数量占其所持有股份公司股票总数的比例不超过50%。（3）所持公司\\n股票在锁定期满后两年内减持的，减持价格不低于发行价；公司上市后 6 个月\\n内如公司股票连续20个交易日的收盘价均低于发行价，或者上市后6个月期末\\n收盘价低于发行价，本人所持公司股票的锁定期限自动延长 6 个月。上述减持\\n价格和股份锁定承诺不因本人职务变更、离职而终止。（前述发行价指公司首次\\n公开发行股票的发行价格，如果公司上市后因派发现金红利、送股、转增股本、\\n增发新股等原因进行除权、除息的，则按照证券交易所的有关规定作除权除息\\n处理。）\\n2、公司股东余春禄、张光秀、陈发娣、余志平承诺：自股份公司股票在证\\n券交易所上市交易之日起三十六个月内不转让或者委托他人管理本次发行前其\\n已持有的股份公司股份，也不由股份公司回购该部分股份。\\n3、除上述股东外，本次发行前的公司其他 67 名自然人股东承诺：自股份\\n公司股票在证券交易所上市交易之日起十二个月内，不转让或者委托他人管理\\n本次发行前其已持有的股份公司股份，也不由股份公司回购该部分股份。\\n承诺期限届满后，上述股份可以上市流通和转让。\\n保荐机构（主承销商）：国元证券股份有限公司\\n招股意向书签署日期：2016年9月28日\\n发行人及全体董事、监事、高级管理人员承诺招股意向书及其摘要不存在\\n虚假记载、误导性陈述或重大遗漏，并对其真实性、准确性、完整性承担个别\\n和连带的法律责任。\\n公司负责人和主管会计工作的负责人、会计机构负责人保证招股意向书及\\n其摘要中财务会计资料真实、完整。\\n保荐人承诺因其为发行人首次公开发行股票制作、出具的文件有虚假记载、\\n误导性陈述或者重大遗漏，给投资者造成损失的，将先行赔偿投资者损失。\\n中国证监会、其他政府部门对本次发行所做的任何决定或意见，均不表明\\n其对发行人股票的价值或投资者的投资收益作出实质性判断或保证。任何与之\\n相反的声明均属虚假不实陈述。\\n根据《证券法》的规定，股票依法发行后，发行人经营与收益的变化，由\\n发行人自行负责，由此变化引致的投资风险，由投资者自行负责。\\n投资者若对本招股意向书及其摘要存在任何疑问，应咨询自己的股票经纪\\n人、律师、会计师或其他专业顾问。\\n1、公司控股股东、实际控制人之一、董事长余春明，公司股东、实际控制\\n人之一、董事、总经理余超彪，及胡建飞、汪红时、叶松林、刘松林、朱观润\\n等 5 名持有公司股份的董事、监事、高级管理人员承诺（其中，持有公司股份\\n的监事仅承诺第（1）项与第（2）项）：（1）自股份公司股票在证券交易所上市\\n交易之日起三十六个月内，不转让或者委托他人管理本次发行前其已持有的股\\n份公司股份，也不由股份公司回购该部分股份。（2）在上述锁定期届满后，若\\n其仍在股份公司任职的，在股份公司任职期间每年转让的股份公司股份不超过\\n其所持有股权总数的25%；自其从股份公司处离职半年内，不转让所持有的股份\\n公司股份；自其申报离任六个月后的十二个月内通过证券交易所挂牌交易出售\\n的股份公司股票数量占其所持有股份公司股票总数的比例不超过50%。（3）所持\\n公司股票在锁定期满后两年内减持的，减持价格不低于发行价；公司上市后 6\\n个月内如公司股票连续20个交易日的收盘价均低于发行价，或者上市后6 个月\\n期末收盘价低于发行价，本人所持公司股票的锁定期限自动延长 6 个月。上述', metadata={'source': '../../bs_challenge_financial_14b_dataset/pdf_txt_file/03c625c108ac0137f413dfd4136adb55c74b3805.txt'})"
      ]
     },
     "execution_count": 11,
     "metadata": {},
     "output_type": "execute_result"
    }
   ],
   "source": [
    "sp[0]"
   ]
  }
 ],
 "metadata": {
  "kernelspec": {
   "display_name": "pytorch",
   "language": "python",
   "name": "python3"
  },
  "language_info": {
   "codemirror_mode": {
    "name": "ipython",
    "version": 3
   },
   "file_extension": ".py",
   "mimetype": "text/x-python",
   "name": "python",
   "nbconvert_exporter": "python",
   "pygments_lexer": "ipython3",
   "version": "3.8.16"
  }
 },
 "nbformat": 4,
 "nbformat_minor": 2
}
