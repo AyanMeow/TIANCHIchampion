{
 "cells": [
  {
   "cell_type": "code",
   "execution_count": 6,
   "metadata": {},
   "outputs": [],
   "source": [
    "_PROMPT_TEMPLATE = \"\"\"\n",
    "请你提取下面段落的关键词，要求所提取的关键词能够鲜明表示内容性质。所提取的关键词应不少于5个。\n",
    "\n",
    "待处理内容：\n",
    "\n",
    "本次股票发行后拟在创业板市场上市，该市场具有较高的投资风险。创业\n",
    "板公司具有业绩不稳定、经营风险高、退市风险大等特点，投资者面临较大的\n",
    "市场风险。投资者应充分了解创业板市场的投资风险及本公司所披露的风险因\n",
    "素，审慎作出投资决定。\n",
    "华瑞电器股份有限公司\n",
    "Huarui Electrical Appliance Co., Ltd.\n",
    "册地址：宁波市鄞州区姜山镇科技园区\n",
    "首次公开发行股票并在创业板上市\n",
    "招股意向书\n",
    "发行人及全体董事、监事、高级管理人员承诺招股意向书不存在虚假记载、\n",
    "误导性陈述或重大遗漏，并对其真实性、准确性、完整性、及时性承担个别和连\n",
    "带的法律责任。\n",
    "发行人及全体董事、监事、高级管理人员、发行人的控股股东、实际控制人\n",
    "以及保荐人、承销的证券公司承诺因发行人招股意向书及其他信息披露资料有虚\n",
    "假记载、误导性陈述或者重大遗漏，致使投资者在证券发行和交易中遭受损失的，\n",
    "将依法赔偿投资者损失。\n",
    "\n",
    "注意：你的回答不需要分段。你的回答格式应该按照下面的内容，请注意---output 等标记都必须输出，这是我用来提取答案的标记。\n",
    "除了你的回答之外不要输出多余的文字。\n",
    "\n",
    "---output\n",
    "${{\"keywords\":[你提取的关键词]}}\n",
    "\"\"\""
   ]
  },
  {
   "cell_type": "code",
   "execution_count": 1,
   "metadata": {},
   "outputs": [],
   "source": [
    "import dashscope\n",
    "from dashscope import Generation\n",
    "from http import HTTPStatus\n",
    "import random\n",
    "from CustomLLM import QWENonlie\n",
    "from Container import g_container\n",
    "apikey='sk-02b8b1a9175a4cae9bf9571d517d8b81'\n",
    "llm=QWENonlie.from_name(model_name=Generation.Models.qwen_max,api_key=apikey)\n",
    "g_container.MODEL = llm"
   ]
  },
  {
   "cell_type": "code",
   "execution_count": 9,
   "metadata": {},
   "outputs": [
    {
     "data": {
      "text/plain": [
       "'---output\\n{\"keywords\":[\"创业板\",\"投资风险\",\"市场风险\",\"信息披露\",\"法律责任\"]}'"
      ]
     },
     "execution_count": 9,
     "metadata": {},
     "output_type": "execute_result"
    }
   ],
   "source": [
    "llm._call(prompt=_PROMPT_TEMPLATE,\n",
    "          stop=['---stop'])"
   ]
  },
  {
   "cell_type": "code",
   "execution_count": 2,
   "metadata": {},
   "outputs": [],
   "source": [
    "%load_ext autoreload\n",
    "%autoreload 2\n",
    "from config import QWEN_CONFIG\n",
    "from dashscope import TextEmbedding,BatchTextEmbedding\n",
    "from langchain.text_splitter import RecursiveCharacterTextSplitter\n",
    "from langchain.document_loaders import TextLoader\n",
    "from langchain.embeddings import DashScopeEmbeddings,HuggingFaceEmbeddings\n",
    "\n",
    "emb2=HuggingFaceEmbeddings(model_name='../../model/m3e/',encode_kwargs={'normalize_embeddings':True})\n",
    "g_container.EMBEDDING=emb2\n"
   ]
  },
  {
   "cell_type": "code",
   "execution_count": 3,
   "metadata": {},
   "outputs": [
    {
     "name": "stdout",
     "output_type": "stream",
     "text": [
      "The autoreload extension is already loaded. To reload it, use:\n",
      "  %reload_ext autoreload\n"
     ]
    }
   ],
   "source": [
    "%load_ext autoreload\n",
    "%autoreload 2\n",
    "from config import QWEN_CONFIG\n",
    "cfg = QWEN_CONFIG(api_key=apikey,\n",
    "                  embedding_name='text_embedding_async_v1')"
   ]
  },
  {
   "cell_type": "code",
   "execution_count": 42,
   "metadata": {},
   "outputs": [
    {
     "name": "stdout",
     "output_type": "stream",
     "text": [
      "The autoreload extension is already loaded. To reload it, use:\n",
      "  %reload_ext autoreload\n"
     ]
    },
    {
     "data": {
      "application/vnd.jupyter.widget-view+json": {
       "model_id": "6ea8362f0b014b06943d984919875121",
       "version_major": 2,
       "version_minor": 0
      },
      "text/plain": [
       "handle files::   0%|          | 0/80 [00:00<?, ?it/s]"
      ]
     },
     "metadata": {},
     "output_type": "display_data"
    },
    {
     "data": {
      "application/vnd.jupyter.widget-view+json": {
       "model_id": "8f3b63181b694daaabedbaa4dd4e85f4",
       "version_major": 2,
       "version_minor": 0
      },
      "text/plain": [
       "handle tables::   0%|          | 0/386 [00:00<?, ?it/s]"
      ]
     },
     "metadata": {},
     "output_type": "display_data"
    },
    {
     "data": {
      "application/vnd.jupyter.widget-view+json": {
       "model_id": "e44ecdffcbe2418886bdcbd80cbb4880",
       "version_major": 2,
       "version_minor": 0
      },
      "text/plain": [
       "handle tables::   0%|          | 0/326 [00:00<?, ?it/s]"
      ]
     },
     "metadata": {},
     "output_type": "display_data"
    },
    {
     "data": {
      "application/vnd.jupyter.widget-view+json": {
       "model_id": "1498e989383547bf87f90966eef1c1d7",
       "version_major": 2,
       "version_minor": 0
      },
      "text/plain": [
       "handle tables::   0%|          | 0/713 [00:00<?, ?it/s]"
      ]
     },
     "metadata": {},
     "output_type": "display_data"
    },
    {
     "data": {
      "application/vnd.jupyter.widget-view+json": {
       "model_id": "6fefb6e99cbb4095b848b258075daabd",
       "version_major": 2,
       "version_minor": 0
      },
      "text/plain": [
       "handle tables::   0%|          | 0/534 [00:00<?, ?it/s]"
      ]
     },
     "metadata": {},
     "output_type": "display_data"
    },
    {
     "data": {
      "application/vnd.jupyter.widget-view+json": {
       "model_id": "a57fc85167bd45218657f7796c9bcc21",
       "version_major": 2,
       "version_minor": 0
      },
      "text/plain": [
       "handle tables::   0%|          | 0/350 [00:00<?, ?it/s]"
      ]
     },
     "metadata": {},
     "output_type": "display_data"
    },
    {
     "data": {
      "application/vnd.jupyter.widget-view+json": {
       "model_id": "dc1d5c3162ff4d1fbbe1f586b94a023e",
       "version_major": 2,
       "version_minor": 0
      },
      "text/plain": [
       "handle tables::   0%|          | 0/202 [00:00<?, ?it/s]"
      ]
     },
     "metadata": {},
     "output_type": "display_data"
    },
    {
     "data": {
      "application/vnd.jupyter.widget-view+json": {
       "model_id": "cbb89b444da446bfaa65976857d3b8b1",
       "version_major": 2,
       "version_minor": 0
      },
      "text/plain": [
       "handle tables::   0%|          | 0/423 [00:00<?, ?it/s]"
      ]
     },
     "metadata": {},
     "output_type": "display_data"
    },
    {
     "data": {
      "application/vnd.jupyter.widget-view+json": {
       "model_id": "bbd3db6b5eb541349365d23de33bf811",
       "version_major": 2,
       "version_minor": 0
      },
      "text/plain": [
       "handle tables::   0%|          | 0/329 [00:00<?, ?it/s]"
      ]
     },
     "metadata": {},
     "output_type": "display_data"
    },
    {
     "data": {
      "application/vnd.jupyter.widget-view+json": {
       "model_id": "ae33ccb8d3344aba9478ef69095da409",
       "version_major": 2,
       "version_minor": 0
      },
      "text/plain": [
       "handle tables::   0%|          | 0/308 [00:00<?, ?it/s]"
      ]
     },
     "metadata": {},
     "output_type": "display_data"
    },
    {
     "data": {
      "application/vnd.jupyter.widget-view+json": {
       "model_id": "cb8c0812cb7f418a9a159b037deab425",
       "version_major": 2,
       "version_minor": 0
      },
      "text/plain": [
       "handle tables::   0%|          | 0/476 [00:00<?, ?it/s]"
      ]
     },
     "metadata": {},
     "output_type": "display_data"
    },
    {
     "data": {
      "application/vnd.jupyter.widget-view+json": {
       "model_id": "9871ae3cd973489f8bf1d6dea2488b59",
       "version_major": 2,
       "version_minor": 0
      },
      "text/plain": [
       "handle tables::   0%|          | 0/439 [00:00<?, ?it/s]"
      ]
     },
     "metadata": {},
     "output_type": "display_data"
    },
    {
     "data": {
      "application/vnd.jupyter.widget-view+json": {
       "model_id": "c520bc0fbdb241fcb7a4ae1f22f58223",
       "version_major": 2,
       "version_minor": 0
      },
      "text/plain": [
       "handle tables::   0%|          | 0/327 [00:00<?, ?it/s]"
      ]
     },
     "metadata": {},
     "output_type": "display_data"
    },
    {
     "data": {
      "application/vnd.jupyter.widget-view+json": {
       "model_id": "43df5015a2c14035906937b36632fbe8",
       "version_major": 2,
       "version_minor": 0
      },
      "text/plain": [
       "handle tables::   0%|          | 0/794 [00:00<?, ?it/s]"
      ]
     },
     "metadata": {},
     "output_type": "display_data"
    },
    {
     "data": {
      "application/vnd.jupyter.widget-view+json": {
       "model_id": "f6a84aa8a198470c9a4329558e0e84c9",
       "version_major": 2,
       "version_minor": 0
      },
      "text/plain": [
       "handle tables::   0%|          | 0/223 [00:00<?, ?it/s]"
      ]
     },
     "metadata": {},
     "output_type": "display_data"
    },
    {
     "data": {
      "application/vnd.jupyter.widget-view+json": {
       "model_id": "127d9a320b2d4f518b394f6082d6dd63",
       "version_major": 2,
       "version_minor": 0
      },
      "text/plain": [
       "handle tables::   0%|          | 0/287 [00:00<?, ?it/s]"
      ]
     },
     "metadata": {},
     "output_type": "display_data"
    },
    {
     "data": {
      "application/vnd.jupyter.widget-view+json": {
       "model_id": "19d4151618f54914b62976b552596240",
       "version_major": 2,
       "version_minor": 0
      },
      "text/plain": [
       "handle tables::   0%|          | 0/395 [00:00<?, ?it/s]"
      ]
     },
     "metadata": {},
     "output_type": "display_data"
    },
    {
     "data": {
      "application/vnd.jupyter.widget-view+json": {
       "model_id": "7ac67b4f82724dac9b34c38a6930c853",
       "version_major": 2,
       "version_minor": 0
      },
      "text/plain": [
       "handle tables::   0%|          | 0/387 [00:00<?, ?it/s]"
      ]
     },
     "metadata": {},
     "output_type": "display_data"
    },
    {
     "data": {
      "application/vnd.jupyter.widget-view+json": {
       "model_id": "36a3609867b04224a2a99c9dc4e21a4c",
       "version_major": 2,
       "version_minor": 0
      },
      "text/plain": [
       "handle tables::   0%|          | 0/340 [00:00<?, ?it/s]"
      ]
     },
     "metadata": {},
     "output_type": "display_data"
    },
    {
     "data": {
      "application/vnd.jupyter.widget-view+json": {
       "model_id": "0c5e11f0fc4f4f8b908b3ded27e1d10b",
       "version_major": 2,
       "version_minor": 0
      },
      "text/plain": [
       "handle tables::   0%|          | 0/374 [00:00<?, ?it/s]"
      ]
     },
     "metadata": {},
     "output_type": "display_data"
    },
    {
     "data": {
      "application/vnd.jupyter.widget-view+json": {
       "model_id": "19427876af03424b91c5006bb9b2767d",
       "version_major": 2,
       "version_minor": 0
      },
      "text/plain": [
       "handle tables::   0%|          | 0/625 [00:00<?, ?it/s]"
      ]
     },
     "metadata": {},
     "output_type": "display_data"
    },
    {
     "data": {
      "application/vnd.jupyter.widget-view+json": {
       "model_id": "493b412970f34696914906a02575eea6",
       "version_major": 2,
       "version_minor": 0
      },
      "text/plain": [
       "handle tables::   0%|          | 0/262 [00:00<?, ?it/s]"
      ]
     },
     "metadata": {},
     "output_type": "display_data"
    },
    {
     "data": {
      "application/vnd.jupyter.widget-view+json": {
       "model_id": "a331762b8d3943d7ac59ea1222943a1b",
       "version_major": 2,
       "version_minor": 0
      },
      "text/plain": [
       "handle tables::   0%|          | 0/297 [00:00<?, ?it/s]"
      ]
     },
     "metadata": {},
     "output_type": "display_data"
    },
    {
     "data": {
      "application/vnd.jupyter.widget-view+json": {
       "model_id": "869f0efaf8f84d3c8f83f0b3add9fe91",
       "version_major": 2,
       "version_minor": 0
      },
      "text/plain": [
       "handle tables::   0%|          | 0/365 [00:00<?, ?it/s]"
      ]
     },
     "metadata": {},
     "output_type": "display_data"
    },
    {
     "data": {
      "application/vnd.jupyter.widget-view+json": {
       "model_id": "ef532b4a229c493ea6fbc6bcc05ebdff",
       "version_major": 2,
       "version_minor": 0
      },
      "text/plain": [
       "handle tables::   0%|          | 0/466 [00:00<?, ?it/s]"
      ]
     },
     "metadata": {},
     "output_type": "display_data"
    },
    {
     "data": {
      "application/vnd.jupyter.widget-view+json": {
       "model_id": "2f96780dc38c45c4b7026aeac5815443",
       "version_major": 2,
       "version_minor": 0
      },
      "text/plain": [
       "handle tables::   0%|          | 0/381 [00:00<?, ?it/s]"
      ]
     },
     "metadata": {},
     "output_type": "display_data"
    },
    {
     "data": {
      "application/vnd.jupyter.widget-view+json": {
       "model_id": "f5255ef3085a43d6bfc6813f49a45cbd",
       "version_major": 2,
       "version_minor": 0
      },
      "text/plain": [
       "handle tables::   0%|          | 0/376 [00:00<?, ?it/s]"
      ]
     },
     "metadata": {},
     "output_type": "display_data"
    },
    {
     "data": {
      "application/vnd.jupyter.widget-view+json": {
       "model_id": "c11f4b7cc7624a61b44e4def726b7b8e",
       "version_major": 2,
       "version_minor": 0
      },
      "text/plain": [
       "handle tables::   0%|          | 0/319 [00:00<?, ?it/s]"
      ]
     },
     "metadata": {},
     "output_type": "display_data"
    },
    {
     "data": {
      "application/vnd.jupyter.widget-view+json": {
       "model_id": "a3cbcb5d7ac14d3592f811ca33701ebf",
       "version_major": 2,
       "version_minor": 0
      },
      "text/plain": [
       "handle tables::   0%|          | 0/224 [00:00<?, ?it/s]"
      ]
     },
     "metadata": {},
     "output_type": "display_data"
    },
    {
     "data": {
      "application/vnd.jupyter.widget-view+json": {
       "model_id": "5234209b4e9944f081b05492cf78d8c9",
       "version_major": 2,
       "version_minor": 0
      },
      "text/plain": [
       "handle tables::   0%|          | 0/312 [00:00<?, ?it/s]"
      ]
     },
     "metadata": {},
     "output_type": "display_data"
    },
    {
     "data": {
      "application/vnd.jupyter.widget-view+json": {
       "model_id": "1f6866328382402e81436a2e4150940f",
       "version_major": 2,
       "version_minor": 0
      },
      "text/plain": [
       "handle tables::   0%|          | 0/231 [00:00<?, ?it/s]"
      ]
     },
     "metadata": {},
     "output_type": "display_data"
    },
    {
     "data": {
      "application/vnd.jupyter.widget-view+json": {
       "model_id": "e32f41336d744b07be7db1146e23b647",
       "version_major": 2,
       "version_minor": 0
      },
      "text/plain": [
       "handle tables::   0%|          | 0/395 [00:00<?, ?it/s]"
      ]
     },
     "metadata": {},
     "output_type": "display_data"
    },
    {
     "data": {
      "application/vnd.jupyter.widget-view+json": {
       "model_id": "6eb77c1d877f4d84b2c62908ec708699",
       "version_major": 2,
       "version_minor": 0
      },
      "text/plain": [
       "handle tables::   0%|          | 0/694 [00:00<?, ?it/s]"
      ]
     },
     "metadata": {},
     "output_type": "display_data"
    },
    {
     "data": {
      "application/vnd.jupyter.widget-view+json": {
       "model_id": "e9892445dcd64402a5d5c839a97a33ff",
       "version_major": 2,
       "version_minor": 0
      },
      "text/plain": [
       "handle tables::   0%|          | 0/388 [00:00<?, ?it/s]"
      ]
     },
     "metadata": {},
     "output_type": "display_data"
    },
    {
     "data": {
      "application/vnd.jupyter.widget-view+json": {
       "model_id": "ef961ac98d7e43cea0a7d038cb11a223",
       "version_major": 2,
       "version_minor": 0
      },
      "text/plain": [
       "handle tables::   0%|          | 0/366 [00:00<?, ?it/s]"
      ]
     },
     "metadata": {},
     "output_type": "display_data"
    },
    {
     "data": {
      "application/vnd.jupyter.widget-view+json": {
       "model_id": "8ff724d0dae04eda972290b0ad80e569",
       "version_major": 2,
       "version_minor": 0
      },
      "text/plain": [
       "handle tables::   0%|          | 0/547 [00:00<?, ?it/s]"
      ]
     },
     "metadata": {},
     "output_type": "display_data"
    },
    {
     "data": {
      "application/vnd.jupyter.widget-view+json": {
       "model_id": "029250fbb66444b9a354edc9695052d2",
       "version_major": 2,
       "version_minor": 0
      },
      "text/plain": [
       "handle tables::   0%|          | 0/625 [00:00<?, ?it/s]"
      ]
     },
     "metadata": {},
     "output_type": "display_data"
    },
    {
     "data": {
      "application/vnd.jupyter.widget-view+json": {
       "model_id": "d75623cb3b9243b3abfaf158c28f00d0",
       "version_major": 2,
       "version_minor": 0
      },
      "text/plain": [
       "handle tables::   0%|          | 0/361 [00:00<?, ?it/s]"
      ]
     },
     "metadata": {},
     "output_type": "display_data"
    },
    {
     "data": {
      "application/vnd.jupyter.widget-view+json": {
       "model_id": "051385df097b40c79bcb3d9bcd05603c",
       "version_major": 2,
       "version_minor": 0
      },
      "text/plain": [
       "handle tables::   0%|          | 0/642 [00:00<?, ?it/s]"
      ]
     },
     "metadata": {},
     "output_type": "display_data"
    },
    {
     "data": {
      "application/vnd.jupyter.widget-view+json": {
       "model_id": "5707fb1fb772474ea1faaf944caef500",
       "version_major": 2,
       "version_minor": 0
      },
      "text/plain": [
       "handle tables::   0%|          | 0/330 [00:00<?, ?it/s]"
      ]
     },
     "metadata": {},
     "output_type": "display_data"
    },
    {
     "data": {
      "application/vnd.jupyter.widget-view+json": {
       "model_id": "63542d44838e4988ab0b6d4b0f9dcad6",
       "version_major": 2,
       "version_minor": 0
      },
      "text/plain": [
       "handle tables::   0%|          | 0/373 [00:00<?, ?it/s]"
      ]
     },
     "metadata": {},
     "output_type": "display_data"
    },
    {
     "data": {
      "application/vnd.jupyter.widget-view+json": {
       "model_id": "a1c76d3d24c04691b38c1acfb304091f",
       "version_major": 2,
       "version_minor": 0
      },
      "text/plain": [
       "handle tables::   0%|          | 0/209 [00:00<?, ?it/s]"
      ]
     },
     "metadata": {},
     "output_type": "display_data"
    },
    {
     "data": {
      "application/vnd.jupyter.widget-view+json": {
       "model_id": "c7766aa0f2634d45b38871be84254bc2",
       "version_major": 2,
       "version_minor": 0
      },
      "text/plain": [
       "handle tables::   0%|          | 0/398 [00:00<?, ?it/s]"
      ]
     },
     "metadata": {},
     "output_type": "display_data"
    },
    {
     "data": {
      "application/vnd.jupyter.widget-view+json": {
       "model_id": "f0cff23baa184146b6163f706556f8f8",
       "version_major": 2,
       "version_minor": 0
      },
      "text/plain": [
       "handle tables::   0%|          | 0/331 [00:00<?, ?it/s]"
      ]
     },
     "metadata": {},
     "output_type": "display_data"
    },
    {
     "data": {
      "application/vnd.jupyter.widget-view+json": {
       "model_id": "ac3132fa48c54389a0c7d9af63e42035",
       "version_major": 2,
       "version_minor": 0
      },
      "text/plain": [
       "handle tables::   0%|          | 0/393 [00:00<?, ?it/s]"
      ]
     },
     "metadata": {},
     "output_type": "display_data"
    },
    {
     "data": {
      "application/vnd.jupyter.widget-view+json": {
       "model_id": "323458c7fa47461db02fb4ea1b84276c",
       "version_major": 2,
       "version_minor": 0
      },
      "text/plain": [
       "handle tables::   0%|          | 0/348 [00:00<?, ?it/s]"
      ]
     },
     "metadata": {},
     "output_type": "display_data"
    },
    {
     "data": {
      "application/vnd.jupyter.widget-view+json": {
       "model_id": "4526fd775194427ab4aaa897ea731345",
       "version_major": 2,
       "version_minor": 0
      },
      "text/plain": [
       "handle tables::   0%|          | 0/548 [00:00<?, ?it/s]"
      ]
     },
     "metadata": {},
     "output_type": "display_data"
    },
    {
     "data": {
      "application/vnd.jupyter.widget-view+json": {
       "model_id": "4353c2c9a0ef471ba68367d6263cece4",
       "version_major": 2,
       "version_minor": 0
      },
      "text/plain": [
       "handle tables::   0%|          | 0/410 [00:00<?, ?it/s]"
      ]
     },
     "metadata": {},
     "output_type": "display_data"
    },
    {
     "data": {
      "application/vnd.jupyter.widget-view+json": {
       "model_id": "9cadec1d6a474bfd961acf8d7fe65574",
       "version_major": 2,
       "version_minor": 0
      },
      "text/plain": [
       "handle tables::   0%|          | 0/376 [00:00<?, ?it/s]"
      ]
     },
     "metadata": {},
     "output_type": "display_data"
    },
    {
     "data": {
      "application/vnd.jupyter.widget-view+json": {
       "model_id": "67a850bde3104753846e2d3e9824389e",
       "version_major": 2,
       "version_minor": 0
      },
      "text/plain": [
       "handle tables::   0%|          | 0/202 [00:00<?, ?it/s]"
      ]
     },
     "metadata": {},
     "output_type": "display_data"
    },
    {
     "data": {
      "application/vnd.jupyter.widget-view+json": {
       "model_id": "dd14d11c6b9d40b0b5f1d9f1ef446767",
       "version_major": 2,
       "version_minor": 0
      },
      "text/plain": [
       "handle tables::   0%|          | 0/613 [00:00<?, ?it/s]"
      ]
     },
     "metadata": {},
     "output_type": "display_data"
    },
    {
     "data": {
      "application/vnd.jupyter.widget-view+json": {
       "model_id": "d7a002ebbad543bf8a42e312888795ef",
       "version_major": 2,
       "version_minor": 0
      },
      "text/plain": [
       "handle tables::   0%|          | 0/379 [00:00<?, ?it/s]"
      ]
     },
     "metadata": {},
     "output_type": "display_data"
    },
    {
     "data": {
      "application/vnd.jupyter.widget-view+json": {
       "model_id": "720719c788cd4b80bb450f53c8f27945",
       "version_major": 2,
       "version_minor": 0
      },
      "text/plain": [
       "handle tables::   0%|          | 0/351 [00:00<?, ?it/s]"
      ]
     },
     "metadata": {},
     "output_type": "display_data"
    },
    {
     "data": {
      "application/vnd.jupyter.widget-view+json": {
       "model_id": "faf442c5d2cb416697222a36278a4a01",
       "version_major": 2,
       "version_minor": 0
      },
      "text/plain": [
       "handle tables::   0%|          | 0/437 [00:00<?, ?it/s]"
      ]
     },
     "metadata": {},
     "output_type": "display_data"
    },
    {
     "data": {
      "application/vnd.jupyter.widget-view+json": {
       "model_id": "a8b7994cb31c4af1a2c372330c5e0da6",
       "version_major": 2,
       "version_minor": 0
      },
      "text/plain": [
       "handle tables::   0%|          | 0/332 [00:00<?, ?it/s]"
      ]
     },
     "metadata": {},
     "output_type": "display_data"
    },
    {
     "data": {
      "application/vnd.jupyter.widget-view+json": {
       "model_id": "d9e767ae64ec4c129c7ef5f86b66e4e4",
       "version_major": 2,
       "version_minor": 0
      },
      "text/plain": [
       "handle tables::   0%|          | 0/328 [00:00<?, ?it/s]"
      ]
     },
     "metadata": {},
     "output_type": "display_data"
    },
    {
     "data": {
      "application/vnd.jupyter.widget-view+json": {
       "model_id": "ac22a9d532f7433992e0308f3b93e8aa",
       "version_major": 2,
       "version_minor": 0
      },
      "text/plain": [
       "handle tables::   0%|          | 0/394 [00:00<?, ?it/s]"
      ]
     },
     "metadata": {},
     "output_type": "display_data"
    },
    {
     "data": {
      "application/vnd.jupyter.widget-view+json": {
       "model_id": "a64ff26f4f3a467f9c659b0d9528fc0b",
       "version_major": 2,
       "version_minor": 0
      },
      "text/plain": [
       "handle tables::   0%|          | 0/425 [00:00<?, ?it/s]"
      ]
     },
     "metadata": {},
     "output_type": "display_data"
    },
    {
     "data": {
      "application/vnd.jupyter.widget-view+json": {
       "model_id": "f1d52add69b644da9bc0ade1041582b7",
       "version_major": 2,
       "version_minor": 0
      },
      "text/plain": [
       "handle tables::   0%|          | 0/436 [00:00<?, ?it/s]"
      ]
     },
     "metadata": {},
     "output_type": "display_data"
    },
    {
     "data": {
      "application/vnd.jupyter.widget-view+json": {
       "model_id": "776f02e5956e4470997d6d1b61e43310",
       "version_major": 2,
       "version_minor": 0
      },
      "text/plain": [
       "handle tables::   0%|          | 0/361 [00:00<?, ?it/s]"
      ]
     },
     "metadata": {},
     "output_type": "display_data"
    },
    {
     "data": {
      "application/vnd.jupyter.widget-view+json": {
       "model_id": "132bc8d082754778b2ce35e6dd241041",
       "version_major": 2,
       "version_minor": 0
      },
      "text/plain": [
       "handle tables::   0%|          | 0/307 [00:00<?, ?it/s]"
      ]
     },
     "metadata": {},
     "output_type": "display_data"
    },
    {
     "data": {
      "application/vnd.jupyter.widget-view+json": {
       "model_id": "1515ea115ee04f84b5e7d0f0cb2a01c8",
       "version_major": 2,
       "version_minor": 0
      },
      "text/plain": [
       "handle tables::   0%|          | 0/307 [00:00<?, ?it/s]"
      ]
     },
     "metadata": {},
     "output_type": "display_data"
    },
    {
     "data": {
      "application/vnd.jupyter.widget-view+json": {
       "model_id": "22acec0aed2f4b22b0eb23d7239546bd",
       "version_major": 2,
       "version_minor": 0
      },
      "text/plain": [
       "handle tables::   0%|          | 0/346 [00:00<?, ?it/s]"
      ]
     },
     "metadata": {},
     "output_type": "display_data"
    },
    {
     "data": {
      "application/vnd.jupyter.widget-view+json": {
       "model_id": "611ff954c47c48d88dc5092c1e21901f",
       "version_major": 2,
       "version_minor": 0
      },
      "text/plain": [
       "handle tables::   0%|          | 0/345 [00:00<?, ?it/s]"
      ]
     },
     "metadata": {},
     "output_type": "display_data"
    },
    {
     "data": {
      "application/vnd.jupyter.widget-view+json": {
       "model_id": "56ce86aed61c432ba546f9c90925dda2",
       "version_major": 2,
       "version_minor": 0
      },
      "text/plain": [
       "handle tables::   0%|          | 0/411 [00:00<?, ?it/s]"
      ]
     },
     "metadata": {},
     "output_type": "display_data"
    },
    {
     "data": {
      "application/vnd.jupyter.widget-view+json": {
       "model_id": "49b3aaaa14684ab4be85b64b698a8992",
       "version_major": 2,
       "version_minor": 0
      },
      "text/plain": [
       "handle tables::   0%|          | 0/315 [00:00<?, ?it/s]"
      ]
     },
     "metadata": {},
     "output_type": "display_data"
    },
    {
     "data": {
      "application/vnd.jupyter.widget-view+json": {
       "model_id": "71f5f54e2bea4abab8ed3075131665f4",
       "version_major": 2,
       "version_minor": 0
      },
      "text/plain": [
       "handle tables::   0%|          | 0/346 [00:00<?, ?it/s]"
      ]
     },
     "metadata": {},
     "output_type": "display_data"
    },
    {
     "data": {
      "application/vnd.jupyter.widget-view+json": {
       "model_id": "d67a3753559245f28224d5fa731825be",
       "version_major": 2,
       "version_minor": 0
      },
      "text/plain": [
       "handle tables::   0%|          | 0/662 [00:00<?, ?it/s]"
      ]
     },
     "metadata": {},
     "output_type": "display_data"
    },
    {
     "data": {
      "application/vnd.jupyter.widget-view+json": {
       "model_id": "f852055556644217a3c3e289f8315595",
       "version_major": 2,
       "version_minor": 0
      },
      "text/plain": [
       "handle tables::   0%|          | 0/469 [00:00<?, ?it/s]"
      ]
     },
     "metadata": {},
     "output_type": "display_data"
    },
    {
     "data": {
      "application/vnd.jupyter.widget-view+json": {
       "model_id": "0c32b9e2ebee4989b5948e1842b509bf",
       "version_major": 2,
       "version_minor": 0
      },
      "text/plain": [
       "handle tables::   0%|          | 0/404 [00:00<?, ?it/s]"
      ]
     },
     "metadata": {},
     "output_type": "display_data"
    },
    {
     "data": {
      "application/vnd.jupyter.widget-view+json": {
       "model_id": "62bd3b91addb4229a60e49c13d0b22bf",
       "version_major": 2,
       "version_minor": 0
      },
      "text/plain": [
       "handle tables::   0%|          | 0/243 [00:00<?, ?it/s]"
      ]
     },
     "metadata": {},
     "output_type": "display_data"
    },
    {
     "data": {
      "application/vnd.jupyter.widget-view+json": {
       "model_id": "989f370f9248405fb422dc2523b002d5",
       "version_major": 2,
       "version_minor": 0
      },
      "text/plain": [
       "handle tables::   0%|          | 0/283 [00:00<?, ?it/s]"
      ]
     },
     "metadata": {},
     "output_type": "display_data"
    },
    {
     "data": {
      "application/vnd.jupyter.widget-view+json": {
       "model_id": "9ade8c14c6454db89d9ba10ec000ac7a",
       "version_major": 2,
       "version_minor": 0
      },
      "text/plain": [
       "handle tables::   0%|          | 0/496 [00:00<?, ?it/s]"
      ]
     },
     "metadata": {},
     "output_type": "display_data"
    },
    {
     "data": {
      "application/vnd.jupyter.widget-view+json": {
       "model_id": "7ae5ccf028f04fcf8c46aba3eeea31b3",
       "version_major": 2,
       "version_minor": 0
      },
      "text/plain": [
       "handle tables::   0%|          | 0/380 [00:00<?, ?it/s]"
      ]
     },
     "metadata": {},
     "output_type": "display_data"
    },
    {
     "data": {
      "application/vnd.jupyter.widget-view+json": {
       "model_id": "1ebf2b694dc1499fab5bdccfcc274e63",
       "version_major": 2,
       "version_minor": 0
      },
      "text/plain": [
       "handle tables::   0%|          | 0/506 [00:00<?, ?it/s]"
      ]
     },
     "metadata": {},
     "output_type": "display_data"
    },
    {
     "data": {
      "application/vnd.jupyter.widget-view+json": {
       "model_id": "a6f0a854b6d44b1aba7bc1106549e3bb",
       "version_major": 2,
       "version_minor": 0
      },
      "text/plain": [
       "handle tables::   0%|          | 0/379 [00:00<?, ?it/s]"
      ]
     },
     "metadata": {},
     "output_type": "display_data"
    },
    {
     "data": {
      "application/vnd.jupyter.widget-view+json": {
       "model_id": "f4ff5c29c5244e56baa461b7f9dcecea",
       "version_major": 2,
       "version_minor": 0
      },
      "text/plain": [
       "handle tables::   0%|          | 0/268 [00:00<?, ?it/s]"
      ]
     },
     "metadata": {},
     "output_type": "display_data"
    },
    {
     "data": {
      "application/vnd.jupyter.widget-view+json": {
       "model_id": "2f64d025b7844dc0a12e05dc8b20b14b",
       "version_major": 2,
       "version_minor": 0
      },
      "text/plain": [
       "handle tables::   0%|          | 0/489 [00:00<?, ?it/s]"
      ]
     },
     "metadata": {},
     "output_type": "display_data"
    },
    {
     "data": {
      "application/vnd.jupyter.widget-view+json": {
       "model_id": "374c3a160ec0458cbd93fe37d5fc5887",
       "version_major": 2,
       "version_minor": 0
      },
      "text/plain": [
       "handle tables::   0%|          | 0/289 [00:00<?, ?it/s]"
      ]
     },
     "metadata": {},
     "output_type": "display_data"
    },
    {
     "data": {
      "application/vnd.jupyter.widget-view+json": {
       "model_id": "e86ca738d50d40739698affd8c11adfc",
       "version_major": 2,
       "version_minor": 0
      },
      "text/plain": [
       "handle tables::   0%|          | 0/1191 [00:00<?, ?it/s]"
      ]
     },
     "metadata": {},
     "output_type": "display_data"
    },
    {
     "data": {
      "application/vnd.jupyter.widget-view+json": {
       "model_id": "072dccb89bf04279a1be130436c7155b",
       "version_major": 2,
       "version_minor": 0
      },
      "text/plain": [
       "handle tables::   0%|          | 0/317 [00:00<?, ?it/s]"
      ]
     },
     "metadata": {},
     "output_type": "display_data"
    },
    {
     "name": "stdout",
     "output_type": "stream",
     "text": [
      "+----------------------------------------------+--------------------------------------------------------------------------------------------+---------+------------+-------------------------------------------------------------------------------------------------------------------+------------------------------------------+\n",
      "|                    source                    |                                          company                                           | doc_len | chunk_size |                                                     meta_data                                                     |                save_index                |\n",
      "+----------------------------------------------+--------------------------------------------------------------------------------------------+---------+------------+-------------------------------------------------------------------------------------------------------------------+------------------------------------------+\n",
      "| 03c625c108ac0137f413dfd4136adb55c74b3805.txt |                                  安徽黄山胶囊股份有限公司                                  |    -    |     -      |                               {'source': '03c625c108ac0137f413dfd4136adb55c74b3805'}                              |                  index                   |\n",
      "| 03c625c108ac0137f413dfd4136adb55c74b3805.txt |                                ['安徽黄山胶囊股份有限公司']                                |   775   |    700     | {'source': '../../bs_challenge_financial_14b_dataset/pdf_txt_file//03c625c108ac0137f413dfd4136adb55c74b3805.txt'} | 03c625c108ac0137f413dfd4136adb55c74b3805 |\n",
      "| 044635429bd83e329c5047010121044e07568feb.txt |                              上海华铭智能终端设备股份有限公司                              |    -    |     -      |                               {'source': '044635429bd83e329c5047010121044e07568feb'}                              |                  index                   |\n",
      "| 044635429bd83e329c5047010121044e07568feb.txt |                            ['上海华铭智能终端设备股份有限公司']                            |   647   |    700     | {'source': '../../bs_challenge_financial_14b_dataset/pdf_txt_file//044635429bd83e329c5047010121044e07568feb.txt'} | 044635429bd83e329c5047010121044e07568feb |\n",
      "| 07d29cd67ca8e0fc932e05178db1fcdca1cee937.txt |                                  香港交易及結算所有限公司                                  |    -    |     -      |                               {'source': '07d29cd67ca8e0fc932e05178db1fcdca1cee937'}                              |                  index                   |\n",
      "| 07d29cd67ca8e0fc932e05178db1fcdca1cee937.txt |                                   香港聯合交易所有限公司                                   |    -    |     -      |                               {'source': '07d29cd67ca8e0fc932e05178db1fcdca1cee937'}                              |                  index                   |\n",
      "| 07d29cd67ca8e0fc932e05178db1fcdca1cee937.txt |                                    青島銀行股份有限公司                                    |    -    |     -      |                               {'source': '07d29cd67ca8e0fc932e05178db1fcdca1cee937'}                              |                  index                   |\n",
      "| 07d29cd67ca8e0fc932e05178db1fcdca1cee937.txt |       ['香港交易及結算所有限公司', '香港聯合交易所有限公司', '青島銀行股份有限公司']       |   1179  |    700     | {'source': '../../bs_challenge_financial_14b_dataset/pdf_txt_file//07d29cd67ca8e0fc932e05178db1fcdca1cee937.txt'} | 07d29cd67ca8e0fc932e05178db1fcdca1cee937 |\n",
      "| 08538049ad1c7ca74c508bf95fe9fbbb4c924f3e.txt |                                 海尔施生物医药股份有限公司                                 |    -    |     -      |                               {'source': '08538049ad1c7ca74c508bf95fe9fbbb4c924f3e'}                              |                  index                   |\n",
      "| 08538049ad1c7ca74c508bf95fe9fbbb4c924f3e.txt |                                  瑞信方正证券有限责任公司                                  |    -    |     -      |                               {'source': '08538049ad1c7ca74c508bf95fe9fbbb4c924f3e'}                              |                  index                   |\n",
      "| 08538049ad1c7ca74c508bf95fe9fbbb4c924f3e.txt |                 ['海尔施生物医药股份有限公司', '瑞信方正证券有限责任公司']                 |   1017  |    700     | {'source': '../../bs_challenge_financial_14b_dataset/pdf_txt_file//08538049ad1c7ca74c508bf95fe9fbbb4c924f3e.txt'} | 08538049ad1c7ca74c508bf95fe9fbbb4c924f3e |\n",
      "| 0b46f7a2d67b5b59ad67cafffa0e12a9f0837790.txt |                                武汉力源信息技术股份有限公司                                |    -    |     -      |                               {'source': '0b46f7a2d67b5b59ad67cafffa0e12a9f0837790'}                              |                  index                   |\n",
      "| 0b46f7a2d67b5b59ad67cafffa0e12a9f0837790.txt |                              ['武汉力源信息技术股份有限公司']                              |   597   |    700     | {'source': '../../bs_challenge_financial_14b_dataset/pdf_txt_file//0b46f7a2d67b5b59ad67cafffa0e12a9f0837790.txt'} | 0b46f7a2d67b5b59ad67cafffa0e12a9f0837790 |\n",
      "| 11463b6562c6ba2afde67a29bca314452ea9a2e0.txt |                                  国电电力发展股份有限公司                                  |    -    |     -      |                               {'source': '11463b6562c6ba2afde67a29bca314452ea9a2e0'}                              |                  index                   |\n",
      "| 11463b6562c6ba2afde67a29bca314452ea9a2e0.txt |                                    中国国际金融有限公司                                    |    -    |     -      |                               {'source': '11463b6562c6ba2afde67a29bca314452ea9a2e0'}                              |                  index                   |\n",
      "| 11463b6562c6ba2afde67a29bca314452ea9a2e0.txt |                    ['国电电力发展股份有限公司', '中国国际金融有限公司']                    |   162   |    700     | {'source': '../../bs_challenge_financial_14b_dataset/pdf_txt_file//11463b6562c6ba2afde67a29bca314452ea9a2e0.txt'} | 11463b6562c6ba2afde67a29bca314452ea9a2e0 |\n",
      "| 1af01c24b0957a1ab6d9262b93d7ccf7093f0529.txt |                                    昇兴集团股份有限公司                                    |    -    |     -      |                               {'source': '1af01c24b0957a1ab6d9262b93d7ccf7093f0529'}                              |                  index                   |\n",
      "| 1af01c24b0957a1ab6d9262b93d7ccf7093f0529.txt |                                  ['昇兴集团股份有限公司']                                  |   797   |    700     | {'source': '../../bs_challenge_financial_14b_dataset/pdf_txt_file//1af01c24b0957a1ab6d9262b93d7ccf7093f0529.txt'} | 1af01c24b0957a1ab6d9262b93d7ccf7093f0529 |\n",
      "| 2389de12d78fe1ca4fa24910e6b1573902098bc3.txt |                               深圳市铁汉生态环境股份有限公司                               |    -    |     -      |                               {'source': '2389de12d78fe1ca4fa24910e6b1573902098bc3'}                              |                  index                   |\n",
      "| 2389de12d78fe1ca4fa24910e6b1573902098bc3.txt |                             ['深圳市铁汉生态环境股份有限公司']                             |   547   |    700     | {'source': '../../bs_challenge_financial_14b_dataset/pdf_txt_file//2389de12d78fe1ca4fa24910e6b1573902098bc3.txt'} | 2389de12d78fe1ca4fa24910e6b1573902098bc3 |\n",
      "| 28560e1383141e35127388a3f0ca0e7b24919c17.txt |                              江苏旷达汽车织物集团股份有限公司                              |    -    |     -      |                               {'source': '28560e1383141e35127388a3f0ca0e7b24919c17'}                              |                  index                   |\n",
      "| 28560e1383141e35127388a3f0ca0e7b24919c17.txt |                            ['江苏旷达汽车织物集团股份有限公司']                            |   559   |    700     | {'source': '../../bs_challenge_financial_14b_dataset/pdf_txt_file//28560e1383141e35127388a3f0ca0e7b24919c17.txt'} | 28560e1383141e35127388a3f0ca0e7b24919c17 |\n",
      "| 334a4deb4169c220c7a89243a104f6874ce1996a.txt |                                浙江双飞无油轴承股份有限公司                                |    -    |     -      |                               {'source': '334a4deb4169c220c7a89243a104f6874ce1996a'}                              |                  index                   |\n",
      "| 334a4deb4169c220c7a89243a104f6874ce1996a.txt |                              ['浙江双飞无油轴承股份有限公司']                              |   1002  |    700     | {'source': '../../bs_challenge_financial_14b_dataset/pdf_txt_file//334a4deb4169c220c7a89243a104f6874ce1996a.txt'} | 334a4deb4169c220c7a89243a104f6874ce1996a |\n",
      "| 398c8e64f18a13e695b5956122ef2f6a6fd3b274.txt |                                上海真兰仪表科技股份有限公司                                |    -    |     -      |                               {'source': '398c8e64f18a13e695b5956122ef2f6a6fd3b274'}                              |                  index                   |\n",
      "| 398c8e64f18a13e695b5956122ef2f6a6fd3b274.txt |                              ['上海真兰仪表科技股份有限公司']                              |   831   |    700     | {'source': '../../bs_challenge_financial_14b_dataset/pdf_txt_file//398c8e64f18a13e695b5956122ef2f6a6fd3b274.txt'} | 398c8e64f18a13e695b5956122ef2f6a6fd3b274 |\n",
      "| 3e0ded8afa8f8aa952fd8179b109d6e67578c2dd.txt |                                    华瑞电器股份有限公司                                    |    -    |     -      |                               {'source': '3e0ded8afa8f8aa952fd8179b109d6e67578c2dd'}                              |                  index                   |\n",
      "| 3e0ded8afa8f8aa952fd8179b109d6e67578c2dd.txt |                                  ['华瑞电器股份有限公司']                                  |   638   |    700     | {'source': '../../bs_challenge_financial_14b_dataset/pdf_txt_file//3e0ded8afa8f8aa952fd8179b109d6e67578c2dd.txt'} | 3e0ded8afa8f8aa952fd8179b109d6e67578c2dd |\n",
      "| 4170a3382f5e92d32890780d79cb39115a756f40.txt |                                中国铁路通信信号股份有限公司                                |    -    |     -      |                               {'source': '4170a3382f5e92d32890780d79cb39115a756f40'}                              |                  index                   |\n",
      "| 4170a3382f5e92d32890780d79cb39115a756f40.txt |                              ['中国铁路通信信号股份有限公司']                              |   1249  |    700     | {'source': '../../bs_challenge_financial_14b_dataset/pdf_txt_file//4170a3382f5e92d32890780d79cb39115a756f40.txt'} | 4170a3382f5e92d32890780d79cb39115a756f40 |\n",
      "| 421864a100b2b65568d0aa7e08bdc9e13e5c91d2.txt |                                  东港安全印刷股份有限公司                                  |    -    |     -      |                               {'source': '421864a100b2b65568d0aa7e08bdc9e13e5c91d2'}                              |                  index                   |\n",
      "| 421864a100b2b65568d0aa7e08bdc9e13e5c91d2.txt |                                ['东港安全印刷股份有限公司']                                |   410   |    700     | {'source': '../../bs_challenge_financial_14b_dataset/pdf_txt_file//421864a100b2b65568d0aa7e08bdc9e13e5c91d2.txt'} | 421864a100b2b65568d0aa7e08bdc9e13e5c91d2 |\n",
      "| 42518828d97dd45ac34dc34a5814d18c1ebe9a83.txt |                                  宁波立立电子股份有限公司                                  |    -    |     -      |                               {'source': '42518828d97dd45ac34dc34a5814d18c1ebe9a83'}                              |                  index                   |\n",
      "| 42518828d97dd45ac34dc34a5814d18c1ebe9a83.txt |                                ['宁波立立电子股份有限公司']                                |   535   |    700     | {'source': '../../bs_challenge_financial_14b_dataset/pdf_txt_file//42518828d97dd45ac34dc34a5814d18c1ebe9a83.txt'} | 42518828d97dd45ac34dc34a5814d18c1ebe9a83 |\n",
      "| 43571629ce9fb30b44ccefdca9f637102c16d1a2.txt |                                  天津力生制药股份有限公司                                  |    -    |     -      |                               {'source': '43571629ce9fb30b44ccefdca9f637102c16d1a2'}                              |                  index                   |\n",
      "| 43571629ce9fb30b44ccefdca9f637102c16d1a2.txt |                                ['天津力生制药股份有限公司']                                |   737   |    700     | {'source': '../../bs_challenge_financial_14b_dataset/pdf_txt_file//43571629ce9fb30b44ccefdca9f637102c16d1a2.txt'} | 43571629ce9fb30b44ccefdca9f637102c16d1a2 |\n",
      "| 43f9d961f0885608850dec7f4284afdaf07bdc43.txt |                                 深圳可立克科技股份有限公司                                 |    -    |     -      |                               {'source': '43f9d961f0885608850dec7f4284afdaf07bdc43'}                              |                  index                   |\n",
      "| 43f9d961f0885608850dec7f4284afdaf07bdc43.txt |                               ['深圳可立克科技股份有限公司']                               |   760   |    700     | {'source': '../../bs_challenge_financial_14b_dataset/pdf_txt_file//43f9d961f0885608850dec7f4284afdaf07bdc43.txt'} | 43f9d961f0885608850dec7f4284afdaf07bdc43 |\n",
      "| 44850fcc20f00a48f5bca0ad4acde91d76b839d6.txt |                                西安启源机电装备股份有限公司                                |    -    |     -      |                               {'source': '44850fcc20f00a48f5bca0ad4acde91d76b839d6'}                              |                  index                   |\n",
      "| 44850fcc20f00a48f5bca0ad4acde91d76b839d6.txt |                                    西部证券股份有限公司                                    |    -    |     -      |                               {'source': '44850fcc20f00a48f5bca0ad4acde91d76b839d6'}                              |                  index                   |\n",
      "| 44850fcc20f00a48f5bca0ad4acde91d76b839d6.txt |                  ['西安启源机电装备股份有限公司', '西部证券股份有限公司']                  |   397   |    700     | {'source': '../../bs_challenge_financial_14b_dataset/pdf_txt_file//44850fcc20f00a48f5bca0ad4acde91d76b839d6.txt'} | 44850fcc20f00a48f5bca0ad4acde91d76b839d6 |\n",
      "| 47d0efaf57fb6f5d66af5ecdc422dd1da99b6d95.txt |                                  江苏天瑞仪器股份有限公司                                  |    -    |     -      |                               {'source': '47d0efaf57fb6f5d66af5ecdc422dd1da99b6d95'}                              |                  index                   |\n",
      "| 47d0efaf57fb6f5d66af5ecdc422dd1da99b6d95.txt |                                    东方证券股份有限公司                                    |    -    |     -      |                               {'source': '47d0efaf57fb6f5d66af5ecdc422dd1da99b6d95'}                              |                  index                   |\n",
      "| 47d0efaf57fb6f5d66af5ecdc422dd1da99b6d95.txt |                    ['江苏天瑞仪器股份有限公司', '东方证券股份有限公司']                    |   660   |    700     | {'source': '../../bs_challenge_financial_14b_dataset/pdf_txt_file//47d0efaf57fb6f5d66af5ecdc422dd1da99b6d95.txt'} | 47d0efaf57fb6f5d66af5ecdc422dd1da99b6d95 |\n",
      "| 4bc783ca9fd53beb4be3a79b1712d5e42be209e1.txt |                              北京天宜上佳高新材料股份有限公司                              |    -    |     -      |                               {'source': '4bc783ca9fd53beb4be3a79b1712d5e42be209e1'}                              |                  index                   |\n",
      "| 4bc783ca9fd53beb4be3a79b1712d5e42be209e1.txt |                            ['北京天宜上佳高新材料股份有限公司']                            |   1202  |    700     | {'source': '../../bs_challenge_financial_14b_dataset/pdf_txt_file//4bc783ca9fd53beb4be3a79b1712d5e42be209e1.txt'} | 4bc783ca9fd53beb4be3a79b1712d5e42be209e1 |\n",
      "| 50b2823371fe1699d260f67cadac3d38af0672e3.txt |                               浙江富春江环保热电股份有限公司                               |    -    |     -      |                               {'source': '50b2823371fe1699d260f67cadac3d38af0672e3'}                              |                  index                   |\n",
      "| 50b2823371fe1699d260f67cadac3d38af0672e3.txt |                                 浙江富春江通信集团有限公司                                 |    -    |     -      |                               {'source': '50b2823371fe1699d260f67cadac3d38af0672e3'}                              |                  index                   |\n",
      "| 50b2823371fe1699d260f67cadac3d38af0672e3.txt |                                   太平洋证券股份有限公司                                   |    -    |     -      |                               {'source': '50b2823371fe1699d260f67cadac3d38af0672e3'}                              |                  index                   |\n",
      "| 50b2823371fe1699d260f67cadac3d38af0672e3.txt | ['浙江富春江环保热电股份有限公司', '浙江富春江通信集团有限公司', '太平洋证券股份有限公司'] |   484   |    700     | {'source': '../../bs_challenge_financial_14b_dataset/pdf_txt_file//50b2823371fe1699d260f67cadac3d38af0672e3.txt'} | 50b2823371fe1699d260f67cadac3d38af0672e3 |\n",
      "| 52fd4a323d97356a463959671794e900699baae5.txt |                                 深圳信立泰药业股份有限公司                                 |    -    |     -      |                               {'source': '52fd4a323d97356a463959671794e900699baae5'}                              |                  index                   |\n",
      "| 52fd4a323d97356a463959671794e900699baae5.txt |                               ['深圳信立泰药业股份有限公司']                               |   334   |    700     | {'source': '../../bs_challenge_financial_14b_dataset/pdf_txt_file//52fd4a323d97356a463959671794e900699baae5.txt'} | 52fd4a323d97356a463959671794e900699baae5 |\n",
      "| 54c7b3ab01ad11d37835a4464c9e4d68dfe6306f.txt |                                云南沃森生物技术股份有限公司                                |    -    |     -      |                               {'source': '54c7b3ab01ad11d37835a4464c9e4d68dfe6306f'}                              |                  index                   |\n",
      "| 54c7b3ab01ad11d37835a4464c9e4d68dfe6306f.txt |                              ['云南沃森生物技术股份有限公司']                              |   430   |    700     | {'source': '../../bs_challenge_financial_14b_dataset/pdf_txt_file//54c7b3ab01ad11d37835a4464c9e4d68dfe6306f.txt'} | 54c7b3ab01ad11d37835a4464c9e4d68dfe6306f |\n",
      "| 54d148902b889679830174597830f0d0f22c1073.txt |                                上海派能能源科技股份有限公司                                |    -    |     -      |                               {'source': '54d148902b889679830174597830f0d0f22c1073'}                              |                  index                   |\n",
      "| 54d148902b889679830174597830f0d0f22c1073.txt |                              ['上海派能能源科技股份有限公司']                              |   955   |    700     | {'source': '../../bs_challenge_financial_14b_dataset/pdf_txt_file//54d148902b889679830174597830f0d0f22c1073.txt'} | 54d148902b889679830174597830f0d0f22c1073 |\n",
      "| 5ad8119f0928b041ed0f0ecf3ef4164cd64ad57c.txt |                                上海宏英智能科技股份有限公司                                |    -    |     -      |                               {'source': '5ad8119f0928b041ed0f0ecf3ef4164cd64ad57c'}                              |                  index                   |\n",
      "| 5ad8119f0928b041ed0f0ecf3ef4164cd64ad57c.txt |                              ['上海宏英智能科技股份有限公司']                              |   783   |    700     | {'source': '../../bs_challenge_financial_14b_dataset/pdf_txt_file//5ad8119f0928b041ed0f0ecf3ef4164cd64ad57c.txt'} | 5ad8119f0928b041ed0f0ecf3ef4164cd64ad57c |\n",
      "| 5c2707b186a798118bba251cce8d1fc331b5cbba.txt |                                  厦门科华恒盛股份有限公司                                  |    -    |     -      |                               {'source': '5c2707b186a798118bba251cce8d1fc331b5cbba'}                              |                  index                   |\n",
      "| 5c2707b186a798118bba251cce8d1fc331b5cbba.txt |                                    东北证券股份有限公司                                    |    -    |     -      |                               {'source': '5c2707b186a798118bba251cce8d1fc331b5cbba'}                              |                  index                   |\n",
      "| 5c2707b186a798118bba251cce8d1fc331b5cbba.txt |                    ['厦门科华恒盛股份有限公司', '东北证券股份有限公司']                    |   865   |    700     | {'source': '../../bs_challenge_financial_14b_dataset/pdf_txt_file//5c2707b186a798118bba251cce8d1fc331b5cbba.txt'} | 5c2707b186a798118bba251cce8d1fc331b5cbba |\n",
      "| 5e019307c43efbd95dea0ab110808ebeba819776.txt |                                  义乌华鼎锦纶股份有限公司                                  |    -    |     -      |                               {'source': '5e019307c43efbd95dea0ab110808ebeba819776'}                              |                  index                   |\n",
      "| 5e019307c43efbd95dea0ab110808ebeba819776.txt |                                ['义乌华鼎锦纶股份有限公司']                                |   628   |    700     | {'source': '../../bs_challenge_financial_14b_dataset/pdf_txt_file//5e019307c43efbd95dea0ab110808ebeba819776.txt'} | 5e019307c43efbd95dea0ab110808ebeba819776 |\n",
      "| 6c93724343cef6b9da70d51daa739e8a1c607a22.txt |                                珠海健帆生物科技股份有限公司                                |    -    |     -      |                               {'source': '6c93724343cef6b9da70d51daa739e8a1c607a22'}                              |                  index                   |\n",
      "| 6c93724343cef6b9da70d51daa739e8a1c607a22.txt |                              ['珠海健帆生物科技股份有限公司']                              |   522   |    700     | {'source': '../../bs_challenge_financial_14b_dataset/pdf_txt_file//6c93724343cef6b9da70d51daa739e8a1c607a22.txt'} | 6c93724343cef6b9da70d51daa739e8a1c607a22 |\n",
      "| 6d2d79af9644ba5fef3b462fa40139c1395a3552.txt |                                深圳市超频三科技股份有限公司                                |    -    |     -      |                               {'source': '6d2d79af9644ba5fef3b462fa40139c1395a3552'}                              |                  index                   |\n",
      "| 6d2d79af9644ba5fef3b462fa40139c1395a3552.txt |                              ['深圳市超频三科技股份有限公司']                              |   607   |    700     | {'source': '../../bs_challenge_financial_14b_dataset/pdf_txt_file//6d2d79af9644ba5fef3b462fa40139c1395a3552.txt'} | 6d2d79af9644ba5fef3b462fa40139c1395a3552 |\n",
      "| 72103a0ef6299585cdd09751682534d873f8e64e.txt |                                北京七星华创电子股份有限公司                                |    -    |     -      |                               {'source': '72103a0ef6299585cdd09751682534d873f8e64e'}                              |                  index                   |\n",
      "| 72103a0ef6299585cdd09751682534d873f8e64e.txt |                                  中信建投证券有限责任公司                                  |    -    |     -      |                               {'source': '72103a0ef6299585cdd09751682534d873f8e64e'}                              |                  index                   |\n",
      "| 72103a0ef6299585cdd09751682534d873f8e64e.txt |                ['北京七星华创电子股份有限公司', '中信建投证券有限责任公司']                |   412   |    700     | {'source': '../../bs_challenge_financial_14b_dataset/pdf_txt_file//72103a0ef6299585cdd09751682534d873f8e64e.txt'} | 72103a0ef6299585cdd09751682534d873f8e64e |\n",
      "| 749dc57b0a41b931f3fbcff1ec4f808ff460655e.txt |                                   威龙葡萄酒股份有限公司                                   |    -    |     -      |                               {'source': '749dc57b0a41b931f3fbcff1ec4f808ff460655e'}                              |                  index                   |\n",
      "| 749dc57b0a41b931f3fbcff1ec4f808ff460655e.txt |                              第一创业摩根大通证券有限责任公司                              |    -    |     -      |                               {'source': '749dc57b0a41b931f3fbcff1ec4f808ff460655e'}                              |                  index                   |\n",
      "| 749dc57b0a41b931f3fbcff1ec4f808ff460655e.txt |               ['威龙葡萄酒股份有限公司', '第一创业摩根大通证券有限责任公司']               |   433   |    700     | {'source': '../../bs_challenge_financial_14b_dataset/pdf_txt_file//749dc57b0a41b931f3fbcff1ec4f808ff460655e.txt'} | 749dc57b0a41b931f3fbcff1ec4f808ff460655e |\n",
      "| 756171248e278806a56171d59c6519a38eac9012.txt |                                   确成硅化学股份有限公司                                   |    -    |     -      |                               {'source': '756171248e278806a56171d59c6519a38eac9012'}                              |                  index                   |\n",
      "| 756171248e278806a56171d59c6519a38eac9012.txt |                                 ['确成硅化学股份有限公司']                                 |   1201  |    700     | {'source': '../../bs_challenge_financial_14b_dataset/pdf_txt_file//756171248e278806a56171d59c6519a38eac9012.txt'} | 756171248e278806a56171d59c6519a38eac9012 |\n",
      "| 79e9167d0336a9f471ab77dc04ec978fc4a89171.txt |                                  大博医疗科技股份有限公司                                  |    -    |     -      |                               {'source': '79e9167d0336a9f471ab77dc04ec978fc4a89171'}                              |                  index                   |\n",
      "| 79e9167d0336a9f471ab77dc04ec978fc4a89171.txt |                                ['大博医疗科技股份有限公司']                                |   758   |    700     | {'source': '../../bs_challenge_financial_14b_dataset/pdf_txt_file//79e9167d0336a9f471ab77dc04ec978fc4a89171.txt'} | 79e9167d0336a9f471ab77dc04ec978fc4a89171 |\n",
      "| 7ee0d82749433aba584ff8eabfc1575580aa0d97.txt |                                深圳麦格米特电气股份有限公司                                |    -    |     -      |                               {'source': '7ee0d82749433aba584ff8eabfc1575580aa0d97'}                              |                  index                   |\n",
      "| 7ee0d82749433aba584ff8eabfc1575580aa0d97.txt |                              ['深圳麦格米特电气股份有限公司']                              |   707   |    700     | {'source': '../../bs_challenge_financial_14b_dataset/pdf_txt_file//7ee0d82749433aba584ff8eabfc1575580aa0d97.txt'} | 7ee0d82749433aba584ff8eabfc1575580aa0d97 |\n",
      "| 810d8681429537dbf20a437a6dbf08e34c1ece27.txt |                                  浙江百达精工股份有限公司                                  |    -    |     -      |                               {'source': '810d8681429537dbf20a437a6dbf08e34c1ece27'}                              |                  index                   |\n",
      "| 810d8681429537dbf20a437a6dbf08e34c1ece27.txt |                                ['浙江百达精工股份有限公司']                                |   1243  |    700     | {'source': '../../bs_challenge_financial_14b_dataset/pdf_txt_file//810d8681429537dbf20a437a6dbf08e34c1ece27.txt'} | 810d8681429537dbf20a437a6dbf08e34c1ece27 |\n",
      "| 88acba2e98dedd85fdd38192a639dbcc56faf3ed.txt |                                    森赫电梯股份有限公司                                    |    -    |     -      |                               {'source': '88acba2e98dedd85fdd38192a639dbcc56faf3ed'}                              |                  index                   |\n",
      "| 88acba2e98dedd85fdd38192a639dbcc56faf3ed.txt |                                  ['森赫电梯股份有限公司']                                  |   1294  |    700     | {'source': '../../bs_challenge_financial_14b_dataset/pdf_txt_file//88acba2e98dedd85fdd38192a639dbcc56faf3ed.txt'} | 88acba2e98dedd85fdd38192a639dbcc56faf3ed |\n",
      "| 8c130bea710816d5ef9a8bd7b2df7ee46e9f40dd.txt |                                 浙江开尔新材料股份有限公司                                 |    -    |     -      |                               {'source': '8c130bea710816d5ef9a8bd7b2df7ee46e9f40dd'}                              |                  index                   |\n",
      "| 8c130bea710816d5ef9a8bd7b2df7ee46e9f40dd.txt |                               ['浙江开尔新材料股份有限公司']                               |   375   |    700     | {'source': '../../bs_challenge_financial_14b_dataset/pdf_txt_file//8c130bea710816d5ef9a8bd7b2df7ee46e9f40dd.txt'} | 8c130bea710816d5ef9a8bd7b2df7ee46e9f40dd |\n",
      "| 8feb69d0cda9f9fbfb29968f9aeb4cbf1953edab.txt |                                    瑞达期货股份有限公司                                    |    -    |     -      |                               {'source': '8feb69d0cda9f9fbfb29968f9aeb4cbf1953edab'}                              |                  index                   |\n",
      "| 8feb69d0cda9f9fbfb29968f9aeb4cbf1953edab.txt |                                  ['瑞达期货股份有限公司']                                  |   1127  |    700     | {'source': '../../bs_challenge_financial_14b_dataset/pdf_txt_file//8feb69d0cda9f9fbfb29968f9aeb4cbf1953edab.txt'} | 8feb69d0cda9f9fbfb29968f9aeb4cbf1953edab |\n",
      "| 91b4426b075560a1a45247f9cfa9fa73d56c945c.txt |                             广州中海达卫星导航技术股份有限公司                             |    -    |     -      |                               {'source': '91b4426b075560a1a45247f9cfa9fa73d56c945c'}                              |                  index                   |\n",
      "| 91b4426b075560a1a45247f9cfa9fa73d56c945c.txt |                           ['广州中海达卫星导航技术股份有限公司']                           |   622   |    700     | {'source': '../../bs_challenge_financial_14b_dataset/pdf_txt_file//91b4426b075560a1a45247f9cfa9fa73d56c945c.txt'} | 91b4426b075560a1a45247f9cfa9fa73d56c945c |\n",
      "| 952121f38a5eece19cca7cdc39079b43438fad88.txt |                                  浙江步森服饰股份有限公司                                  |    -    |     -      |                               {'source': '952121f38a5eece19cca7cdc39079b43438fad88'}                              |                  index                   |\n",
      "| 952121f38a5eece19cca7cdc39079b43438fad88.txt |                                ['浙江步森服饰股份有限公司']                                |   663   |    700     | {'source': '../../bs_challenge_financial_14b_dataset/pdf_txt_file//952121f38a5eece19cca7cdc39079b43438fad88.txt'} | 952121f38a5eece19cca7cdc39079b43438fad88 |\n",
      "| 96b461d6c6670928f7dc36f0c947e0c18340d5e2.txt |                              湖南南岭民用爆破器材股份有限公司                              |    -    |     -      |                               {'source': '96b461d6c6670928f7dc36f0c947e0c18340d5e2'}                              |                  index                   |\n",
      "| 96b461d6c6670928f7dc36f0c947e0c18340d5e2.txt |                                    财富证券有限责任公司                                    |    -    |     -      |                               {'source': '96b461d6c6670928f7dc36f0c947e0c18340d5e2'}                              |                  index                   |\n",
      "| 96b461d6c6670928f7dc36f0c947e0c18340d5e2.txt |                ['湖南南岭民用爆破器材股份有限公司', '财富证券有限责任公司']                |   374   |    700     | {'source': '../../bs_challenge_financial_14b_dataset/pdf_txt_file//96b461d6c6670928f7dc36f0c947e0c18340d5e2.txt'} | 96b461d6c6670928f7dc36f0c947e0c18340d5e2 |\n",
      "| 9951262c20ed33562a2fff85c83aeae320f14922.txt |                                  东莞勤上光电股份有限公司                                  |    -    |     -      |                               {'source': '9951262c20ed33562a2fff85c83aeae320f14922'}                              |                  index                   |\n",
      "| 9951262c20ed33562a2fff85c83aeae320f14922.txt |                                ['东莞勤上光电股份有限公司']                                |   759   |    700     | {'source': '../../bs_challenge_financial_14b_dataset/pdf_txt_file//9951262c20ed33562a2fff85c83aeae320f14922.txt'} | 9951262c20ed33562a2fff85c83aeae320f14922 |\n",
      "| 9b877e7db4809637c56eea234eaddc74cb20f9da.txt |                                  浙江亚厦装饰股份有限公司                                  |    -    |     -      |                               {'source': '9b877e7db4809637c56eea234eaddc74cb20f9da'}                              |                  index                   |\n",
      "| 9b877e7db4809637c56eea234eaddc74cb20f9da.txt |                                  财富里昂证券有限责任公司                                  |    -    |     -      |                               {'source': '9b877e7db4809637c56eea234eaddc74cb20f9da'}                              |                  index                   |\n",
      "| 9b877e7db4809637c56eea234eaddc74cb20f9da.txt |                  ['浙江亚厦装饰股份有限公司', '财富里昂证券有限责任公司']                  |   634   |    700     | {'source': '../../bs_challenge_financial_14b_dataset/pdf_txt_file//9b877e7db4809637c56eea234eaddc74cb20f9da.txt'} | 9b877e7db4809637c56eea234eaddc74cb20f9da |\n",
      "| 9c4a118cf576f91aed791fb6fe6926180e2dcc65.txt |                                             无                                             |    -    |     -      |                               {'source': '9c4a118cf576f91aed791fb6fe6926180e2dcc65'}                              |                  index                   |\n",
      "| 9c4a118cf576f91aed791fb6fe6926180e2dcc65.txt |                                           ['无']                                           |   694   |    700     | {'source': '../../bs_challenge_financial_14b_dataset/pdf_txt_file//9c4a118cf576f91aed791fb6fe6926180e2dcc65.txt'} | 9c4a118cf576f91aed791fb6fe6926180e2dcc65 |\n",
      "| 9dca16666143beb8c15a6a4ba6ec2b19b2ffb8fb.txt |                                内蒙君正能源化工股份有限公司                                |    -    |     -      |                               {'source': '9dca16666143beb8c15a6a4ba6ec2b19b2ffb8fb'}                              |                  index                   |\n",
      "| 9dca16666143beb8c15a6a4ba6ec2b19b2ffb8fb.txt |                              ['内蒙君正能源化工股份有限公司']                              |   678   |    700     | {'source': '../../bs_challenge_financial_14b_dataset/pdf_txt_file//9dca16666143beb8c15a6a4ba6ec2b19b2ffb8fb.txt'} | 9dca16666143beb8c15a6a4ba6ec2b19b2ffb8fb |\n",
      "| a0d278016e9baded15e0f5b3964563e525b1b787.txt |                                武汉兴图新科电子股份有限公司                                |    -    |     -      |                               {'source': 'a0d278016e9baded15e0f5b3964563e525b1b787'}                              |                  index                   |\n",
      "| a0d278016e9baded15e0f5b3964563e525b1b787.txt |                              ['武汉兴图新科电子股份有限公司']                              |   1001  |    700     | {'source': '../../bs_challenge_financial_14b_dataset/pdf_txt_file//a0d278016e9baded15e0f5b3964563e525b1b787.txt'} | a0d278016e9baded15e0f5b3964563e525b1b787 |\n",
      "| a244b6ed9da7411f804e62b82a8fdfc015dff284.txt |                                  惠州光弘科技股份有限公司                                  |    -    |     -      |                               {'source': 'a244b6ed9da7411f804e62b82a8fdfc015dff284'}                              |                  index                   |\n",
      "| a244b6ed9da7411f804e62b82a8fdfc015dff284.txt |                                ['惠州光弘科技股份有限公司']                                |   782   |    700     | {'source': '../../bs_challenge_financial_14b_dataset/pdf_txt_file//a244b6ed9da7411f804e62b82a8fdfc015dff284.txt'} | a244b6ed9da7411f804e62b82a8fdfc015dff284 |\n",
      "| a6f8156c08a1096c46470a1c5e1229daaaedf06e.txt |                                             无                                             |    -    |     -      |                               {'source': 'a6f8156c08a1096c46470a1c5e1229daaaedf06e'}                              |                  index                   |\n",
      "| a6f8156c08a1096c46470a1c5e1229daaaedf06e.txt |                                           ['无']                                           |   707   |    700     | {'source': '../../bs_challenge_financial_14b_dataset/pdf_txt_file//a6f8156c08a1096c46470a1c5e1229daaaedf06e.txt'} | a6f8156c08a1096c46470a1c5e1229daaaedf06e |\n",
      "| ad2bf1b94db9ec7cb2689ace2daec396d2965dce.txt |                                    厦门安妮股份有限公司                                    |    -    |     -      |                               {'source': 'ad2bf1b94db9ec7cb2689ace2daec396d2965dce'}                              |                  index                   |\n",
      "| ad2bf1b94db9ec7cb2689ace2daec396d2965dce.txt |                                  ['厦门安妮股份有限公司']                                  |   379   |    700     | {'source': '../../bs_challenge_financial_14b_dataset/pdf_txt_file//ad2bf1b94db9ec7cb2689ace2daec396d2965dce.txt'} | ad2bf1b94db9ec7cb2689ace2daec396d2965dce |\n",
      "| afa8c5a4a91c3ecf7bd38a1c1f09b8a68e472909.txt |                              海看网络科技（山东）股份有限公司                              |    -    |     -      |                               {'source': 'afa8c5a4a91c3ecf7bd38a1c1f09b8a68e472909'}                              |                  index                   |\n",
      "| afa8c5a4a91c3ecf7bd38a1c1f09b8a68e472909.txt |                            ['海看网络科技（山东）股份有限公司']                            |   1163  |    700     | {'source': '../../bs_challenge_financial_14b_dataset/pdf_txt_file//afa8c5a4a91c3ecf7bd38a1c1f09b8a68e472909.txt'} | afa8c5a4a91c3ecf7bd38a1c1f09b8a68e472909 |\n",
      "| b29a4948c1ba14e1a85f8339dd5bb0fcabadb171.txt |                                浙江贝因美科工贸股份有限公司                                |    -    |     -      |                               {'source': 'b29a4948c1ba14e1a85f8339dd5bb0fcabadb171'}                              |                  index                   |\n",
      "| b29a4948c1ba14e1a85f8339dd5bb0fcabadb171.txt |                              ['浙江贝因美科工贸股份有限公司']                              |   773   |    700     | {'source': '../../bs_challenge_financial_14b_dataset/pdf_txt_file//b29a4948c1ba14e1a85f8339dd5bb0fcabadb171.txt'} | b29a4948c1ba14e1a85f8339dd5bb0fcabadb171 |\n",
      "| b58b0a129b2c62ca8b295d40c91134df5d5e603d.txt |                                山东国瓷功能材料股份有限公司                                |    -    |     -      |                               {'source': 'b58b0a129b2c62ca8b295d40c91134df5d5e603d'}                              |                  index                   |\n",
      "| b58b0a129b2c62ca8b295d40c91134df5d5e603d.txt |                                上海真兰仪表科技股份有限公司                                |    -    |     -      |                               {'source': 'b58b0a129b2c62ca8b295d40c91134df5d5e603d'}                              |                  index                   |\n",
      "| b58b0a129b2c62ca8b295d40c91134df5d5e603d.txt |              ['山东国瓷功能材料股份有限公司', '上海真兰仪表科技股份有限公司']              |   761   |    700     | {'source': '../../bs_challenge_financial_14b_dataset/pdf_txt_file//b58b0a129b2c62ca8b295d40c91134df5d5e603d.txt'} | b58b0a129b2c62ca8b295d40c91134df5d5e603d |\n",
      "| b9587835ff0d27df936b1f623b412e88e5e3abad.txt |                                  汉嘉设计集团股份有限公司                                  |    -    |     -      |                               {'source': 'b9587835ff0d27df936b1f623b412e88e5e3abad'}                              |                  index                   |\n",
      "| b9587835ff0d27df936b1f623b412e88e5e3abad.txt |                                ['汉嘉设计集团股份有限公司']                                |   816   |    700     | {'source': '../../bs_challenge_financial_14b_dataset/pdf_txt_file//b9587835ff0d27df936b1f623b412e88e5e3abad.txt'} | b9587835ff0d27df936b1f623b412e88e5e3abad |\n",
      "| b96b11328c7bdc32b63fd15b1d1f96759ed94add.txt |                              烟台杰瑞石油服务集团股份有限公司                              |    -    |     -      |                               {'source': 'b96b11328c7bdc32b63fd15b1d1f96759ed94add'}                              |                  index                   |\n",
      "| b96b11328c7bdc32b63fd15b1d1f96759ed94add.txt |                            ['烟台杰瑞石油服务集团股份有限公司']                            |   662   |    700     | {'source': '../../bs_challenge_financial_14b_dataset/pdf_txt_file//b96b11328c7bdc32b63fd15b1d1f96759ed94add.txt'} | b96b11328c7bdc32b63fd15b1d1f96759ed94add |\n",
      "| ba561001c2abd0714c413e2f6a77ffee58c644a6.txt |                                    联化科技股份有限公司                                    |    -    |     -      |                               {'source': 'ba561001c2abd0714c413e2f6a77ffee58c644a6'}                              |                  index                   |\n",
      "| ba561001c2abd0714c413e2f6a77ffee58c644a6.txt |                                    东北证券股份有限公司                                    |    -    |     -      |                               {'source': 'ba561001c2abd0714c413e2f6a77ffee58c644a6'}                              |                  index                   |\n",
      "| ba561001c2abd0714c413e2f6a77ffee58c644a6.txt |                      ['联化科技股份有限公司', '东北证券股份有限公司']                      |   628   |    700     | {'source': '../../bs_challenge_financial_14b_dataset/pdf_txt_file//ba561001c2abd0714c413e2f6a77ffee58c644a6.txt'} | ba561001c2abd0714c413e2f6a77ffee58c644a6 |\n",
      "| bec898d3079074d88f8bdb34d7e07f072cfca695.txt |                                  中国神华能源股份有限公司                                  |    -    |     -      |                               {'source': 'bec898d3079074d88f8bdb34d7e07f072cfca695'}                              |                  index                   |\n",
      "| bec898d3079074d88f8bdb34d7e07f072cfca695.txt |                                    中国国际金融有限公司                                    |    -    |     -      |                               {'source': 'bec898d3079074d88f8bdb34d7e07f072cfca695'}                              |                  index                   |\n",
      "| bec898d3079074d88f8bdb34d7e07f072cfca695.txt |                                  中国银河证券股份有限公司                                  |    -    |     -      |                               {'source': 'bec898d3079074d88f8bdb34d7e07f072cfca695'}                              |                  index                   |\n",
      "| bec898d3079074d88f8bdb34d7e07f072cfca695.txt |      ['中国神华能源股份有限公司', '中国国际金融有限公司', '中国银河证券股份有限公司']      |   558   |    700     | {'source': '../../bs_challenge_financial_14b_dataset/pdf_txt_file//bec898d3079074d88f8bdb34d7e07f072cfca695.txt'} | bec898d3079074d88f8bdb34d7e07f072cfca695 |\n",
      "| c0f513c24a7ad4d74a3e2aab7c749f64c50771d2.txt |                                  海南双成药业股份有限公司                                  |    -    |     -      |                               {'source': 'c0f513c24a7ad4d74a3e2aab7c749f64c50771d2'}                              |                  index                   |\n",
      "| c0f513c24a7ad4d74a3e2aab7c749f64c50771d2.txt |                                ['海南双成药业股份有限公司']                                |   862   |    700     | {'source': '../../bs_challenge_financial_14b_dataset/pdf_txt_file//c0f513c24a7ad4d74a3e2aab7c749f64c50771d2.txt'} | c0f513c24a7ad4d74a3e2aab7c749f64c50771d2 |\n",
      "| c3eae2913ce6c9f56c58a5588358740a00d47dd5.txt |                                 新疆浩源天然气股份有限公司                                 |    -    |     -      |                               {'source': 'c3eae2913ce6c9f56c58a5588358740a00d47dd5'}                              |                  index                   |\n",
      "| c3eae2913ce6c9f56c58a5588358740a00d47dd5.txt |                               ['新疆浩源天然气股份有限公司']                               |   927   |    700     | {'source': '../../bs_challenge_financial_14b_dataset/pdf_txt_file//c3eae2913ce6c9f56c58a5588358740a00d47dd5.txt'} | c3eae2913ce6c9f56c58a5588358740a00d47dd5 |\n",
      "| c48b454b4d171ba375fb88a6469b0a1d7f4625c2.txt |                                 浙江金卡高科技股份有限公司                                 |    -    |     -      |                               {'source': 'c48b454b4d171ba375fb88a6469b0a1d7f4625c2'}                              |                  index                   |\n",
      "| c48b454b4d171ba375fb88a6469b0a1d7f4625c2.txt |                               ['浙江金卡高科技股份有限公司']                               |   657   |    700     | {'source': '../../bs_challenge_financial_14b_dataset/pdf_txt_file//c48b454b4d171ba375fb88a6469b0a1d7f4625c2.txt'} | c48b454b4d171ba375fb88a6469b0a1d7f4625c2 |\n",
      "| ca1191af7558e0f18966e4df589368a3a5f5e1e6.txt |                                 青海互助青稞酒股份有限公司                                 |    -    |     -      |                               {'source': 'ca1191af7558e0f18966e4df589368a3a5f5e1e6'}                              |                  index                   |\n",
      "| ca1191af7558e0f18966e4df589368a3a5f5e1e6.txt |                               ['青海互助青稞酒股份有限公司']                               |   563   |    700     | {'source': '../../bs_challenge_financial_14b_dataset/pdf_txt_file//ca1191af7558e0f18966e4df589368a3a5f5e1e6.txt'} | ca1191af7558e0f18966e4df589368a3a5f5e1e6 |\n",
      "| cae2f50f92120710bea7cf31b69f1a14e7badeb6.txt |                                  四川高金食品股份有限公司                                  |    -    |     -      |                               {'source': 'cae2f50f92120710bea7cf31b69f1a14e7badeb6'}                              |                  index                   |\n",
      "| cae2f50f92120710bea7cf31b69f1a14e7badeb6.txt |                                    宏源证券股份有限公司                                    |    -    |     -      |                               {'source': 'cae2f50f92120710bea7cf31b69f1a14e7badeb6'}                              |                  index                   |\n",
      "| cae2f50f92120710bea7cf31b69f1a14e7badeb6.txt |                    ['四川高金食品股份有限公司', '宏源证券股份有限公司']                    |   535   |    700     | {'source': '../../bs_challenge_financial_14b_dataset/pdf_txt_file//cae2f50f92120710bea7cf31b69f1a14e7badeb6.txt'} | cae2f50f92120710bea7cf31b69f1a14e7badeb6 |\n",
      "| d1a73ca4a204ca3f98024bca8ce0652f5e1c1a94.txt |                                  贵州永吉印务股份有限公司                                  |    -    |     -      |                               {'source': 'd1a73ca4a204ca3f98024bca8ce0652f5e1c1a94'}                              |                  index                   |\n",
      "| d1a73ca4a204ca3f98024bca8ce0652f5e1c1a94.txt |                                ['贵州永吉印务股份有限公司']                                |   705   |    700     | {'source': '../../bs_challenge_financial_14b_dataset/pdf_txt_file//d1a73ca4a204ca3f98024bca8ce0652f5e1c1a94.txt'} | d1a73ca4a204ca3f98024bca8ce0652f5e1c1a94 |\n",
      "| d336d607e1d431cbfe1f313e2234a13fcf49a16e.txt |                                 湖南国科微电子股份有限公司                                 |    -    |     -      |                               {'source': 'd336d607e1d431cbfe1f313e2234a13fcf49a16e'}                              |                  index                   |\n",
      "| d336d607e1d431cbfe1f313e2234a13fcf49a16e.txt |                                  华泰联合证券有限责任公司                                  |    -    |     -      |                               {'source': 'd336d607e1d431cbfe1f313e2234a13fcf49a16e'}                              |                  index                   |\n",
      "| d336d607e1d431cbfe1f313e2234a13fcf49a16e.txt |                 ['湖南国科微电子股份有限公司', '华泰联合证券有限责任公司']                 |   687   |    700     | {'source': '../../bs_challenge_financial_14b_dataset/pdf_txt_file//d336d607e1d431cbfe1f313e2234a13fcf49a16e.txt'} | d336d607e1d431cbfe1f313e2234a13fcf49a16e |\n",
      "| d627620bedd94ea27c3840fa974cef3f7b582d03.txt |                              深圳市建筑科学研究院股份有限公司                              |    -    |     -      |                               {'source': 'd627620bedd94ea27c3840fa974cef3f7b582d03'}                              |                  index                   |\n",
      "| d627620bedd94ea27c3840fa974cef3f7b582d03.txt |                              申万宏源证券承销保荐有限责任公司                              |    -    |     -      |                               {'source': 'd627620bedd94ea27c3840fa974cef3f7b582d03'}                              |                  index                   |\n",
      "| d627620bedd94ea27c3840fa974cef3f7b582d03.txt |          ['深圳市建筑科学研究院股份有限公司', '申万宏源证券承销保荐有限责任公司']          |   699   |    700     | {'source': '../../bs_challenge_financial_14b_dataset/pdf_txt_file//d627620bedd94ea27c3840fa974cef3f7b582d03.txt'} | d627620bedd94ea27c3840fa974cef3f7b582d03 |\n",
      "| d6867ff3ecf9882065e45612eaf7b33ccb9a95dc.txt |                                  兰州海默科技股份有限公司                                  |    -    |     -      |                               {'source': 'd6867ff3ecf9882065e45612eaf7b33ccb9a95dc'}                              |                  index                   |\n",
      "| d6867ff3ecf9882065e45612eaf7b33ccb9a95dc.txt |                                    光大证券股份有限公司                                    |    -    |     -      |                               {'source': 'd6867ff3ecf9882065e45612eaf7b33ccb9a95dc'}                              |                  index                   |\n",
      "| d6867ff3ecf9882065e45612eaf7b33ccb9a95dc.txt |                    ['兰州海默科技股份有限公司', '光大证券股份有限公司']                    |   580   |    700     | {'source': '../../bs_challenge_financial_14b_dataset/pdf_txt_file//d6867ff3ecf9882065e45612eaf7b33ccb9a95dc.txt'} | d6867ff3ecf9882065e45612eaf7b33ccb9a95dc |\n",
      "| d6c70c04287ff6aba75b0565bef375469aaa68c3.txt |                                常熟风范电力设备股份有限公司                                |    -    |     -      |                               {'source': 'd6c70c04287ff6aba75b0565bef375469aaa68c3'}                              |                  index                   |\n",
      "| d6c70c04287ff6aba75b0565bef375469aaa68c3.txt |                              ['常熟风范电力设备股份有限公司']                              |   697   |    700     | {'source': '../../bs_challenge_financial_14b_dataset/pdf_txt_file//d6c70c04287ff6aba75b0565bef375469aaa68c3.txt'} | d6c70c04287ff6aba75b0565bef375469aaa68c3 |\n",
      "| e0a89442ee14a193c6600b0092a43a95a2ddab88.txt |                                  华达汽车科技股份有限公司                                  |    -    |     -      |                               {'source': 'e0a89442ee14a193c6600b0092a43a95a2ddab88'}                              |                  index                   |\n",
      "| e0a89442ee14a193c6600b0092a43a95a2ddab88.txt |                                ['华达汽车科技股份有限公司']                                |   1141  |    700     | {'source': '../../bs_challenge_financial_14b_dataset/pdf_txt_file//e0a89442ee14a193c6600b0092a43a95a2ddab88.txt'} | e0a89442ee14a193c6600b0092a43a95a2ddab88 |\n",
      "| e1e8e0551703f4a1f2873755ef46210b0889c5cd.txt |                                  读者出版传媒股份有限公司                                  |    -    |     -      |                               {'source': 'e1e8e0551703f4a1f2873755ef46210b0889c5cd'}                              |                  index                   |\n",
      "| e1e8e0551703f4a1f2873755ef46210b0889c5cd.txt |                                    华龙证券股份有限公司                                    |    -    |     -      |                               {'source': 'e1e8e0551703f4a1f2873755ef46210b0889c5cd'}                              |                  index                   |\n",
      "| e1e8e0551703f4a1f2873755ef46210b0889c5cd.txt |                    ['读者出版传媒股份有限公司', '华龙证券股份有限公司']                    |   881   |    700     | {'source': '../../bs_challenge_financial_14b_dataset/pdf_txt_file//e1e8e0551703f4a1f2873755ef46210b0889c5cd.txt'} | e1e8e0551703f4a1f2873755ef46210b0889c5cd |\n",
      "| e6ff749bb533a47173aaca91fe5d44080d9d37b3.txt |                                  广东银禧科技股份有限公司                                  |    -    |     -      |                               {'source': 'e6ff749bb533a47173aaca91fe5d44080d9d37b3'}                              |                  index                   |\n",
      "| e6ff749bb533a47173aaca91fe5d44080d9d37b3.txt |                                ['广东银禧科技股份有限公司']                                |   781   |    700     | {'source': '../../bs_challenge_financial_14b_dataset/pdf_txt_file//e6ff749bb533a47173aaca91fe5d44080d9d37b3.txt'} | e6ff749bb533a47173aaca91fe5d44080d9d37b3 |\n",
      "| e774a06e6b4db734424f7d9181b9515a08bea6cc.txt |                                  安徽天源科技股份有限公司                                  |    -    |     -      |                               {'source': 'e774a06e6b4db734424f7d9181b9515a08bea6cc'}                              |                  index                   |\n",
      "| e774a06e6b4db734424f7d9181b9515a08bea6cc.txt |                                    国元证券有限责任公司                                    |    -    |     -      |                               {'source': 'e774a06e6b4db734424f7d9181b9515a08bea6cc'}                              |                  index                   |\n",
      "| e774a06e6b4db734424f7d9181b9515a08bea6cc.txt |                    ['安徽天源科技股份有限公司', '国元证券有限责任公司']                    |   359   |    700     | {'source': '../../bs_challenge_financial_14b_dataset/pdf_txt_file//e774a06e6b4db734424f7d9181b9515a08bea6cc.txt'} | e774a06e6b4db734424f7d9181b9515a08bea6cc |\n",
      "| edde146c2435590bc33de0f144c04a7d7bf4d5b5.txt |                                  新疆金风科技股份有限公司                                  |    -    |     -      |                               {'source': 'edde146c2435590bc33de0f144c04a7d7bf4d5b5'}                              |                  index                   |\n",
      "| edde146c2435590bc33de0f144c04a7d7bf4d5b5.txt |                                ['新疆金风科技股份有限公司']                                |   374   |    700     | {'source': '../../bs_challenge_financial_14b_dataset/pdf_txt_file//edde146c2435590bc33de0f144c04a7d7bf4d5b5.txt'} | edde146c2435590bc33de0f144c04a7d7bf4d5b5 |\n",
      "| eec23035376ae0e339a7643402fdbdccd92ad703.txt |                                  湖南长远锂科股份有限公司                                  |    -    |     -      |                               {'source': 'eec23035376ae0e339a7643402fdbdccd92ad703'}                              |                  index                   |\n",
      "| eec23035376ae0e339a7643402fdbdccd92ad703.txt |                                ['湖南长远锂科股份有限公司']                                |   906   |    700     | {'source': '../../bs_challenge_financial_14b_dataset/pdf_txt_file//eec23035376ae0e339a7643402fdbdccd92ad703.txt'} | eec23035376ae0e339a7643402fdbdccd92ad703 |\n",
      "| f0e86e33d654c797626767e660bb234ff469bee8.txt |                                大连派思燃气系统股份有限公司                                |    -    |     -      |                               {'source': 'f0e86e33d654c797626767e660bb234ff469bee8'}                              |                  index                   |\n",
      "| f0e86e33d654c797626767e660bb234ff469bee8.txt |                              ['大连派思燃气系统股份有限公司']                              |   672   |    700     | {'source': '../../bs_challenge_financial_14b_dataset/pdf_txt_file//f0e86e33d654c797626767e660bb234ff469bee8.txt'} | f0e86e33d654c797626767e660bb234ff469bee8 |\n",
      "| f30bfe8be4ad535d348d74f80eaef8d93b3c8ac5.txt |                                上海维科精密模塑股份有限公司                                |    -    |     -      |                               {'source': 'f30bfe8be4ad535d348d74f80eaef8d93b3c8ac5'}                              |                  index                   |\n",
      "| f30bfe8be4ad535d348d74f80eaef8d93b3c8ac5.txt |                              ['上海维科精密模塑股份有限公司']                              |   966   |    700     | {'source': '../../bs_challenge_financial_14b_dataset/pdf_txt_file//f30bfe8be4ad535d348d74f80eaef8d93b3c8ac5.txt'} | f30bfe8be4ad535d348d74f80eaef8d93b3c8ac5 |\n",
      "| f587290218d881e18e88fc1431b022b2c5aca81a.txt |                                 苏州东微半导体股份有限公司                                 |    -    |     -      |                               {'source': 'f587290218d881e18e88fc1431b022b2c5aca81a'}                              |                  index                   |\n",
      "| f587290218d881e18e88fc1431b022b2c5aca81a.txt |                                 苏州东微半导体股份有限公司                                 |    -    |     -      |                               {'source': 'f587290218d881e18e88fc1431b022b2c5aca81a'}                              |                  index                   |\n",
      "| f587290218d881e18e88fc1431b022b2c5aca81a.txt |                ['苏州东微半导体股份有限公司', '苏州东微半导体股份有限公司']                |   731   |    700     | {'source': '../../bs_challenge_financial_14b_dataset/pdf_txt_file//f587290218d881e18e88fc1431b022b2c5aca81a.txt'} | f587290218d881e18e88fc1431b022b2c5aca81a |\n",
      "| f7a306fea164e32f1df88b7beb8ebba8f65dd7a1.txt |                                  苏州海陆重工股份有限公司                                  |    -    |     -      |                               {'source': 'f7a306fea164e32f1df88b7beb8ebba8f65dd7a1'}                              |                  index                   |\n",
      "| f7a306fea164e32f1df88b7beb8ebba8f65dd7a1.txt |                                    国信证券股份有限公司                                    |    -    |     -      |                               {'source': 'f7a306fea164e32f1df88b7beb8ebba8f65dd7a1'}                              |                  index                   |\n",
      "| f7a306fea164e32f1df88b7beb8ebba8f65dd7a1.txt |                    ['苏州海陆重工股份有限公司', '国信证券股份有限公司']                    |   490   |    700     | {'source': '../../bs_challenge_financial_14b_dataset/pdf_txt_file//f7a306fea164e32f1df88b7beb8ebba8f65dd7a1.txt'} | f7a306fea164e32f1df88b7beb8ebba8f65dd7a1 |\n",
      "| f8fb28932337c061edb6f0a1b27f5a1f0ee0b957.txt |                                  金石资源集团股份有限公司                                  |    -    |     -      |                               {'source': 'f8fb28932337c061edb6f0a1b27f5a1f0ee0b957'}                              |                  index                   |\n",
      "| f8fb28932337c061edb6f0a1b27f5a1f0ee0b957.txt |                                ['金石资源集团股份有限公司']                                |   577   |    700     | {'source': '../../bs_challenge_financial_14b_dataset/pdf_txt_file//f8fb28932337c061edb6f0a1b27f5a1f0ee0b957.txt'} | f8fb28932337c061edb6f0a1b27f5a1f0ee0b957 |\n",
      "| f9e84ce0edd5279773b3ca1f36a9e39d6ceaf220.txt |                                  杭州中恒电气股份有限公司                                  |    -    |     -      |                               {'source': 'f9e84ce0edd5279773b3ca1f36a9e39d6ceaf220'}                              |                  index                   |\n",
      "| f9e84ce0edd5279773b3ca1f36a9e39d6ceaf220.txt |                                  华泰联合证券有限责任公司                                  |    -    |     -      |                               {'source': 'f9e84ce0edd5279773b3ca1f36a9e39d6ceaf220'}                              |                  index                   |\n",
      "| f9e84ce0edd5279773b3ca1f36a9e39d6ceaf220.txt |                  ['杭州中恒电气股份有限公司', '华泰联合证券有限责任公司']                  |   645   |    700     | {'source': '../../bs_challenge_financial_14b_dataset/pdf_txt_file//f9e84ce0edd5279773b3ca1f36a9e39d6ceaf220.txt'} | f9e84ce0edd5279773b3ca1f36a9e39d6ceaf220 |\n",
      "| fa3eaf37dadb2a7495e3f774434f8347ce5c51c8.txt |                                    北京银行股份有限公司                                    |    -    |     -      |                               {'source': 'fa3eaf37dadb2a7495e3f774434f8347ce5c51c8'}                              |                  index                   |\n",
      "| fa3eaf37dadb2a7495e3f774434f8347ce5c51c8.txt |                                  中信建投证券有限责任公司                                  |    -    |     -      |                               {'source': 'fa3eaf37dadb2a7495e3f774434f8347ce5c51c8'}                              |                  index                   |\n",
      "| fa3eaf37dadb2a7495e3f774434f8347ce5c51c8.txt |                                    中信证券股份有限公司                                    |    -    |     -      |                               {'source': 'fa3eaf37dadb2a7495e3f774434f8347ce5c51c8'}                              |                  index                   |\n",
      "| fa3eaf37dadb2a7495e3f774434f8347ce5c51c8.txt |        ['北京银行股份有限公司', '中信建投证券有限责任公司', '中信证券股份有限公司']        |   1496  |    700     | {'source': '../../bs_challenge_financial_14b_dataset/pdf_txt_file//fa3eaf37dadb2a7495e3f774434f8347ce5c51c8.txt'} | fa3eaf37dadb2a7495e3f774434f8347ce5c51c8 |\n",
      "| fb468fe2d4d474b9fb94952d881f2218a871779c.txt |                               江苏爱康太阳能科技股份有限公司                               |    -    |     -      |                               {'source': 'fb468fe2d4d474b9fb94952d881f2218a871779c'}                              |                  index                   |\n",
      "| fb468fe2d4d474b9fb94952d881f2218a871779c.txt |                             ['江苏爱康太阳能科技股份有限公司']                             |   544   |    700     | {'source': '../../bs_challenge_financial_14b_dataset/pdf_txt_file//fb468fe2d4d474b9fb94952d881f2218a871779c.txt'} | fb468fe2d4d474b9fb94952d881f2218a871779c |\n",
      "+----------------------------------------------+--------------------------------------------------------------------------------------------+---------+------------+-------------------------------------------------------------------------------------------------------------------+------------------------------------------+\n"
     ]
    }
   ],
   "source": [
    "%load_ext autoreload\n",
    "%autoreload 2\n",
    "from TxtProcess import load_dir_txt_idx_process\n",
    "cfg = QWEN_CONFIG(api_key='apikey',\n",
    "                  embedding_name='text_embedding_async_v1')\n",
    "kb=load_dir_txt_idx_process(txt_dir='../../bs_challenge_financial_14b_dataset/pdf_txt_file/',\n",
    "                     pdf_dir='../../bs_challenge_financial_14b_dataset/pdf/',\n",
    "                     cfg=cfg\n",
    "                     )\n"
   ]
  },
  {
   "cell_type": "code",
   "execution_count": 60,
   "metadata": {},
   "outputs": [
    {
     "data": {
      "text/plain": [
       "32"
      ]
     },
     "execution_count": 60,
     "metadata": {},
     "output_type": "execute_result"
    }
   ],
   "source": [
    "from TxtProcess import faiss_kb_ds\n",
    "kbidx=faiss_kb_ds(vs_path=cfg.vec_store_path,\n",
    "                  kb_path='./',\n",
    "                  embs=g_container.EMBEDDING)\n",
    "kbidx.do_load(index='index')\n",
    "kbidx.do_view()"
   ]
  },
  {
   "cell_type": "code",
   "execution_count": 4,
   "metadata": {},
   "outputs": [
    {
     "name": "stdout",
     "output_type": "stream",
     "text": [
      "The autoreload extension is already loaded. To reload it, use:\n",
      "  %reload_ext autoreload\n"
     ]
    },
    {
     "data": {
      "text/plain": [
       "{'inputs': '广州中海达卫星导航技术股份有限公司的子公司中海达测绘的主营业务是什么？',\n",
       " 'outputs': '中海达测绘的主营业务是卫星导航技术。',\n",
       " 'relent_docs': ['91b4426b075560a1a45247f9cfa9fa73d56c945c']}"
      ]
     },
     "execution_count": 4,
     "metadata": {},
     "output_type": "execute_result"
    }
   ],
   "source": [
    "%load_ext autoreload\n",
    "%autoreload 2\n",
    "from Tools.konwlegeqa import run_knowledge_qa\n",
    "\n",
    "run_knowledge_qa(query='广州中海达卫星导航技术股份有限公司的子公司中海达测绘的主营业务是什么？',\n",
    "                 cfg=cfg)"
   ]
  },
  {
   "cell_type": "code",
   "execution_count": 11,
   "metadata": {},
   "outputs": [
    {
     "data": {
      "text/plain": [
       "pdfplumber.page.Page"
      ]
     },
     "execution_count": 11,
     "metadata": {},
     "output_type": "execute_result"
    }
   ],
   "source": [
    "import pdfplumber \n",
    "from prettytable import PrettyTable\n",
    "43571629ce9fb30b44ccefdca9f637102c16d1a2.txt\n",
    "with pdfplumber.open('../../bs_challenge_financial_14b_dataset/pdf/ba561001c2abd0714c413e2f6a77ffee58c644a6.PDF') as f:\n",
    "    tables=f.pages[51]\n",
    "type(tables)"
   ]
  },
  {
   "cell_type": "code",
   "execution_count": 44,
   "metadata": {},
   "outputs": [],
   "source": [
    "from TxtProcess import  faiss_kb_ds\n",
    "tttt=faiss_kb_ds(cfg.vec_store_path,kb_path='./',embs=emb2)\n",
    "tttt.do_load(index='a0d278016e9baded15e0f5b3964563e525b1b787')"
   ]
  },
  {
   "cell_type": "code",
   "execution_count": 12,
   "metadata": {},
   "outputs": [],
   "source": [
    "from langchain.text_splitter import RecursiveCharacterTextSplitter\n",
    "from langchain.document_loaders import TextLoader,PDFPlumberLoader\n",
    "\n",
    "tt=PDFPlumberLoader(file_path='../../bs_challenge_financial_14b_dataset/pdf/a244b6ed9da7411f804e62b82a8fdfc015dff284.PDF').load()"
   ]
  },
  {
   "cell_type": "code",
   "execution_count": 1,
   "metadata": {},
   "outputs": [],
   "source": [
    "import sqlite3 \n",
    "conn=sqlite3.connect('../../bs_challenge_financial_14b_dataset/dataset/博金杯比赛数据.db')\n",
    "cursor=conn.cursor()"
   ]
  },
  {
   "cell_type": "code",
   "execution_count": 8,
   "metadata": {},
   "outputs": [
    {
     "data": {
      "text/plain": [
       "{'db_id': 'department_management',\n",
       " 'db_path': './spider/database',\n",
       " 'db_table_names': [{'table_id': 0, 'table_name': '基金基本信息'},\n",
       "  {'table_id': 1, 'table_name': '基金股票持仓明细'},\n",
       "  {'table_id': 2, 'table_name': '基金债券持仓明细'},\n",
       "  {'table_id': 3, 'table_name': '基金可转债持仓明细'},\n",
       "  {'table_id': 4, 'table_name': '基金日行情表'},\n",
       "  {'table_id': 5, 'table_name': 'A股票日行情表'},\n",
       "  {'table_id': 6, 'table_name': '港股票日行情表'},\n",
       "  {'table_id': 7, 'table_name': 'A股公司行业划分表'},\n",
       "  {'table_id': 8, 'table_name': '基金规模变动表'},\n",
       "  {'table_id': 9, 'table_name': '基金份额持有人结构'}],\n",
       " 'db_column_names': [{'table_id': 0,\n",
       "   'column_name': '基金代码',\n",
       "   'column_type': 'TEXT'},\n",
       "  {'table_id': 0, 'column_name': '基金全称', 'column_type': 'TEXT'},\n",
       "  {'table_id': 0, 'column_name': '基金简称', 'column_type': 'TEXT'},\n",
       "  {'table_id': 0, 'column_name': '管理人', 'column_type': 'TEXT'},\n",
       "  {'table_id': 0, 'column_name': '托管人', 'column_type': 'TEXT'},\n",
       "  {'table_id': 0, 'column_name': '基金类型', 'column_type': 'TEXT'},\n",
       "  {'table_id': 0, 'column_name': '成立日期', 'column_type': 'TEXT'},\n",
       "  {'table_id': 0, 'column_name': '到期日期', 'column_type': 'TEXT'},\n",
       "  {'table_id': 0, 'column_name': '管理费率', 'column_type': 'TEXT'},\n",
       "  {'table_id': 0, 'column_name': '托管费率', 'column_type': 'TEXT'},\n",
       "  {'table_id': 1, 'column_name': '基金代码', 'column_type': 'TEXT'},\n",
       "  {'table_id': 1, 'column_name': '基金简称', 'column_type': 'TEXT'},\n",
       "  {'table_id': 1, 'column_name': '持仓日期', 'column_type': 'TEXT'},\n",
       "  {'table_id': 1, 'column_name': '股票代码', 'column_type': 'TEXT'},\n",
       "  {'table_id': 1, 'column_name': '股票名称', 'column_type': 'TEXT'},\n",
       "  {'table_id': 1, 'column_name': '数量', 'column_type': 'REAL'},\n",
       "  {'table_id': 1, 'column_name': '市值', 'column_type': 'REAL'},\n",
       "  {'table_id': 1, 'column_name': '市值占基金资产净值比', 'column_type': 'REAL'},\n",
       "  {'table_id': 1, 'column_name': '第N大重仓股', 'column_type': 'INTEGER'},\n",
       "  {'table_id': 1, 'column_name': '所在证券市场', 'column_type': 'TEXT'},\n",
       "  {'table_id': 1, 'column_name': '所属国家(地区)', 'column_type': 'TEXT'},\n",
       "  {'table_id': 1, 'column_name': '报告类型', 'column_type': 'TEXT'},\n",
       "  {'table_id': 2, 'column_name': '基金代码', 'column_type': 'TEXT'},\n",
       "  {'table_id': 2, 'column_name': '基金简称', 'column_type': 'TEXT'},\n",
       "  {'table_id': 2, 'column_name': '持仓日期', 'column_type': 'TEXT'},\n",
       "  {'table_id': 2, 'column_name': '债券类型', 'column_type': 'TEXT'},\n",
       "  {'table_id': 2, 'column_name': '债券名称', 'column_type': 'TEXT'},\n",
       "  {'table_id': 2, 'column_name': '持债数量', 'column_type': 'REAL'},\n",
       "  {'table_id': 2, 'column_name': '持债市值', 'column_type': 'REAL'},\n",
       "  {'table_id': 2, 'column_name': '持债市值占基金资产净值比', 'column_type': 'REAL'},\n",
       "  {'table_id': 2, 'column_name': '第N大重仓股', 'column_type': 'INTEGER'},\n",
       "  {'table_id': 2, 'column_name': '所在证券市场', 'column_type': 'TEXT'},\n",
       "  {'table_id': 2, 'column_name': '所属国家(地区)', 'column_type': 'TEXT'},\n",
       "  {'table_id': 2, 'column_name': '报告类型', 'column_type': 'TEXT'},\n",
       "  {'table_id': 3, 'column_name': '基金代码', 'column_type': 'TEXT'},\n",
       "  {'table_id': 3, 'column_name': '基金简称', 'column_type': 'TEXT'},\n",
       "  {'table_id': 3, 'column_name': '持仓日期', 'column_type': 'TEXT'},\n",
       "  {'table_id': 3, 'column_name': '对应股票代码', 'column_type': 'TEXT'},\n",
       "  {'table_id': 3, 'column_name': '债券名称', 'column_type': 'TEXT'},\n",
       "  {'table_id': 3, 'column_name': '数量', 'column_type': 'REAL'},\n",
       "  {'table_id': 3, 'column_name': '市值', 'column_type': 'REAL'},\n",
       "  {'table_id': 3, 'column_name': '市值占基金资产净值比', 'column_type': 'REAL'},\n",
       "  {'table_id': 3, 'column_name': '第N大重仓股', 'column_type': 'INTEGER'},\n",
       "  {'table_id': 3, 'column_name': '所在证券市场', 'column_type': 'TEXT'},\n",
       "  {'table_id': 3, 'column_name': '所属国家(地区)', 'column_type': 'TEXT'},\n",
       "  {'table_id': 3, 'column_name': '报告类型', 'column_type': 'TEXT'},\n",
       "  {'table_id': 4, 'column_name': '基金代码', 'column_type': 'TEXT'},\n",
       "  {'table_id': 4, 'column_name': '交易日期', 'column_type': 'TEXT'},\n",
       "  {'table_id': 4, 'column_name': '单位净值', 'column_type': 'REAL'},\n",
       "  {'table_id': 4, 'column_name': '复权单位净值', 'column_type': 'REAL'},\n",
       "  {'table_id': 4, 'column_name': '累计单位净值', 'column_type': 'REAL'},\n",
       "  {'table_id': 4, 'column_name': '资产净值', 'column_type': 'REAL'},\n",
       "  {'table_id': 5, 'column_name': '股票代码', 'column_type': 'TEXT'},\n",
       "  {'table_id': 5, 'column_name': '交易日', 'column_type': 'TEXT'},\n",
       "  {'table_id': 5, 'column_name': '昨收盘(元)', 'column_type': 'REAL'},\n",
       "  {'table_id': 5, 'column_name': '今开盘(元)', 'column_type': 'REAL'},\n",
       "  {'table_id': 5, 'column_name': '最高价(元)', 'column_type': 'REAL'},\n",
       "  {'table_id': 5, 'column_name': '最低价(元)', 'column_type': 'REAL'},\n",
       "  {'table_id': 5, 'column_name': '收盘价(元)', 'column_type': 'REAL'},\n",
       "  {'table_id': 5, 'column_name': '成交量(股)', 'column_type': 'REAL'},\n",
       "  {'table_id': 5, 'column_name': '成交金额(元)', 'column_type': 'REAL'},\n",
       "  {'table_id': 6, 'column_name': '股票代码', 'column_type': 'TEXT'},\n",
       "  {'table_id': 6, 'column_name': '交易日', 'column_type': 'TEXT'},\n",
       "  {'table_id': 6, 'column_name': '昨收盘(元)', 'column_type': 'REAL'},\n",
       "  {'table_id': 6, 'column_name': '今开盘(元)', 'column_type': 'REAL'},\n",
       "  {'table_id': 6, 'column_name': '最高价(元)', 'column_type': 'REAL'},\n",
       "  {'table_id': 6, 'column_name': '最低价(元)', 'column_type': 'REAL'},\n",
       "  {'table_id': 6, 'column_name': '收盘价(元)', 'column_type': 'REAL'},\n",
       "  {'table_id': 6, 'column_name': '成交量(股)', 'column_type': 'REAL'},\n",
       "  {'table_id': 6, 'column_name': '成交金额(元)', 'column_type': 'REAL'},\n",
       "  {'table_id': 7, 'column_name': '股票代码', 'column_type': 'TEXT'},\n",
       "  {'table_id': 7, 'column_name': '交易日期', 'column_type': 'TEXT'},\n",
       "  {'table_id': 7, 'column_name': '行业划分标准', 'column_type': 'TEXT'},\n",
       "  {'table_id': 7, 'column_name': '一级行业名称', 'column_type': 'TEXT'},\n",
       "  {'table_id': 7, 'column_name': '二级行业名称', 'column_type': 'TEXT'},\n",
       "  {'table_id': 8, 'column_name': '基金代码', 'column_type': 'TEXT'},\n",
       "  {'table_id': 8, 'column_name': '基金简称', 'column_type': 'TEXT'},\n",
       "  {'table_id': 8, 'column_name': '公告日期', 'column_type': 'TIMESTAMP'},\n",
       "  {'table_id': 8, 'column_name': '截止日期', 'column_type': 'TIMESTAMP'},\n",
       "  {'table_id': 8, 'column_name': '报告期期初基金总份额', 'column_type': 'REAL'},\n",
       "  {'table_id': 8, 'column_name': '报告期基金总申购份额', 'column_type': 'REAL'},\n",
       "  {'table_id': 8, 'column_name': '报告期基金总赎回份额', 'column_type': 'REAL'},\n",
       "  {'table_id': 8, 'column_name': '报告期期末基金总份额', 'column_type': 'REAL'},\n",
       "  {'table_id': 8, 'column_name': '定期报告所属年度', 'column_type': 'INTEGER'},\n",
       "  {'table_id': 8, 'column_name': '报告类型', 'column_type': 'TEXT'},\n",
       "  {'table_id': 9, 'column_name': '基金代码', 'column_type': 'TEXT'},\n",
       "  {'table_id': 9, 'column_name': '基金简称', 'column_type': 'TEXT'},\n",
       "  {'table_id': 9, 'column_name': '公告日期', 'column_type': 'TIMESTAMP'},\n",
       "  {'table_id': 9, 'column_name': '截止日期', 'column_type': 'TIMESTAMP'},\n",
       "  {'table_id': 9, 'column_name': '机构投资者持有的基金份额', 'column_type': 'REAL'},\n",
       "  {'table_id': 9, 'column_name': '机构投资者持有的基金份额占总份额比例', 'column_type': 'REAL'},\n",
       "  {'table_id': 9, 'column_name': '个人投资者持有的基金份额', 'column_type': 'REAL'},\n",
       "  {'table_id': 9, 'column_name': '个人投资者持有的基金份额占总份额比例', 'column_type': 'REAL'},\n",
       "  {'table_id': 9, 'column_name': '定期报告所属年度', 'column_type': 'INTEGER'},\n",
       "  {'table_id': 9, 'column_name': '报告类型', 'column_type': 'TEXT'}],\n",
       " 'db_primary_keys': []}"
      ]
     },
     "execution_count": 8,
     "metadata": {},
     "output_type": "execute_result"
    }
   ],
   "source": [
    "cursor.execute(\"SELECT name FROM sqlite_master WHERE type='table';\")\n",
    "# 获取查询结果\n",
    "tables = cursor.fetchall()\n",
    "# 遍历所有表\n",
    "res={\n",
    "    'db_id': 'department_management',\n",
    "    'db_path': './spider/database',\n",
    "    'db_table_names':[],\n",
    "    'db_column_names':[],\n",
    "    'db_primary_keys':[]\n",
    "}\n",
    "for i,table in enumerate(tables):\n",
    "    table_name = table[0]\n",
    "    res['db_table_names'].append({\n",
    "        'table_id':i,\n",
    "        'table_name':table_name})\n",
    "    # 查询表结构\n",
    "    cursor.execute(f\"PRAGMA table_info({table_name});\")\n",
    "    columns = cursor.fetchall()\n",
    "    for column in columns:\n",
    "        res['db_column_names'].append({\n",
    "                'table_id':i,\n",
    "                'column_name':column[1],\n",
    "                'column_type':column[2]\n",
    "            })\n",
    "        if column[5] == 1:\n",
    "            res['db_primary_keys'].append({\n",
    "                'table_id':i,\n",
    "                'column_name':column[1]\n",
    "            })\n",
    "res"
   ]
  }
 ],
 "metadata": {
  "kernelspec": {
   "display_name": "pytorch",
   "language": "python",
   "name": "python3"
  },
  "language_info": {
   "codemirror_mode": {
    "name": "ipython",
    "version": 3
   },
   "file_extension": ".py",
   "mimetype": "text/x-python",
   "name": "python",
   "nbconvert_exporter": "python",
   "pygments_lexer": "ipython3",
   "version": "3.8.17"
  }
 },
 "nbformat": 4,
 "nbformat_minor": 2
}
