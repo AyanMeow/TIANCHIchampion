{
 "cells": [
  {
   "cell_type": "code",
   "execution_count": 63,
   "metadata": {},
   "outputs": [],
   "source": [
    "_PROMPT_TEMPLATE = \"\"\"\n",
    "请你提取下面段落的关键词，要求所提取的关键词能够鲜明表示内容性质。所提取的关键词应不少于5个。\n",
    "\n",
    "待处理内容：\n",
    "\n",
    "本次股票发行后拟在创业板市场上市，该市场具有较高的投资风险。创业\n",
    "板公司具有业绩不稳定、经营风险高、退市风险大等特点，投资者面临较大的\n",
    "市场风险。投资者应充分了解创业板市场的投资风险及本公司所披露的风险因\n",
    "素，审慎作出投资决定。\n",
    "华瑞电器股份有限公司\n",
    "Huarui Electrical Appliance Co., Ltd.\n",
    "册地址：宁波市鄞州区姜山镇科技园区\n",
    "首次公开发行股票并在创业板上市\n",
    "招股意向书\n",
    "发行人及全体董事、监事、高级管理人员承诺招股意向书不存在虚假记载、\n",
    "误导性陈述或重大遗漏，并对其真实性、准确性、完整性、及时性承担个别和连\n",
    "带的法律责任。\n",
    "发行人及全体董事、监事、高级管理人员、发行人的控股股东、实际控制人\n",
    "以及保荐人、承销的证券公司承诺因发行人招股意向书及其他信息披露资料有虚\n",
    "假记载、误导性陈述或者重大遗漏，致使投资者在证券发行和交易中遭受损失的，\n",
    "将依法赔偿投资者损失。\n",
    "\n",
    "注意：你的回答不需要分段。你的回答格式应该按照下面的内容，请注意```output 等标记都必须输出，这是我用来提取答案的标记。\n",
    "除了你的回答之外不要输出多余的文字。\n",
    "\n",
    "```output\n",
    "${{\"keywords\":[你提取的关键词]}}\n",
    "\"\"\""
   ]
  },
  {
   "cell_type": "code",
   "execution_count": 57,
   "metadata": {},
   "outputs": [],
   "source": [
    "import dashscope\n",
    "from dashscope import Generation\n",
    "from http import HTTPStatus\n",
    "import random\n",
    "from CustomLLM import QWENonlie\n",
    "from Container import g_container\n",
    "apikey='sk-02b8b1a9175a4cae9bf9571d517d8b81'\n",
    "llm=QWENonlie.from_name(model_name=Generation.Models.qwen_max,api_key=apikey)\n",
    "g_container.MODEL = llm"
   ]
  },
  {
   "cell_type": "code",
   "execution_count": 58,
   "metadata": {},
   "outputs": [
    {
     "name": "stdout",
     "output_type": "stream",
     "text": [
      "The autoreload extension is already loaded. To reload it, use:\n",
      "  %reload_ext autoreload\n"
     ]
    }
   ],
   "source": [
    "%load_ext autoreload\n",
    "%autoreload 2\n",
    "from config import QWEN_CONFIG\n",
    "from dashscope import TextEmbedding,BatchTextEmbedding\n",
    "from langchain.text_splitter import RecursiveCharacterTextSplitter\n",
    "from langchain.document_loaders import TextLoader\n",
    "from langchain.embeddings import DashScopeEmbeddings,HuggingFaceEmbeddings\n",
    "\n",
    "emb2=HuggingFaceEmbeddings(model_name='../../model/m3e/',encode_kwargs={'normalize_embeddings':True})\n",
    "g_container.EMBEDDING=emb2\n"
   ]
  },
  {
   "cell_type": "code",
   "execution_count": 59,
   "metadata": {},
   "outputs": [
    {
     "name": "stdout",
     "output_type": "stream",
     "text": [
      "The autoreload extension is already loaded. To reload it, use:\n",
      "  %reload_ext autoreload\n"
     ]
    },
    {
     "name": "stderr",
     "output_type": "stream",
     "text": [
      "  1%|▏         | 1/80 [00:02<03:47,  2.88s/it]"
     ]
    },
    {
     "name": "stdout",
     "output_type": "stream",
     "text": [
      "[{'id': 'ea3f37c9-89b6-4458-96a8-877b0c4c4d4f', 'meta_data': {'source': '03c625c108ac0137f413dfd4136adb55c74b3805'}, 'pagecontent': '安徽黄山胶囊股份有限公司'}]\n"
     ]
    },
    {
     "name": "stderr",
     "output_type": "stream",
     "text": [
      "  2%|▎         | 2/80 [00:05<03:17,  2.53s/it]"
     ]
    },
    {
     "name": "stdout",
     "output_type": "stream",
     "text": [
      "[{'id': '3a1d8c2c-7e08-4376-baac-2cf5312079da', 'meta_data': {'source': '044635429bd83e329c5047010121044e07568feb'}, 'pagecontent': '上海华铭智能终端设备股份有限公司'}]\n"
     ]
    },
    {
     "name": "stderr",
     "output_type": "stream",
     "text": [
      "  4%|▍         | 3/80 [00:08<03:42,  2.88s/it]"
     ]
    },
    {
     "name": "stdout",
     "output_type": "stream",
     "text": [
      "[{'id': '922d1e1d-9675-4437-84fe-8de9dcbdb653', 'meta_data': {'source': '07d29cd67ca8e0fc932e05178db1fcdca1cee937'}, 'pagecontent': '香港交易及結算所有限公司'}]\n",
      "[{'id': 'a9c189ca-f320-4f4d-8e15-225a45194502', 'meta_data': {'source': '07d29cd67ca8e0fc932e05178db1fcdca1cee937'}, 'pagecontent': '香港聯合交易所有限公司'}]\n",
      "[{'id': 'e2a5fe2c-9de4-44b1-99c5-8876d5a9fb4e', 'meta_data': {'source': '07d29cd67ca8e0fc932e05178db1fcdca1cee937'}, 'pagecontent': '青島銀行股份有限公司'}]\n"
     ]
    },
    {
     "name": "stderr",
     "output_type": "stream",
     "text": [
      "  5%|▌         | 4/80 [00:11<03:38,  2.88s/it]"
     ]
    },
    {
     "name": "stdout",
     "output_type": "stream",
     "text": [
      "[{'id': '57a61fcb-e1d0-4208-b2c0-0551ba945da0', 'meta_data': {'source': '08538049ad1c7ca74c508bf95fe9fbbb4c924f3e'}, 'pagecontent': '海尔施生物医药股份有限公司'}]\n",
      "[{'id': '649183d9-0820-4914-ba72-26d3d9060a02', 'meta_data': {'source': '08538049ad1c7ca74c508bf95fe9fbbb4c924f3e'}, 'pagecontent': '瑞信方正证券有限责任公司'}]\n"
     ]
    },
    {
     "name": "stderr",
     "output_type": "stream",
     "text": [
      "  6%|▋         | 5/80 [00:13<03:12,  2.57s/it]"
     ]
    },
    {
     "name": "stdout",
     "output_type": "stream",
     "text": [
      "[{'id': '64acf258-a45b-47b9-bafd-c07d241af21a', 'meta_data': {'source': '0b46f7a2d67b5b59ad67cafffa0e12a9f0837790'}, 'pagecontent': '武汉力源信息技术股份有限公司'}]\n"
     ]
    },
    {
     "name": "stderr",
     "output_type": "stream",
     "text": [
      "  8%|▊         | 6/80 [00:15<03:05,  2.51s/it]"
     ]
    },
    {
     "name": "stdout",
     "output_type": "stream",
     "text": [
      "[{'id': 'a091bfa9-e4c1-4fe8-afbb-72f8abc9bb71', 'meta_data': {'source': '11463b6562c6ba2afde67a29bca314452ea9a2e0'}, 'pagecontent': '国电电力发展股份有限公司'}]\n",
      "[{'id': '558cd4ec-cb35-467d-a8ea-00a83ae62145', 'meta_data': {'source': '11463b6562c6ba2afde67a29bca314452ea9a2e0'}, 'pagecontent': '中国国际金融有限公司'}]\n"
     ]
    },
    {
     "name": "stderr",
     "output_type": "stream",
     "text": [
      "  9%|▉         | 7/80 [00:17<02:52,  2.37s/it]"
     ]
    },
    {
     "name": "stdout",
     "output_type": "stream",
     "text": [
      "[{'id': '6ef68dd7-862c-4e1b-9d9c-9a3a92d2d979', 'meta_data': {'source': '1af01c24b0957a1ab6d9262b93d7ccf7093f0529'}, 'pagecontent': '昇兴集团股份有限公司'}]\n"
     ]
    },
    {
     "name": "stderr",
     "output_type": "stream",
     "text": [
      " 10%|█         | 8/80 [00:19<02:39,  2.22s/it]"
     ]
    },
    {
     "name": "stdout",
     "output_type": "stream",
     "text": [
      "[{'id': '746961c4-9cac-45c1-81ab-c965358deeae', 'meta_data': {'source': '2389de12d78fe1ca4fa24910e6b1573902098bc3'}, 'pagecontent': '深圳市铁汉生态环境股份有限公司'}]\n"
     ]
    },
    {
     "name": "stderr",
     "output_type": "stream",
     "text": [
      " 11%|█▏        | 9/80 [00:21<02:27,  2.08s/it]"
     ]
    },
    {
     "name": "stdout",
     "output_type": "stream",
     "text": [
      "[{'id': '4b4c8f66-cc72-4598-b17a-9d657e954fb0', 'meta_data': {'source': '28560e1383141e35127388a3f0ca0e7b24919c17'}, 'pagecontent': '江苏旷达汽车织物集团股份有限公司'}]\n"
     ]
    },
    {
     "name": "stderr",
     "output_type": "stream",
     "text": [
      " 12%|█▎        | 10/80 [00:24<02:35,  2.22s/it]"
     ]
    },
    {
     "name": "stdout",
     "output_type": "stream",
     "text": [
      "[{'id': '2991bf79-7c3f-4713-b0d4-6dfec9439dfc', 'meta_data': {'source': '334a4deb4169c220c7a89243a104f6874ce1996a'}, 'pagecontent': '浙江双飞无油轴承股份有限公司'}]\n"
     ]
    },
    {
     "name": "stderr",
     "output_type": "stream",
     "text": [
      " 14%|█▍        | 11/80 [00:25<02:26,  2.13s/it]"
     ]
    },
    {
     "name": "stdout",
     "output_type": "stream",
     "text": [
      "[{'id': '53590741-ac94-48ae-afb2-37db6d4c7de9', 'meta_data': {'source': '398c8e64f18a13e695b5956122ef2f6a6fd3b274'}, 'pagecontent': '上海真兰仪表科技股份有限公司'}]\n"
     ]
    },
    {
     "name": "stderr",
     "output_type": "stream",
     "text": [
      " 15%|█▌        | 12/80 [00:27<02:18,  2.04s/it]"
     ]
    },
    {
     "name": "stdout",
     "output_type": "stream",
     "text": [
      "[{'id': '3f2fe595-580f-48b3-8414-e010bf0ecac5', 'meta_data': {'source': '3e0ded8afa8f8aa952fd8179b109d6e67578c2dd'}, 'pagecontent': '华瑞电器股份有限公司'}]\n"
     ]
    },
    {
     "name": "stderr",
     "output_type": "stream",
     "text": [
      " 16%|█▋        | 13/80 [00:30<02:37,  2.35s/it]"
     ]
    },
    {
     "name": "stdout",
     "output_type": "stream",
     "text": [
      "[{'id': '16d84d88-3745-429c-ac25-21037f4401ae', 'meta_data': {'source': '4170a3382f5e92d32890780d79cb39115a756f40'}, 'pagecontent': '中国铁路通信信号股份有限公司'}]\n"
     ]
    },
    {
     "name": "stderr",
     "output_type": "stream",
     "text": [
      " 18%|█▊        | 14/80 [00:32<02:21,  2.14s/it]"
     ]
    },
    {
     "name": "stdout",
     "output_type": "stream",
     "text": [
      "[{'id': 'c4802edf-91fe-467c-8f44-9aa0c2d8ec1a', 'meta_data': {'source': '421864a100b2b65568d0aa7e08bdc9e13e5c91d2'}, 'pagecontent': '东港安全印刷股份有限公司'}]\n"
     ]
    },
    {
     "name": "stderr",
     "output_type": "stream",
     "text": [
      " 19%|█▉        | 15/80 [00:34<02:14,  2.07s/it]"
     ]
    },
    {
     "name": "stdout",
     "output_type": "stream",
     "text": [
      "[{'id': '6d1c68c6-2cb0-40e8-ad35-fb07bef06b7f', 'meta_data': {'source': '42518828d97dd45ac34dc34a5814d18c1ebe9a83'}, 'pagecontent': '宁波立立电子股份有限公司'}]\n"
     ]
    },
    {
     "name": "stderr",
     "output_type": "stream",
     "text": [
      " 20%|██        | 16/80 [00:36<02:07,  1.99s/it]"
     ]
    },
    {
     "name": "stdout",
     "output_type": "stream",
     "text": [
      "[{'id': '85070fa6-6fc9-4382-aaad-93e546a5db00', 'meta_data': {'source': '43571629ce9fb30b44ccefdca9f637102c16d1a2'}, 'pagecontent': '天津力生制药股份有限公司'}]\n"
     ]
    },
    {
     "name": "stderr",
     "output_type": "stream",
     "text": [
      " 21%|██▏       | 17/80 [00:38<02:07,  2.03s/it]"
     ]
    },
    {
     "name": "stdout",
     "output_type": "stream",
     "text": [
      "[{'id': '60322d67-561d-4d96-b5b2-2a257c2090d5', 'meta_data': {'source': '43f9d961f0885608850dec7f4284afdaf07bdc43'}, 'pagecontent': '深圳可立克科技股份有限公司'}]\n"
     ]
    },
    {
     "name": "stderr",
     "output_type": "stream",
     "text": [
      " 22%|██▎       | 18/80 [00:40<02:16,  2.20s/it]"
     ]
    },
    {
     "name": "stdout",
     "output_type": "stream",
     "text": [
      "[{'id': '2b3908b1-1d90-4dc4-9d73-b5c0a128f746', 'meta_data': {'source': '44850fcc20f00a48f5bca0ad4acde91d76b839d6'}, 'pagecontent': '西安启源机电装备股份有限公司'}]\n",
      "[{'id': 'ebb699c8-3755-4229-ac9c-1f4c882c8661', 'meta_data': {'source': '44850fcc20f00a48f5bca0ad4acde91d76b839d6'}, 'pagecontent': '西部证券股份有限公司'}]\n"
     ]
    },
    {
     "name": "stderr",
     "output_type": "stream",
     "text": [
      " 24%|██▍       | 19/80 [00:43<02:17,  2.26s/it]"
     ]
    },
    {
     "name": "stdout",
     "output_type": "stream",
     "text": [
      "[{'id': '27efd3d8-ad6a-470b-bc0c-b1497e0d4034', 'meta_data': {'source': '47d0efaf57fb6f5d66af5ecdc422dd1da99b6d95'}, 'pagecontent': '江苏天瑞仪器股份有限公司'}]\n",
      "[{'id': '9a54208a-acf4-4deb-a41a-9f70f6e8720f', 'meta_data': {'source': '47d0efaf57fb6f5d66af5ecdc422dd1da99b6d95'}, 'pagecontent': '东方证券股份有限公司'}]\n"
     ]
    },
    {
     "name": "stderr",
     "output_type": "stream",
     "text": [
      " 25%|██▌       | 20/80 [00:46<02:25,  2.43s/it]"
     ]
    },
    {
     "name": "stdout",
     "output_type": "stream",
     "text": [
      "[{'id': '96c66324-b24a-42ad-b68a-b0d0003ba634', 'meta_data': {'source': '4bc783ca9fd53beb4be3a79b1712d5e42be209e1'}, 'pagecontent': '北京天宜上佳高新材料股份有限公司'}]\n"
     ]
    },
    {
     "name": "stderr",
     "output_type": "stream",
     "text": [
      " 26%|██▋       | 21/80 [00:49<02:30,  2.56s/it]"
     ]
    },
    {
     "name": "stdout",
     "output_type": "stream",
     "text": [
      "[{'id': 'd5bc78f2-f2c5-4d89-b7a8-076d467eaf49', 'meta_data': {'source': '50b2823371fe1699d260f67cadac3d38af0672e3'}, 'pagecontent': '浙江富春江环保热电股份有限公司'}]\n",
      "[{'id': '32ffd74e-c52a-42fe-a2dc-bff5f655e006', 'meta_data': {'source': '50b2823371fe1699d260f67cadac3d38af0672e3'}, 'pagecontent': '浙江富春江通信集团有限公司'}]\n",
      "[{'id': 'a8ef9058-5e43-4415-8a8d-f44f2a331fdb', 'meta_data': {'source': '50b2823371fe1699d260f67cadac3d38af0672e3'}, 'pagecontent': '太平洋证券股份有限公司'}]\n"
     ]
    },
    {
     "name": "stderr",
     "output_type": "stream",
     "text": [
      " 28%|██▊       | 22/80 [00:51<02:19,  2.40s/it]"
     ]
    },
    {
     "name": "stdout",
     "output_type": "stream",
     "text": [
      "[{'id': '243fa570-eacb-472b-b443-4761f31ec47c', 'meta_data': {'source': '52fd4a323d97356a463959671794e900699baae5'}, 'pagecontent': '深圳信立泰药业股份有限公司'}]\n"
     ]
    },
    {
     "name": "stderr",
     "output_type": "stream",
     "text": [
      " 29%|██▉       | 23/80 [00:53<02:14,  2.36s/it]"
     ]
    },
    {
     "name": "stdout",
     "output_type": "stream",
     "text": [
      "[{'id': '7d41c843-c51c-4631-9172-eeae9fc53e66', 'meta_data': {'source': '54c7b3ab01ad11d37835a4464c9e4d68dfe6306f'}, 'pagecontent': '云南沃森生物技术股份有限公司'}]\n"
     ]
    },
    {
     "name": "stderr",
     "output_type": "stream",
     "text": [
      " 30%|███       | 24/80 [00:55<02:16,  2.44s/it]"
     ]
    },
    {
     "name": "stdout",
     "output_type": "stream",
     "text": [
      "[{'id': 'b3519afb-cd4f-4a20-8c93-c9c6353dd087', 'meta_data': {'source': '54d148902b889679830174597830f0d0f22c1073'}, 'pagecontent': '上海派能能源科技股份有限公司'}]\n"
     ]
    },
    {
     "name": "stderr",
     "output_type": "stream",
     "text": [
      " 31%|███▏      | 25/80 [00:58<02:20,  2.55s/it]"
     ]
    },
    {
     "name": "stdout",
     "output_type": "stream",
     "text": [
      "[{'id': '288eaa33-a20b-432d-a29b-bf20235be5ff', 'meta_data': {'source': '5ad8119f0928b041ed0f0ecf3ef4164cd64ad57c'}, 'pagecontent': '上海宏英智能科技股份有限公司'}]\n"
     ]
    },
    {
     "name": "stderr",
     "output_type": "stream",
     "text": [
      " 32%|███▎      | 26/80 [01:01<02:13,  2.47s/it]"
     ]
    },
    {
     "name": "stdout",
     "output_type": "stream",
     "text": [
      "[{'id': 'c0f9fb10-ef56-4eee-9c9b-f7663b5214bf', 'meta_data': {'source': '5c2707b186a798118bba251cce8d1fc331b5cbba'}, 'pagecontent': '厦门科华恒盛股份有限公司'}]\n",
      "[{'id': '177010d1-2bbf-494c-877e-1d4c8e9020af', 'meta_data': {'source': '5c2707b186a798118bba251cce8d1fc331b5cbba'}, 'pagecontent': '东北证券股份有限公司'}]\n"
     ]
    },
    {
     "name": "stderr",
     "output_type": "stream",
     "text": [
      " 34%|███▍      | 27/80 [01:02<01:59,  2.25s/it]"
     ]
    },
    {
     "name": "stdout",
     "output_type": "stream",
     "text": [
      "[{'id': 'a8ec517b-1aa8-4d37-ba71-6d2fe2317345', 'meta_data': {'source': '5e019307c43efbd95dea0ab110808ebeba819776'}, 'pagecontent': '义乌华鼎锦纶股份有限公司'}]\n"
     ]
    },
    {
     "name": "stderr",
     "output_type": "stream",
     "text": [
      " 35%|███▌      | 28/80 [01:04<01:50,  2.12s/it]"
     ]
    },
    {
     "name": "stdout",
     "output_type": "stream",
     "text": [
      "[{'id': '6ff34262-1876-4904-9898-9fdb0e8ab2a0', 'meta_data': {'source': '6c93724343cef6b9da70d51daa739e8a1c607a22'}, 'pagecontent': '珠海健帆生物科技股份有限公司'}]\n"
     ]
    },
    {
     "name": "stderr",
     "output_type": "stream",
     "text": [
      " 36%|███▋      | 29/80 [01:06<01:43,  2.03s/it]"
     ]
    },
    {
     "name": "stdout",
     "output_type": "stream",
     "text": [
      "[{'id': '2953d968-2a73-4507-91a3-f8048a9a1852', 'meta_data': {'source': '6d2d79af9644ba5fef3b462fa40139c1395a3552'}, 'pagecontent': '深圳市超频三科技股份有限公司'}]\n"
     ]
    },
    {
     "name": "stderr",
     "output_type": "stream",
     "text": [
      " 38%|███▊      | 30/80 [01:08<01:43,  2.06s/it]"
     ]
    },
    {
     "name": "stdout",
     "output_type": "stream",
     "text": [
      "[{'id': '530f643b-9519-4174-917f-c980e71c4cec', 'meta_data': {'source': '72103a0ef6299585cdd09751682534d873f8e64e'}, 'pagecontent': '北京七星华创电子股份有限公司'}]\n",
      "[{'id': 'b7ee6f97-a29f-4cad-afc4-2968d8e9cbf6', 'meta_data': {'source': '72103a0ef6299585cdd09751682534d873f8e64e'}, 'pagecontent': '中信建投证券有限责任公司'}]\n"
     ]
    },
    {
     "name": "stderr",
     "output_type": "stream",
     "text": [
      " 39%|███▉      | 31/80 [01:11<01:49,  2.24s/it]"
     ]
    },
    {
     "name": "stdout",
     "output_type": "stream",
     "text": [
      "[{'id': 'ac1ef0c3-72ff-4f33-9384-b308a2c8d2c7', 'meta_data': {'source': '749dc57b0a41b931f3fbcff1ec4f808ff460655e'}, 'pagecontent': '威龙葡萄酒股份有限公司'}]\n",
      "[{'id': '16de39fb-874b-466d-9c5d-7e377781abbe', 'meta_data': {'source': '749dc57b0a41b931f3fbcff1ec4f808ff460655e'}, 'pagecontent': '第一创业摩根大通证券有限责任公司'}]\n"
     ]
    },
    {
     "name": "stderr",
     "output_type": "stream",
     "text": [
      " 40%|████      | 32/80 [01:13<01:55,  2.41s/it]"
     ]
    },
    {
     "name": "stdout",
     "output_type": "stream",
     "text": [
      "[{'id': 'a07d2992-9652-45ac-baa7-41566d69679b', 'meta_data': {'source': '756171248e278806a56171d59c6519a38eac9012'}, 'pagecontent': '确成硅化学股份有限公司'}]\n"
     ]
    },
    {
     "name": "stderr",
     "output_type": "stream",
     "text": [
      " 41%|████▏     | 33/80 [01:16<01:50,  2.36s/it]"
     ]
    },
    {
     "name": "stdout",
     "output_type": "stream",
     "text": [
      "[{'id': '5d0fb252-1cbe-4c62-a23f-c01c7ef23e35', 'meta_data': {'source': '79e9167d0336a9f471ab77dc04ec978fc4a89171'}, 'pagecontent': '大博医疗科技股份有限公司'}]\n"
     ]
    },
    {
     "name": "stderr",
     "output_type": "stream",
     "text": [
      " 42%|████▎     | 34/80 [01:18<01:50,  2.39s/it]"
     ]
    },
    {
     "name": "stdout",
     "output_type": "stream",
     "text": [
      "[{'id': '736f2d19-2eb5-4e47-b7a5-5d46028336e9', 'meta_data': {'source': '7ee0d82749433aba584ff8eabfc1575580aa0d97'}, 'pagecontent': '深圳麦格米特电气股份有限公司'}]\n"
     ]
    },
    {
     "name": "stderr",
     "output_type": "stream",
     "text": [
      " 44%|████▍     | 35/80 [01:21<01:55,  2.56s/it]"
     ]
    },
    {
     "name": "stdout",
     "output_type": "stream",
     "text": [
      "[{'id': '1c32b278-e2f8-4151-9d04-92412434ae24', 'meta_data': {'source': '810d8681429537dbf20a437a6dbf08e34c1ece27'}, 'pagecontent': '浙江百达精工股份有限公司'}]\n"
     ]
    },
    {
     "name": "stderr",
     "output_type": "stream",
     "text": [
      " 45%|████▌     | 36/80 [01:25<02:07,  2.89s/it]"
     ]
    },
    {
     "name": "stdout",
     "output_type": "stream",
     "text": [
      "[{'id': '120fc410-7674-40d6-b370-5a94fb87ab6a', 'meta_data': {'source': '88acba2e98dedd85fdd38192a639dbcc56faf3ed'}, 'pagecontent': '森赫电梯股份有限公司'}]\n"
     ]
    },
    {
     "name": "stderr",
     "output_type": "stream",
     "text": [
      " 46%|████▋     | 37/80 [02:08<10:45, 15.01s/it]"
     ]
    },
    {
     "name": "stdout",
     "output_type": "stream",
     "text": [
      "[{'id': 'c062f3e4-4b5e-4791-a720-32704746cf53', 'meta_data': {'source': '8c130bea710816d5ef9a8bd7b2df7ee46e9f40dd'}, 'pagecontent': '浙江开尔新材料股份有限公司'}]\n"
     ]
    },
    {
     "name": "stderr",
     "output_type": "stream",
     "text": [
      " 48%|████▊     | 38/80 [02:11<07:52, 11.24s/it]"
     ]
    },
    {
     "name": "stdout",
     "output_type": "stream",
     "text": [
      "[{'id': '3dc295d7-cb24-4c7e-ab6e-491a2934a657', 'meta_data': {'source': '8feb69d0cda9f9fbfb29968f9aeb4cbf1953edab'}, 'pagecontent': '瑞达期货股份有限公司'}]\n"
     ]
    },
    {
     "name": "stderr",
     "output_type": "stream",
     "text": [
      " 49%|████▉     | 39/80 [02:13<05:47,  8.47s/it]"
     ]
    },
    {
     "name": "stdout",
     "output_type": "stream",
     "text": [
      "[{'id': '219223a8-b1f5-4785-9f95-b9d69d2586a4', 'meta_data': {'source': '91b4426b075560a1a45247f9cfa9fa73d56c945c'}, 'pagecontent': '广州中海达卫星导航技术股份有限公司'}]\n"
     ]
    },
    {
     "name": "stderr",
     "output_type": "stream",
     "text": [
      " 50%|█████     | 40/80 [02:15<04:20,  6.51s/it]"
     ]
    },
    {
     "name": "stdout",
     "output_type": "stream",
     "text": [
      "[{'id': 'e8f322e2-36a7-4b9d-a972-0869fd67fdd9', 'meta_data': {'source': '952121f38a5eece19cca7cdc39079b43438fad88'}, 'pagecontent': '浙江步森服饰股份有限公司'}]\n"
     ]
    },
    {
     "name": "stderr",
     "output_type": "stream",
     "text": [
      " 51%|█████▏    | 41/80 [02:17<03:21,  5.18s/it]"
     ]
    },
    {
     "name": "stdout",
     "output_type": "stream",
     "text": [
      "[{'id': '38fe6624-04ee-4421-9beb-473337c3bfc1', 'meta_data': {'source': '96b461d6c6670928f7dc36f0c947e0c18340d5e2'}, 'pagecontent': '湖南南岭民用爆破器材股份有限公司'}]\n",
      "[{'id': 'eb62bfff-08a1-4938-af29-c8b19195394f', 'meta_data': {'source': '96b461d6c6670928f7dc36f0c947e0c18340d5e2'}, 'pagecontent': '财富证券有限责任公司'}]\n"
     ]
    },
    {
     "name": "stderr",
     "output_type": "stream",
     "text": [
      " 52%|█████▎    | 42/80 [02:19<02:40,  4.24s/it]"
     ]
    },
    {
     "name": "stdout",
     "output_type": "stream",
     "text": [
      "[{'id': '95584cd2-3620-4cf3-a2cd-9a6dea49af8f', 'meta_data': {'source': '9951262c20ed33562a2fff85c83aeae320f14922'}, 'pagecontent': '东莞勤上光电股份有限公司'}]\n"
     ]
    },
    {
     "name": "stderr",
     "output_type": "stream",
     "text": [
      " 54%|█████▍    | 43/80 [02:21<02:16,  3.70s/it]"
     ]
    },
    {
     "name": "stdout",
     "output_type": "stream",
     "text": [
      "[{'id': 'e6fa4898-1631-4133-a90b-e66e38cb7e1f', 'meta_data': {'source': '9b877e7db4809637c56eea234eaddc74cb20f9da'}, 'pagecontent': '浙江亚厦装饰股份有限公司'}]\n",
      "[{'id': 'f72a725c-8828-4b62-a135-bbf8262ac43a', 'meta_data': {'source': '9b877e7db4809637c56eea234eaddc74cb20f9da'}, 'pagecontent': '财富里昂证券有限责任公司'}]\n"
     ]
    },
    {
     "name": "stderr",
     "output_type": "stream",
     "text": [
      " 55%|█████▌    | 44/80 [02:26<02:24,  4.01s/it]"
     ]
    },
    {
     "name": "stdout",
     "output_type": "stream",
     "text": [
      "[{'id': 'cb8b7a86-693e-401d-89ce-2bb154105dae', 'meta_data': {'source': '9c4a118cf576f91aed791fb6fe6926180e2dcc65'}, 'pagecontent': '南京中电联环保股份有限公司'}]\n"
     ]
    },
    {
     "name": "stderr",
     "output_type": "stream",
     "text": [
      " 56%|█████▋    | 45/80 [02:28<02:03,  3.54s/it]"
     ]
    },
    {
     "name": "stdout",
     "output_type": "stream",
     "text": [
      "[{'id': '05c2083e-667a-4e1e-a176-fa1a47d28ad9', 'meta_data': {'source': '9dca16666143beb8c15a6a4ba6ec2b19b2ffb8fb'}, 'pagecontent': '内蒙君正能源化工股份有限公司'}]\n"
     ]
    },
    {
     "name": "stderr",
     "output_type": "stream",
     "text": [
      " 57%|█████▊    | 46/80 [02:32<01:59,  3.51s/it]"
     ]
    },
    {
     "name": "stdout",
     "output_type": "stream",
     "text": [
      "[{'id': 'db106138-6c6d-4d87-ad1c-62c2397af653', 'meta_data': {'source': 'a0d278016e9baded15e0f5b3964563e525b1b787'}, 'pagecontent': '武汉兴图新科电子股份有限公司'}]\n"
     ]
    },
    {
     "name": "stderr",
     "output_type": "stream",
     "text": [
      " 59%|█████▉    | 47/80 [02:34<01:42,  3.09s/it]"
     ]
    },
    {
     "name": "stdout",
     "output_type": "stream",
     "text": [
      "[{'id': '2108011b-b9d0-4198-be33-f60b4cae1fc5', 'meta_data': {'source': 'a244b6ed9da7411f804e62b82a8fdfc015dff284'}, 'pagecontent': '惠州光弘科技股份有限公司'}]\n"
     ]
    },
    {
     "name": "stderr",
     "output_type": "stream",
     "text": [
      " 60%|██████    | 48/80 [02:36<01:30,  2.83s/it]"
     ]
    },
    {
     "name": "stdout",
     "output_type": "stream",
     "text": [
      "[{'id': '42ee28ca-c59d-48d2-8600-a1ad41ba35f9', 'meta_data': {'source': 'a6f8156c08a1096c46470a1c5e1229daaaedf06e'}, 'pagecontent': '成都华气厚普机电设备股份有限公司'}]\n"
     ]
    },
    {
     "name": "stderr",
     "output_type": "stream",
     "text": [
      " 61%|██████▏   | 49/80 [02:38<01:16,  2.46s/it]"
     ]
    },
    {
     "name": "stdout",
     "output_type": "stream",
     "text": [
      "[{'id': '1ec6d42f-53b5-42cd-a1cc-6e56558d1ded', 'meta_data': {'source': 'ad2bf1b94db9ec7cb2689ace2daec396d2965dce'}, 'pagecontent': '厦门安妮股份有限公司'}]\n"
     ]
    },
    {
     "name": "stderr",
     "output_type": "stream",
     "text": [
      " 62%|██████▎   | 50/80 [02:40<01:15,  2.52s/it]"
     ]
    },
    {
     "name": "stdout",
     "output_type": "stream",
     "text": [
      "[{'id': 'd921b8cc-c30a-40fe-a7d7-64727bbc6e97', 'meta_data': {'source': 'afa8c5a4a91c3ecf7bd38a1c1f09b8a68e472909'}, 'pagecontent': '海看网络科技（山东）股份有限公司'}]\n"
     ]
    },
    {
     "name": "stderr",
     "output_type": "stream",
     "text": [
      " 64%|██████▍   | 51/80 [02:42<01:09,  2.41s/it]"
     ]
    },
    {
     "name": "stdout",
     "output_type": "stream",
     "text": [
      "[{'id': '54f3d28f-89f0-4d79-b229-500d7ef85b6d', 'meta_data': {'source': 'b29a4948c1ba14e1a85f8339dd5bb0fcabadb171'}, 'pagecontent': '浙江贝因美科工贸股份有限公司'}]\n"
     ]
    },
    {
     "name": "stderr",
     "output_type": "stream",
     "text": [
      " 65%|██████▌   | 52/80 [02:45<01:07,  2.42s/it]"
     ]
    },
    {
     "name": "stdout",
     "output_type": "stream",
     "text": [
      "[{'id': 'f0a9eba2-52e6-489d-abde-c3a6ce1ebb40', 'meta_data': {'source': 'b58b0a129b2c62ca8b295d40c91134df5d5e603d'}, 'pagecontent': '山东国瓷功能材料股份有限公司'}]\n",
      "[{'id': '4e2a19cc-7cfe-450e-84f3-5e0d77dc5a5c', 'meta_data': {'source': 'b58b0a129b2c62ca8b295d40c91134df5d5e603d'}, 'pagecontent': '山东国瓷功能材料股份有限公司'}]\n"
     ]
    },
    {
     "name": "stderr",
     "output_type": "stream",
     "text": [
      " 66%|██████▋   | 53/80 [02:47<01:03,  2.36s/it]"
     ]
    },
    {
     "name": "stdout",
     "output_type": "stream",
     "text": [
      "[{'id': '29528d96-ec22-4c50-ba9e-77ca57608159', 'meta_data': {'source': 'b9587835ff0d27df936b1f623b412e88e5e3abad'}, 'pagecontent': '汉嘉设计集团股份有限公司'}]\n"
     ]
    },
    {
     "name": "stderr",
     "output_type": "stream",
     "text": [
      " 68%|██████▊   | 54/80 [02:49<00:57,  2.21s/it]"
     ]
    },
    {
     "name": "stdout",
     "output_type": "stream",
     "text": [
      "[{'id': 'ca01e546-4af1-4e80-b20f-efbadacd63e6', 'meta_data': {'source': 'b96b11328c7bdc32b63fd15b1d1f96759ed94add'}, 'pagecontent': '烟台杰瑞石油服务集团股份有限公司'}]\n"
     ]
    },
    {
     "name": "stderr",
     "output_type": "stream",
     "text": [
      " 69%|██████▉   | 55/80 [02:51<00:53,  2.13s/it]"
     ]
    },
    {
     "name": "stdout",
     "output_type": "stream",
     "text": [
      "[{'id': 'e7233b0c-205e-4968-a594-f6b033b03787', 'meta_data': {'source': 'ba561001c2abd0714c413e2f6a77ffee58c644a6'}, 'pagecontent': '联化科技股份有限公司'}]\n",
      "[{'id': 'd3c06003-5beb-4828-b788-c0f1aba6448e', 'meta_data': {'source': 'ba561001c2abd0714c413e2f6a77ffee58c644a6'}, 'pagecontent': '东北证券股份有限公司'}]\n"
     ]
    },
    {
     "name": "stderr",
     "output_type": "stream",
     "text": [
      " 70%|███████   | 56/80 [02:53<00:54,  2.27s/it]"
     ]
    },
    {
     "name": "stdout",
     "output_type": "stream",
     "text": [
      "[{'id': '0ba6a242-622b-4951-a2f2-48dcde6c0391', 'meta_data': {'source': 'bec898d3079074d88f8bdb34d7e07f072cfca695'}, 'pagecontent': '中国神华能源股份有限公司'}]\n",
      "[{'id': '9d4f983e-f4b8-4d2b-8fe6-a38e5c43f4be', 'meta_data': {'source': 'bec898d3079074d88f8bdb34d7e07f072cfca695'}, 'pagecontent': '中国国际金融有限公司'}]\n",
      "[{'id': '54f1d1bb-4456-40de-854c-a93ed8bd33bd', 'meta_data': {'source': 'bec898d3079074d88f8bdb34d7e07f072cfca695'}, 'pagecontent': '中国银河证券股份有限公司'}]\n"
     ]
    },
    {
     "name": "stderr",
     "output_type": "stream",
     "text": [
      " 71%|███████▏  | 57/80 [02:56<00:52,  2.28s/it]"
     ]
    },
    {
     "name": "stdout",
     "output_type": "stream",
     "text": [
      "[{'id': '5072adcf-b9bd-45fd-b443-6db91ae5bea1', 'meta_data': {'source': 'c0f513c24a7ad4d74a3e2aab7c749f64c50771d2'}, 'pagecontent': '海南双成药业股份有限公司'}]\n"
     ]
    },
    {
     "name": "stderr",
     "output_type": "stream",
     "text": [
      " 72%|███████▎  | 58/80 [02:58<00:47,  2.14s/it]"
     ]
    },
    {
     "name": "stdout",
     "output_type": "stream",
     "text": [
      "[{'id': '375abf86-c03d-4d3e-b37d-a66c2148ca7d', 'meta_data': {'source': 'c3eae2913ce6c9f56c58a5588358740a00d47dd5'}, 'pagecontent': '新疆浩源天然气股份有限公司'}]\n"
     ]
    },
    {
     "name": "stderr",
     "output_type": "stream",
     "text": [
      " 74%|███████▍  | 59/80 [03:00<00:44,  2.12s/it]"
     ]
    },
    {
     "name": "stdout",
     "output_type": "stream",
     "text": [
      "[{'id': '8437023d-a6a9-4f88-84dd-dd32d2b070c5', 'meta_data': {'source': 'c48b454b4d171ba375fb88a6469b0a1d7f4625c2'}, 'pagecontent': '浙江金卡高科技股份有限公司'}]\n"
     ]
    },
    {
     "name": "stderr",
     "output_type": "stream",
     "text": [
      " 75%|███████▌  | 60/80 [03:02<00:40,  2.04s/it]"
     ]
    },
    {
     "name": "stdout",
     "output_type": "stream",
     "text": [
      "[{'id': '7b1c0034-cddc-4df1-a943-587e87d8fb1b', 'meta_data': {'source': 'ca1191af7558e0f18966e4df589368a3a5f5e1e6'}, 'pagecontent': '青海互助青稞酒股份有限公司'}]\n"
     ]
    },
    {
     "name": "stderr",
     "output_type": "stream",
     "text": [
      " 76%|███████▋  | 61/80 [03:04<00:41,  2.19s/it]"
     ]
    },
    {
     "name": "stdout",
     "output_type": "stream",
     "text": [
      "[{'id': '83c31ade-24a0-4c05-9293-43160423377b', 'meta_data': {'source': 'cae2f50f92120710bea7cf31b69f1a14e7badeb6'}, 'pagecontent': '四川高金食品股份有限公司'}]\n",
      "[{'id': '2a6b0085-4779-4bcf-9d6f-5f04363ebefa', 'meta_data': {'source': 'cae2f50f92120710bea7cf31b69f1a14e7badeb6'}, 'pagecontent': '宏源证券股份有限公司'}]\n"
     ]
    },
    {
     "name": "stderr",
     "output_type": "stream",
     "text": [
      " 78%|███████▊  | 62/80 [03:06<00:38,  2.13s/it]"
     ]
    },
    {
     "name": "stdout",
     "output_type": "stream",
     "text": [
      "[{'id': '13ca102f-aa65-4487-823d-f506d2bbcb0a', 'meta_data': {'source': 'd1a73ca4a204ca3f98024bca8ce0652f5e1c1a94'}, 'pagecontent': '贵州永吉印务股份有限公司'}]\n"
     ]
    },
    {
     "name": "stderr",
     "output_type": "stream",
     "text": [
      " 79%|███████▉  | 63/80 [03:09<00:38,  2.26s/it]"
     ]
    },
    {
     "name": "stdout",
     "output_type": "stream",
     "text": [
      "[{'id': '92ae3720-880e-4b67-8535-6e86defc079b', 'meta_data': {'source': 'd336d607e1d431cbfe1f313e2234a13fcf49a16e'}, 'pagecontent': '湖南国科微电子股份有限公司'}]\n",
      "[{'id': '05fd7dfb-557e-456b-ad9e-793e08aace70', 'meta_data': {'source': 'd336d607e1d431cbfe1f313e2234a13fcf49a16e'}, 'pagecontent': '华泰联合证券有限责任公司'}]\n"
     ]
    },
    {
     "name": "stderr",
     "output_type": "stream",
     "text": [
      " 80%|████████  | 64/80 [03:11<00:39,  2.44s/it]"
     ]
    },
    {
     "name": "stdout",
     "output_type": "stream",
     "text": [
      "[{'id': 'b40b6047-665a-499d-a02e-9a3b2d91eaa1', 'meta_data': {'source': 'd627620bedd94ea27c3840fa974cef3f7b582d03'}, 'pagecontent': '深圳市建筑科学研究院股份有限公司'}]\n",
      "[{'id': '8674519a-1cf3-4556-9ddf-adde451b9a9e', 'meta_data': {'source': 'd627620bedd94ea27c3840fa974cef3f7b582d03'}, 'pagecontent': '申万宏源证券承销保荐有限责任公司'}]\n"
     ]
    },
    {
     "name": "stderr",
     "output_type": "stream",
     "text": [
      " 81%|████████▏ | 65/80 [03:14<00:34,  2.32s/it]"
     ]
    },
    {
     "name": "stdout",
     "output_type": "stream",
     "text": [
      "[{'id': 'cb1f2771-9217-4bca-a02a-010f03a79096', 'meta_data': {'source': 'd6867ff3ecf9882065e45612eaf7b33ccb9a95dc'}, 'pagecontent': '兰州海默科技股份有限公司'}]\n",
      "[{'id': 'a241c387-388f-4824-8a67-a4e1ab8b397b', 'meta_data': {'source': 'd6867ff3ecf9882065e45612eaf7b33ccb9a95dc'}, 'pagecontent': '光大证券股份有限公司'}]\n"
     ]
    },
    {
     "name": "stderr",
     "output_type": "stream",
     "text": [
      " 82%|████████▎ | 66/80 [03:16<00:32,  2.29s/it]"
     ]
    },
    {
     "name": "stdout",
     "output_type": "stream",
     "text": [
      "[{'id': '715bc2ca-2411-4862-9563-89a3a5f5e115', 'meta_data': {'source': 'd6c70c04287ff6aba75b0565bef375469aaa68c3'}, 'pagecontent': '常熟风范电力设备股份有限公司'}]\n"
     ]
    },
    {
     "name": "stderr",
     "output_type": "stream",
     "text": [
      " 84%|████████▍ | 67/80 [03:18<00:30,  2.31s/it]"
     ]
    },
    {
     "name": "stdout",
     "output_type": "stream",
     "text": [
      "[{'id': '89a7d847-989e-4a16-bb43-cd8eaba9d114', 'meta_data': {'source': 'e0a89442ee14a193c6600b0092a43a95a2ddab88'}, 'pagecontent': '华达汽车科技股份有限公司'}]\n"
     ]
    },
    {
     "name": "stderr",
     "output_type": "stream",
     "text": [
      " 85%|████████▌ | 68/80 [03:21<00:28,  2.35s/it]"
     ]
    },
    {
     "name": "stdout",
     "output_type": "stream",
     "text": [
      "[{'id': '0ce31731-cff5-4505-b99e-efc0e880b68f', 'meta_data': {'source': 'e1e8e0551703f4a1f2873755ef46210b0889c5cd'}, 'pagecontent': '读者出版传媒股份有限公司'}]\n",
      "[{'id': '152bb558-0b71-42ad-979c-a5d9bde3930f', 'meta_data': {'source': 'e1e8e0551703f4a1f2873755ef46210b0889c5cd'}, 'pagecontent': '华龙证券股份有限公司'}]\n"
     ]
    },
    {
     "name": "stderr",
     "output_type": "stream",
     "text": [
      " 86%|████████▋ | 69/80 [03:22<00:24,  2.18s/it]"
     ]
    },
    {
     "name": "stdout",
     "output_type": "stream",
     "text": [
      "[{'id': 'd1bc85d0-a384-49a8-a8df-d918f214c647', 'meta_data': {'source': 'e6ff749bb533a47173aaca91fe5d44080d9d37b3'}, 'pagecontent': '广东银禧科技股份有限公司'}]\n"
     ]
    },
    {
     "name": "stderr",
     "output_type": "stream",
     "text": [
      " 88%|████████▊ | 70/80 [03:24<00:20,  2.09s/it]"
     ]
    },
    {
     "name": "stdout",
     "output_type": "stream",
     "text": [
      "[{'id': '34eca203-db5d-4489-8d0b-0a74707f36d9', 'meta_data': {'source': 'e774a06e6b4db734424f7d9181b9515a08bea6cc'}, 'pagecontent': '安徽天源科技股份有限公司'}]\n",
      "[{'id': 'd11a2312-714a-460d-ab3c-fc6ef507e237', 'meta_data': {'source': 'e774a06e6b4db734424f7d9181b9515a08bea6cc'}, 'pagecontent': '国元证券有限责任公司'}]\n"
     ]
    },
    {
     "name": "stderr",
     "output_type": "stream",
     "text": [
      " 89%|████████▉ | 71/80 [03:27<00:20,  2.29s/it]"
     ]
    },
    {
     "name": "stdout",
     "output_type": "stream",
     "text": [
      "[{'id': '858bf633-4285-49cc-bfc3-57d77b4e118a', 'meta_data': {'source': 'edde146c2435590bc33de0f144c04a7d7bf4d5b5'}, 'pagecontent': '新疆金风科技股份有限公司'}]\n"
     ]
    },
    {
     "name": "stderr",
     "output_type": "stream",
     "text": [
      " 90%|█████████ | 72/80 [03:29<00:17,  2.17s/it]"
     ]
    },
    {
     "name": "stdout",
     "output_type": "stream",
     "text": [
      "[{'id': 'bc27843c-875e-41ea-98ed-07389ef8e3b5', 'meta_data': {'source': 'eec23035376ae0e339a7643402fdbdccd92ad703'}, 'pagecontent': '湖南长远锂科股份有限公司'}]\n"
     ]
    },
    {
     "name": "stderr",
     "output_type": "stream",
     "text": [
      " 91%|█████████▏| 73/80 [03:31<00:14,  2.11s/it]"
     ]
    },
    {
     "name": "stdout",
     "output_type": "stream",
     "text": [
      "[{'id': '8abcf5aa-91b5-49f0-965a-68c091a90d6d', 'meta_data': {'source': 'f0e86e33d654c797626767e660bb234ff469bee8'}, 'pagecontent': '大连派思燃气系统股份有限公司'}]\n"
     ]
    },
    {
     "name": "stderr",
     "output_type": "stream",
     "text": [
      " 92%|█████████▎| 74/80 [03:33<00:12,  2.11s/it]"
     ]
    },
    {
     "name": "stdout",
     "output_type": "stream",
     "text": [
      "[{'id': '1a92ee7d-b0b5-48c4-979b-8677f4bfaf01', 'meta_data': {'source': 'f30bfe8be4ad535d348d74f80eaef8d93b3c8ac5'}, 'pagecontent': '上海维科精密模塑股份有限公司'}]\n"
     ]
    },
    {
     "name": "stderr",
     "output_type": "stream",
     "text": [
      " 94%|█████████▍| 75/80 [03:35<00:10,  2.05s/it]"
     ]
    },
    {
     "name": "stdout",
     "output_type": "stream",
     "text": [
      "[{'id': '66888956-ee3f-4f9e-8b4f-d39d1a970ff1', 'meta_data': {'source': 'f587290218d881e18e88fc1431b022b2c5aca81a'}, 'pagecontent': '苏州东微半导体股份有限公司'}]\n"
     ]
    },
    {
     "name": "stderr",
     "output_type": "stream",
     "text": [
      " 95%|█████████▌| 76/80 [03:37<00:08,  2.07s/it]"
     ]
    },
    {
     "name": "stdout",
     "output_type": "stream",
     "text": [
      "[{'id': 'c4634b3c-b1d5-4fe9-ab46-41ba8b9645dd', 'meta_data': {'source': 'f7a306fea164e32f1df88b7beb8ebba8f65dd7a1'}, 'pagecontent': '苏州海陆重工股份有限公司'}]\n",
      "[{'id': '253f21d9-7096-4b24-b9e8-ce06f683d6ac', 'meta_data': {'source': 'f7a306fea164e32f1df88b7beb8ebba8f65dd7a1'}, 'pagecontent': '国信证券股份有限公司'}]\n"
     ]
    },
    {
     "name": "stderr",
     "output_type": "stream",
     "text": [
      " 96%|█████████▋| 77/80 [03:40<00:06,  2.24s/it]"
     ]
    },
    {
     "name": "stdout",
     "output_type": "stream",
     "text": [
      "[{'id': 'ad278e24-8ed4-4fca-9525-381323633cab', 'meta_data': {'source': 'f8fb28932337c061edb6f0a1b27f5a1f0ee0b957'}, 'pagecontent': '金石资源集团股份有限公司'}]\n"
     ]
    },
    {
     "name": "stderr",
     "output_type": "stream",
     "text": [
      " 98%|█████████▊| 78/80 [03:42<00:04,  2.22s/it]"
     ]
    },
    {
     "name": "stdout",
     "output_type": "stream",
     "text": [
      "[{'id': '38c4daac-b196-437f-9eda-6d776bddb5f7', 'meta_data': {'source': 'f9e84ce0edd5279773b3ca1f36a9e39d6ceaf220'}, 'pagecontent': '杭州中恒电气股份有限公司'}]\n",
      "[{'id': '82325c2c-4aa8-4427-8350-437ca7805d8d', 'meta_data': {'source': 'f9e84ce0edd5279773b3ca1f36a9e39d6ceaf220'}, 'pagecontent': '华泰联合证券有限责任公司'}]\n"
     ]
    },
    {
     "name": "stderr",
     "output_type": "stream",
     "text": [
      " 99%|█████████▉| 79/80 [03:46<00:02,  2.88s/it]"
     ]
    },
    {
     "name": "stdout",
     "output_type": "stream",
     "text": [
      "[{'id': '11471eca-0e43-4a16-8e31-659492f7ff6a', 'meta_data': {'source': 'fa3eaf37dadb2a7495e3f774434f8347ce5c51c8'}, 'pagecontent': '北京银行股份有限公司'}]\n",
      "[{'id': '9c95f1ed-06a0-4271-b39a-b128e272ef4f', 'meta_data': {'source': 'fa3eaf37dadb2a7495e3f774434f8347ce5c51c8'}, 'pagecontent': '中信建投证券有限责任公司'}]\n",
      "[{'id': 'c4d08471-47b1-4977-b846-57de0f0d5fa5', 'meta_data': {'source': 'fa3eaf37dadb2a7495e3f774434f8347ce5c51c8'}, 'pagecontent': '中信证券股份有限公司'}]\n"
     ]
    },
    {
     "name": "stderr",
     "output_type": "stream",
     "text": [
      "100%|██████████| 80/80 [03:48<00:00,  2.86s/it]"
     ]
    },
    {
     "name": "stdout",
     "output_type": "stream",
     "text": [
      "[{'id': '0feda90f-0d82-44ef-9ba3-7dd696a9f0da', 'meta_data': {'source': 'fb468fe2d4d474b9fb94952d881f2218a871779c'}, 'pagecontent': '江苏爱康太阳能科技股份有限公司'}]\n"
     ]
    },
    {
     "name": "stderr",
     "output_type": "stream",
     "text": [
      "\n"
     ]
    }
   ],
   "source": [
    "%load_ext autoreload\n",
    "%autoreload 2\n",
    "from TxtProcess import load_dir_txt_idx_process\n",
    "from config import QWEN_CONFIG\n",
    "cfg = QWEN_CONFIG(api_key='apikey',\n",
    "                  embedding_name='text_embedding_async_v1')\n",
    "kb=load_dir_txt_idx_process(txt_dir='../../bs_challenge_financial_14b_dataset/pdf_txt_file/',\n",
    "                     pdf_dir='../../bs_challenge_financial_14b_dataset/pdf/',\n",
    "                     cfg=cfg\n",
    "                     )\n"
   ]
  },
  {
   "cell_type": "code",
   "execution_count": 44,
   "metadata": {},
   "outputs": [
    {
     "data": {
      "text/plain": [
       "[(Document(page_content='苏州东微半导体股份有限公司', metadata={'source': 'f587290218d881e18e88fc1431b022b2c5aca81a'}),\n",
       "  0.18934229),\n",
       " (Document(page_content='东莞勤上光电股份有限公司', metadata={'source': '9951262c20ed33562a2fff85c83aeae320f14922'}),\n",
       "  0.3262306),\n",
       " (Document(page_content='湖南国科微电子股份有限公司', metadata={'source': 'd336d607e1d431cbfe1f313e2234a13fcf49a16e'}),\n",
       "  0.3597392),\n",
       " (Document(page_content='上海宏英智能科技股份有限公司', metadata={'source': '5ad8119f0928b041ed0f0ecf3ef4164cd64ad57c'}),\n",
       "  0.40006036),\n",
       " (Document(page_content='确成硅化学股份有限公司', metadata={'source': '756171248e278806a56171d59c6519a38eac9012'}),\n",
       "  0.41019136)]"
      ]
     },
     "execution_count": 44,
     "metadata": {},
     "output_type": "execute_result"
    }
   ],
   "source": [
    "kb.kb.s"
   ]
  },
  {
   "cell_type": "code",
   "execution_count": 60,
   "metadata": {},
   "outputs": [
    {
     "data": {
      "text/plain": [
       "32"
      ]
     },
     "execution_count": 60,
     "metadata": {},
     "output_type": "execute_result"
    }
   ],
   "source": [
    "from TxtProcess import faiss_kb_ds\n",
    "kbidx=faiss_kb_ds(vs_path=cfg.vec_store_path,\n",
    "                  kb_path='./',\n",
    "                  embs=g_container.EMBEDDING)\n",
    "kbidx.do_load(index='index')\n",
    "kbidx.do_view()"
   ]
  },
  {
   "cell_type": "code",
   "execution_count": 63,
   "metadata": {},
   "outputs": [
    {
     "data": {
      "text/plain": [
       "[(Document(page_content='苏州东微半导体股份有限公司', metadata={'source': 'f587290218d881e18e88fc1431b022b2c5aca81a'}),\n",
       "  1.0),\n",
       " (Document(page_content='江苏天瑞仪器股份有限公司', metadata={'source': '47d0efaf57fb6f5d66af5ecdc422dd1da99b6d95'}),\n",
       "  0.8344885145708854),\n",
       " (Document(page_content='苏州海陆重工股份有限公司', metadata={'source': 'f7a306fea164e32f1df88b7beb8ebba8f65dd7a1'}),\n",
       "  0.8146264855720505),\n",
       " (Document(page_content='江苏爱康太阳能科技股份有限公司', metadata={'source': 'fb468fe2d4d474b9fb94952d881f2218a871779c'}),\n",
       "  0.812698751941435),\n",
       " (Document(page_content='湖南国科微电子股份有限公司', metadata={'source': 'd336d607e1d431cbfe1f313e2234a13fcf49a16e'}),\n",
       "  0.7801401850262238)]"
      ]
     },
     "execution_count": 63,
     "metadata": {},
     "output_type": "execute_result"
    }
   ],
   "source": [
    "kbidx.do_search(query=\"苏州东微半导体股份有限公司\",top_k=5,)"
   ]
  }
 ],
 "metadata": {
  "kernelspec": {
   "display_name": "pytorch",
   "language": "python",
   "name": "python3"
  },
  "language_info": {
   "codemirror_mode": {
    "name": "ipython",
    "version": 3
   },
   "file_extension": ".py",
   "mimetype": "text/x-python",
   "name": "python",
   "nbconvert_exporter": "python",
   "pygments_lexer": "ipython3",
   "version": "3.8.16"
  }
 },
 "nbformat": 4,
 "nbformat_minor": 2
}
