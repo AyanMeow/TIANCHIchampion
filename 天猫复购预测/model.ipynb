{
 "cells": [
  {
   "cell_type": "code",
   "execution_count": 1,
   "metadata": {},
   "outputs": [],
   "source": [
    "%load_ext autoreload\n",
    "%autoreload 2\n",
    "import numpy as np\n",
    "import pandas as pd\n",
    "import matplotlib.pyplot as plt\n",
    "import sklearn as sk\n",
    "import torch\n",
    "import torch.nn as nn\n",
    "import torch.nn.functional as F\n",
    "import torch.optim as optim\n",
    "from torch.utils.data import Dataset,DataLoader\n",
    "from sklearn.model_selection import train_test_split\n",
    "import sklearn.metrics as skm\n",
    "import lightgbm as lgb"
   ]
  },
  {
   "cell_type": "code",
   "execution_count": 44,
   "metadata": {},
   "outputs": [
    {
     "data": {
      "text/plain": [
       "label\n",
       "0.0    244913\n",
       "1.0     15952\n",
       "Name: count, dtype: int64"
      ]
     },
     "execution_count": 44,
     "metadata": {},
     "output_type": "execute_result"
    }
   ],
   "source": [
    "data=pd.read_csv('./datasets/train_set.csv')\n",
    "data=data.astype(float)\n",
    "data['label'].value_counts()"
   ]
  },
  {
   "cell_type": "code",
   "execution_count": 45,
   "metadata": {},
   "outputs": [
    {
     "data": {
      "text/plain": [
       "label\n",
       "0.0    20000\n",
       "1.0    15952\n",
       "Name: count, dtype: int64"
      ]
     },
     "execution_count": 45,
     "metadata": {},
     "output_type": "execute_result"
    }
   ],
   "source": [
    "zd=data[data['label']==0].sample(n=20000)\n",
    "od=data[data['label']==1]\n",
    "data=pd.concat([zd,od],axis=0).reset_index(drop=True)\n",
    "data['label'].value_counts()"
   ]
  },
  {
   "cell_type": "code",
   "execution_count": 46,
   "metadata": {},
   "outputs": [
    {
     "data": {
      "text/plain": [
       "((25166, 18), (10786, 18))"
      ]
     },
     "execution_count": 46,
     "metadata": {},
     "output_type": "execute_result"
    }
   ],
   "source": [
    "Y=data['label'].__array__()\n",
    "X=data.drop('label',axis=1).__array__()\n",
    "train_x,test_x,train_y,test_y=train_test_split(X,Y,test_size=0.3)\n",
    "train_x.shape,test_x.shape"
   ]
  },
  {
   "cell_type": "code",
   "execution_count": 47,
   "metadata": {},
   "outputs": [],
   "source": [
    "def plot_roc(y_test, y_score):\n",
    "    fpr,tpr,threshold = skm.roc_curve(y_test, y_score)\n",
    "    roc_auc = skm.auc(fpr,tpr)\n",
    "    plt.stackplot(fpr, tpr, color='steelblue', alpha = 0.5, edgecolor = 'black')\n",
    "    plt.plot(fpr, tpr, color='black', lw = 1)\n",
    "    plt.plot([0,1],[0,1], color = 'red', linestyle = '--')\n",
    "    plt.text(0.5,0.3,'ROC curve (area = %0.2f)' % roc_auc)\n",
    "    plt.xlabel('FPR')\n",
    "    plt.ylabel('TPR')\n",
    "    plt.title('ROC Curve')\n",
    "    plt.show()"
   ]
  },
  {
   "cell_type": "markdown",
   "metadata": {},
   "source": [
    "## LightGBM"
   ]
  },
  {
   "cell_type": "code",
   "execution_count": 55,
   "metadata": {},
   "outputs": [
    {
     "data": {
      "image/png": "[encoded data removed]",
      "text/plain": [
       "<Figure size 640x480 with 1 Axes>"
      ]
     },
     "metadata": {},
     "output_type": "display_data"
    }
   ],
   "source": [
    "train_set_gbm=lgb.Dataset(train_x,label=train_y)\n",
    "\n",
    "params={\n",
    "    'learning_rate': 0.05,\n",
    "    'num_leaves': 1024,  # 叶子节点数\n",
    "    'metric': {'binary_logloss', 'auc'},  # 评估函数\n",
    "    'objective': 'binary',  # 目标函数\n",
    "    'boosting': 'rf',   #  rf:随机森林  dart:带dropout 的gbdt\n",
    "    'bagging_fraction': 0.8,\n",
    "    'bagging_freq': 3,\n",
    "    'min_data_in_leaf': 20,\n",
    "    'lambda_l2': 0.001,\n",
    "    \"verbosity\": -1,\n",
    "    'is_unbalance':True,\n",
    "}\n",
    "gbm = lgb.train(params, train_set_gbm, num_boost_round=500)\n",
    "# 预测数据集\n",
    "y_pred = gbm.predict(test_x, num_iteration=gbm.best_iteration)\n",
    "\n",
    "plot_roc(test_y,y_pred)"
   ]
  },
  {
   "cell_type": "markdown",
   "metadata": {},
   "source": [
    "### MLP方法"
   ]
  },
  {
   "cell_type": "code",
   "execution_count": 52,
   "metadata": {},
   "outputs": [
    {
     "name": "stdout",
     "output_type": "stream",
     "text": [
      "epoch: 0  loss: 0.6975857019424438\n",
      "epoch: 1  loss: 0.686561107635498\n",
      "epoch: 2  loss: 0.6982274055480957\n",
      "epoch: 3  loss: 0.6971254944801331\n",
      "epoch: 4  loss: 0.6849418878555298\n",
      "epoch: 5  loss: 0.6911079287528992\n",
      "epoch: 6  loss: 0.6981478929519653\n",
      "epoch: 7  loss: 0.6962512135505676\n",
      "epoch: 8  loss: 0.6960586905479431\n",
      "epoch: 9  loss: 0.6866982579231262\n",
      "epoch: 10  loss: 0.6888920068740845\n",
      "epoch: 11  loss: 0.6912970542907715\n",
      "epoch: 12  loss: 0.6977622509002686\n",
      "epoch: 13  loss: 0.7000158429145813\n",
      "epoch: 14  loss: 0.7008365392684937\n",
      "epoch: 15  loss: 0.697997510433197\n",
      "epoch: 16  loss: 0.6930797100067139\n",
      "epoch: 17  loss: 0.6901823878288269\n",
      "epoch: 18  loss: 0.687421441078186\n",
      "epoch: 19  loss: 0.68491530418396\n",
      "epoch: 20  loss: 0.6961650252342224\n",
      "epoch: 21  loss: 0.6951006650924683\n",
      "epoch: 22  loss: 0.6868064999580383\n",
      "epoch: 23  loss: 0.6895705461502075\n",
      "epoch: 24  loss: 0.6963251829147339\n",
      "epoch: 25  loss: 0.6870317459106445\n",
      "epoch: 26  loss: 0.6905876398086548\n",
      "epoch: 27  loss: 0.7000380158424377\n",
      "epoch: 28  loss: 0.6954588294029236\n",
      "epoch: 29  loss: 0.6932513117790222\n",
      "epoch: 30  loss: 0.7012861371040344\n",
      "epoch: 31  loss: 0.6960157752037048\n",
      "epoch: 32  loss: 0.6915440559387207\n",
      "epoch: 33  loss: 0.6947596669197083\n",
      "epoch: 34  loss: 0.6984764337539673\n",
      "epoch: 35  loss: 0.7008255124092102\n",
      "epoch: 36  loss: 0.6958927512168884\n",
      "epoch: 37  loss: 0.6896249651908875\n",
      "epoch: 38  loss: 0.695680558681488\n",
      "epoch: 39  loss: 0.6947436332702637\n",
      "epoch: 40  loss: 0.6962682604789734\n",
      "epoch: 41  loss: 0.6971981525421143\n",
      "epoch: 42  loss: 0.6903822422027588\n",
      "epoch: 43  loss: 0.6916718482971191\n",
      "epoch: 44  loss: 0.6981326341629028\n",
      "epoch: 45  loss: 0.6920211911201477\n",
      "epoch: 46  loss: 0.6910772323608398\n",
      "epoch: 47  loss: 0.6967286467552185\n",
      "epoch: 48  loss: 0.6883481740951538\n",
      "epoch: 49  loss: 0.6929856538772583\n",
      "epoch: 50  loss: 0.6939846873283386\n",
      "epoch: 51  loss: 0.6921328902244568\n",
      "epoch: 52  loss: 0.6959290504455566\n",
      "epoch: 53  loss: 0.695292592048645\n",
      "epoch: 54  loss: 0.6924782991409302\n",
      "epoch: 55  loss: 0.6878842711448669\n",
      "epoch: 56  loss: 0.6884678602218628\n",
      "epoch: 57  loss: 0.6925755739212036\n",
      "epoch: 58  loss: 0.6946699023246765\n",
      "epoch: 59  loss: 0.690029501914978\n",
      "epoch: 60  loss: 0.6956319808959961\n",
      "epoch: 61  loss: 0.6909191012382507\n",
      "epoch: 62  loss: 0.6948173642158508\n",
      "epoch: 63  loss: 0.6855790615081787\n",
      "epoch: 64  loss: 0.6962687373161316\n",
      "epoch: 65  loss: 0.6875083446502686\n",
      "epoch: 66  loss: 0.6851330399513245\n",
      "epoch: 67  loss: 0.6957880854606628\n",
      "epoch: 68  loss: 0.6963310241699219\n",
      "epoch: 69  loss: 0.6934837102890015\n",
      "epoch: 70  loss: 0.6961143612861633\n",
      "epoch: 71  loss: 0.697268009185791\n",
      "epoch: 72  loss: 0.6920670866966248\n",
      "epoch: 73  loss: 0.6900723576545715\n",
      "epoch: 74  loss: 0.6931721568107605\n",
      "epoch: 75  loss: 0.6928427815437317\n",
      "epoch: 76  loss: 0.6874104142189026\n",
      "epoch: 77  loss: 0.6921183466911316\n",
      "epoch: 78  loss: 0.701734185218811\n",
      "epoch: 79  loss: 0.6909778118133545\n",
      "epoch: 80  loss: 0.7029587030410767\n",
      "epoch: 81  loss: 0.6916982531547546\n",
      "epoch: 82  loss: 0.6940052509307861\n",
      "epoch: 83  loss: 0.6886475682258606\n",
      "epoch: 84  loss: 0.6926764845848083\n",
      "epoch: 85  loss: 0.6962670087814331\n",
      "epoch: 86  loss: 0.6941308379173279\n",
      "epoch: 87  loss: 0.6953080892562866\n",
      "epoch: 88  loss: 0.6985774040222168\n",
      "epoch: 89  loss: 0.6871187090873718\n",
      "epoch: 90  loss: 0.6920101642608643\n",
      "epoch: 91  loss: 0.6911199688911438\n",
      "epoch: 92  loss: 0.6963039636611938\n",
      "epoch: 93  loss: 0.6915501356124878\n",
      "epoch: 94  loss: 0.6990798115730286\n",
      "epoch: 95  loss: 0.6982590556144714\n",
      "epoch: 96  loss: 0.6863458752632141\n",
      "epoch: 97  loss: 0.6897614598274231\n",
      "epoch: 98  loss: 0.7007367610931396\n",
      "epoch: 99  loss: 0.7015723586082458\n"
     ]
    }
   ],
   "source": [
    "class MLP(nn.Module):\n",
    "    \"\"\"docstring for MLP.\"\"\"\n",
    "    def __init__(self,input_dim):\n",
    "        super(MLP, self).__init__()\n",
    "        self.mlp=nn.Sequential(\n",
    "            nn.Linear(input_dim,64),nn.GELU(),\n",
    "            nn.Linear(64,128),nn.GELU(),\n",
    "            nn.BatchNorm1d(128),\n",
    "            nn.Dropout(),\n",
    "            nn.Linear(128,256),nn.GELU(),\n",
    "            nn.BatchNorm1d(256),\n",
    "            nn.Linear(256,128),nn.GELU(),\n",
    "            nn.Linear(128,1),nn.Sigmoid()\n",
    "        )\n",
    "    \n",
    "    def forward(self,X):\n",
    "        for l in self.mlp:\n",
    "            X=l(X)\n",
    "        return X\n",
    "\n",
    "class sets(Dataset):\n",
    "    \"\"\"docstring for dataset_.\"\"\"\n",
    "    def __init__(self, x,y):\n",
    "        super(sets, self).__init__()\n",
    "        self.x=torch.tensor(x,dtype=torch.float32)\n",
    "        self.y=torch.tensor(y,dtype=torch.float32)\n",
    "    \n",
    "    def __getitem__(self, index):\n",
    "        return {'x':self.x[index],'y':self.y[index]}\n",
    "    def __len__(self,):\n",
    "        return len(self.x)\n",
    "    \n",
    "train_set_mlp=sets(train_x,train_y)\n",
    "test_set_mlp=sets(test_x,test_y)\n",
    "\n",
    "train_dl=DataLoader(train_set_mlp,batch_size=128)\n",
    "test_dl=DataLoader(test_set_mlp,batch_size=128)\n",
    "\n",
    "model=MLP(18).cuda()\n",
    "\n",
    "optimizer=optim.Adam(model.parameters(),lr=1e-5)\n",
    "lossfuc=nn.BCELoss()\n",
    "epoch=100\n",
    "\n",
    "model.train()\n",
    "for e in range(0,epoch):\n",
    "    for step ,b in enumerate(train_dl):\n",
    "        pred=model(b['x'].cuda())\n",
    "        loss=lossfuc(pred.view(-1),b['y'].cuda())\n",
    "        \n",
    "        optimizer.zero_grad()\n",
    "        loss.backward()\n",
    "        optimizer.step()\n",
    "    print('epoch:',e,\" loss:\",loss.item())\n",
    "    "
   ]
  },
  {
   "cell_type": "code",
   "execution_count": 53,
   "metadata": {},
   "outputs": [
    {
     "data": {
      "image/png": "[encoded data removed]",
      "text/plain": [
       "<Figure size 640x480 with 1 Axes>"
      ]
     },
     "metadata": {},
     "output_type": "display_data"
    }
   ],
   "source": [
    "predlist=[]\n",
    "for step,b in enumerate(test_dl):\n",
    "    with torch.no_grad():\n",
    "        predt=model(b['x'].cuda())\n",
    "        predlist=predlist+predt.view(-1).cpu().numpy().tolist()\n",
    "#predlist=np.array(predlist).reshape(-1).tolist()\n",
    "plot_roc(test_y,predlist)"
   ]
  },
  {
   "cell_type": "markdown",
   "metadata": {},
   "source": [
    "### XGBoost"
   ]
  },
  {
   "cell_type": "code",
   "execution_count": 54,
   "metadata": {},
   "outputs": [
    {
     "data": {
      "image/png": "[encoded data removed]",
      "text/plain": [
       "<Figure size 640x480 with 1 Axes>"
      ]
     },
     "metadata": {},
     "output_type": "display_data"
    }
   ],
   "source": [
    "import xgboost as xgb\n",
    "train_set_xgb=xgb.DMatrix(train_x,label=train_y)\n",
    "test_set_xgb=xgb.DMatrix(test_x,label=test_y)\n",
    "params={'booster':'gbtree',\n",
    "        'objective': 'binary:logistic',\n",
    "        'eval_metric': 'auc',\n",
    "        'max_depth':8,\n",
    "        'lambda':10,\n",
    "        'subsample':0.75,\n",
    "        'colsample_bytree':0.75,\n",
    "        'min_child_weight':1,\n",
    "        'eta': 0.025,\n",
    "        'seed':0,\n",
    "        'nthread':8,\n",
    "        'gamma':0,\n",
    "        'learning_rate' : 0.01}\n",
    "bst=xgb.train(params=params,\n",
    "              dtrain=train_set_xgb,\n",
    "              num_boost_round=200)\n",
    "y_pred=bst.predict(test_set_xgb)\n",
    "plot_roc(test_y,y_pred)"
   ]
  },
  {
   "cell_type": "code",
   "execution_count": 57,
   "metadata": {},
   "outputs": [
    {
     "data": {
      "text/html": [
       "<div>\n",
       "<style scoped>\n",
       "    .dataframe tbody tr th:only-of-type {\n",
       "        vertical-align: middle;\n",
       "    }\n",
       "\n",
       "    .dataframe tbody tr th {\n",
       "        vertical-align: top;\n",
       "    }\n",
       "\n",
       "    .dataframe thead th {\n",
       "        text-align: right;\n",
       "    }\n",
       "</style>\n",
       "<table border=\"1\" class=\"dataframe\">\n",
       "  <thead>\n",
       "    <tr style=\"text-align: right;\">\n",
       "      <th></th>\n",
       "      <th>user_id</th>\n",
       "      <th>merchant_id</th>\n",
       "      <th>prob</th>\n",
       "    </tr>\n",
       "  </thead>\n",
       "  <tbody>\n",
       "    <tr>\n",
       "      <th>0</th>\n",
       "      <td>163968</td>\n",
       "      <td>4605</td>\n",
       "      <td>NaN</td>\n",
       "    </tr>\n",
       "    <tr>\n",
       "      <th>1</th>\n",
       "      <td>360576</td>\n",
       "      <td>1581</td>\n",
       "      <td>NaN</td>\n",
       "    </tr>\n",
       "    <tr>\n",
       "      <th>2</th>\n",
       "      <td>98688</td>\n",
       "      <td>1964</td>\n",
       "      <td>NaN</td>\n",
       "    </tr>\n",
       "    <tr>\n",
       "      <th>3</th>\n",
       "      <td>98688</td>\n",
       "      <td>3645</td>\n",
       "      <td>NaN</td>\n",
       "    </tr>\n",
       "    <tr>\n",
       "      <th>4</th>\n",
       "      <td>295296</td>\n",
       "      <td>3361</td>\n",
       "      <td>NaN</td>\n",
       "    </tr>\n",
       "    <tr>\n",
       "      <th>...</th>\n",
       "      <td>...</td>\n",
       "      <td>...</td>\n",
       "      <td>...</td>\n",
       "    </tr>\n",
       "    <tr>\n",
       "      <th>261472</th>\n",
       "      <td>228479</td>\n",
       "      <td>3111</td>\n",
       "      <td>NaN</td>\n",
       "    </tr>\n",
       "    <tr>\n",
       "      <th>261473</th>\n",
       "      <td>97919</td>\n",
       "      <td>2341</td>\n",
       "      <td>NaN</td>\n",
       "    </tr>\n",
       "    <tr>\n",
       "      <th>261474</th>\n",
       "      <td>97919</td>\n",
       "      <td>3971</td>\n",
       "      <td>NaN</td>\n",
       "    </tr>\n",
       "    <tr>\n",
       "      <th>261475</th>\n",
       "      <td>32639</td>\n",
       "      <td>3536</td>\n",
       "      <td>NaN</td>\n",
       "    </tr>\n",
       "    <tr>\n",
       "      <th>261476</th>\n",
       "      <td>32639</td>\n",
       "      <td>3319</td>\n",
       "      <td>NaN</td>\n",
       "    </tr>\n",
       "  </tbody>\n",
       "</table>\n",
       "<p>261477 rows × 3 columns</p>\n",
       "</div>"
      ],
      "text/plain": [
       "        user_id  merchant_id  prob\n",
       "0        163968         4605   NaN\n",
       "1        360576         1581   NaN\n",
       "2         98688         1964   NaN\n",
       "3         98688         3645   NaN\n",
       "4        295296         3361   NaN\n",
       "...         ...          ...   ...\n",
       "261472   228479         3111   NaN\n",
       "261473    97919         2341   NaN\n",
       "261474    97919         3971   NaN\n",
       "261475    32639         3536   NaN\n",
       "261476    32639         3319   NaN\n",
       "\n",
       "[261477 rows x 3 columns]"
      ]
     },
     "execution_count": 57,
     "metadata": {},
     "output_type": "execute_result"
    }
   ],
   "source": [
    "pred_data=pd.read_csv('./datasets/test_set.csv')\n",
    "pred_raw=pd.read_csv('../../tianmao/data_format1/test_format1.csv')\n",
    "pred_raw"
   ]
  },
  {
   "cell_type": "code",
   "execution_count": 59,
   "metadata": {},
   "outputs": [
    {
     "data": {
      "text/html": [
       "<div>\n",
       "<style scoped>\n",
       "    .dataframe tbody tr th:only-of-type {\n",
       "        vertical-align: middle;\n",
       "    }\n",
       "\n",
       "    .dataframe tbody tr th {\n",
       "        vertical-align: top;\n",
       "    }\n",
       "\n",
       "    .dataframe thead th {\n",
       "        text-align: right;\n",
       "    }\n",
       "</style>\n",
       "<table border=\"1\" class=\"dataframe\">\n",
       "  <thead>\n",
       "    <tr style=\"text-align: right;\">\n",
       "      <th></th>\n",
       "      <th>0</th>\n",
       "    </tr>\n",
       "  </thead>\n",
       "  <tbody>\n",
       "    <tr>\n",
       "      <th>0</th>\n",
       "      <td>0.438108</td>\n",
       "    </tr>\n",
       "    <tr>\n",
       "      <th>1</th>\n",
       "      <td>0.456428</td>\n",
       "    </tr>\n",
       "    <tr>\n",
       "      <th>2</th>\n",
       "      <td>0.453650</td>\n",
       "    </tr>\n",
       "    <tr>\n",
       "      <th>3</th>\n",
       "      <td>0.438826</td>\n",
       "    </tr>\n",
       "    <tr>\n",
       "      <th>4</th>\n",
       "      <td>0.426416</td>\n",
       "    </tr>\n",
       "    <tr>\n",
       "      <th>...</th>\n",
       "      <td>...</td>\n",
       "    </tr>\n",
       "    <tr>\n",
       "      <th>261472</th>\n",
       "      <td>0.445552</td>\n",
       "    </tr>\n",
       "    <tr>\n",
       "      <th>261473</th>\n",
       "      <td>0.439641</td>\n",
       "    </tr>\n",
       "    <tr>\n",
       "      <th>261474</th>\n",
       "      <td>0.409548</td>\n",
       "    </tr>\n",
       "    <tr>\n",
       "      <th>261475</th>\n",
       "      <td>0.416787</td>\n",
       "    </tr>\n",
       "    <tr>\n",
       "      <th>261476</th>\n",
       "      <td>0.426871</td>\n",
       "    </tr>\n",
       "  </tbody>\n",
       "</table>\n",
       "<p>261477 rows × 1 columns</p>\n",
       "</div>"
      ],
      "text/plain": [
       "               0\n",
       "0       0.438108\n",
       "1       0.456428\n",
       "2       0.453650\n",
       "3       0.438826\n",
       "4       0.426416\n",
       "...          ...\n",
       "261472  0.445552\n",
       "261473  0.439641\n",
       "261474  0.409548\n",
       "261475  0.416787\n",
       "261476  0.426871\n",
       "\n",
       "[261477 rows x 1 columns]"
      ]
     },
     "execution_count": 59,
     "metadata": {},
     "output_type": "execute_result"
    }
   ],
   "source": [
    "ppp=xgb.DMatrix(pred_data.__array__())\n",
    "pp=bst.predict(ppp)\n",
    "pd.DataFrame(pp)"
   ]
  }
 ],
 "metadata": {
  "kernelspec": {
   "display_name": "torch",
   "language": "python",
   "name": "python3"
  },
  "language_info": {
   "codemirror_mode": {
    "name": "ipython",
    "version": 3
   },
   "file_extension": ".py",
   "mimetype": "text/x-python",
   "name": "python",
   "nbconvert_exporter": "python",
   "pygments_lexer": "ipython3",
   "version": "3.8.16"
  }
 },
 "nbformat": 4,
 "nbformat_minor": 2
}
